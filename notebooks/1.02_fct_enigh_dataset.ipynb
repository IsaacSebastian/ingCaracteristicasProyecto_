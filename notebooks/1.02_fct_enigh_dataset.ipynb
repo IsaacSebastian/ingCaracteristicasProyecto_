{
 "cells": [
  {
   "cell_type": "code",
   "execution_count": 2,
   "metadata": {},
   "outputs": [],
   "source": [
    "import requests\n",
    "import os\n",
    "import pandas as pd\n",
    "import seaborn as sns\n",
    "import matplotlib.pyplot as plt\n",
    "import math\n",
    "\n",
    "INTERIM_PATH=\"data/interim/ENIGH\"\n",
    "EXTRACT_PATH=\"data/raw/DATOS EDUCACION/ENCUESTA NACIONAL DE INGRESOS Y GASTOS EN LOS HOGARES/Extracted\"\n",
    "\n",
    "YEAR_DICT={\n",
    "        '2016':[0,1,2,3],\n",
    "        '2018':[4,5,6,7],\n",
    "        '2020':[8,9,10,11],\n",
    "        '2022':[12,13,14,15]\n",
    "    }\n",
    "\n",
    "YEARS=['2016','2018','2020','2022']\n",
    "\n",
    "\n",
    "def ingresos(dataframes,year):\n",
    "    index=YEAR_DICT[year][0]\n",
    "    ingresos=dataframes[index][2]\n",
    "    return ingresos\n",
    "\n",
    "def poblacion(dataframes,year):\n",
    "    index=YEAR_DICT[year][1]\n",
    "    poblacion=dataframes[index][2]\n",
    "    return poblacion\n",
    "\n",
    "def gastos_hogar(dataframes,year):\n",
    "    index=YEAR_DICT[year][2]\n",
    "    gastos_hogar=dataframes[index][2]\n",
    "    return gastos_hogar\n",
    "\n",
    "def gastos_persona(dataframes,year):\n",
    "    index=YEAR_DICT[year][3]\n",
    "    gastos_persona=dataframes[index][2]\n",
    "    return gastos_persona\n",
    "    \n",
    "\n",
    "\n",
    "def transformation(dataframes,year):\n",
    "    df=poblacion(dataframes,year)\n",
    "    \n",
    "\n",
    "    counts = df['folioviv'].value_counts().reset_index()\n",
    "    counts.columns = ['folioviv', 'counts']\n",
    "    df= pd.merge(df, counts, on='folioviv')\n",
    "    df=df.rename(columns={'counts':'integrantes'})\n",
    "\n",
    "# Generation Classification\n",
    "\n",
    "    bins = [1901,1924,1945, 1964, 1980, 1996, 2012, 2024 ]  # Define the edges of the bins\n",
    "    labels = ['Greatest','Silent','Baby Boomer', 'X', 'Milenial', 'Z','Alpha']  # Define labels for the categories\n",
    "\n",
    "    df['año_nacimiento']=int(year)-df['edad']\n",
    "    df['generacion'] = pd.cut(df['año_nacimiento'], bins=bins, labels=labels, right=True)\n",
    "\n",
    "\n",
    "# Income\n",
    "    join_df=ingresos(dataframes,year)[['folioviv','numren','foliohog',\n",
    "                              'ing_tri','clave']]\n",
    "\n",
    "\n",
    "    counts = join_df['folioviv'].value_counts().reset_index()\n",
    "    counts.columns = ['folioviv', 'numero_de_ingresos_hogar']\n",
    "    join_df= pd.merge(join_df, counts, on='folioviv')\n",
    "\n",
    "    total_ing_tri = ingresos(dataframes,year).groupby('folioviv', as_index=False)['ing_tri'].sum()\n",
    "    join_df= pd.merge(join_df, total_ing_tri, on='folioviv', suffixes=('', '_hogar_total'))\n",
    "\n",
    "    ing_tri_ind=join_df.groupby(['folioviv','numren','foliohog'])['ing_tri'].sum().reset_index()\n",
    "    join_df=pd.merge(join_df, ing_tri_ind, on=['folioviv','numren','foliohog'], suffixes=('', '_individual_total'))\n",
    "\n",
    "# Bills\n",
    "    gastos=gastos_hogar(dataframes,year='2022')[ ['folioviv','entidad',\n",
    "       'clave','gasto','gasto_tri'\n",
    "       ] ]\n",
    "\n",
    "    gastos['gasto_tri'].replace(' ', 0, inplace=True)\n",
    "    gastos['gasto_tri']=gastos['gasto_tri'].astype('float')\n",
    "    total_gasto_tri = gastos.groupby('folioviv', as_index=False)['gasto_tri'].sum().reset_index()\n",
    "    df=pd.merge(df, total_gasto_tri, on='folioviv', suffixes=('', '_hogar_total'))\n",
    "\n",
    "    \n",
    "# Population and Income dataframes merge\n",
    "\n",
    "    df=pd.merge(df, join_df, on=['folioviv','foliohog','numren'])\n",
    "\n",
    "# Income Classification\n",
    "    bins = [-1, 19999, 59999, 99999, 139999, 189999, 200000, float('inf')]  \n",
    "    labels = ['0-19,999', '20,000-59,999', '60,000-99,999', '100,000-139,999', '140,000-189,999', '190,000-200,000', '200,000 +']\n",
    "\n",
    "\n",
    "    df['niveles_hogar'] = pd.cut(df['ing_tri_hogar_total'], bins=bins, labels=labels, right=False)\n",
    "    df['niveles_individual'] = pd.cut(df['ing_tri_individual_total'], bins=bins, labels=labels, right=False)\n",
    "\n",
    "\n",
    "\n",
    "    return df\n"
   ]
  },
  {
   "cell_type": "code",
   "execution_count": 6,
   "metadata": {},
   "outputs": [],
   "source": [
    "os.chdir(\"..\")"
   ]
  },
  {
   "cell_type": "code",
   "execution_count": 8,
   "metadata": {},
   "outputs": [
    {
     "name": "stdout",
     "output_type": "stream",
     "text": [
      "<< Extraction Dataframes from data/raw/DATOS EDUCACION/ENCUESTA NACIONAL DE INGRESOS Y GASTOS EN LOS HOGARES/Extracted >>\n",
      " Extracting data for the year 2016...\n",
      "Ingresos table is being read...\n",
      "Ingresos dataframe has been loaded to the dataframe list succesfully!\n",
      "Poblacion table is being read...\n"
     ]
    },
    {
     "name": "stderr",
     "output_type": "stream",
     "text": [
      "/var/folders/m5/26l5nfs54r94_664jm4k6zvr0000gn/T/ipykernel_13241/2191166829.py:20: DtypeWarning: Columns (46) have mixed types. Specify dtype option on import or set low_memory=False.\n",
      "  df=pd.read_csv(path)\n"
     ]
    },
    {
     "name": "stdout",
     "output_type": "stream",
     "text": [
      "Poblacion dataframe has been loaded to the dataframe list succesfully!\n",
      "Gastos Hogar table is being read...\n",
      "Gastos Hogar dataframe has been loaded to the dataframe list succesfully!\n",
      "Gastos Personal table is being read...\n",
      "Gastos Personal dataframe has been loaded to the dataframe list succesfully!\n",
      " Extracting data for the year 2018...\n",
      "Ingresos table is being read...\n",
      "Ingresos dataframe has been loaded to the dataframe list succesfully!\n",
      "Poblacion table is being read...\n"
     ]
    },
    {
     "name": "stderr",
     "output_type": "stream",
     "text": [
      "/var/folders/m5/26l5nfs54r94_664jm4k6zvr0000gn/T/ipykernel_13241/2191166829.py:20: DtypeWarning: Columns (10,80,81,162) have mixed types. Specify dtype option on import or set low_memory=False.\n",
      "  df=pd.read_csv(path)\n"
     ]
    },
    {
     "name": "stdout",
     "output_type": "stream",
     "text": [
      "Poblacion dataframe has been loaded to the dataframe list succesfully!\n",
      "Gastos Hogar table is being read...\n"
     ]
    },
    {
     "name": "stderr",
     "output_type": "stream",
     "text": [
      "/var/folders/m5/26l5nfs54r94_664jm4k6zvr0000gn/T/ipykernel_13241/2191166829.py:20: DtypeWarning: Columns (14,23) have mixed types. Specify dtype option on import or set low_memory=False.\n",
      "  df=pd.read_csv(path)\n"
     ]
    },
    {
     "name": "stdout",
     "output_type": "stream",
     "text": [
      "Gastos Hogar dataframe has been loaded to the dataframe list succesfully!\n",
      "Gastos Personal table is being read...\n"
     ]
    },
    {
     "name": "stderr",
     "output_type": "stream",
     "text": [
      "/var/folders/m5/26l5nfs54r94_664jm4k6zvr0000gn/T/ipykernel_13241/2191166829.py:20: DtypeWarning: Columns (6,15,16,17,18,19) have mixed types. Specify dtype option on import or set low_memory=False.\n",
      "  df=pd.read_csv(path)\n"
     ]
    },
    {
     "name": "stdout",
     "output_type": "stream",
     "text": [
      "Gastos Personal dataframe has been loaded to the dataframe list succesfully!\n",
      " Extracting data for the year 2020...\n",
      "Ingresos table is being read...\n",
      "Ingresos dataframe has been loaded to the dataframe list succesfully!\n",
      "Poblacion table is being read...\n"
     ]
    },
    {
     "name": "stderr",
     "output_type": "stream",
     "text": [
      "/var/folders/m5/26l5nfs54r94_664jm4k6zvr0000gn/T/ipykernel_13241/2191166829.py:20: DtypeWarning: Columns (10,11,12,13,14,15,16,17,82,83,166) have mixed types. Specify dtype option on import or set low_memory=False.\n",
      "  df=pd.read_csv(path)\n"
     ]
    },
    {
     "name": "stdout",
     "output_type": "stream",
     "text": [
      "Poblacion dataframe has been loaded to the dataframe list succesfully!\n",
      "Gastos Hogar table is being read...\n"
     ]
    },
    {
     "name": "stderr",
     "output_type": "stream",
     "text": [
      "/var/folders/m5/26l5nfs54r94_664jm4k6zvr0000gn/T/ipykernel_13241/2191166829.py:20: DtypeWarning: Columns (13,14,16,20,21,22,23,24,25) have mixed types. Specify dtype option on import or set low_memory=False.\n",
      "  df=pd.read_csv(path)\n"
     ]
    },
    {
     "name": "stdout",
     "output_type": "stream",
     "text": [
      "Gastos Hogar dataframe has been loaded to the dataframe list succesfully!\n",
      "Gastos Personal table is being read...\n"
     ]
    },
    {
     "name": "stderr",
     "output_type": "stream",
     "text": [
      "/var/folders/m5/26l5nfs54r94_664jm4k6zvr0000gn/T/ipykernel_13241/2191166829.py:20: DtypeWarning: Columns (6,15,16,17,18,19) have mixed types. Specify dtype option on import or set low_memory=False.\n",
      "  df=pd.read_csv(path)\n"
     ]
    },
    {
     "name": "stdout",
     "output_type": "stream",
     "text": [
      "Gastos Personal dataframe has been loaded to the dataframe list succesfully!\n",
      " Extracting data for the year 2022...\n",
      "Ingresos table is being read...\n",
      "Ingresos dataframe has been loaded to the dataframe list succesfully!\n",
      "Poblacion table is being read...\n"
     ]
    },
    {
     "name": "stderr",
     "output_type": "stream",
     "text": [
      "/var/folders/m5/26l5nfs54r94_664jm4k6zvr0000gn/T/ipykernel_13241/2191166829.py:20: DtypeWarning: Columns (82,83,166) have mixed types. Specify dtype option on import or set low_memory=False.\n",
      "  df=pd.read_csv(path)\n"
     ]
    },
    {
     "name": "stdout",
     "output_type": "stream",
     "text": [
      "Poblacion dataframe has been loaded to the dataframe list succesfully!\n",
      "Gastos Hogar table is being read...\n",
      "Gastos Hogar dataframe has been loaded to the dataframe list succesfully!\n",
      "Gastos Personal table is being read...\n",
      "Gastos Personal dataframe has been loaded to the dataframe list succesfully!\n"
     ]
    }
   ],
   "source": [
    "print(f\"<< Extraction Dataframes from {EXTRACT_PATH} >>\")\n",
    "dataframes=[]\n",
    "for year in YEARS:\n",
    "    paths={\n",
    "    \"Ingresos\":f\"{EXTRACT_PATH}/{year}/conjunto_de_datos_ingresos_enigh_{year}_ns/conjunto_de_datos/conjunto_de_datos_ingresos_enigh_{year}_ns.csv\",\n",
    "    \"Poblacion\":f\"{EXTRACT_PATH}/{year}/conjunto_de_datos_poblacion_enigh_{year}_ns/conjunto_de_datos/conjunto_de_datos_poblacion_enigh_{year}_ns.csv\",\n",
    "    \"Gastos Hogar\":f\"{EXTRACT_PATH}/{year}/conjunto_de_datos_gastoshogar_enigh_{year}_ns/conjunto_de_datos/conjunto_de_datos_gastoshogar_enigh_{year}_ns.csv\",\n",
    "    \"Gastos Personal\":f\"{EXTRACT_PATH}/{year}/conjunto_de_datos_gastospersona_enigh_{year}_ns/conjunto_de_datos/conjunto_de_datos_gastospersona_enigh_{year}_ns.csv\" }\n",
    "    if year=='2022':\n",
    "        paths={\n",
    "        \"Ingresos\":f\"{EXTRACT_PATH}/{year}/conjunto_de_datos_ingresos_enigh{year}_ns/conjunto_de_datos/conjunto_de_datos_ingresos_enigh{year}_ns.csv\",\n",
    "        \"Poblacion\":f\"{EXTRACT_PATH}/{year}/conjunto_de_datos_poblacion_enigh{year}_ns/conjunto_de_datos/conjunto_de_datos_poblacion_enigh{year}_ns.csv\",\n",
    "        \"Gastos Hogar\":f\"{EXTRACT_PATH}/{year}/conjunto_de_datos_gastoshogar_enigh{year}_ns/conjunto_de_datos/conjunto_de_datos_gastoshogar_enigh{year}_ns.csv\",\n",
    "        \"Gastos Personal\":f\"{EXTRACT_PATH}/{year}/conjunto_de_datos_gastospersona_enigh{year}_ns/conjunto_de_datos/conjunto_de_datos_gastospersona_enigh{year}_ns.csv\"}\n",
    "\n",
    "\n",
    "    print(f\" Extracting data for the year {year}...\")\n",
    "    for key,path in paths.items():\n",
    "        print(f\"{key} table is being read...\")\n",
    "        df=pd.read_csv(path)\n",
    "        #df=df[df['entidad']==26]\n",
    "        dataframes.append( (year, key, df) ) \n",
    "        print(f\"{key} dataframe has been loaded to the dataframe list succesfully!\")\n",
    "\n",
    "\n"
   ]
  },
  {
   "cell_type": "code",
   "execution_count": 9,
   "metadata": {},
   "outputs": [],
   "source": [
    "def generacion_conyuge(df,folioviv,conyuge_id):\n",
    "    if (conyuge_id==' '):\n",
    "        return \"No se sabe\"\n",
    "    if conyuge_id=='&':\n",
    "        return \"Que pedo\"\n",
    "    \n",
    "    try:\n",
    "        if math.isnan(float(conyuge_id)):\n",
    "            return \"No se sabe\"\n",
    "    except ValueError:\n",
    "        # Manejo del caso donde conyuge_id no puede ser convertido a float\n",
    "        return \"No se sabe\"\n",
    "    \n",
    "    work_df=df[df['folioviv']==folioviv]\n",
    "\n",
    "    \n",
    "    conyuge_row=work_df[work_df['numren']==int(conyuge_id)].reset_index()\n",
    "    if conyuge_row.empty:\n",
    "        return \"No se sabe\"\n",
    "    generacion_conyuge=conyuge_row.loc[0, 'generacion']\n",
    "    \n",
    "    return generacion_conyuge\n",
    "\n",
    "def delta_calculator(generacion_1,generacion_2):\n",
    "    if (generacion_1==\"No se sabe\" or generacion_2==\"No se sabe\"):\n",
    "        return \"No se sabe\"\n",
    "    if (generacion_1==\"Que pedo\" or generacion_2==\"Que pedo\"):\n",
    "        return \"Que pedo\"\n",
    "    \n",
    "    generation_dict={'Greatest':0,\n",
    "                     'Silent':1,\n",
    "                     'Baby Boomer':2,\n",
    "                     'X':3,\n",
    "                     'Milenial':4,\n",
    "                     'Z':5,\n",
    "                     'Alpha':6}\n",
    "    delta=abs(generation_dict[generacion_1]-generation_dict[generacion_2])\n",
    "    return delta\n",
    "\n",
    "def generational_transformation(df):\n",
    "    df['generacion_conyuge']=df.apply(lambda row: generacion_conyuge(df, row['folioviv'], row['conyuge_id']), axis=1)\n",
    "    df['delta']=df.apply(lambda row: delta_calculator( row['generacion'], row['generacion_conyuge']), axis=1)\n",
    "    return df\n"
   ]
  },
  {
   "cell_type": "code",
   "execution_count": 10,
   "metadata": {},
   "outputs": [
    {
     "name": "stdout",
     "output_type": "stream",
     "text": [
      "<< Starting income,population and house bills merging >>\n",
      " Merging for year 2022 taking place...\n"
     ]
    },
    {
     "name": "stderr",
     "output_type": "stream",
     "text": [
      "/var/folders/m5/26l5nfs54r94_664jm4k6zvr0000gn/T/ipykernel_13241/2990864729.py:81: FutureWarning: A value is trying to be set on a copy of a DataFrame or Series through chained assignment using an inplace method.\n",
      "The behavior will change in pandas 3.0. This inplace method will never work because the intermediate object on which we are setting values always behaves as a copy.\n",
      "\n",
      "For example, when doing 'df[col].method(value, inplace=True)', try using 'df.method({col: value}, inplace=True)' or df[col] = df[col].method(value) instead, to perform the operation inplace on the original object.\n",
      "\n",
      "\n",
      "  gastos['gasto_tri'].replace(' ', 0, inplace=True)\n",
      "/var/folders/m5/26l5nfs54r94_664jm4k6zvr0000gn/T/ipykernel_13241/2990864729.py:81: SettingWithCopyWarning: \n",
      "A value is trying to be set on a copy of a slice from a DataFrame\n",
      "\n",
      "See the caveats in the documentation: https://pandas.pydata.org/pandas-docs/stable/user_guide/indexing.html#returning-a-view-versus-a-copy\n",
      "  gastos['gasto_tri'].replace(' ', 0, inplace=True)\n",
      "/var/folders/m5/26l5nfs54r94_664jm4k6zvr0000gn/T/ipykernel_13241/2990864729.py:82: SettingWithCopyWarning: \n",
      "A value is trying to be set on a copy of a slice from a DataFrame.\n",
      "Try using .loc[row_indexer,col_indexer] = value instead\n",
      "\n",
      "See the caveats in the documentation: https://pandas.pydata.org/pandas-docs/stable/user_guide/indexing.html#returning-a-view-versus-a-copy\n",
      "  gastos['gasto_tri']=gastos['gasto_tri'].astype('float')\n"
     ]
    },
    {
     "name": "stdout",
     "output_type": "stream",
     "text": [
      " Merging for year 2022 completed!\n",
      " Merging for year 2020 taking place...\n"
     ]
    },
    {
     "name": "stderr",
     "output_type": "stream",
     "text": [
      "/var/folders/m5/26l5nfs54r94_664jm4k6zvr0000gn/T/ipykernel_13241/2990864729.py:81: FutureWarning: A value is trying to be set on a copy of a DataFrame or Series through chained assignment using an inplace method.\n",
      "The behavior will change in pandas 3.0. This inplace method will never work because the intermediate object on which we are setting values always behaves as a copy.\n",
      "\n",
      "For example, when doing 'df[col].method(value, inplace=True)', try using 'df.method({col: value}, inplace=True)' or df[col] = df[col].method(value) instead, to perform the operation inplace on the original object.\n",
      "\n",
      "\n",
      "  gastos['gasto_tri'].replace(' ', 0, inplace=True)\n",
      "/var/folders/m5/26l5nfs54r94_664jm4k6zvr0000gn/T/ipykernel_13241/2990864729.py:81: SettingWithCopyWarning: \n",
      "A value is trying to be set on a copy of a slice from a DataFrame\n",
      "\n",
      "See the caveats in the documentation: https://pandas.pydata.org/pandas-docs/stable/user_guide/indexing.html#returning-a-view-versus-a-copy\n",
      "  gastos['gasto_tri'].replace(' ', 0, inplace=True)\n",
      "/var/folders/m5/26l5nfs54r94_664jm4k6zvr0000gn/T/ipykernel_13241/2990864729.py:82: SettingWithCopyWarning: \n",
      "A value is trying to be set on a copy of a slice from a DataFrame.\n",
      "Try using .loc[row_indexer,col_indexer] = value instead\n",
      "\n",
      "See the caveats in the documentation: https://pandas.pydata.org/pandas-docs/stable/user_guide/indexing.html#returning-a-view-versus-a-copy\n",
      "  gastos['gasto_tri']=gastos['gasto_tri'].astype('float')\n"
     ]
    },
    {
     "name": "stdout",
     "output_type": "stream",
     "text": [
      " Merging for year 2020 completed!\n",
      " Merging for year 2018 taking place...\n"
     ]
    },
    {
     "name": "stderr",
     "output_type": "stream",
     "text": [
      "/var/folders/m5/26l5nfs54r94_664jm4k6zvr0000gn/T/ipykernel_13241/2990864729.py:81: FutureWarning: A value is trying to be set on a copy of a DataFrame or Series through chained assignment using an inplace method.\n",
      "The behavior will change in pandas 3.0. This inplace method will never work because the intermediate object on which we are setting values always behaves as a copy.\n",
      "\n",
      "For example, when doing 'df[col].method(value, inplace=True)', try using 'df.method({col: value}, inplace=True)' or df[col] = df[col].method(value) instead, to perform the operation inplace on the original object.\n",
      "\n",
      "\n",
      "  gastos['gasto_tri'].replace(' ', 0, inplace=True)\n",
      "/var/folders/m5/26l5nfs54r94_664jm4k6zvr0000gn/T/ipykernel_13241/2990864729.py:81: SettingWithCopyWarning: \n",
      "A value is trying to be set on a copy of a slice from a DataFrame\n",
      "\n",
      "See the caveats in the documentation: https://pandas.pydata.org/pandas-docs/stable/user_guide/indexing.html#returning-a-view-versus-a-copy\n",
      "  gastos['gasto_tri'].replace(' ', 0, inplace=True)\n",
      "/var/folders/m5/26l5nfs54r94_664jm4k6zvr0000gn/T/ipykernel_13241/2990864729.py:82: SettingWithCopyWarning: \n",
      "A value is trying to be set on a copy of a slice from a DataFrame.\n",
      "Try using .loc[row_indexer,col_indexer] = value instead\n",
      "\n",
      "See the caveats in the documentation: https://pandas.pydata.org/pandas-docs/stable/user_guide/indexing.html#returning-a-view-versus-a-copy\n",
      "  gastos['gasto_tri']=gastos['gasto_tri'].astype('float')\n"
     ]
    },
    {
     "name": "stdout",
     "output_type": "stream",
     "text": [
      " Merging for year 2018 completed!\n",
      " Merging for year 2016 taking place...\n"
     ]
    },
    {
     "name": "stderr",
     "output_type": "stream",
     "text": [
      "/var/folders/m5/26l5nfs54r94_664jm4k6zvr0000gn/T/ipykernel_13241/2990864729.py:81: FutureWarning: A value is trying to be set on a copy of a DataFrame or Series through chained assignment using an inplace method.\n",
      "The behavior will change in pandas 3.0. This inplace method will never work because the intermediate object on which we are setting values always behaves as a copy.\n",
      "\n",
      "For example, when doing 'df[col].method(value, inplace=True)', try using 'df.method({col: value}, inplace=True)' or df[col] = df[col].method(value) instead, to perform the operation inplace on the original object.\n",
      "\n",
      "\n",
      "  gastos['gasto_tri'].replace(' ', 0, inplace=True)\n",
      "/var/folders/m5/26l5nfs54r94_664jm4k6zvr0000gn/T/ipykernel_13241/2990864729.py:81: SettingWithCopyWarning: \n",
      "A value is trying to be set on a copy of a slice from a DataFrame\n",
      "\n",
      "See the caveats in the documentation: https://pandas.pydata.org/pandas-docs/stable/user_guide/indexing.html#returning-a-view-versus-a-copy\n",
      "  gastos['gasto_tri'].replace(' ', 0, inplace=True)\n",
      "/var/folders/m5/26l5nfs54r94_664jm4k6zvr0000gn/T/ipykernel_13241/2990864729.py:82: SettingWithCopyWarning: \n",
      "A value is trying to be set on a copy of a slice from a DataFrame.\n",
      "Try using .loc[row_indexer,col_indexer] = value instead\n",
      "\n",
      "See the caveats in the documentation: https://pandas.pydata.org/pandas-docs/stable/user_guide/indexing.html#returning-a-view-versus-a-copy\n",
      "  gastos['gasto_tri']=gastos['gasto_tri'].astype('float')\n"
     ]
    },
    {
     "name": "stdout",
     "output_type": "stream",
     "text": [
      " Merging for year 2016 completed!\n"
     ]
    }
   ],
   "source": [
    "print(\"<< Starting income,population and house bills merging >>\")\n",
    "\n",
    "print(\" Merging for year 2022 taking place...\")\n",
    "df_2022=transformation(dataframes,'2022')\n",
    "print(\" Merging for year 2022 completed!\")\n",
    "\n",
    "print(\" Merging for year 2020 taking place...\")\n",
    "df_2020=transformation(dataframes,'2020')\n",
    "print(\" Merging for year 2020 completed!\")\n",
    "\n",
    "print(\" Merging for year 2018 taking place...\")\n",
    "df_2018=transformation(dataframes,'2018')\n",
    "print(\" Merging for year 2018 completed!\")\n",
    "\n",
    "print(\" Merging for year 2016 taking place...\")\n",
    "df_2016=transformation(dataframes,'2016')\n",
    "print(\" Merging for year 2016 completed!\")"
   ]
  },
  {
   "cell_type": "code",
   "execution_count": 11,
   "metadata": {},
   "outputs": [
    {
     "name": "stdout",
     "output_type": "stream",
     "text": [
      "<< Starting generational transformations >>\n",
      " Generational transformations for year 2022 taking place...\n",
      "Transformations for year 2022 completed!\n",
      " Generational transformations for year 2020 taking place...\n",
      "Transformations for year 2020 completed!\n",
      " Generational transformations for year 2018 taking place...\n",
      "Transformations for year 2018 completed!\n",
      " Generational transformations for year 2016 taking place...\n",
      "Transformations for year 2016 completed!\n"
     ]
    }
   ],
   "source": [
    "print(\"<< Starting generational transformations >>\")\n",
    "\n",
    "print(\" Generational transformations for year 2022 taking place...\")\n",
    "df_2022=generational_transformation(df_2022)\n",
    "print(\"Transformations for year 2022 completed!\")\n",
    "\n",
    "print(\" Generational transformations for year 2020 taking place...\")\n",
    "df_2020=generational_transformation(df_2020)\n",
    "print(\"Transformations for year 2020 completed!\")\n",
    "\n",
    "print(\" Generational transformations for year 2018 taking place...\")\n",
    "df_2018=generational_transformation(df_2018)\n",
    "print(\"Transformations for year 2018 completed!\")\n",
    "\n",
    "print(\" Generational transformations for year 2016 taking place...\")\n",
    "df_2016=generational_transformation(df_2016)\n",
    "print(\"Transformations for year 2016 completed!\")"
   ]
  },
  {
   "cell_type": "code",
   "execution_count": 12,
   "metadata": {},
   "outputs": [
    {
     "name": "stdout",
     "output_type": "stream",
     "text": [
      "<< Loading processed data to :data/interim/ENIGH >>\n",
      "Loading 2022 data...\n",
      "ENIGH 2022 data loaded successfully!!\n",
      "Loading 2020 data...\n",
      "ENIGH 2020 data loaded successfully!!\n",
      "Loading 2018 data...\n",
      "ENIGH 2018 data loaded successfully!!\n",
      "Loading 2016 data...\n",
      "ENIGH 2016 data loaded successfully!!\n"
     ]
    }
   ],
   "source": [
    "os.makedirs(INTERIM_PATH,exist_ok=True)\n",
    "print(f\"<< Loading processed data to :{INTERIM_PATH} >>\")\n",
    "\n",
    "print(\"Loading 2022 data...\")\n",
    "df_2022.to_csv(f\"{INTERIM_PATH}/2022.csv\")\n",
    "print(\"ENIGH 2022 data loaded successfully!!\")\n",
    "\n",
    "print(\"Loading 2020 data...\")\n",
    "df_2020.to_csv(f\"{INTERIM_PATH}/2020.csv\")\n",
    "print(\"ENIGH 2020 data loaded successfully!!\")\n",
    "\n",
    "print(\"Loading 2018 data...\")\n",
    "df_2018.to_csv(f\"{INTERIM_PATH}/2018.csv\")\n",
    "print(\"ENIGH 2018 data loaded successfully!!\")\n",
    "\n",
    "print(\"Loading 2016 data...\")\n",
    "df_2016.to_csv(f\"{INTERIM_PATH}/2016.csv\")\n",
    "print(\"ENIGH 2016 data loaded successfully!!\")"
   ]
  }
 ],
 "metadata": {
  "kernelspec": {
   "display_name": ".venv",
   "language": "python",
   "name": "python3"
  },
  "language_info": {
   "codemirror_mode": {
    "name": "ipython",
    "version": 3
   },
   "file_extension": ".py",
   "mimetype": "text/x-python",
   "name": "python",
   "nbconvert_exporter": "python",
   "pygments_lexer": "ipython3",
   "version": "3.12.5"
  }
 },
 "nbformat": 4,
 "nbformat_minor": 2
}
