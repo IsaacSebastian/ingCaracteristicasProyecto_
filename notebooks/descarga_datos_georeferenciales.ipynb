{
 "cells": [
  {
   "cell_type": "code",
   "execution_count": 1,
   "metadata": {},
   "outputs": [
    {
     "name": "stdout",
     "output_type": "stream",
     "text": [
      "Requirement already satisfied: ipykernel in /Users/federicocirett/Documents/GitHub/repositorio-esm/venv/lib/python3.12/site-packages (6.29.5)\n",
      "Requirement already satisfied: appnope in /Users/federicocirett/Documents/GitHub/repositorio-esm/venv/lib/python3.12/site-packages (from ipykernel) (0.1.4)\n",
      "Requirement already satisfied: comm>=0.1.1 in /Users/federicocirett/Documents/GitHub/repositorio-esm/venv/lib/python3.12/site-packages (from ipykernel) (0.2.2)\n",
      "Requirement already satisfied: debugpy>=1.6.5 in /Users/federicocirett/Documents/GitHub/repositorio-esm/venv/lib/python3.12/site-packages (from ipykernel) (1.8.7)\n",
      "Requirement already satisfied: ipython>=7.23.1 in /Users/federicocirett/Documents/GitHub/repositorio-esm/venv/lib/python3.12/site-packages (from ipykernel) (8.28.0)\n",
      "Requirement already satisfied: jupyter-client>=6.1.12 in /Users/federicocirett/Documents/GitHub/repositorio-esm/venv/lib/python3.12/site-packages (from ipykernel) (8.6.3)\n",
      "Requirement already satisfied: jupyter-core!=5.0.*,>=4.12 in /Users/federicocirett/Documents/GitHub/repositorio-esm/venv/lib/python3.12/site-packages (from ipykernel) (5.7.2)\n",
      "Requirement already satisfied: matplotlib-inline>=0.1 in /Users/federicocirett/Documents/GitHub/repositorio-esm/venv/lib/python3.12/site-packages (from ipykernel) (0.1.7)\n",
      "Requirement already satisfied: nest-asyncio in /Users/federicocirett/Documents/GitHub/repositorio-esm/venv/lib/python3.12/site-packages (from ipykernel) (1.6.0)\n",
      "Requirement already satisfied: packaging in /Users/federicocirett/Documents/GitHub/repositorio-esm/venv/lib/python3.12/site-packages (from ipykernel) (24.1)\n",
      "Requirement already satisfied: psutil in /Users/federicocirett/Documents/GitHub/repositorio-esm/venv/lib/python3.12/site-packages (from ipykernel) (6.1.0)\n",
      "Requirement already satisfied: pyzmq>=24 in /Users/federicocirett/Documents/GitHub/repositorio-esm/venv/lib/python3.12/site-packages (from ipykernel) (26.2.0)\n",
      "Requirement already satisfied: tornado>=6.1 in /Users/federicocirett/Documents/GitHub/repositorio-esm/venv/lib/python3.12/site-packages (from ipykernel) (6.4.1)\n",
      "Requirement already satisfied: traitlets>=5.4.0 in /Users/federicocirett/Documents/GitHub/repositorio-esm/venv/lib/python3.12/site-packages (from ipykernel) (5.14.3)\n",
      "Requirement already satisfied: decorator in /Users/federicocirett/Documents/GitHub/repositorio-esm/venv/lib/python3.12/site-packages (from ipython>=7.23.1->ipykernel) (5.1.1)\n",
      "Requirement already satisfied: jedi>=0.16 in /Users/federicocirett/Documents/GitHub/repositorio-esm/venv/lib/python3.12/site-packages (from ipython>=7.23.1->ipykernel) (0.19.1)\n",
      "Requirement already satisfied: prompt-toolkit<3.1.0,>=3.0.41 in /Users/federicocirett/Documents/GitHub/repositorio-esm/venv/lib/python3.12/site-packages (from ipython>=7.23.1->ipykernel) (3.0.48)\n",
      "Requirement already satisfied: pygments>=2.4.0 in /Users/federicocirett/Documents/GitHub/repositorio-esm/venv/lib/python3.12/site-packages (from ipython>=7.23.1->ipykernel) (2.18.0)\n",
      "Requirement already satisfied: stack-data in /Users/federicocirett/Documents/GitHub/repositorio-esm/venv/lib/python3.12/site-packages (from ipython>=7.23.1->ipykernel) (0.6.3)\n",
      "Requirement already satisfied: pexpect>4.3 in /Users/federicocirett/Documents/GitHub/repositorio-esm/venv/lib/python3.12/site-packages (from ipython>=7.23.1->ipykernel) (4.9.0)\n",
      "Requirement already satisfied: python-dateutil>=2.8.2 in /Users/federicocirett/Documents/GitHub/repositorio-esm/venv/lib/python3.12/site-packages (from jupyter-client>=6.1.12->ipykernel) (2.9.0.post0)\n",
      "Requirement already satisfied: platformdirs>=2.5 in /Users/federicocirett/Documents/GitHub/repositorio-esm/venv/lib/python3.12/site-packages (from jupyter-core!=5.0.*,>=4.12->ipykernel) (4.3.6)\n",
      "Requirement already satisfied: parso<0.9.0,>=0.8.3 in /Users/federicocirett/Documents/GitHub/repositorio-esm/venv/lib/python3.12/site-packages (from jedi>=0.16->ipython>=7.23.1->ipykernel) (0.8.4)\n",
      "Requirement already satisfied: ptyprocess>=0.5 in /Users/federicocirett/Documents/GitHub/repositorio-esm/venv/lib/python3.12/site-packages (from pexpect>4.3->ipython>=7.23.1->ipykernel) (0.7.0)\n",
      "Requirement already satisfied: wcwidth in /Users/federicocirett/Documents/GitHub/repositorio-esm/venv/lib/python3.12/site-packages (from prompt-toolkit<3.1.0,>=3.0.41->ipython>=7.23.1->ipykernel) (0.2.13)\n",
      "Requirement already satisfied: six>=1.5 in /Users/federicocirett/Documents/GitHub/repositorio-esm/venv/lib/python3.12/site-packages (from python-dateutil>=2.8.2->jupyter-client>=6.1.12->ipykernel) (1.16.0)\n",
      "Requirement already satisfied: executing>=1.2.0 in /Users/federicocirett/Documents/GitHub/repositorio-esm/venv/lib/python3.12/site-packages (from stack-data->ipython>=7.23.1->ipykernel) (2.1.0)\n",
      "Requirement already satisfied: asttokens>=2.1.0 in /Users/federicocirett/Documents/GitHub/repositorio-esm/venv/lib/python3.12/site-packages (from stack-data->ipython>=7.23.1->ipykernel) (2.4.1)\n",
      "Requirement already satisfied: pure-eval in /Users/federicocirett/Documents/GitHub/repositorio-esm/venv/lib/python3.12/site-packages (from stack-data->ipython>=7.23.1->ipykernel) (0.2.3)\n"
     ]
    }
   ],
   "source": [
    "!pip3 install ipykernel"
   ]
  },
  {
   "cell_type": "code",
   "execution_count": 2,
   "metadata": {},
   "outputs": [
    {
     "name": "stdout",
     "output_type": "stream",
     "text": [
      "Requirement already satisfied: geopandas in /Users/federicocirett/Documents/GitHub/repositorio-esm/venv/lib/python3.12/site-packages (1.0.1)\n",
      "Requirement already satisfied: numpy>=1.22 in /Users/federicocirett/Documents/GitHub/repositorio-esm/venv/lib/python3.12/site-packages (from geopandas) (2.1.2)\n",
      "Requirement already satisfied: pyogrio>=0.7.2 in /Users/federicocirett/Documents/GitHub/repositorio-esm/venv/lib/python3.12/site-packages (from geopandas) (0.10.0)\n",
      "Requirement already satisfied: packaging in /Users/federicocirett/Documents/GitHub/repositorio-esm/venv/lib/python3.12/site-packages (from geopandas) (24.1)\n",
      "Requirement already satisfied: pandas>=1.4.0 in /Users/federicocirett/Documents/GitHub/repositorio-esm/venv/lib/python3.12/site-packages (from geopandas) (2.2.3)\n",
      "Requirement already satisfied: pyproj>=3.3.0 in /Users/federicocirett/Documents/GitHub/repositorio-esm/venv/lib/python3.12/site-packages (from geopandas) (3.7.0)\n",
      "Requirement already satisfied: shapely>=2.0.0 in /Users/federicocirett/Documents/GitHub/repositorio-esm/venv/lib/python3.12/site-packages (from geopandas) (2.0.6)\n",
      "Requirement already satisfied: python-dateutil>=2.8.2 in /Users/federicocirett/Documents/GitHub/repositorio-esm/venv/lib/python3.12/site-packages (from pandas>=1.4.0->geopandas) (2.9.0.post0)\n",
      "Requirement already satisfied: pytz>=2020.1 in /Users/federicocirett/Documents/GitHub/repositorio-esm/venv/lib/python3.12/site-packages (from pandas>=1.4.0->geopandas) (2024.2)\n",
      "Requirement already satisfied: tzdata>=2022.7 in /Users/federicocirett/Documents/GitHub/repositorio-esm/venv/lib/python3.12/site-packages (from pandas>=1.4.0->geopandas) (2024.2)\n",
      "Requirement already satisfied: certifi in /Users/federicocirett/Documents/GitHub/repositorio-esm/venv/lib/python3.12/site-packages (from pyogrio>=0.7.2->geopandas) (2024.8.30)\n",
      "Requirement already satisfied: six>=1.5 in /Users/federicocirett/Documents/GitHub/repositorio-esm/venv/lib/python3.12/site-packages (from python-dateutil>=2.8.2->pandas>=1.4.0->geopandas) (1.16.0)\n"
     ]
    }
   ],
   "source": [
    "!pip3 install geopandas"
   ]
  },
  {
   "cell_type": "code",
   "execution_count": 7,
   "metadata": {},
   "outputs": [],
   "source": [
    "import geopandas as gpd\n",
    "import requests\n",
    "import os\n",
    "import zipfile\n",
    "from io import BytesIO\n",
    "import matplotlib as plt\n"
   ]
  },
  {
   "cell_type": "code",
   "execution_count": 13,
   "metadata": {},
   "outputs": [],
   "source": [
    "data_path=\"{{ cookiecutter.project_slug }}/Data/raw/DATOS EDUCACION\"\n"
   ]
  },
  {
   "cell_type": "code",
   "execution_count": 9,
   "metadata": {},
   "outputs": [],
   "source": [
    "GEOREF_2000_URL=\"https://www.inegi.org.mx/contenidos/productos/prod_serv/contenidos/espanol/bvinegi/productos/geografia/marc_geo/702825292843_s.zip\"\n",
    "GEOREF_2010_URL=\"https://www.inegi.org.mx/contenidos/productos/prod_serv/contenidos/espanol/bvinegi/productos/geografia/marc_geo/702825292805_s.zip \""
   ]
  },
  {
   "cell_type": "markdown",
   "metadata": {},
   "source": [
    "# 2000\n",
    "\n",
    "Vamos a ver los contenidos de este archivo zip"
   ]
  },
  {
   "cell_type": "code",
   "execution_count": 15,
   "metadata": {},
   "outputs": [
    {
     "name": "stdout",
     "output_type": "stream",
     "text": [
      "El contenido de https://www.inegi.org.mx/contenidos/productos/prod_serv/contenidos/espanol/bvinegi/productos/geografia/marc_geo/702825292843_s.zip se extrajo a {{ cookiecutter.project_slug }}/Data/raw/DATOS EDUCACION/DATOS GEOREFERENCIALES\n"
     ]
    }
   ],
   "source": [
    "# Descarga del archivo zip\n",
    "url=GEOREF_2000_URL\n",
    "extract_to=f\"{data_path}/DATOS GEOREFERENCIALES\"\n",
    "\n",
    "\n",
    "os.makedirs(extract_to, exist_ok=True)\n",
    "\n",
    "    # Descargamos el archivo zip\n",
    "response = requests.get(url)\n",
    "if response.status_code == 200:\n",
    "        # Abrimos y extraemos el contenido\n",
    "    with zipfile.ZipFile(BytesIO(response.content)) as z:\n",
    "        z.extractall(extract_to)\n",
    "        print(f'El contenido de {url} se extrajo a {extract_to}')\n",
    "else:\n",
    "    print(f'Error al descargar {url}, status code: {response.status_code}')"
   ]
  },
  {
   "cell_type": "code",
   "execution_count": 18,
   "metadata": {},
   "outputs": [
    {
     "name": "stdout",
     "output_type": "stream",
     "text": [
      "El contenido de mge2000.zip se extrajo a {{ cookiecutter.project_slug }}/Data/raw/DATOS EDUCACION/DATOS GEOREFERENCIALES\n",
      "El contenido de mgm2000.zip se extrajo a {{ cookiecutter.project_slug }}/Data/raw/DATOS EDUCACION/DATOS GEOREFERENCIALES\n",
      "El contenido de mgau2000.zip se extrajo a {{ cookiecutter.project_slug }}/Data/raw/DATOS EDUCACION/DATOS GEOREFERENCIALES\n"
     ]
    }
   ],
   "source": [
    "f=extract_to\n",
    "\n",
    "for zip in os.listdir(f):\n",
    "    file_path=f+f\"/{zip}\"\n",
    "    with zipfile.ZipFile(file_path) as z:\n",
    "        z.extractall(f)\n",
    "        print(f'El contenido de {zip} se extrajo a {f}')\n"
   ]
  },
  {
   "cell_type": "markdown",
   "metadata": {},
   "source": [
    "# 2010"
   ]
  },
  {
   "cell_type": "code",
   "execution_count": 25,
   "metadata": {},
   "outputs": [
    {
     "name": "stdout",
     "output_type": "stream",
     "text": [
      "\n",
      "  % Total    % Received % Xferd  Average Speed   Time    Time     Time  Current\n",
      "                                 Dload  Upload   Total   Spent    Left  Speed\n",
      "\n",
      "  0     0    0     0    0     0      0      0 --:--:-- --:--:-- --:--:--     0\n",
      "  0     0    0     0    0     0      0      0 --:--:-- --:--:-- --:--:--     0\n",
      "  1 59.0M    1  664k    0     0   635k      0  0:01:35  0:00:01  0:01:34  634k\n",
      "  4 59.0M    4 2466k    0     0  1207k      0  0:00:50  0:00:02  0:00:48 1207k\n",
      "  7 59.0M    7 4360k    0     0  1431k      0  0:00:42  0:00:03  0:00:39 1431k\n",
      " 10 59.0M   10 6109k    0     0  1511k      0  0:00:39  0:00:04  0:00:35 1511k\n",
      " 13 59.0M   13 8016k    0     0  1589k      0  0:00:38  0:00:05  0:00:33 1613k\n",
      " 16 59.0M   16 9805k    0     0  1619k      0  0:00:37  0:00:06  0:00:31 1824k\n",
      " 19 59.0M   19 11.3M    0     0  1645k      0  0:00:36  0:00:07  0:00:29 1823k\n",
      " 22 59.0M   22 13.1M    0     0  1672k      0  0:00:36  0:00:08  0:00:28 1819k\n",
      " 25 59.0M   25 14.9M    0     0  1687k      0  0:00:35  0:00:09  0:00:26 1829k\n",
      " 28 59.0M   28 16.8M    0     0  1712k      0  0:00:35  0:00:10  0:00:25 1835k\n",
      " 31 59.0M   31 18.5M    0     0  1714k      0  0:00:35  0:00:11  0:00:24 1829k\n",
      " 33 59.0M   33 20.0M    0     0  1701k      0  0:00:35  0:00:12  0:00:23 1781k\n",
      " 36 59.0M   36 21.6M    0     0  1697k      0  0:00:35  0:00:13  0:00:22 1736k\n",
      " 39 59.0M   39 23.0M    0     0  1678k      0  0:00:36  0:00:14  0:00:22 1661k\n",
      " 42 59.0M   42 24.9M    0     0  1697k      0  0:00:35  0:00:15  0:00:20 1667k\n",
      " 43 59.0M   43 25.9M    0     0  1653k      0  0:00:36  0:00:16  0:00:20 1516k\n",
      " 45 59.0M   45 26.6M    0     0  1590k      0  0:00:37  0:00:17  0:00:20 1329k\n",
      " 45 59.0M   45 26.8M    0     0  1520k      0  0:00:39  0:00:18  0:00:21 1064k\n",
      " 46 59.0M   46 27.1M    0     0  1459k      0  0:00:41  0:00:19  0:00:22  848k\n",
      " 46 59.0M   46 27.6M    0     0  1412k      0  0:00:42  0:00:20  0:00:22  557k\n",
      " 48 59.0M   48 28.5M    0     0  1387k      0  0:00:43  0:00:21  0:00:22  533k\n",
      " 49 59.0M   49 29.0M    0     0  1346k      0  0:00:44  0:00:22  0:00:22  498k\n",
      " 50 59.0M   50 29.7M    0     0  1320k      0  0:00:45  0:00:23  0:00:22  589k\n",
      " 51 59.0M   51 30.4M    0     0  1298k      0  0:00:46  0:00:24  0:00:22  680k\n",
      " 52 59.0M   52 31.2M    0     0  1278k      0  0:00:47  0:00:25  0:00:22  740k\n",
      " 54 59.0M   54 32.1M    0     0  1263k      0  0:00:47  0:00:26  0:00:21  740k\n",
      " 55 59.0M   55 32.7M    0     0  1241k      0  0:00:48  0:00:27  0:00:21  769k\n",
      " 56 59.0M   56 33.2M    0     0  1213k      0  0:00:49  0:00:28  0:00:21  726k\n",
      " 57 59.0M   57 33.9M    0     0  1196k      0  0:00:50  0:00:29  0:00:21  710k\n",
      " 59 59.0M   59 34.9M    0     0  1189k      0  0:00:50  0:00:30  0:00:20  744k\n",
      " 61 59.0M   61 36.1M    0     0  1190k      0  0:00:50  0:00:31  0:00:19  811k\n",
      " 62 59.0M   62 37.1M    0     0  1184k      0  0:00:50  0:00:32  0:00:18  881k\n",
      " 64 59.0M   64 37.9M    0     0  1173k      0  0:00:51  0:00:33  0:00:18  949k\n",
      " 65 59.0M   65 38.6M    0     0  1162k      0  0:00:51  0:00:34  0:00:17  960k\n",
      " 67 59.0M   67 39.5M    0     0  1156k      0  0:00:52  0:00:35  0:00:17  959k\n",
      " 68 59.0M   68 40.4M    0     0  1149k      0  0:00:52  0:00:36  0:00:16  891k\n",
      " 69 59.0M   69 41.2M    0     0  1140k      0  0:00:52  0:00:37  0:00:15  853k\n",
      " 71 59.0M   71 42.2M    0     0  1136k      0  0:00:53  0:00:38  0:00:15  884k\n",
      " 72 59.0M   72 42.9M    0     0  1126k      0  0:00:53  0:00:39  0:00:14  888k\n",
      " 74 59.0M   74 43.8M    0     0  1121k      0  0:00:53  0:00:40  0:00:13  869k\n",
      " 75 59.0M   75 44.6M    0     0  1114k      0  0:00:54  0:00:41  0:00:13  857k\n",
      " 77 59.0M   77 46.0M    0     0  1120k      0  0:00:53  0:00:42  0:00:11  972k\n",
      " 79 59.0M   79 47.1M    0     0  1119k      0  0:00:53  0:00:43  0:00:10  997k\n",
      " 80 59.0M   80 47.7M    0     0  1109k      0  0:00:54  0:00:44  0:00:10  975k\n",
      " 82 59.0M   82 48.5M    0     0  1103k      0  0:00:54  0:00:45  0:00:09  963k\n",
      " 83 59.0M   83 49.4M    0     0  1100k      0  0:00:54  0:00:46  0:00:08  987k\n",
      " 85 59.0M   85 50.3M    0     0  1095k      0  0:00:55  0:00:47  0:00:08  887k\n",
      " 85 59.0M   85 50.5M    0     0  1078k      0  0:00:56  0:00:48  0:00:08  716k\n",
      " 86 59.0M   86 51.3M    0     0  1071k      0  0:00:56  0:00:49  0:00:07  735k\n",
      " 88 59.0M   88 52.0M    0     0  1064k      0  0:00:56  0:00:50  0:00:06  716k\n",
      " 89 59.0M   89 52.8M    0     0  1059k      0  0:00:57  0:00:51  0:00:06  688k\n",
      " 90 59.0M   90 53.6M    0     0  1054k      0  0:00:57  0:00:52  0:00:05  667k\n",
      " 92 59.0M   92 54.4M    0     0  1050k      0  0:00:57  0:00:53  0:00:04  780k\n",
      " 93 59.0M   93 55.1M    0     0  1043k      0  0:00:57  0:00:54  0:00:03  769k\n",
      " 94 59.0M   94 55.8M    0     0  1036k      0  0:00:58  0:00:55  0:00:03  763k\n",
      " 95 59.0M   95 56.3M    0     0  1029k      0  0:00:58  0:00:56  0:00:02  723k\n",
      " 96 59.0M   96 57.1M    0     0  1025k      0  0:00:58  0:00:57  0:00:01  726k\n",
      " 98 59.0M   98 58.0M    0     0  1023k      0  0:00:59  0:00:58  0:00:01  742k\n",
      " 99 59.0M   99 58.7M    0     0  1017k      0  0:00:59  0:00:59 --:--:--  739k\n",
      "100 59.0M  100 59.0M    0     0  1018k      0  0:00:59  0:00:59 --:--:--  772k\n",
      "\n"
     ]
    }
   ],
   "source": [
    "import subprocess\n",
    "command = (\n",
    "    'cd \"{{ cookiecutter.project_slug }}/Data/raw\" && '\n",
    "    'mkdir \"DATOS GEOREFERENCIALES\" && '\n",
    "    'cd \"DATOS GEOREFERENCIALES\" && '\n",
    "    'curl -O https://www.inegi.org.mx/contenidos/productos/prod_serv/contenidos/espanol/bvinegi/productos/geografia/marc_geo/702825292805_s.zip'\n",
    ")\n",
    "\n",
    "execute=subprocess.run(command,shell=True,capture_output=True,text=True)\n",
    "print(execute.stdout)\n",
    "print(execute.stderr)"
   ]
  },
  {
   "cell_type": "code",
   "execution_count": 27,
   "metadata": {},
   "outputs": [
    {
     "name": "stdout",
     "output_type": "stream",
     "text": [
      "El contenido de 702825292805_s.zip se extrajo a {{ cookiecutter.project_slug }}/Data/raw/DATOS GEOREFERENCIALES\n"
     ]
    }
   ],
   "source": [
    "f=\"{{ cookiecutter.project_slug }}/Data/raw/DATOS GEOREFERENCIALES\"\n",
    "\n",
    "for zip in os.listdir(f):\n",
    "    file_path=f+f\"/{zip}\"\n",
    "    with zipfile.ZipFile(file_path) as z:\n",
    "        z.extractall(f)\n",
    "        print(f'El contenido de {zip} se extrajo a {f}')\n"
   ]
  },
  {
   "cell_type": "code",
   "execution_count": 29,
   "metadata": {},
   "outputs": [
    {
     "data": {
      "text/plain": [
       "['mglr2010v5_0.zip', 'mgm2010v5_0.zip', 'mglu2010v5_0.zip', 'mge2010v5_0.zip']"
      ]
     },
     "execution_count": 29,
     "metadata": {},
     "output_type": "execute_result"
    }
   ],
   "source": [
    "os.listdir(f)[2:]"
   ]
  },
  {
   "cell_type": "code",
   "execution_count": 30,
   "metadata": {},
   "outputs": [
    {
     "name": "stdout",
     "output_type": "stream",
     "text": [
      "El contenido de mglr2010v5_0.zip se extrajo a {{ cookiecutter.project_slug }}/Data/raw/DATOS GEOREFERENCIALES\n",
      "El contenido de mgm2010v5_0.zip se extrajo a {{ cookiecutter.project_slug }}/Data/raw/DATOS GEOREFERENCIALES\n",
      "El contenido de mglu2010v5_0.zip se extrajo a {{ cookiecutter.project_slug }}/Data/raw/DATOS GEOREFERENCIALES\n",
      "El contenido de mge2010v5_0.zip se extrajo a {{ cookiecutter.project_slug }}/Data/raw/DATOS GEOREFERENCIALES\n"
     ]
    }
   ],
   "source": [
    "for zip in os.listdir(f)[2:]:\n",
    "    file_path=f+f\"/{zip}\"\n",
    "    with zipfile.ZipFile(file_path) as z:\n",
    "        z.extractall(f)\n",
    "        print(f'El contenido de {zip} se extrajo a {f}')\n"
   ]
  },
  {
   "cell_type": "code",
   "execution_count": null,
   "metadata": {},
   "outputs": [],
   "source": []
  }
 ],
 "metadata": {
  "kernelspec": {
   "display_name": "venv",
   "language": "python",
   "name": "python3"
  },
  "language_info": {
   "codemirror_mode": {
    "name": "ipython",
    "version": 3
   },
   "file_extension": ".py",
   "mimetype": "text/x-python",
   "name": "python",
   "nbconvert_exporter": "python",
   "pygments_lexer": "ipython3",
   "version": "3.12.4"
  }
 },
 "nbformat": 4,
 "nbformat_minor": 2
}
