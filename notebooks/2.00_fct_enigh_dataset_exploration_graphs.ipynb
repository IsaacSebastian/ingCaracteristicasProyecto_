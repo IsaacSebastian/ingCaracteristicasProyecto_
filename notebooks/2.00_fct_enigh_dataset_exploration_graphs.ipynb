{
 "cells": [
  {
   "cell_type": "code",
   "execution_count": 1,
   "metadata": {},
   "outputs": [],
   "source": [
    "import requests\n",
    "import os\n",
    "import pandas as pd\n",
    "import seaborn as sns\n",
    "import matplotlib.pyplot as plt\n",
    "import math\n",
    "\n",
    "INTERIM_PATH=\"data/interim/ENIGH\""
   ]
  },
  {
   "cell_type": "code",
   "execution_count": 3,
   "metadata": {},
   "outputs": [],
   "source": [
    "os.chdir('..')"
   ]
  },
  {
   "cell_type": "code",
   "execution_count": 4,
   "metadata": {},
   "outputs": [
    {
     "name": "stderr",
     "output_type": "stream",
     "text": [
      "/var/folders/m5/26l5nfs54r94_664jm4k6zvr0000gn/T/ipykernel_14017/2970915959.py:1: DtypeWarning: Columns (11,12,13,14,15,16,17,18,27,31,32,33,43,44) have mixed types. Specify dtype option on import or set low_memory=False.\n",
      "  df_2022=pd.read_csv(f\"{INTERIM_PATH}/2022.csv\")\n",
      "/var/folders/m5/26l5nfs54r94_664jm4k6zvr0000gn/T/ipykernel_14017/2970915959.py:2: DtypeWarning: Columns (11,12,13,14,15,16,17,18) have mixed types. Specify dtype option on import or set low_memory=False.\n",
      "  df_2020=pd.read_csv(f\"{INTERIM_PATH}/2020.csv\")\n"
     ]
    }
   ],
   "source": [
    "df_2022=pd.read_csv(f\"{INTERIM_PATH}/2022.csv\")\n",
    "df_2020=pd.read_csv(f\"{INTERIM_PATH}/2020.csv\")\n",
    "df_2018=pd.read_csv(f\"{INTERIM_PATH}/2018.csv\")\n",
    "df_2016=pd.read_csv(f\"{INTERIM_PATH}/2016.csv\")"
   ]
  },
  {
   "cell_type": "markdown",
   "metadata": {},
   "source": [
    "# Graphs"
   ]
  },
  {
   "cell_type": "code",
   "execution_count": 12,
   "metadata": {},
   "outputs": [],
   "source": [
    "def in_sonora(df):\n",
    "    in_sonora= (df['folioviv']>=2600000000)&(df['folioviv']<2700000000)\n",
    "    return in_sonora\n",
    "\n",
    "def is_illiterate(df):\n",
    "    if isinstance(df['alfabetism'], (int, float, complex)):\n",
    "        is_illiterate=df['alfabetism']==1\n",
    "    else:\n",
    "        is_illiterate=df['alfabetism']=='1'\n",
    "    return is_illiterate\n",
    "\n",
    "# Grades:\n",
    "def last_grade(df,grade):\n",
    "\n",
    "    last_grade_dictionary={\n",
    "    'preschool':1,\n",
    "    'informal nursery school':2,\n",
    "    'public daycare':3,\n",
    "    'other daycare':5,\n",
    "    'first grade':6,\n",
    "    'second grade':7,\n",
    "    'technical career with second grade':8,\n",
    "    'highschool':9,\n",
    "    'technical career with highschool':10,\n",
    "    'normal':11,\n",
    "    'professional':12,\n",
    "    'masters or phd':13\n",
    "    }\n",
    "\n",
    "    if isinstance(df['nivel'], (int, float, complex)):\n",
    "        last_grade=df['nivel']==last_grade_dictionary[grade]\n",
    "    else:\n",
    "        last_grade=df['nivel']==f'{last_grade_dictionary[grade]}'\n",
    "    return last_grade\n",
    "\n",
    "def approved_grade(df,grade):\n",
    "    approved_grade_dictionary={\n",
    "    'none':0,\n",
    "    'preschool':1,\n",
    "    'first grade':2,\n",
    "    'second grade':3,\n",
    "    'highschool':4,\n",
    "    'technical career':6,\n",
    "    'professional':7,\n",
    "    'masters':8,\n",
    "    'phd':9\n",
    "    }\n",
    "        \n",
    "    if isinstance(df['nivelaprob'], (int, float, complex)):\n",
    "        approved_grade=df['nivelaprob']==approved_grade_dictionary[grade]\n",
    "    else:\n",
    "        approved_grade=df['nivelaprob']==f'{approved_grade_dictionary[grade]}'\n",
    "    return approved_grade\n",
    "    \n",
    "def is_assisting_school(df):\n",
    "    if isinstance(df['asis_esc'], (int, float, complex)):\n",
    "        is_assisting_school=df['asis_esc']==1\n",
    "    else:\n",
    "        is_assisting_school=df['asis_esc']=='1'\n",
    "    return is_assisting_school\n"
   ]
  },
  {
   "cell_type": "code",
   "execution_count": 15,
   "metadata": {},
   "outputs": [
    {
     "name": "stdout",
     "output_type": "stream",
     "text": [
      "Amount of data obtained in Sonora in the year of 2016: 184\n",
      "Amount of data obtained in Sonora in the year of 2018: 79\n",
      "Amount of data obtained in Sonora in the year of 2020: 155\n",
      "Amount of data obtained in Sonora in the year of 2022: 12332\n"
     ]
    }
   ],
   "source": [
    "print(f\"Amount of data obtained in Sonora in the year of 2016: {len(df_2016[in_sonora(df_2016)])}\")\n",
    "print(f\"Amount of data obtained in Sonora in the year of 2018: {len(df_2018[in_sonora(df_2018)])}\")\n",
    "print(f\"Amount of data obtained in Sonora in the year of 2020: {len(df_2020[in_sonora(df_2020)])}\")\n",
    "print(f\"Amount of data obtained in Sonora in the year of 2022: {len(df_2022[in_sonora(df_2022)])}\")"
   ]
  },
  {
   "cell_type": "code",
   "execution_count": null,
   "metadata": {},
   "outputs": [],
   "source": []
  }
 ],
 "metadata": {
  "kernelspec": {
   "display_name": ".venv",
   "language": "python",
   "name": "python3"
  },
  "language_info": {
   "codemirror_mode": {
    "name": "ipython",
    "version": 3
   },
   "file_extension": ".py",
   "mimetype": "text/x-python",
   "name": "python",
   "nbconvert_exporter": "python",
   "pygments_lexer": "ipython3",
   "version": "3.12.5"
  }
 },
 "nbformat": 4,
 "nbformat_minor": 2
}
