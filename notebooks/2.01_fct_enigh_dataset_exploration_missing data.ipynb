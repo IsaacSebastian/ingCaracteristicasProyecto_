{
 "cells": [
  {
   "cell_type": "code",
   "execution_count": 1,
   "metadata": {},
   "outputs": [],
   "source": [
    "import requests\n",
    "import os\n",
    "import pandas as pd\n",
    "import seaborn as sns\n",
    "import matplotlib.pyplot as plt\n",
    "import math\n",
    "import numpy as np\n",
    "from ydata_profiling import ProfileReport\n",
    "INTERIM_PATH=\"data/interim/ENIGH\""
   ]
  },
  {
   "cell_type": "code",
   "execution_count": 2,
   "metadata": {},
   "outputs": [],
   "source": [
    "os.chdir('..')"
   ]
  },
  {
   "cell_type": "code",
   "execution_count": 3,
   "metadata": {},
   "outputs": [
    {
     "name": "stderr",
     "output_type": "stream",
     "text": [
      "/var/folders/m5/26l5nfs54r94_664jm4k6zvr0000gn/T/ipykernel_73440/2970915959.py:1: DtypeWarning: Columns (11,12,13,14,15,16,17,18,27,31,32,33,43,44) have mixed types. Specify dtype option on import or set low_memory=False.\n",
      "  df_2022=pd.read_csv(f\"{INTERIM_PATH}/2022.csv\")\n",
      "/var/folders/m5/26l5nfs54r94_664jm4k6zvr0000gn/T/ipykernel_73440/2970915959.py:2: DtypeWarning: Columns (11,12,13,14,15,16,17,18) have mixed types. Specify dtype option on import or set low_memory=False.\n",
      "  df_2020=pd.read_csv(f\"{INTERIM_PATH}/2020.csv\")\n"
     ]
    }
   ],
   "source": [
    "df_2022=pd.read_csv(f\"{INTERIM_PATH}/2022.csv\")\n",
    "df_2020=pd.read_csv(f\"{INTERIM_PATH}/2020.csv\")\n",
    "df_2018=pd.read_csv(f\"{INTERIM_PATH}/2018.csv\")\n",
    "df_2016=pd.read_csv(f\"{INTERIM_PATH}/2016.csv\")"
   ]
  },
  {
   "cell_type": "markdown",
   "metadata": {},
   "source": [
    "## ENIGH 2022 Dataset"
   ]
  },
  {
   "cell_type": "code",
   "execution_count": 12,
   "metadata": {},
   "outputs": [
    {
     "data": {
      "text/plain": [
       "Index(['Unnamed: 0', 'folioviv', 'foliohog', 'numren', 'parentesco', 'sexo',\n",
       "       'edad', 'madre_hog', 'madre_id', 'padre_hog', 'padre_id', 'disc_camin',\n",
       "       'disc_ver', 'disc_brazo', 'disc_apren', 'disc_oir', 'disc_vest',\n",
       "       'disc_habla', 'disc_acti', 'cau_camin', 'cau_ver', 'cau_brazo',\n",
       "       'cau_apren', 'cau_oir', 'cau_vest', 'cau_habla', 'cau_acti', 'hablaind',\n",
       "       'lenguaind', 'hablaesp', 'comprenind', 'etnia', 'alfabetism',\n",
       "       'asis_esc', 'nivel', 'grado', 'tipoesc', 'tiene_b', 'otorg_b',\n",
       "       'forma_b', 'tiene_c', 'otorg_c', 'forma_c', 'nivelaprob', 'gradoaprob',\n",
       "       'antec_esc', 'residencia', 'edo_conyug', 'pareja_hog', 'conyuge_id',\n",
       "       'segsoc', 'ss_aa', 'ss_mm', 'redsoc_1', 'redsoc_2', 'redsoc_3',\n",
       "       'redsoc_4', 'redsoc_5', 'redsoc_6', 'hor_1', 'min_1', 'usotiempo1',\n",
       "       'hor_2', 'min_2', 'usotiempo2', 'hor_3', 'min_3', 'usotiempo3', 'hor_4',\n",
       "       'min_4', 'usotiempo4', 'hor_5', 'min_5', 'usotiempo5', 'hor_6', 'min_6',\n",
       "       'usotiempo6', 'hor_7', 'min_7', 'usotiempo7', 'hor_8', 'min_8',\n",
       "       'usotiempo8', 'pop_insabi', 'atemed', 'inst_1', 'inst_2', 'inst_3',\n",
       "       'inst_4', 'inst_5', 'inst_6', 'inscr_1', 'inscr_2', 'inscr_3',\n",
       "       'inscr_4', 'inscr_5', 'inscr_6', 'inscr_7', 'inscr_8', 'prob_anio'],\n",
       "      dtype='object')"
      ]
     },
     "execution_count": 12,
     "metadata": {},
     "output_type": "execute_result"
    }
   ],
   "source": [
    "df_2022.columns[:100]"
   ]
  },
  {
   "cell_type": "code",
   "execution_count": 14,
   "metadata": {},
   "outputs": [
    {
     "data": {
      "text/plain": [
       "Index(['prob_mes', 'prob_sal', 'aten_sal', 'servmed_1', 'servmed_2',\n",
       "       'servmed_3', 'servmed_4', 'servmed_5', 'servmed_6', 'servmed_7',\n",
       "       'servmed_8', 'servmed_9', 'servmed_10', 'servmed_11', 'servmed_12',\n",
       "       'hh_lug', 'mm_lug', 'hh_esp', 'mm_esp', 'pagoaten_1', 'pagoaten_2',\n",
       "       'pagoaten_3', 'pagoaten_4', 'pagoaten_5', 'pagoaten_6', 'pagoaten_7',\n",
       "       'noatenc_1', 'noatenc_2', 'noatenc_3', 'noatenc_4', 'noatenc_5',\n",
       "       'noatenc_6', 'noatenc_7', 'noatenc_8', 'noatenc_9', 'noatenc_10',\n",
       "       'noatenc_11', 'noatenc_12', 'noatenc_13', 'noatenc_14', 'noatenc_15',\n",
       "       'noatenc_16', 'norecib_1', 'norecib_2', 'norecib_3', 'norecib_4',\n",
       "       'norecib_5', 'norecib_6', 'norecib_7', 'norecib_8', 'norecib_9',\n",
       "       'norecib_10', 'norecib_11', 'norecib_12', 'razon_1', 'razon_2',\n",
       "       'razon_3', 'razon_4', 'razon_5', 'razon_6', 'razon_7', 'razon_8',\n",
       "       'razon_9', 'razon_10', 'razon_11', 'diabetes', 'pres_alta', 'peso',\n",
       "       'segvol_1', 'segvol_2', 'segvol_3', 'segvol_4', 'segvol_5', 'segvol_6',\n",
       "       'segvol_7', 'hijos_viv', 'hijos_mue', 'hijos_sob', 'trabajo_mp',\n",
       "       'motivo_aus', 'act_pnea1', 'act_pnea2', 'num_trabaj', 'c_futuro',\n",
       "       'ct_futuro', 'entidad', 'est_dis', 'upm', 'factor', 'integrantes',\n",
       "       'año_nacimiento', 'generacion', 'index', 'gasto_tri', 'ing_tri',\n",
       "       'clave', 'numero_de_ingresos_hogar', 'ing_tri_hogar_total',\n",
       "       'ing_tri_individual_total', 'niveles_hogar'],\n",
       "      dtype='object')"
      ]
     },
     "execution_count": 14,
     "metadata": {},
     "output_type": "execute_result"
    }
   ],
   "source": [
    "df_2022.columns[100:200]\n"
   ]
  },
  {
   "cell_type": "code",
   "execution_count": 15,
   "metadata": {},
   "outputs": [
    {
     "data": {
      "text/plain": [
       "Index(['niveles_individual', 'generacion_conyuge', 'delta'], dtype='object')"
      ]
     },
     "execution_count": 15,
     "metadata": {},
     "output_type": "execute_result"
    }
   ],
   "source": [
    "df_2022.columns[200:]"
   ]
  },
  {
   "cell_type": "code",
   "execution_count": 4,
   "metadata": {},
   "outputs": [],
   "source": [
    "df=df_2022[[\n",
    "    'folioviv', 'foliohog', 'numren', 'parentesco', 'sexo',\n",
    "    'edad', 'madre_hog', 'madre_id', 'padre_hog', 'padre_id',\n",
    "    'alfabetism',\n",
    "    'asis_esc', 'nivel', 'grado', 'tipoesc', 'tiene_b', 'otorg_b',\n",
    "    'forma_b', 'tiene_c', 'otorg_c', 'forma_c', 'nivelaprob', 'gradoaprob',\n",
    "    'antec_esc', 'residencia', 'edo_conyug', 'pareja_hog', 'conyuge_id',\n",
    "    'año_nacimiento', 'generacion', 'index', 'gasto_tri', 'ing_tri',\n",
    "       'clave', 'numero_de_ingresos_hogar', 'ing_tri_hogar_total',\n",
    "       'ing_tri_individual_total','generacion_conyuge', 'delta'\n",
    "\n",
    "]]\n",
    "profile = ProfileReport(df, title=\"ENIGH 2022\")"
   ]
  },
  {
   "cell_type": "code",
   "execution_count": 6,
   "metadata": {},
   "outputs": [
    {
     "data": {
      "application/vnd.jupyter.widget-view+json": {
       "model_id": "ecf89bbdb881439081643232f2a832a7",
       "version_major": 2,
       "version_minor": 0
      },
      "text/plain": [
       "VBox(children=(Tab(children=(Tab(children=(GridBox(children=(VBox(children=(GridspecLayout(children=(HTML(valu…"
      ]
     },
     "metadata": {},
     "output_type": "display_data"
    }
   ],
   "source": [
    "profile.to_widgets()"
   ]
  },
  {
   "cell_type": "code",
   "execution_count": 6,
   "metadata": {},
   "outputs": [
    {
     "data": {
      "application/vnd.jupyter.widget-view+json": {
       "model_id": "d494f34fb1374f62ab79cca4d0887bda",
       "version_major": 2,
       "version_minor": 0
      },
      "text/plain": [
       "Render HTML:   0%|          | 0/1 [00:00<?, ?it/s]"
      ]
     },
     "metadata": {},
     "output_type": "display_data"
    }
   ],
   "source": [
    "profile.to_notebook_iframe()"
   ]
  },
  {
   "cell_type": "code",
   "execution_count": 9,
   "metadata": {},
   "outputs": [
    {
     "data": {
      "text/plain": [
       "array(['1', '2', ' ', 1, 2], dtype=object)"
      ]
     },
     "execution_count": 9,
     "metadata": {},
     "output_type": "execute_result"
    }
   ],
   "source": [
    "df.alfabetism.unique()"
   ]
  },
  {
   "cell_type": "code",
   "execution_count": 11,
   "metadata": {},
   "outputs": [
    {
     "data": {
      "text/plain": [
       "array([2, 0, 1])"
      ]
     },
     "execution_count": 11,
     "metadata": {},
     "output_type": "execute_result"
    }
   ],
   "source": [
    "df[df['alfabetism']==' ']['edad'].unique()"
   ]
  },
  {
   "cell_type": "markdown",
   "metadata": {},
   "source": [
    "Here we can see that the blank "
   ]
  },
  {
   "cell_type": "code",
   "execution_count": null,
   "metadata": {},
   "outputs": [],
   "source": []
  }
 ],
 "metadata": {
  "kernelspec": {
   "display_name": ".venv",
   "language": "python",
   "name": "python3"
  },
  "language_info": {
   "codemirror_mode": {
    "name": "ipython",
    "version": 3
   },
   "file_extension": ".py",
   "mimetype": "text/x-python",
   "name": "python",
   "nbconvert_exporter": "python",
   "pygments_lexer": "ipython3",
   "version": "3.12.5"
  }
 },
 "nbformat": 4,
 "nbformat_minor": 2
}
