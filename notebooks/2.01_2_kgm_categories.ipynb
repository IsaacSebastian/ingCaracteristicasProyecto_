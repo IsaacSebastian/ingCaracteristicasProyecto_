{
 "cells": [
  {
   "cell_type": "markdown",
   "id": "9186e410-a511-4c5a-8a80-3a55b8c1a1d1",
   "metadata": {},
   "source": [
    "# Data Types 2.0\n",
    "\n",
    "We realize that in each data file we have different categories for the same meaning in the survey response, so in this jupyter notebook our job is to unify the characteristics of the questions.\n",
    "\n",
    "We start by loading the libraries:"
   ]
  },
  {
   "cell_type": "code",
   "execution_count": 195,
   "id": "83ba50c0-b5b5-4ace-81a9-afae2203ef7c",
   "metadata": {},
   "outputs": [],
   "source": [
    "import pandas as pd\n",
    "import os\n",
    "import numpy as np\n",
    "import warnings"
   ]
  },
  {
   "cell_type": "markdown",
   "id": "f05316bb-1ff5-419e-bb22-aa7af460cf99",
   "metadata": {},
   "source": [
    "We load our final notebook file \"2.01_kgm_data_types\" and check the types of each column:"
   ]
  },
  {
   "cell_type": "code",
   "execution_count": 196,
   "id": "56dbe57d-5354-4f1e-8c33-f3f7c1b0e6dd",
   "metadata": {},
   "outputs": [
    {
     "data": {
      "text/plain": [
       "Folio                                   object\n",
       "Edad                                     int64\n",
       "Sexo                                     int64\n",
       "C_Entidad                                int32\n",
       "Entidad                                 object\n",
       "Fecha                           datetime64[ns]\n",
       "Atentar_contras_si                    category\n",
       "Depresion                             category\n",
       "Tristeza                              category\n",
       "Cuantos cigarrillos (numero)             Int64\n",
       "Frecuencia emborrachar                category\n",
       "dtype: object"
      ]
     },
     "execution_count": 196,
     "metadata": {},
     "output_type": "execute_result"
    }
   ],
   "source": [
    "path_parquet = os.path.join('..','data', 'interim', 'Ensanut-data.parquet')\n",
    "df = pd.read_parquet(path_parquet)\n",
    "df.dtypes"
   ]
  },
  {
   "cell_type": "markdown",
   "id": "15fc69d8-6502-4a72-ab73-8a8bd52a9dfa",
   "metadata": {},
   "source": [
    "In the following four cells all the categories are unified for the columns 'Atentar_contras_si', 'Depresion', 'Tristeza' y 'Frecuencia emborrachar', respectively:"
   ]
  },
  {
   "cell_type": "code",
   "execution_count": 197,
   "id": "cf9eb19d-c9c2-466c-a57d-cee82d6256f1",
   "metadata": {},
   "outputs": [],
   "source": [
    "# Function to perform filtering and replacement\n",
    "def filtrar_y_reemplazar(df, anios, edad_condicion):\n",
    "    # Filter by years and age condition\n",
    "    if  edad_condicion == 19:\n",
    "        df_sub = df[(df['Fecha'].dt.year.isin(anios)) & (df['Edad'] < 20)].copy()\n",
    "    \n",
    "    # Perform the replacement on the column 'Atentar_contras_si'\n",
    "        df_sub['Atentar_contras_si'] = df_sub['Atentar_contras_si'].replace({'1.0': '1', '2.0': '1', '3.0': '2', '9.0': '9', '1': '1', '2': '1', '3': '2'})\n",
    "    else:\n",
    "        df_sub = df[(df['Fecha'].dt.year.isin(anios)) & (df['Edad'] > 19)].copy()\n",
    "        df_sub['Atentar_contras_si'] = df_sub['Atentar_contras_si'].replace({'1.0': '1', '2.0': '1', '3.0': '2', '9.0': '9', '1': '1', '2': '1', '3': '2'})\n",
    "    \n",
    "    # Concatenate the modified DataFrame back to the original\n",
    "    with warnings.catch_warnings():\n",
    "        warnings.simplefilter(action='ignore', category=FutureWarning)\n",
    "        df = pd.concat([df[~df.index.isin(df_sub.index)], df_sub]).sort_index()\n",
    "    return df\n",
    "\n",
    "# Apply the function for each age group and age conditions\n",
    "for anios, edad in [([1999, 2000], 19), ([2006], 19), ([2012], 19), ([2018], 19), ([2020], 19), ([2021], 19), ([2022], 19), ([2023], 19),([1999, 2000], 20), ([2006], 20), ([2012], 20), ([2018], 20), ([2020], 20), ([2021], 20), ([2022], 20), ([2023], 20)]:\n",
    "    df = filtrar_y_reemplazar(df, anios, edad)"
   ]
  },
  {
   "cell_type": "code",
   "execution_count": 198,
   "id": "43da1f8a-510b-4b4b-a522-cb1215ee2c01",
   "metadata": {},
   "outputs": [],
   "source": [
    "def filtrar_y_reemplazar(df, anios, edad_condicion):\n",
    "    if  edad_condicion == 19:\n",
    "        df_sub = df[(df['Fecha'].dt.year.isin(anios)) & (df['Edad'] < 20)].copy()\n",
    "\n",
    "        df_sub['Depresion'] = df_sub['Depresion'].replace({'1.0': '1', '2.0': '2', '3.0': '3', '4.0': '4','1': '1', '2': '3', '3': '3', '4': '4'})\n",
    "    else:\n",
    "        df_sub = df[(df['Fecha'].dt.year.isin(anios)) & (df['Edad'] > 19)].copy()\n",
    "        df_sub['Depresion'] = df_sub['Depresion'].replace({'1.0': '1', '2.0': '2', '3.0': '3', '4.0': '4','1': '1', '2': '2', '3': '3', '4': '4'})\n",
    "    with warnings.catch_warnings():\n",
    "        warnings.simplefilter(action='ignore', category=FutureWarning)\n",
    "        df = pd.concat([df[~df.index.isin(df_sub.index)], df_sub]).sort_index()\n",
    "    return df\n",
    "\n",
    "for anios, edad in [([1999, 2000], 19), ([2006], 19), ([2012], 19), ([2018], 19), ([2020], 19), ([2021], 19), ([2022], 19), ([2023], 19),([1999, 2000], 20), ([2006], 20), ([2012], 20), ([2018], 20), ([2020], 20), ([2021], 20), ([2022], 20), ([2023], 20)]:\n",
    "    df = filtrar_y_reemplazar(df, anios, edad)"
   ]
  },
  {
   "cell_type": "code",
   "execution_count": 199,
   "id": "9894103c-9add-4cf5-b055-cc33b2e1e28f",
   "metadata": {},
   "outputs": [],
   "source": [
    "def filtrar_y_reemplazar(df, anios, edad_condicion):\n",
    "    if  edad_condicion == 19:\n",
    "        df_sub = df[(df['Fecha'].dt.year.isin(anios)) & (df['Edad'] < 20)].copy()\n",
    "    \n",
    "        df_sub['Tristeza'] = df_sub['Tristeza'].replace({'1.0': '1', '2.0': '2', '3.0': '3', '4.0': '4','1': '1', '2': '2', '3': '3', '4': '4'})\n",
    "    else:\n",
    "        df_sub = df[(df['Fecha'].dt.year.isin(anios)) & (df['Edad'] > 19)].copy()\n",
    "        df_sub['Tristeza'] = df_sub['Tristeza'].replace({'1.0': '1', '2.0': '2', '3.0': '3', '4.0': '4','1': '1', '2': '2', '3': '3', '4': '4'})\n",
    "    \n",
    "    with warnings.catch_warnings():\n",
    "        warnings.simplefilter(action='ignore', category=FutureWarning)\n",
    "        df = pd.concat([df[~df.index.isin(df_sub.index)], df_sub]).sort_index()\n",
    "    return df\n",
    "\n",
    "for anios, edad in [([1999, 2000], 19), ([2006], 19), ([2012], 19), ([2018], 19), ([2020], 19), ([2021], 19), ([2022], 19), ([2023], 19),([1999, 2000], 20), ([2006], 20), ([2012], 20), ([2018], 20), ([2020], 20), ([2021], 20), ([2022], 20), ([2023], 20)]:\n",
    "    df = filtrar_y_reemplazar(df, anios, edad)"
   ]
  },
  {
   "cell_type": "code",
   "execution_count": 200,
   "id": "84574527-64e8-4e45-85d9-87fee75d48a4",
   "metadata": {},
   "outputs": [],
   "source": [
    "def filtrar_y_reemplazar(df, anios, edad_condicion):\n",
    "    if  edad_condicion < 20:\n",
    "        df_sub = df[(df['Fecha'].dt.year.isin(anios)) & (df['Edad'] < 20)].copy()\n",
    "        if anios == [1999,2000]:\n",
    "            df_sub['Frecuencia emborrachar'] = df_sub['Frecuencia emborrachar'].replace( {'0':'5', '1': '4', '2': '4', '3': '4', '4': '3', '5':'3','6': '2', '7': '2', '8': '1', '9': '6', '00':'5', '01': '4', '02': '4', '03': '4', '04': '3', '05':'3','06': '2', '07': '2', '08': '1', '09': '6', '88':'6', '99':'6'})\n",
    "        elif anios == [2006]:\n",
    "            df_sub['Frecuencia emborrachar'] = df_sub['Frecuencia emborrachar'].replace({'0':'5', '1': '1', '2': '2', '3': '2', '4': '3', '5':'4','6': '4', '7': '4', '8': '6', '9': '6','00':'5', '01': '1', '02': '2', '03': '2', '04': '3', '05':'4','06': '4', '07': '4', '08': '6', '09': '6'})\n",
    "\n",
    "        elif anios == [2012]:\n",
    "            df_sub['Frecuencia emborrachar'] = df_sub['Frecuencia emborrachar'].replace({'1':'1', '2': '1', '3': '1', '4': '1', '5':'2','6': '2', '7': '3', '8': '3', '9': '4', '10':'4', '11': '4', '12': '4', '13': '5', '01': '1', '02': '1', '03': '1', '04': '3', '05':'2','06': '2', '07': '3', '08': '3', '09': '4', '99':'6'})\n",
    "\n",
    "        elif anios == [2018]:\n",
    "            df_sub['Frecuencia emborrachar'] = df_sub['Frecuencia emborrachar'].replace({'1':'1', '2': '1', '3': '1', '4': '1', '5':'2','6': '2', '7': '3', '8': '3', '9': '4', '10':'4', '11': '4', '12': '4', '13': '5', '01': '1', '02': '1', '03': '1', '04': '3', '05':'2','06': '2', '07': '3', '08': '3', '09': '4', '99':'6'})\n",
    "\n",
    "        elif anios == [2020]:\n",
    "            df_sub['Frecuencia emborrachar'] = df_sub['Frecuencia emborrachar'].replace({'1': '1', '2': '2', '3': '3', '4': '4', '5':'5','6': '6','9': '6', '01': '1', '02': '2', '03': '3', '04': '4', '05':'5', '06': '6','09': '6'})\n",
    "\n",
    "        elif anios == [2021]:\n",
    "            df_sub['Frecuencia emborrachar'] = df_sub['Frecuencia emborrachar'].replace({'1': '1', '2': '2', '3': '3', '4': '4', '5':'5','6': '6','9': '6', '01': '1', '02': '2', '03': '3', '04': '4', '05':'5','06': '6','09': '6'})\n",
    "            \n",
    "            \n",
    "        elif anios == [2022]:\n",
    "            df_sub['Frecuencia emborrachar'] = df_sub['Frecuencia emborrachar'].replace({'1': '1', '2': '2', '3': '3', '4': '4', '5':'5','6': '6','9': '6', '01': '1', '02': '2', '03': '3', '04': '4', '05':'5','06': '6','09': '6'})\n",
    "\n",
    "        elif anios == [2023]:\n",
    "            df_sub['Frecuencia emborrachar'] = df_sub['Frecuencia emborrachar'].replace({'1': '1', '2': '2', '3': '3', '4': '4', '5':'5','6': '6','9': '6', '01': '1', '02': '2', '03': '3', '04': '4', '05':'5','06': '6','09': '6'})\n",
    "    \n",
    "        \n",
    "    else:\n",
    "        df_sub = df[(df['Fecha'].dt.year.isin(anios)) & (df['Edad'] > 19)].copy()\n",
    "        if anios == [1999,2000]:\n",
    "            df_sub['Frecuencia emborrachar'] = df_sub['Frecuencia emborrachar'].replace({'1': '1', '2': '3', '01': '1', '02': '3',  '9':'6', '8':'5'})\n",
    "\n",
    "        elif anios == [2006]:\n",
    "            df_sub['Frecuencia emborrachar'] = df_sub['Frecuencia emborrachar'].replace({ '1': '1', '2': '2', '3':'3','4':'4', '8':'6', '9':'6', '01': '1', '02': '2', '03':'03','04':'4', '08':'6','09':'6'})\n",
    "\n",
    "        elif anios == [2012]:\n",
    "            df_sub['Frecuencia emborrachar'] = df_sub['Frecuencia emborrachar'].replace({'1':'1', '2': '1', '3': '1', '4': '1', '5':'2','6': '2', '7': '3', '8': '3', '9': '4', '10':'4', '11': '4', '12': '4', '13': '5', '01': '1', '02': '1', '03': '1', '04': '3', '05':'2','06': '2', '07': '3', '08': '3', '09': '4', '99':'6'})\n",
    "\n",
    "        elif anios == [2018]:\n",
    "            df_sub['Frecuencia emborrachar'] = df_sub['Frecuencia emborrachar'].replace({'1': '1', '2': '2', '3':'3','4':'4', '8':'6','9':'6', '01': '1', '02': '2', '03':'03','04':'4', '08':'6','09':'6'})\n",
    "\n",
    "        elif anios == [2020]:\n",
    "            df_sub['Frecuencia emborrachar'] = df_sub['Frecuencia emborrachar'].replace({'1': '1', '2': '2', '3': '3', '4': '4', '5':'6','6': '6','9': '6', '01': '1', '02': '2', '03': '3', '04': '4', '05':'6','06': '6','09': '6'})\n",
    "\n",
    "        elif anios == [2021]:\n",
    "            df_sub['Frecuencia emborrachar'] = df_sub['Frecuencia emborrachar'].replace({'1': '1', '2': '2', '3': '3', '4': '4', '5':'5','8': '5','9': '6', '01': '1', '02': '2', '03': '3', '04': '4', '05':'5','08': '5','09': '6'})\n",
    "            \n",
    "        elif anios == [2022]:\n",
    "            df_sub['Frecuencia emborrachar'] = df_sub['Frecuencia emborrachar'].replace({'1': '1', '2': '2', '3': '3', '4': '4', '5':'5','8': '5','9': '6', '01': '1', '02': '2', '03': '3', '04': '4', '05':'5','08': '5','09': '6'})\n",
    "\n",
    "        elif anios == [2023]:\n",
    "            df_sub['Frecuencia emborrachar'] = df_sub['Frecuencia emborrachar'].replace({'1': '1', '2': '2', '3': '3', '4': '4', '5':'5','8': '5','9': '6', '01': '1', '02': '2', '03': '3', '04': '4', '05':'5','08': '5','09': '6'})\n",
    "\n",
    "\n",
    "    with warnings.catch_warnings():\n",
    "        warnings.simplefilter(action='ignore', category=FutureWarning)\n",
    "        df = pd.concat([df[~df.index.isin(df_sub.index)], df_sub]).sort_index()\n",
    "    return df\n",
    "\n",
    "\n",
    "for anios, edad in [([1999, 2000], 19), ([2006], 19), ([2012], 19), ([2018], 19), ([2020], 19), ([2021], 19), ([2022], 19), ([2023], 19),([1999, 2000], 20), ([2006], 20), ([2012], 20), ([2018], 20), ([2020], 20), ([2021], 20), ([2022], 20), ([2023], 20)]:\n",
    "    df = filtrar_y_reemplazar(df, anios, edad)\n",
    "df['Frecuencia emborrachar'] = df['Frecuencia emborrachar'].replace({'9':'6'})"
   ]
  },
  {
   "cell_type": "markdown",
   "id": "4d4882b2-1dcf-4a70-93d6-e9afa62630b4",
   "metadata": {},
   "source": [
    "Let's see the type of data we get after the changes:"
   ]
  },
  {
   "cell_type": "code",
   "execution_count": 201,
   "id": "f56e5e68-e7ea-4e72-851f-73baf184885b",
   "metadata": {},
   "outputs": [
    {
     "data": {
      "text/plain": [
       "Folio                                   object\n",
       "Edad                                     int64\n",
       "Sexo                                     int64\n",
       "C_Entidad                                int32\n",
       "Entidad                                 object\n",
       "Fecha                           datetime64[ns]\n",
       "Atentar_contras_si                      object\n",
       "Depresion                               object\n",
       "Tristeza                                object\n",
       "Cuantos cigarrillos (numero)             Int64\n",
       "Frecuencia emborrachar                  object\n",
       "dtype: object"
      ]
     },
     "execution_count": 201,
     "metadata": {},
     "output_type": "execute_result"
    }
   ],
   "source": [
    "df.dtypes"
   ]
  },
  {
   "cell_type": "markdown",
   "id": "3c8efa4e-b576-45da-ad5f-da433170e215",
   "metadata": {},
   "source": [
    "Since the data type information was lost we have to change the type of the corresponding columns:"
   ]
  },
  {
   "cell_type": "code",
   "execution_count": 202,
   "id": "eaba7a7c-c8e3-4527-a3b7-d5a6904a59de",
   "metadata": {},
   "outputs": [
    {
     "data": {
      "text/plain": [
       "Folio                                   object\n",
       "Edad                                     int64\n",
       "Sexo                                  category\n",
       "C_Entidad                             category\n",
       "Entidad                                 object\n",
       "Fecha                           datetime64[ns]\n",
       "Atentar_contras_si                    category\n",
       "Depresion                             category\n",
       "Tristeza                              category\n",
       "Cuantos cigarrillos (numero)             Int64\n",
       "Frecuencia emborrachar                category\n",
       "dtype: object"
      ]
     },
     "execution_count": 202,
     "metadata": {},
     "output_type": "execute_result"
    }
   ],
   "source": [
    "df['Sexo'] = df['Sexo'].astype('category')\n",
    "df['Atentar_contras_si'] = df['Atentar_contras_si'].astype('category')\n",
    "df['Depresion'] = df['Depresion'].astype('category')\n",
    "df['Tristeza'] = df['Tristeza'].astype('category')\n",
    "df['Frecuencia emborrachar'] = df['Frecuencia emborrachar'].astype('category')\n",
    "df['C_Entidad'] = df['C_Entidad'].astype('category')\n",
    "df.dtypes"
   ]
  },
  {
   "cell_type": "markdown",
   "id": "873857dc-53ec-45cd-81fc-a8a05b08422b",
   "metadata": {},
   "source": [
    "Now, let's check if the columns are unified:"
   ]
  },
  {
   "cell_type": "code",
   "execution_count": 203,
   "id": "8b97c184-498a-4cd0-b13d-c35a5ca814c8",
   "metadata": {},
   "outputs": [
    {
     "name": "stdout",
     "output_type": "stream",
     "text": [
      "Categorías en 'Sexo':\n",
      "Index([1, 2], dtype='int64')\n",
      "\n",
      "\n",
      "Categorías en 'C_Entidad':\n",
      "Index([ 1,  2,  3,  4,  5,  6,  7,  8,  9, 10, 11, 12, 13, 14, 15, 16, 17, 18,\n",
      "       19, 20, 21, 22, 23, 24, 25, 26, 27, 28, 29, 30, 31, 32],\n",
      "      dtype='int32')\n",
      "\n",
      "\n",
      "Categorías en 'Atentar_contras_si':\n",
      "Index(['1', '2', '9'], dtype='object')\n",
      "\n",
      "\n",
      "Categorías en 'Depresion':\n",
      "Index(['1', '2', '3', '4'], dtype='object')\n",
      "\n",
      "\n",
      "Categorías en 'Tristeza':\n",
      "Index(['1', '2', '3', '4', '9'], dtype='object')\n",
      "\n",
      "\n",
      "Categorías en 'Frecuencia emborrachar':\n",
      "Index(['1', '2', '3', '4', '5', '6'], dtype='object')\n",
      "\n",
      "\n"
     ]
    }
   ],
   "source": [
    "for column in df.select_dtypes(include='category').columns:\n",
    "    print(f\"Categorías en '{column}':\")\n",
    "    print(df[column].cat.categories)\n",
    "    print(\"\\n\")"
   ]
  },
  {
   "cell_type": "markdown",
   "id": "8f1e3e1f-d1a9-41fe-8704-5390d3f25081",
   "metadata": {},
   "source": [
    "Finally, let's save the file and add a new Ydata report to \"docs/docs\":\n",
    "\n",
    "Note: The catalog of this file and subsequent files can be found in the \"references\" directory."
   ]
  },
  {
   "cell_type": "code",
   "execution_count": 205,
   "id": "ffd1ceee-d2c1-48b0-b084-05f1f35b94c2",
   "metadata": {},
   "outputs": [
    {
     "data": {
      "application/vnd.jupyter.widget-view+json": {
       "model_id": "6912813f1ceb451384ee154e172239dd",
       "version_major": 2,
       "version_minor": 0
      },
      "text/plain": [
       "Summarize dataset:   0%|          | 0/5 [00:00<?, ?it/s]"
      ]
     },
     "metadata": {},
     "output_type": "display_data"
    },
    {
     "data": {
      "application/vnd.jupyter.widget-view+json": {
       "model_id": "0c029bef7aaa41c4b3c07d84b37ed585",
       "version_major": 2,
       "version_minor": 0
      },
      "text/plain": [
       "Generate report structure:   0%|          | 0/1 [00:00<?, ?it/s]"
      ]
     },
     "metadata": {},
     "output_type": "display_data"
    },
    {
     "data": {
      "application/vnd.jupyter.widget-view+json": {
       "model_id": "78e1b552c6cd4889abf4ea62e287b5ed",
       "version_major": 2,
       "version_minor": 0
      },
      "text/plain": [
       "Render HTML:   0%|          | 0/1 [00:00<?, ?it/s]"
      ]
     },
     "metadata": {},
     "output_type": "display_data"
    },
    {
     "data": {
      "application/vnd.jupyter.widget-view+json": {
       "model_id": "ed4a735fdfc14257ba1e82d16781406c",
       "version_major": 2,
       "version_minor": 0
      },
      "text/plain": [
       "Export report to file:   0%|          | 0/1 [00:00<?, ?it/s]"
      ]
     },
     "metadata": {},
     "output_type": "display_data"
    },
    {
     "name": "stdout",
     "output_type": "stream",
     "text": [
      "YData report save: ..\\docs\\docs\\interim-MH-data.html\n"
     ]
    }
   ],
   "source": [
    "path_save = os.path.join('..','data', 'interim', 'Ensanut-data-2.csv')\n",
    "path_save_parquet = os.path.join('..','data', 'interim', 'Ensanut-data-2.parquet')\n",
    "df.to_csv(path_save, index=False)\n",
    "df.to_parquet(path_save_parquet)\n",
    "\n",
    "ruta_output_y = os.path.join('..','docs', 'docs', 'interim-MH-data.html')\n",
    "title = \"ENSANUT YData Profiling Report\"\n",
    "#Ydata\n",
    "df = pd.read_parquet(path_save_parquet)\n",
    "profile_ensa_ydata = ProfileReport(df, title=title, explorative=True, minimal = True)\n",
    "profile_ensa_ydata.to_file(ruta_output_y)\n",
    "print(f\"YData report save: {ruta_output_y}\")"
   ]
  }
 ],
 "metadata": {
  "kernelspec": {
   "display_name": "Python 3 (ipykernel)",
   "language": "python",
   "name": "python3"
  },
  "language_info": {
   "codemirror_mode": {
    "name": "ipython",
    "version": 3
   },
   "file_extension": ".py",
   "mimetype": "text/x-python",
   "name": "python",
   "nbconvert_exporter": "python",
   "pygments_lexer": "ipython3",
   "version": "3.12.4"
  }
 },
 "nbformat": 4,
 "nbformat_minor": 5
}
