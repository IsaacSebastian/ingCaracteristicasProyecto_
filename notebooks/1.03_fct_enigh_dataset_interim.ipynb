{
 "cells": [
  {
   "cell_type": "code",
   "execution_count": 20,
   "metadata": {},
   "outputs": [],
   "source": [
    "import requests\n",
    "import os\n",
    "import pandas as pd\n",
    "import seaborn as sns\n",
    "import matplotlib.pyplot as plt\n",
    "import math\n",
    "\n",
    "INTERIM_PATH=\"data/interim/ENIGH\"\n",
    "EXTRACT_PATH=\"data/raw/DATOS EDUCACION/ENCUESTA NACIONAL DE INGRESOS Y GASTOS EN LOS HOGARES/Extracted\"\n",
    "\n",
    "YEAR_DICT={\n",
    "        '2016':[0,1,2,3],\n",
    "        '2018':[4,5,6,7],\n",
    "        '2020':[8,9,10,11],\n",
    "        '2022':[12,13,14,15]\n",
    "    }\n",
    "\n",
    "YEARS=['2016','2018','2020','2022']\n",
    "\n",
    "\n",
    "def ingresos(dataframes,year):\n",
    "    index=YEAR_DICT[year][0]\n",
    "    ingresos=dataframes[index][2]\n",
    "    return ingresos\n",
    "\n",
    "def poblacion(dataframes,year):\n",
    "    index=YEAR_DICT[year][1]\n",
    "    poblacion=dataframes[index][2]\n",
    "    return poblacion\n",
    "\n",
    "def gastos_hogar(dataframes,year):\n",
    "    index=YEAR_DICT[year][2]\n",
    "    gastos_hogar=dataframes[index][2]\n",
    "    return gastos_hogar\n",
    "\n",
    "def gastos_persona(dataframes,year):\n",
    "    index=YEAR_DICT[year][3]\n",
    "    gastos_persona=dataframes[index][2]\n",
    "    return gastos_persona\n",
    "    \n",
    "\n",
    "\n",
    "def transformation(dataframes,year):\n",
    "    df=poblacion(dataframes,year)[[\n",
    "        'folioviv', 'foliohog', 'numren', 'parentesco', 'sexo', 'edad',\n",
    "       'madre_hog', 'madre_id', 'padre_hog', 'padre_id',\n",
    "       'alfabetism','asis_esc', 'nivel', 'grado', 'tipoesc',\n",
    "       'nivelaprob', 'gradoaprob','antec_esc','edo_conyug', 'pareja_hog', 'conyuge_id'\n",
    "    ]]\n",
    "    \n",
    "\n",
    "    counts = df['folioviv'].value_counts().reset_index()\n",
    "    counts.columns = ['folioviv', 'counts']\n",
    "    df= pd.merge(df, counts, on='folioviv')\n",
    "    df=df.rename(columns={'counts':'integrantes'})\n",
    "\n",
    "# Generation Classification\n",
    "\n",
    "    bins = [1901,1924,1945, 1964, 1980, 1996, 2012, 2024 ]  # Define the edges of the bins\n",
    "    labels = ['Greatest','Silent','Baby Boomer', 'X', 'Milenial', 'Z','Alpha']  # Define labels for the categories\n",
    "\n",
    "    df['año_nacimiento']=int(year)-df['edad']\n",
    "    df['generacion'] = pd.cut(df['año_nacimiento'], bins=bins, labels=labels, right=True)\n",
    "\n",
    "\n",
    "# Income\n",
    "    join_df=ingresos(dataframes,year)[[\n",
    "        'folioviv','numren','foliohog',\n",
    "        'clave', 'mes_1', 'mes_2', 'mes_3','mes_4', 'mes_5', 'mes_6',\n",
    "        'ing_1', 'ing_2', 'ing_3', 'ing_4', 'ing_5','ing_6','ing_tri']]\n",
    "\n",
    "# Bills\n",
    "    gastos_p=gastos_persona(dataframes,year)[ \n",
    "        ['folioviv','numren', \n",
    "         'clave', 'tipo_gasto',\n",
    "         'cantidad', 'gasto', 'costo', 'gasto_tri',\n",
    "    \n",
    "        ] ]\n",
    "\n",
    "    #gastos['gasto_tri'].replace(' ', 0, inplace=True)\n",
    "    #gastos['gasto_tri']=gastos['gasto_tri'].astype('float')\n",
    "    #total_gasto_tri = gastos.groupby('folioviv', as_index=False)['gasto_tri'].sum().reset_index()\n",
    "    df=pd.merge(df, gastos_p, on=['folioviv','numren'])\n",
    "\n",
    "    \n",
    "# Population and Income dataframes merge\n",
    "\n",
    "    df=pd.merge(df, join_df, on=['folioviv','foliohog','numren'])\n",
    "\n",
    "\n",
    "\n",
    "\n",
    "    return df\n"
   ]
  },
  {
   "cell_type": "code",
   "execution_count": 2,
   "metadata": {},
   "outputs": [],
   "source": [
    "os.chdir(\"..\")"
   ]
  },
  {
   "cell_type": "code",
   "execution_count": 76,
   "metadata": {},
   "outputs": [
    {
     "name": "stdout",
     "output_type": "stream",
     "text": [
      "<< Extraction Dataframes from data/raw/DATOS EDUCACION/ENCUESTA NACIONAL DE INGRESOS Y GASTOS EN LOS HOGARES/Extracted >>\n",
      " Extracting data for the year 2016...\n",
      "Ingresos table is being read...\n",
      "Ingresos dataframe has been loaded to the dataframe list succesfully!\n",
      "Poblacion table is being read...\n"
     ]
    },
    {
     "name": "stderr",
     "output_type": "stream",
     "text": [
      "/var/folders/m5/26l5nfs54r94_664jm4k6zvr0000gn/T/ipykernel_78461/2191166829.py:20: DtypeWarning: Columns (46) have mixed types. Specify dtype option on import or set low_memory=False.\n",
      "  df=pd.read_csv(path)\n"
     ]
    },
    {
     "name": "stdout",
     "output_type": "stream",
     "text": [
      "Poblacion dataframe has been loaded to the dataframe list succesfully!\n",
      "Gastos Hogar table is being read...\n",
      "Gastos Hogar dataframe has been loaded to the dataframe list succesfully!\n",
      "Gastos Personal table is being read...\n",
      "Gastos Personal dataframe has been loaded to the dataframe list succesfully!\n",
      " Extracting data for the year 2018...\n",
      "Ingresos table is being read...\n",
      "Ingresos dataframe has been loaded to the dataframe list succesfully!\n",
      "Poblacion table is being read...\n"
     ]
    },
    {
     "name": "stderr",
     "output_type": "stream",
     "text": [
      "/var/folders/m5/26l5nfs54r94_664jm4k6zvr0000gn/T/ipykernel_78461/2191166829.py:20: DtypeWarning: Columns (10,80,81,162) have mixed types. Specify dtype option on import or set low_memory=False.\n",
      "  df=pd.read_csv(path)\n"
     ]
    },
    {
     "name": "stdout",
     "output_type": "stream",
     "text": [
      "Poblacion dataframe has been loaded to the dataframe list succesfully!\n",
      "Gastos Hogar table is being read...\n"
     ]
    },
    {
     "name": "stderr",
     "output_type": "stream",
     "text": [
      "/var/folders/m5/26l5nfs54r94_664jm4k6zvr0000gn/T/ipykernel_78461/2191166829.py:20: DtypeWarning: Columns (14,23) have mixed types. Specify dtype option on import or set low_memory=False.\n",
      "  df=pd.read_csv(path)\n"
     ]
    },
    {
     "name": "stdout",
     "output_type": "stream",
     "text": [
      "Gastos Hogar dataframe has been loaded to the dataframe list succesfully!\n",
      "Gastos Personal table is being read...\n"
     ]
    },
    {
     "name": "stderr",
     "output_type": "stream",
     "text": [
      "/var/folders/m5/26l5nfs54r94_664jm4k6zvr0000gn/T/ipykernel_78461/2191166829.py:20: DtypeWarning: Columns (6,15,16,17,18,19) have mixed types. Specify dtype option on import or set low_memory=False.\n",
      "  df=pd.read_csv(path)\n"
     ]
    },
    {
     "name": "stdout",
     "output_type": "stream",
     "text": [
      "Gastos Personal dataframe has been loaded to the dataframe list succesfully!\n",
      " Extracting data for the year 2020...\n",
      "Ingresos table is being read...\n",
      "Ingresos dataframe has been loaded to the dataframe list succesfully!\n",
      "Poblacion table is being read...\n"
     ]
    },
    {
     "name": "stderr",
     "output_type": "stream",
     "text": [
      "/var/folders/m5/26l5nfs54r94_664jm4k6zvr0000gn/T/ipykernel_78461/2191166829.py:20: DtypeWarning: Columns (10,11,12,13,14,15,16,17,82,83,166) have mixed types. Specify dtype option on import or set low_memory=False.\n",
      "  df=pd.read_csv(path)\n"
     ]
    },
    {
     "name": "stdout",
     "output_type": "stream",
     "text": [
      "Poblacion dataframe has been loaded to the dataframe list succesfully!\n",
      "Gastos Hogar table is being read...\n"
     ]
    },
    {
     "name": "stderr",
     "output_type": "stream",
     "text": [
      "/var/folders/m5/26l5nfs54r94_664jm4k6zvr0000gn/T/ipykernel_78461/2191166829.py:20: DtypeWarning: Columns (13,14,16,20,21,22,23,24,25) have mixed types. Specify dtype option on import or set low_memory=False.\n",
      "  df=pd.read_csv(path)\n"
     ]
    },
    {
     "name": "stdout",
     "output_type": "stream",
     "text": [
      "Gastos Hogar dataframe has been loaded to the dataframe list succesfully!\n",
      "Gastos Personal table is being read...\n"
     ]
    },
    {
     "name": "stderr",
     "output_type": "stream",
     "text": [
      "/var/folders/m5/26l5nfs54r94_664jm4k6zvr0000gn/T/ipykernel_78461/2191166829.py:20: DtypeWarning: Columns (6,15,16,17,18,19) have mixed types. Specify dtype option on import or set low_memory=False.\n",
      "  df=pd.read_csv(path)\n"
     ]
    },
    {
     "name": "stdout",
     "output_type": "stream",
     "text": [
      "Gastos Personal dataframe has been loaded to the dataframe list succesfully!\n",
      " Extracting data for the year 2022...\n",
      "Ingresos table is being read...\n",
      "Ingresos dataframe has been loaded to the dataframe list succesfully!\n",
      "Poblacion table is being read...\n"
     ]
    },
    {
     "name": "stderr",
     "output_type": "stream",
     "text": [
      "/var/folders/m5/26l5nfs54r94_664jm4k6zvr0000gn/T/ipykernel_78461/2191166829.py:20: DtypeWarning: Columns (82,83,166) have mixed types. Specify dtype option on import or set low_memory=False.\n",
      "  df=pd.read_csv(path)\n"
     ]
    },
    {
     "name": "stdout",
     "output_type": "stream",
     "text": [
      "Poblacion dataframe has been loaded to the dataframe list succesfully!\n",
      "Gastos Hogar table is being read...\n",
      "Gastos Hogar dataframe has been loaded to the dataframe list succesfully!\n",
      "Gastos Personal table is being read...\n",
      "Gastos Personal dataframe has been loaded to the dataframe list succesfully!\n"
     ]
    }
   ],
   "source": [
    "print(f\"<< Extraction Dataframes from {EXTRACT_PATH} >>\")\n",
    "dataframes=[]\n",
    "for year in YEARS:\n",
    "    paths={\n",
    "    \"Ingresos\":f\"{EXTRACT_PATH}/{year}/conjunto_de_datos_ingresos_enigh_{year}_ns/conjunto_de_datos/conjunto_de_datos_ingresos_enigh_{year}_ns.csv\",\n",
    "    \"Poblacion\":f\"{EXTRACT_PATH}/{year}/conjunto_de_datos_poblacion_enigh_{year}_ns/conjunto_de_datos/conjunto_de_datos_poblacion_enigh_{year}_ns.csv\",\n",
    "    \"Gastos Hogar\":f\"{EXTRACT_PATH}/{year}/conjunto_de_datos_gastoshogar_enigh_{year}_ns/conjunto_de_datos/conjunto_de_datos_gastoshogar_enigh_{year}_ns.csv\",\n",
    "    \"Gastos Personal\":f\"{EXTRACT_PATH}/{year}/conjunto_de_datos_gastospersona_enigh_{year}_ns/conjunto_de_datos/conjunto_de_datos_gastospersona_enigh_{year}_ns.csv\" }\n",
    "    if year=='2022':\n",
    "        paths={\n",
    "        \"Ingresos\":f\"{EXTRACT_PATH}/{year}/conjunto_de_datos_ingresos_enigh{year}_ns/conjunto_de_datos/conjunto_de_datos_ingresos_enigh{year}_ns.csv\",\n",
    "        \"Poblacion\":f\"{EXTRACT_PATH}/{year}/conjunto_de_datos_poblacion_enigh{year}_ns/conjunto_de_datos/conjunto_de_datos_poblacion_enigh{year}_ns.csv\",\n",
    "        \"Gastos Hogar\":f\"{EXTRACT_PATH}/{year}/conjunto_de_datos_gastoshogar_enigh{year}_ns/conjunto_de_datos/conjunto_de_datos_gastoshogar_enigh{year}_ns.csv\",\n",
    "        \"Gastos Personal\":f\"{EXTRACT_PATH}/{year}/conjunto_de_datos_gastospersona_enigh{year}_ns/conjunto_de_datos/conjunto_de_datos_gastospersona_enigh{year}_ns.csv\"}\n",
    "\n",
    "\n",
    "    print(f\" Extracting data for the year {year}...\")\n",
    "    for key,path in paths.items():\n",
    "        print(f\"{key} table is being read...\")\n",
    "        df=pd.read_csv(path)\n",
    "        #df=df[df['entidad']==26]\n",
    "        dataframes.append( (year, key, df) ) \n",
    "        print(f\"{key} dataframe has been loaded to the dataframe list succesfully!\")\n",
    "\n",
    "\n"
   ]
  },
  {
   "cell_type": "code",
   "execution_count": 228,
   "metadata": {},
   "outputs": [
    {
     "name": "stdout",
     "output_type": "stream",
     "text": [
      "<< Starting income,population and house bills merging >>\n",
      " Merging for year 2022 taking place...\n",
      " Merging for year 2022 completed!\n",
      " Merging for year 2020 taking place...\n",
      " Merging for year 2020 completed!\n",
      " Merging for year 2018 taking place...\n",
      " Merging for year 2018 completed!\n",
      " Merging for year 2016 taking place...\n",
      " Merging for year 2016 completed!\n"
     ]
    }
   ],
   "source": [
    "print(\"<< Starting income,population and house bills merging >>\")\n",
    "\n",
    "print(\" Merging for year 2022 taking place...\")\n",
    "df_2022=transformation(dataframes,'2022')\n",
    "print(\" Merging for year 2022 completed!\")\n",
    "\n",
    "print(\" Merging for year 2020 taking place...\")\n",
    "df_2020=transformation(dataframes,'2020')\n",
    "print(\" Merging for year 2020 completed!\")\n",
    "\n",
    "print(\" Merging for year 2018 taking place...\")\n",
    "df_2018=transformation(dataframes,'2018')\n",
    "print(\" Merging for year 2018 completed!\")\n",
    "\n",
    "print(\" Merging for year 2016 taking place...\")\n",
    "df_2016=transformation(dataframes,'2016')\n",
    "print(\" Merging for year 2016 completed!\")"
   ]
  },
  {
   "cell_type": "markdown",
   "metadata": {},
   "source": [
    "# Formatting"
   ]
  },
  {
   "cell_type": "markdown",
   "metadata": {},
   "source": [
    "madre_id: es tipo int,  se refiere al valor de 'numren' del padre del hogar, el 0 significa que no se encuentra la madre del entrevistado en el hogar.El valor 99 proveniente de validación se etiqueta como “no especificado” o “perdido por el usuario”\n",
    "\n",
    "padre_id: es tipo int, se refiere al valor de 'numren' del padre del hogar, el 0 significa que no se encuentra el padre del entrevistado en el hogar.El valor 99  proveniente de validación se etiqueta como “no especificado” o “perdido por el usuario”. \n",
    "\n",
    "alfabetism: es tipo categoría(int),el valor 0 significa que el entrevistado tiene menos de 3 años,1 sí y 2 no.\n",
    "\n",
    "mes_n: tipo categoría(int), mes en el que recibió el entrevistado ingresos en el n-esimo mes, n va de 1 a 6. \n",
    "\n",
    "ing_n:tipo float, cantidad de ingreso que el entrevistado recibió en el mes_n. \n",
    "\n",
    "\n"
   ]
  },
  {
   "cell_type": "code",
   "execution_count": 235,
   "metadata": {},
   "outputs": [],
   "source": [
    "def null_imputation(df):\n",
    "    ZERO=['madre_id','padre_id','conyuge_id','alfabetism',\n",
    "          'edo_conyug','pareja_hog','antec_esc',\n",
    "          'gradoaprob','nivelaprob','tipoesc','grado','nivel','asis_esc',\n",
    "          'cantidad','gasto','gasto_tri','costo',\n",
    "          'mes_1','mes_2','mes_3','mes_4','mes_5','mes_6',\n",
    "          'ing_1','ing_2','ing_3','ing_4','ing_5','ing_6',\n",
    "          ] \n",
    "    \n",
    "\n",
    "    LOST_DATA=['madre_id','padre_id','conyuge_id'\n",
    "               \n",
    "               ]\n",
    "    \n",
    "    for column in df.columns:\n",
    "        #print(column)\n",
    "        if pd.api.types.is_categorical_dtype(df[column]):\n",
    "            continue\n",
    "        if pd.api.types.is_integer_dtype(df[column]):\n",
    "            df[column]=df[column].fillna(0)\n",
    "            #print(f\"{column} filled with {0}\")\n",
    "            continue\n",
    "        if pd.api.types.is_float_dtype(df[column]):\n",
    "            df[column]=df[column].fillna(0)\n",
    "            #print(f\"{column} filled with {0}\")\n",
    "            continue\n",
    "        if pd.api.types.is_object_dtype(df[column]):\n",
    "            df[column]=df[column].fillna('0')\n",
    "            #print(f\"{column} filled with {'0'}\")\n",
    "            continue\n",
    "        if pd.api.types.is_string_dtype(df[column]):\n",
    "            df[column]=df[column].fillna('0')\n",
    "            #print(f\"{column} filled with {'0'}\")\n",
    "            continue\n",
    "\n",
    "    for column in ZERO:\n",
    "        df[column]=df[column].replace(' ','0')\n",
    "        #print(f'Blank strings dealt with in column :{column} ')\n",
    "    for column in LOST_DATA:\n",
    "        df[column]=df[column].replace('&','99')\n",
    "        #print(f'Lost data dealt with in column :{column} ')\n",
    "    return df\n",
    "\n",
    "def set_format(df):\n",
    "    FORMATS={\n",
    "\n",
    "    'int':['folioviv', 'foliohog', 'numren', 'parentesco', 'sexo', 'edad','año_nacimiento',\n",
    "           'alfabetism','conyuge_id','padre_id','madre_hog', 'madre_id', 'padre_hog','edo_conyug',\n",
    "           'mes_1', 'mes_2', 'mes_3','mes_4', 'mes_5', 'mes_6',\n",
    "           'integrantes','pareja_hog',\n",
    "           'grado','nivel','asis_esc','tipoesc','nivelaprob','gradoaprob','antec_esc',] ,\n",
    "    \n",
    "    'string':['generacion','clave_y','clave_x','tipo_gasto'],\n",
    "    \n",
    "    'float':['costo','gasto', 'gasto_tri','ing_tri','ing_1', 'ing_2', 'ing_3', 'ing_4', 'ing_5','ing_6','cantidad'],\n",
    "    }\n",
    "    columns_with_errors=[]\n",
    "    for column in df.columns:\n",
    "        for format,columns in FORMATS.items():\n",
    "            #print(f\"{column} | {format}  | {columns}\")\n",
    "            if column in columns:\n",
    "                try:\n",
    "                    #print(column)\n",
    "                    df[column]=df[column].astype(format)\n",
    "                    #print(f'{column} guardada como {format}')\n",
    "                    break\n",
    "                except ValueError as e:\n",
    "                    columns_with_errors.append([column,e])\n",
    "    return df,columns_with_errors"
   ]
  },
  {
   "cell_type": "code",
   "execution_count": 234,
   "metadata": {},
   "outputs": [
    {
     "name": "stdout",
     "output_type": "stream",
     "text": [
      "<< Starting Formatting >>\n",
      " Formatting for year 2022 taking place...\n",
      " Formatting for year 2022 completed with 0 errors!\n",
      " Formatting for year 2020 taking place...\n",
      " Formatting for year 2020 completed with 0 errors!\n",
      " Formatting for year 2018 taking place...\n",
      " Formatting for year 2018 completed with 0 errors!\n",
      " Formatting for year 2016 taking place...\n",
      " Formatting for year 2016 completed with 0 errors!\n"
     ]
    }
   ],
   "source": [
    "print(\"<< Starting Formatting >>\")\n",
    "\n",
    "print(\" Formatting for year 2022 taking place...\")\n",
    "df_2022=null_imputation(df_2022)\n",
    "df_2022,errors_2022=set_format(df_2022)\n",
    "print(f\" Formatting for year 2022 completed with {len(errors_2022)} errors!\")\n",
    "\n",
    "print(\" Formatting for year 2020 taking place...\")\n",
    "df_2020=null_imputation(df_2020)\n",
    "df_2020,errors_2020=set_format(df_2020)\n",
    "print(f\" Formatting for year 2020 completed with {len(errors_2020)} errors!\")\n",
    "\n",
    "print(\" Formatting for year 2018 taking place...\")\n",
    "df_2018=null_imputation(df_2018)\n",
    "df_2018,errors_2018=set_format(df_2018)\n",
    "print(f\" Formatting for year 2018 completed with {len(errors_2018)} errors!\")\n",
    "\n",
    "print(\" Formatting for year 2016 taking place...\")\n",
    "df_2016=null_imputation(df_2016)\n",
    "df_2016,errors_2016=set_format(df_2016)\n",
    "print(f\" Formatting for year 2016 completed with {len(errors_2016)} errors!\")"
   ]
  },
  {
   "cell_type": "code",
   "execution_count": 74,
   "metadata": {},
   "outputs": [],
   "source": [
    "def generacion_conyuge(df,folioviv,conyuge_id,edo_conyug):\n",
    "    if (conyuge_id==' '):\n",
    "        if (edo_conyug in ['6','5','4','3']) or (edo_conyug in [ 6.,  5.,  3.,  4.]):\n",
    "            return 'No tiene conyuge'\n",
    "        if (edo_conyug==' ')or (math.isnan(edo_conyug)):\n",
    "            return \"Tiene menos de 12 años\"\n",
    "        if (edo_conyug in ['2','1']) or (edo_conyug in [2.,1.]) :\n",
    "            return 'No se sabe que significa'\n",
    "        \n",
    "    if conyuge_id=='&':\n",
    "        return \"Dato perdido o no especificado\"\n",
    "    \n",
    "    try :\n",
    "        if math.isnan(conyuge_id):\n",
    "            if (edo_conyug in ['6','5','4','3']) or (edo_conyug in [ 6.,  5.,  3.,  4.]):\n",
    "                return 'No tiene conyuge'\n",
    "            if (edo_conyug==' ')or (math.isnan(edo_conyug)):\n",
    "                return \"Tiene menos de 12 años\"\n",
    "            if (edo_conyug in ['2','1']) or (edo_conyug in [2.,1.]) :\n",
    "                return 'No se sabe que significa'\n",
    "    except ValueError:\n",
    "        return 'No se sabe'\n",
    "    \n",
    "    work_df=df[df['folioviv']==folioviv]\n",
    "\n",
    "    \n",
    "    conyuge_row=work_df[work_df['numren']==int(conyuge_id)].reset_index()\n",
    "    if conyuge_row.empty:\n",
    "        return \"No se sabe\"\n",
    "    generacion_conyuge=conyuge_row.loc[0, 'generacion']\n",
    "    \n",
    "    return generacion_conyuge\n",
    "\n",
    "def delta_calculator(generacion_1,generacion_2):\n",
    "    for case in ['No tiene conyuge','Tiene menos de 12 años','No se sabe que significa','Dato perdido o no especificado','No se sabe']:\n",
    "        if (generacion_1==case or generacion_2==case):\n",
    "            return case\n",
    "    \n",
    "    \n",
    "    \n",
    "    generation_dict={'Greatest':0,\n",
    "                     'Silent':1,\n",
    "                     'Baby Boomer':2,\n",
    "                     'X':3,\n",
    "                     'Milenial':4,\n",
    "                     'Z':5,\n",
    "                     'Alpha':6}\n",
    "    \n",
    "    delta=abs(generation_dict[generacion_1]-generation_dict[generacion_2])\n",
    "    return delta\n",
    "\n",
    "def generational_transformation(df):\n",
    "    df['generacion_conyuge']=df.apply(lambda row: generacion_conyuge(df, row['folioviv'], row['conyuge_id'],row['edo_conyug']), axis=1)\n",
    "    df['delta']=df.apply(lambda row: delta_calculator( row['generacion'], row['generacion_conyuge']), axis=1)\n",
    "    return df\n"
   ]
  },
  {
   "cell_type": "code",
   "execution_count": 75,
   "metadata": {},
   "outputs": [
    {
     "name": "stdout",
     "output_type": "stream",
     "text": [
      "<< Starting generational transformations >>\n",
      " Generational transformations for year 2022 taking place...\n"
     ]
    },
    {
     "ename": "TypeError",
     "evalue": "must be real number, not str",
     "output_type": "error",
     "traceback": [
      "\u001b[0;31m---------------------------------------------------------------------------\u001b[0m",
      "\u001b[0;31mTypeError\u001b[0m                                 Traceback (most recent call last)",
      "Cell \u001b[0;32mIn[75], line 4\u001b[0m\n\u001b[1;32m      1\u001b[0m \u001b[38;5;28mprint\u001b[39m(\u001b[38;5;124m\"\u001b[39m\u001b[38;5;124m<< Starting generational transformations >>\u001b[39m\u001b[38;5;124m\"\u001b[39m)\n\u001b[1;32m      3\u001b[0m \u001b[38;5;28mprint\u001b[39m(\u001b[38;5;124m\"\u001b[39m\u001b[38;5;124m Generational transformations for year 2022 taking place...\u001b[39m\u001b[38;5;124m\"\u001b[39m)\n\u001b[0;32m----> 4\u001b[0m df_2022\u001b[38;5;241m=\u001b[39m\u001b[43mgenerational_transformation\u001b[49m\u001b[43m(\u001b[49m\u001b[43mdf_2022\u001b[49m\u001b[43m)\u001b[49m\n\u001b[1;32m      5\u001b[0m \u001b[38;5;28mprint\u001b[39m(\u001b[38;5;124m\"\u001b[39m\u001b[38;5;124mTransformations for year 2022 completed!\u001b[39m\u001b[38;5;124m\"\u001b[39m)\n\u001b[1;32m      7\u001b[0m \u001b[38;5;28mprint\u001b[39m(\u001b[38;5;124m\"\u001b[39m\u001b[38;5;124m Generational transformations for year 2020 taking place...\u001b[39m\u001b[38;5;124m\"\u001b[39m)\n",
      "Cell \u001b[0;32mIn[74], line 53\u001b[0m, in \u001b[0;36mgenerational_transformation\u001b[0;34m(df)\u001b[0m\n\u001b[1;32m     52\u001b[0m \u001b[38;5;28;01mdef\u001b[39;00m \u001b[38;5;21mgenerational_transformation\u001b[39m(df):\n\u001b[0;32m---> 53\u001b[0m     df[\u001b[38;5;124m'\u001b[39m\u001b[38;5;124mgeneracion_conyuge\u001b[39m\u001b[38;5;124m'\u001b[39m]\u001b[38;5;241m=\u001b[39m\u001b[43mdf\u001b[49m\u001b[38;5;241;43m.\u001b[39;49m\u001b[43mapply\u001b[49m\u001b[43m(\u001b[49m\u001b[38;5;28;43;01mlambda\u001b[39;49;00m\u001b[43m \u001b[49m\u001b[43mrow\u001b[49m\u001b[43m:\u001b[49m\u001b[43m \u001b[49m\u001b[43mgeneracion_conyuge\u001b[49m\u001b[43m(\u001b[49m\u001b[43mdf\u001b[49m\u001b[43m,\u001b[49m\u001b[43m \u001b[49m\u001b[43mrow\u001b[49m\u001b[43m[\u001b[49m\u001b[38;5;124;43m'\u001b[39;49m\u001b[38;5;124;43mfolioviv\u001b[39;49m\u001b[38;5;124;43m'\u001b[39;49m\u001b[43m]\u001b[49m\u001b[43m,\u001b[49m\u001b[43m \u001b[49m\u001b[43mrow\u001b[49m\u001b[43m[\u001b[49m\u001b[38;5;124;43m'\u001b[39;49m\u001b[38;5;124;43mconyuge_id\u001b[39;49m\u001b[38;5;124;43m'\u001b[39;49m\u001b[43m]\u001b[49m\u001b[43m,\u001b[49m\u001b[43mrow\u001b[49m\u001b[43m[\u001b[49m\u001b[38;5;124;43m'\u001b[39;49m\u001b[38;5;124;43medo_conyug\u001b[39;49m\u001b[38;5;124;43m'\u001b[39;49m\u001b[43m]\u001b[49m\u001b[43m)\u001b[49m\u001b[43m,\u001b[49m\u001b[43m \u001b[49m\u001b[43maxis\u001b[49m\u001b[38;5;241;43m=\u001b[39;49m\u001b[38;5;241;43m1\u001b[39;49m\u001b[43m)\u001b[49m\n\u001b[1;32m     54\u001b[0m     df[\u001b[38;5;124m'\u001b[39m\u001b[38;5;124mdelta\u001b[39m\u001b[38;5;124m'\u001b[39m]\u001b[38;5;241m=\u001b[39mdf\u001b[38;5;241m.\u001b[39mapply(\u001b[38;5;28;01mlambda\u001b[39;00m row: delta_calculator( row[\u001b[38;5;124m'\u001b[39m\u001b[38;5;124mgeneracion\u001b[39m\u001b[38;5;124m'\u001b[39m], row[\u001b[38;5;124m'\u001b[39m\u001b[38;5;124mgeneracion_conyuge\u001b[39m\u001b[38;5;124m'\u001b[39m]), axis\u001b[38;5;241m=\u001b[39m\u001b[38;5;241m1\u001b[39m)\n\u001b[1;32m     55\u001b[0m     \u001b[38;5;28;01mreturn\u001b[39;00m df\n",
      "File \u001b[0;32m~/Documents/GitHub/ingCaracteristicasProyecto_/venv/lib/python3.12/site-packages/pandas/core/frame.py:10374\u001b[0m, in \u001b[0;36mDataFrame.apply\u001b[0;34m(self, func, axis, raw, result_type, args, by_row, engine, engine_kwargs, **kwargs)\u001b[0m\n\u001b[1;32m  10360\u001b[0m \u001b[38;5;28;01mfrom\u001b[39;00m \u001b[38;5;21;01mpandas\u001b[39;00m\u001b[38;5;21;01m.\u001b[39;00m\u001b[38;5;21;01mcore\u001b[39;00m\u001b[38;5;21;01m.\u001b[39;00m\u001b[38;5;21;01mapply\u001b[39;00m \u001b[38;5;28;01mimport\u001b[39;00m frame_apply\n\u001b[1;32m  10362\u001b[0m op \u001b[38;5;241m=\u001b[39m frame_apply(\n\u001b[1;32m  10363\u001b[0m     \u001b[38;5;28mself\u001b[39m,\n\u001b[1;32m  10364\u001b[0m     func\u001b[38;5;241m=\u001b[39mfunc,\n\u001b[0;32m   (...)\u001b[0m\n\u001b[1;32m  10372\u001b[0m     kwargs\u001b[38;5;241m=\u001b[39mkwargs,\n\u001b[1;32m  10373\u001b[0m )\n\u001b[0;32m> 10374\u001b[0m \u001b[38;5;28;01mreturn\u001b[39;00m \u001b[43mop\u001b[49m\u001b[38;5;241;43m.\u001b[39;49m\u001b[43mapply\u001b[49m\u001b[43m(\u001b[49m\u001b[43m)\u001b[49m\u001b[38;5;241m.\u001b[39m__finalize__(\u001b[38;5;28mself\u001b[39m, method\u001b[38;5;241m=\u001b[39m\u001b[38;5;124m\"\u001b[39m\u001b[38;5;124mapply\u001b[39m\u001b[38;5;124m\"\u001b[39m)\n",
      "File \u001b[0;32m~/Documents/GitHub/ingCaracteristicasProyecto_/venv/lib/python3.12/site-packages/pandas/core/apply.py:916\u001b[0m, in \u001b[0;36mFrameApply.apply\u001b[0;34m(self)\u001b[0m\n\u001b[1;32m    913\u001b[0m \u001b[38;5;28;01melif\u001b[39;00m \u001b[38;5;28mself\u001b[39m\u001b[38;5;241m.\u001b[39mraw:\n\u001b[1;32m    914\u001b[0m     \u001b[38;5;28;01mreturn\u001b[39;00m \u001b[38;5;28mself\u001b[39m\u001b[38;5;241m.\u001b[39mapply_raw(engine\u001b[38;5;241m=\u001b[39m\u001b[38;5;28mself\u001b[39m\u001b[38;5;241m.\u001b[39mengine, engine_kwargs\u001b[38;5;241m=\u001b[39m\u001b[38;5;28mself\u001b[39m\u001b[38;5;241m.\u001b[39mengine_kwargs)\n\u001b[0;32m--> 916\u001b[0m \u001b[38;5;28;01mreturn\u001b[39;00m \u001b[38;5;28;43mself\u001b[39;49m\u001b[38;5;241;43m.\u001b[39;49m\u001b[43mapply_standard\u001b[49m\u001b[43m(\u001b[49m\u001b[43m)\u001b[49m\n",
      "File \u001b[0;32m~/Documents/GitHub/ingCaracteristicasProyecto_/venv/lib/python3.12/site-packages/pandas/core/apply.py:1063\u001b[0m, in \u001b[0;36mFrameApply.apply_standard\u001b[0;34m(self)\u001b[0m\n\u001b[1;32m   1061\u001b[0m \u001b[38;5;28;01mdef\u001b[39;00m \u001b[38;5;21mapply_standard\u001b[39m(\u001b[38;5;28mself\u001b[39m):\n\u001b[1;32m   1062\u001b[0m     \u001b[38;5;28;01mif\u001b[39;00m \u001b[38;5;28mself\u001b[39m\u001b[38;5;241m.\u001b[39mengine \u001b[38;5;241m==\u001b[39m \u001b[38;5;124m\"\u001b[39m\u001b[38;5;124mpython\u001b[39m\u001b[38;5;124m\"\u001b[39m:\n\u001b[0;32m-> 1063\u001b[0m         results, res_index \u001b[38;5;241m=\u001b[39m \u001b[38;5;28;43mself\u001b[39;49m\u001b[38;5;241;43m.\u001b[39;49m\u001b[43mapply_series_generator\u001b[49m\u001b[43m(\u001b[49m\u001b[43m)\u001b[49m\n\u001b[1;32m   1064\u001b[0m     \u001b[38;5;28;01melse\u001b[39;00m:\n\u001b[1;32m   1065\u001b[0m         results, res_index \u001b[38;5;241m=\u001b[39m \u001b[38;5;28mself\u001b[39m\u001b[38;5;241m.\u001b[39mapply_series_numba()\n",
      "File \u001b[0;32m~/Documents/GitHub/ingCaracteristicasProyecto_/venv/lib/python3.12/site-packages/pandas/core/apply.py:1081\u001b[0m, in \u001b[0;36mFrameApply.apply_series_generator\u001b[0;34m(self)\u001b[0m\n\u001b[1;32m   1078\u001b[0m \u001b[38;5;28;01mwith\u001b[39;00m option_context(\u001b[38;5;124m\"\u001b[39m\u001b[38;5;124mmode.chained_assignment\u001b[39m\u001b[38;5;124m\"\u001b[39m, \u001b[38;5;28;01mNone\u001b[39;00m):\n\u001b[1;32m   1079\u001b[0m     \u001b[38;5;28;01mfor\u001b[39;00m i, v \u001b[38;5;129;01min\u001b[39;00m \u001b[38;5;28menumerate\u001b[39m(series_gen):\n\u001b[1;32m   1080\u001b[0m         \u001b[38;5;66;03m# ignore SettingWithCopy here in case the user mutates\u001b[39;00m\n\u001b[0;32m-> 1081\u001b[0m         results[i] \u001b[38;5;241m=\u001b[39m \u001b[38;5;28;43mself\u001b[39;49m\u001b[38;5;241;43m.\u001b[39;49m\u001b[43mfunc\u001b[49m\u001b[43m(\u001b[49m\u001b[43mv\u001b[49m\u001b[43m,\u001b[49m\u001b[43m \u001b[49m\u001b[38;5;241;43m*\u001b[39;49m\u001b[38;5;28;43mself\u001b[39;49m\u001b[38;5;241;43m.\u001b[39;49m\u001b[43margs\u001b[49m\u001b[43m,\u001b[49m\u001b[43m \u001b[49m\u001b[38;5;241;43m*\u001b[39;49m\u001b[38;5;241;43m*\u001b[39;49m\u001b[38;5;28;43mself\u001b[39;49m\u001b[38;5;241;43m.\u001b[39;49m\u001b[43mkwargs\u001b[49m\u001b[43m)\u001b[49m\n\u001b[1;32m   1082\u001b[0m         \u001b[38;5;28;01mif\u001b[39;00m \u001b[38;5;28misinstance\u001b[39m(results[i], ABCSeries):\n\u001b[1;32m   1083\u001b[0m             \u001b[38;5;66;03m# If we have a view on v, we need to make a copy because\u001b[39;00m\n\u001b[1;32m   1084\u001b[0m             \u001b[38;5;66;03m#  series_generator will swap out the underlying data\u001b[39;00m\n\u001b[1;32m   1085\u001b[0m             results[i] \u001b[38;5;241m=\u001b[39m results[i]\u001b[38;5;241m.\u001b[39mcopy(deep\u001b[38;5;241m=\u001b[39m\u001b[38;5;28;01mFalse\u001b[39;00m)\n",
      "Cell \u001b[0;32mIn[74], line 53\u001b[0m, in \u001b[0;36mgenerational_transformation.<locals>.<lambda>\u001b[0;34m(row)\u001b[0m\n\u001b[1;32m     52\u001b[0m \u001b[38;5;28;01mdef\u001b[39;00m \u001b[38;5;21mgenerational_transformation\u001b[39m(df):\n\u001b[0;32m---> 53\u001b[0m     df[\u001b[38;5;124m'\u001b[39m\u001b[38;5;124mgeneracion_conyuge\u001b[39m\u001b[38;5;124m'\u001b[39m]\u001b[38;5;241m=\u001b[39mdf\u001b[38;5;241m.\u001b[39mapply(\u001b[38;5;28;01mlambda\u001b[39;00m row: \u001b[43mgeneracion_conyuge\u001b[49m\u001b[43m(\u001b[49m\u001b[43mdf\u001b[49m\u001b[43m,\u001b[49m\u001b[43m \u001b[49m\u001b[43mrow\u001b[49m\u001b[43m[\u001b[49m\u001b[38;5;124;43m'\u001b[39;49m\u001b[38;5;124;43mfolioviv\u001b[39;49m\u001b[38;5;124;43m'\u001b[39;49m\u001b[43m]\u001b[49m\u001b[43m,\u001b[49m\u001b[43m \u001b[49m\u001b[43mrow\u001b[49m\u001b[43m[\u001b[49m\u001b[38;5;124;43m'\u001b[39;49m\u001b[38;5;124;43mconyuge_id\u001b[39;49m\u001b[38;5;124;43m'\u001b[39;49m\u001b[43m]\u001b[49m\u001b[43m,\u001b[49m\u001b[43mrow\u001b[49m\u001b[43m[\u001b[49m\u001b[38;5;124;43m'\u001b[39;49m\u001b[38;5;124;43medo_conyug\u001b[39;49m\u001b[38;5;124;43m'\u001b[39;49m\u001b[43m]\u001b[49m\u001b[43m)\u001b[49m, axis\u001b[38;5;241m=\u001b[39m\u001b[38;5;241m1\u001b[39m)\n\u001b[1;32m     54\u001b[0m     df[\u001b[38;5;124m'\u001b[39m\u001b[38;5;124mdelta\u001b[39m\u001b[38;5;124m'\u001b[39m]\u001b[38;5;241m=\u001b[39mdf\u001b[38;5;241m.\u001b[39mapply(\u001b[38;5;28;01mlambda\u001b[39;00m row: delta_calculator( row[\u001b[38;5;124m'\u001b[39m\u001b[38;5;124mgeneracion\u001b[39m\u001b[38;5;124m'\u001b[39m], row[\u001b[38;5;124m'\u001b[39m\u001b[38;5;124mgeneracion_conyuge\u001b[39m\u001b[38;5;124m'\u001b[39m]), axis\u001b[38;5;241m=\u001b[39m\u001b[38;5;241m1\u001b[39m)\n\u001b[1;32m     55\u001b[0m     \u001b[38;5;28;01mreturn\u001b[39;00m df\n",
      "Cell \u001b[0;32mIn[74], line 14\u001b[0m, in \u001b[0;36mgeneracion_conyuge\u001b[0;34m(df, folioviv, conyuge_id, edo_conyug)\u001b[0m\n\u001b[1;32m     11\u001b[0m     \u001b[38;5;28;01mreturn\u001b[39;00m \u001b[38;5;124m\"\u001b[39m\u001b[38;5;124mDato perdido o no especificado\u001b[39m\u001b[38;5;124m\"\u001b[39m\n\u001b[1;32m     13\u001b[0m \u001b[38;5;28;01mtry\u001b[39;00m :\n\u001b[0;32m---> 14\u001b[0m     \u001b[38;5;28;01mif\u001b[39;00m \u001b[43mmath\u001b[49m\u001b[38;5;241;43m.\u001b[39;49m\u001b[43misnan\u001b[49m\u001b[43m(\u001b[49m\u001b[43mconyuge_id\u001b[49m\u001b[43m)\u001b[49m:\n\u001b[1;32m     15\u001b[0m         \u001b[38;5;28;01mif\u001b[39;00m (edo_conyug \u001b[38;5;129;01min\u001b[39;00m [\u001b[38;5;124m'\u001b[39m\u001b[38;5;124m6\u001b[39m\u001b[38;5;124m'\u001b[39m,\u001b[38;5;124m'\u001b[39m\u001b[38;5;124m5\u001b[39m\u001b[38;5;124m'\u001b[39m,\u001b[38;5;124m'\u001b[39m\u001b[38;5;124m4\u001b[39m\u001b[38;5;124m'\u001b[39m,\u001b[38;5;124m'\u001b[39m\u001b[38;5;124m3\u001b[39m\u001b[38;5;124m'\u001b[39m]) \u001b[38;5;129;01mor\u001b[39;00m (edo_conyug \u001b[38;5;129;01min\u001b[39;00m [ \u001b[38;5;241m6.\u001b[39m,  \u001b[38;5;241m5.\u001b[39m,  \u001b[38;5;241m3.\u001b[39m,  \u001b[38;5;241m4.\u001b[39m]):\n\u001b[1;32m     16\u001b[0m             \u001b[38;5;28;01mreturn\u001b[39;00m \u001b[38;5;124m'\u001b[39m\u001b[38;5;124mNo tiene conyuge\u001b[39m\u001b[38;5;124m'\u001b[39m\n",
      "\u001b[0;31mTypeError\u001b[0m: must be real number, not str"
     ]
    }
   ],
   "source": [
    "print(\"<< Starting generational transformations >>\")\n",
    "\n",
    "print(\" Generational transformations for year 2022 taking place...\")\n",
    "df_2022=generational_transformation(df_2022)\n",
    "print(\"Transformations for year 2022 completed!\")\n",
    "\n",
    "print(\" Generational transformations for year 2020 taking place...\")\n",
    "df_2020=generational_transformation(df_2020)\n",
    "print(\"Transformations for year 2020 completed!\")\n",
    "\n",
    "print(\" Generational transformations for year 2018 taking place...\")\n",
    "df_2018=generational_transformation(df_2018)\n",
    "print(\"Transformations for year 2018 completed!\")\n",
    "\n",
    "print(\" Generational transformations for year 2016 taking place...\")\n",
    "df_2016=generational_transformation(df_2016)\n",
    "print(\"Transformations for year 2016 completed!\")"
   ]
  },
  {
   "cell_type": "code",
   "execution_count": 12,
   "metadata": {},
   "outputs": [
    {
     "name": "stdout",
     "output_type": "stream",
     "text": [
      "<< Loading processed data to :data/interim/ENIGH >>\n",
      "Loading 2022 data...\n",
      "ENIGH 2022 data loaded successfully!!\n",
      "Loading 2020 data...\n",
      "ENIGH 2020 data loaded successfully!!\n",
      "Loading 2018 data...\n",
      "ENIGH 2018 data loaded successfully!!\n",
      "Loading 2016 data...\n",
      "ENIGH 2016 data loaded successfully!!\n"
     ]
    }
   ],
   "source": [
    "os.makedirs(INTERIM_PATH,exist_ok=True)\n",
    "print(f\"<< Loading processed data to :{INTERIM_PATH} >>\")\n",
    "\n",
    "print(\"Loading 2022 data...\")\n",
    "df_2022.to_csv(f\"{INTERIM_PATH}/2022.csv\")\n",
    "print(\"ENIGH 2022 data loaded successfully!!\")\n",
    "\n",
    "print(\"Loading 2020 data...\")\n",
    "df_2020.to_csv(f\"{INTERIM_PATH}/2020.csv\")\n",
    "print(\"ENIGH 2020 data loaded successfully!!\")\n",
    "\n",
    "print(\"Loading 2018 data...\")\n",
    "df_2018.to_csv(f\"{INTERIM_PATH}/2018.csv\")\n",
    "print(\"ENIGH 2018 data loaded successfully!!\")\n",
    "\n",
    "print(\"Loading 2016 data...\")\n",
    "df_2016.to_csv(f\"{INTERIM_PATH}/2016.csv\")\n",
    "print(\"ENIGH 2016 data loaded successfully!!\")"
   ]
  }
 ],
 "metadata": {
  "kernelspec": {
   "display_name": ".venv",
   "language": "python",
   "name": "python3"
  },
  "language_info": {
   "codemirror_mode": {
    "name": "ipython",
    "version": 3
   },
   "file_extension": ".py",
   "mimetype": "text/x-python",
   "name": "python",
   "nbconvert_exporter": "python",
   "pygments_lexer": "ipython3",
   "version": "3.12.5"
  }
 },
 "nbformat": 4,
 "nbformat_minor": 2
}
