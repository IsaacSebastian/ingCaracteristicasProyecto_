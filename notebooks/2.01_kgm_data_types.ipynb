{
 "cells": [
  {
   "cell_type": "markdown",
   "id": "87209649-b701-49e0-afa1-36044cf4c581",
   "metadata": {},
   "source": [
    "# Tipos de datos\n",
    "\n",
    "En esta libreta vamos a corregir los tipos de datos, para obtener un nuevo archivo .csv en data\\processed, posteriormente se hace un analisis Ydata para ver datos faltantes y anomalias.\n",
    "\n",
    "Importamos las librerias que nos ayudan en esta fase."
   ]
  },
  {
   "cell_type": "code",
   "execution_count": 65,
   "id": "fbf5adb1-c4c3-42a5-b3cf-f089647c448c",
   "metadata": {},
   "outputs": [],
   "source": [
    "import pandas as pd\n",
    "import os\n",
    "import datetime\n",
    "from ydata_profiling import ProfileReport"
   ]
  },
  {
   "cell_type": "markdown",
   "id": "4433d497-3386-4bff-a9e8-3585c533e77b",
   "metadata": {},
   "source": [
    "Comenzamos por cargar el dataset que tiene los datos concatenados y con una columna del nombre del estado."
   ]
  },
  {
   "cell_type": "code",
   "execution_count": 66,
   "id": "60337074-deda-48a4-b4bb-c4ae190b342b",
   "metadata": {},
   "outputs": [],
   "source": [
    "path = os.path.join('..', 'data', 'interim', 'Ensanut-data-p.csv') # Direccion del archivo\n",
    "\n",
    "df = pd.read_csv(path, low_memory =False) # Cargamos dataframe"
   ]
  },
  {
   "cell_type": "markdown",
   "id": "44967f36-8ad7-444a-b555-8425491cfaad",
   "metadata": {},
   "source": [
    "Dado que nuestro archivo es grande puede ser que no se haya cargado con el tipo de dat correcto, asi que verifiquemos el tipo de dato de las columnas:"
   ]
  },
  {
   "cell_type": "code",
   "execution_count": 67,
   "id": "cc63c3d1-a653-4d29-a735-633ac3349bbb",
   "metadata": {},
   "outputs": [
    {
     "name": "stdout",
     "output_type": "stream",
     "text": [
      "Folio                           object\n",
      "Edad                             int64\n",
      "Sexo                             int64\n",
      "C_Entidad                        int64\n",
      "Entidad                         object\n",
      "Fecha                           object\n",
      "Atentar_contras_si              object\n",
      "Depresion                       object\n",
      "Tristeza                        object\n",
      "Cuantos cigarrillos (numero)    object\n",
      "Frecuencia emborrachar          object\n",
      "dtype: object\n"
     ]
    }
   ],
   "source": [
    "print(df.dtypes)"
   ]
  },
  {
   "cell_type": "markdown",
   "id": "bee3284d-9aca-4e1e-aea8-b38eaadbe716",
   "metadata": {},
   "source": [
    "Procedemos a poner el tipo de dato correcto"
   ]
  },
  {
   "cell_type": "code",
   "execution_count": 68,
   "id": "b5a49ba6-aec3-4f57-acc2-1e6004fe4ae6",
   "metadata": {},
   "outputs": [
    {
     "name": "stdout",
     "output_type": "stream",
     "text": [
      "Folio                                   object\n",
      "Edad                                     int32\n",
      "Sexo                                  category\n",
      "C_Entidad                             category\n",
      "Entidad                                 object\n",
      "Fecha                           datetime64[ns]\n",
      "Atentar_contras_si                    category\n",
      "Depresion                             category\n",
      "Tristeza                              category\n",
      "Cuantos cigarrillos (numero)             Int64\n",
      "Frecuencia emborrachar                category\n",
      "dtype: object\n"
     ]
    }
   ],
   "source": [
    "# Cambiar los tipos de datos\n",
    "df['Edad'] = df['Edad'].astype(int)    # Asegurar que es entero\n",
    "df['Sexo'] = df['Sexo'].astype('category')  # Convertir a categoría\n",
    "df['C_Entidad'] = df['C_Entidad'].astype('category')  # Convertir a categoría\n",
    "df['Fecha'] = pd.to_datetime(df['Fecha'], errors='coerce')  # Convertir a fecha\n",
    "df['Atentar_contras_si'] = df['Atentar_contras_si'].astype('category')  # Convertir a categoría\n",
    "df['Depresion'] = df['Depresion'].astype('category')  # Convertir a categoría\n",
    "df['Tristeza'] = df['Tristeza'].astype('category')  # Convertir a categoría\n",
    "df['Cuantos cigarrillos (numero)'] = pd.to_numeric(df['Cuantos cigarrillos (numero)'], errors='coerce').astype('Int64')  # Convertir a entero con NaN permitido\n",
    "df['Frecuencia emborrachar'] = df['Frecuencia emborrachar'].astype('category')  # Convertir a categoría\n",
    "\n",
    "# Verificar los tipos de datos después de la conversión\n",
    "print(df.dtypes)"
   ]
  },
  {
   "cell_type": "markdown",
   "id": "c7fb68cc-859e-48aa-a6f5-8e05d458acaa",
   "metadata": {},
   "source": [
    "Guardamos el archivo:"
   ]
  },
  {
   "cell_type": "code",
   "execution_count": 69,
   "id": "9f3b625e-4549-4d1a-8aa8-2563fce1d205",
   "metadata": {},
   "outputs": [],
   "source": [
    "path_save = os.path.join('..','data', 'interim', 'Ensanut-data.csv')\n",
    "path_save_parquet = os.path.join('..','data', 'interim', 'Ensanut-data.parquet')\n",
    "df.to_csv(path_save, index=False)\n",
    "df.to_parquet(path_save_parquet)"
   ]
  },
  {
   "cell_type": "markdown",
   "id": "3f46eca3-20a3-4684-b8c0-4ae1e1aa40a5",
   "metadata": {},
   "source": [
    "Creamos un reporte Ydata para nuestro nuesto archivo, el nuevo reporte se guarda en docs\\docs"
   ]
  },
  {
   "cell_type": "code",
   "execution_count": 70,
   "id": "cfb66228-95a9-442d-bd1c-43db88fdd3ce",
   "metadata": {},
   "outputs": [
    {
     "data": {
      "application/vnd.jupyter.widget-view+json": {
       "model_id": "094da3e71c044747aa2910676397274f",
       "version_major": 2,
       "version_minor": 0
      },
      "text/plain": [
       "Summarize dataset:   0%|          | 0/5 [00:00<?, ?it/s]"
      ]
     },
     "metadata": {},
     "output_type": "display_data"
    },
    {
     "data": {
      "application/vnd.jupyter.widget-view+json": {
       "model_id": "0a524edbdda644069f1a2d08f031fcbf",
       "version_major": 2,
       "version_minor": 0
      },
      "text/plain": [
       "Generate report structure:   0%|          | 0/1 [00:00<?, ?it/s]"
      ]
     },
     "metadata": {},
     "output_type": "display_data"
    },
    {
     "data": {
      "application/vnd.jupyter.widget-view+json": {
       "model_id": "5a09bcd7326b42f394b512e1d5dabcc2",
       "version_major": 2,
       "version_minor": 0
      },
      "text/plain": [
       "Render HTML:   0%|          | 0/1 [00:00<?, ?it/s]"
      ]
     },
     "metadata": {},
     "output_type": "display_data"
    },
    {
     "data": {
      "application/vnd.jupyter.widget-view+json": {
       "model_id": "3a2e1be8338d43c080e1926d8890587f",
       "version_major": 2,
       "version_minor": 0
      },
      "text/plain": [
       "Export report to file:   0%|          | 0/1 [00:00<?, ?it/s]"
      ]
     },
     "metadata": {},
     "output_type": "display_data"
    },
    {
     "name": "stdout",
     "output_type": "stream",
     "text": [
      "YData report save: ..\\docs\\docs\\interim-MH-data.html\n"
     ]
    }
   ],
   "source": [
    "ruta_output_y = os.path.join('..','docs', 'docs', 'interim-MH-data.html')\n",
    "title = \"ENSANUT YData Profiling Report\"\n",
    "#Ydata\n",
    "df = pd.read_parquet(path_save_parquet)\n",
    "profile_ensa_ydata = ProfileReport(df, title=title, explorative=True, minimal = True)\n",
    "profile_ensa_ydata.to_file(ruta_output_y)\n",
    "print(f\"YData report save: {ruta_output_y}\")"
   ]
  }
 ],
 "metadata": {
  "kernelspec": {
   "display_name": "Python 3 (ipykernel)",
   "language": "python",
   "name": "python3"
  },
  "language_info": {
   "codemirror_mode": {
    "name": "ipython",
    "version": 3
   },
   "file_extension": ".py",
   "mimetype": "text/x-python",
   "name": "python",
   "nbconvert_exporter": "python",
   "pygments_lexer": "ipython3",
   "version": "3.12.4"
  }
 },
 "nbformat": 4,
 "nbformat_minor": 5
}
