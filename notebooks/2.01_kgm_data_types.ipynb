{
 "cells": [
  {
   "cell_type": "markdown",
   "id": "87209649-b701-49e0-afa1-36044cf4c581",
   "metadata": {},
   "source": [
    "# Data Types\n",
    "\n",
    "In this notebook we are going to correct the data types, to obtain a new .csv file in data\\processed, then a Ydata analysis is done to see missing data and anomalies.\n",
    "\n",
    "We import the libraries that help us in this phase."
   ]
  },
  {
   "cell_type": "code",
   "execution_count": 17,
   "id": "fbf5adb1-c4c3-42a5-b3cf-f089647c448c",
   "metadata": {},
   "outputs": [],
   "source": [
    "import pandas as pd\n",
    "import os\n",
    "import datetime\n",
    "import numpy as np\n",
    "from ydata_profiling import ProfileReport"
   ]
  },
  {
   "cell_type": "markdown",
   "id": "4433d497-3386-4bff-a9e8-3585c533e77b",
   "metadata": {},
   "source": [
    "We start by loading the dataset that has the concatenated data and a column with the state name."
   ]
  },
  {
   "cell_type": "code",
   "execution_count": 18,
   "id": "60337074-deda-48a4-b4bb-c4ae190b342b",
   "metadata": {},
   "outputs": [],
   "source": [
    "path = os.path.join('..', 'data', 'interim', 'Ensanut-data-p.parquet') # Direccion del archivo\n",
    "\n",
    "df = pd.read_parquet(path) # Cargamos dataframe"
   ]
  },
  {
   "cell_type": "markdown",
   "id": "44967f36-8ad7-444a-b555-8425491cfaad",
   "metadata": {},
   "source": [
    "Since our file is large, it may not have been loaded with the correct data type, so let's check the data type of the columns:"
   ]
  },
  {
   "cell_type": "code",
   "execution_count": 19,
   "id": "cc63c3d1-a653-4d29-a735-633ac3349bbb",
   "metadata": {},
   "outputs": [
    {
     "name": "stdout",
     "output_type": "stream",
     "text": [
      "Folio                           object\n",
      "Edad                             int64\n",
      "Sexo                             int64\n",
      "C_Entidad                        int32\n",
      "Entidad                         object\n",
      "Fecha                           object\n",
      "Atentar_contras_si              object\n",
      "Depresion                       object\n",
      "Tristeza                        object\n",
      "Cuantos cigarrillos (numero)    object\n",
      "Frecuencia emborrachar          object\n",
      "dtype: object\n"
     ]
    }
   ],
   "source": [
    "print(df.dtypes)"
   ]
  },
  {
   "cell_type": "markdown",
   "id": "bee3284d-9aca-4e1e-aea8-b38eaadbe716",
   "metadata": {},
   "source": [
    "We proceed to set the correct data type:"
   ]
  },
  {
   "cell_type": "code",
   "execution_count": 20,
   "id": "b5a49ba6-aec3-4f57-acc2-1e6004fe4ae6",
   "metadata": {},
   "outputs": [
    {
     "name": "stdout",
     "output_type": "stream",
     "text": [
      "Folio                                   object\n",
      "Edad                                     int64\n",
      "Sexo                                  category\n",
      "C_Entidad                             category\n",
      "Entidad                                 object\n",
      "Fecha                           datetime64[ns]\n",
      "Atentar_contras_si                    category\n",
      "Depresion                             category\n",
      "Tristeza                              category\n",
      "Cuantos cigarrillos (numero)             Int64\n",
      "Frecuencia emborrachar                category\n",
      "dtype: object\n"
     ]
    }
   ],
   "source": [
    "df.replace([\"\", \" \"], np.nan, inplace=True)\n",
    "# Cambiar los tipos de datos\n",
    "df['Edad'] = df['Edad'].astype('int64')    # Asegurar que es entero\n",
    "df['Sexo'] = df['Sexo'].astype('category')  # Convertir a categoría\n",
    "df['C_Entidad'] = df['C_Entidad'].astype('category')  # Convertir a categoría\n",
    "df['Fecha'] = pd.to_datetime(df['Fecha'], errors='coerce')  # Convertir a fecha\n",
    "df['Atentar_contras_si'] = df['Atentar_contras_si'].astype('category')  # Convertir a categoría\n",
    "df['Depresion'] = df['Depresion'].astype('category')  # Convertir a categoría\n",
    "df['Tristeza'] = df['Tristeza'].astype('category')  # Convertir a categoría\n",
    "df['Cuantos cigarrillos (numero)'] = pd.to_numeric(df['Cuantos cigarrillos (numero)'], errors='coerce').astype('Int64')  # Convertir a entero con NaN permitido\n",
    "df['Frecuencia emborrachar'] = df['Frecuencia emborrachar'].astype('category')  # Convertir a categoría\n",
    "\n",
    "# Verificar los tipos de datos después de la conversión\n",
    "print(df.dtypes)"
   ]
  },
  {
   "cell_type": "markdown",
   "id": "c7fb68cc-859e-48aa-a6f5-8e05d458acaa",
   "metadata": {},
   "source": [
    "We save the file (csv and parquet to lose less information):"
   ]
  },
  {
   "cell_type": "code",
   "execution_count": 21,
   "id": "9f3b625e-4549-4d1a-8aa8-2563fce1d205",
   "metadata": {},
   "outputs": [],
   "source": [
    "path_save = os.path.join('..','data', 'interim', 'Ensanut-data.csv')\n",
    "path_save_parquet = os.path.join('..','data', 'interim', 'Ensanut-data.parquet')\n",
    "df.to_csv(path_save, index=False)\n",
    "df.to_parquet(path_save_parquet)"
   ]
  }
 ],
 "metadata": {
  "kernelspec": {
   "display_name": "Python 3 (ipykernel)",
   "language": "python",
   "name": "python3"
  },
  "language_info": {
   "codemirror_mode": {
    "name": "ipython",
    "version": 3
   },
   "file_extension": ".py",
   "mimetype": "text/x-python",
   "name": "python",
   "nbconvert_exporter": "python",
   "pygments_lexer": "ipython3",
   "version": "3.12.4"
  }
 },
 "nbformat": 4,
 "nbformat_minor": 5
}
