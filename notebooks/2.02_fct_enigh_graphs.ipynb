{
 "cells": [
  {
   "cell_type": "code",
   "execution_count": 2,
   "metadata": {},
   "outputs": [],
   "source": [
    "import requests\n",
    "import os\n",
    "import pandas as pd\n",
    "import seaborn as sns\n",
    "import matplotlib.pyplot as plt\n",
    "import math\n",
    "import numpy as np\n",
    "\n",
    "INTERIM_PATH=\"data/interim/ENIGH\"\n",
    "RAW_PATH=\"data/raw/DATOS EDUCACION/ENCUESTA NACIONAL DE INGRESOS Y GASTOS EN LOS HOGARES/Extracted\"\n"
   ]
  },
  {
   "cell_type": "code",
   "execution_count": 3,
   "metadata": {},
   "outputs": [],
   "source": [
    "os.chdir('..')"
   ]
  },
  {
   "cell_type": "markdown",
   "metadata": {},
   "source": [
    "## Most/least illiterate state"
   ]
  },
  {
   "cell_type": "code",
   "execution_count": 26,
   "metadata": {},
   "outputs": [
    {
     "name": "stderr",
     "output_type": "stream",
     "text": [
      "/var/folders/m5/26l5nfs54r94_664jm4k6zvr0000gn/T/ipykernel_11413/656313294.py:2: DtypeWarning: Columns (82,83,166) have mixed types. Specify dtype option on import or set low_memory=False.\n",
      "  df_2022=pd.read_csv(data_path)\n"
     ]
    }
   ],
   "source": [
    "data_path=f\"{RAW_PATH}/2022/conjunto_de_datos_poblacion_enigh2022_ns/conjunto_de_datos/conjunto_de_datos_poblacion_enigh2022_ns.csv\"\n",
    "df_2022=pd.read_csv(data_path)"
   ]
  },
  {
   "cell_type": "code",
   "execution_count": 86,
   "metadata": {},
   "outputs": [],
   "source": [
    "df_2022=df_2022[ [\n",
    "                'folioviv', 'foliohog', 'numren', 'parentesco', 'sexo', 'edad',\n",
    "                'madre_hog', 'madre_id', 'padre_hog','alfabetism',\n",
    "                'asis_esc', 'nivel', 'grado', 'tipoesc', 'tiene_b', 'otorg_b',\n",
    "                'forma_b', 'tiene_c', 'otorg_c', 'forma_c', 'nivelaprob', 'gradoaprob',\n",
    "                'antec_esc', 'residencia', 'edo_conyug', 'pareja_hog', 'conyuge_id','peso',\n",
    "                'entidad'\n",
    "                ] ]"
   ]
  },
  {
   "cell_type": "code",
   "execution_count": 87,
   "metadata": {},
   "outputs": [],
   "source": [
    "state=df_2022[['entidad','edad','alfabetism']]\n",
    "state=state[state['alfabetism']!=' '] # Only people who are 2 or less years old have ' ' registered \n",
    "\n",
    "total_state=state.groupby('entidad',as_index=False).value_counts()\n",
    "total_state=total_state.groupby('entidad',as_index=False)['count'].sum()\n",
    "total_state=total_state.rename(columns={'count':'total_registers'})\n",
    "\n",
    "literacy=state[['entidad','alfabetism']].groupby(['entidad','alfabetism'],as_index=False).value_counts()\n",
    "\n",
    "literacy=pd.merge(literacy,total_state, how='inner', on='entidad')\n",
    "\n",
    "state=pd.merge(state,total_state, how='inner', on='entidad')\n",
    "\n",
    "illiterate=state[state['alfabetism']=='1']\n",
    "literate=state[state['alfabetism']=='2']\n"
   ]
  },
  {
   "cell_type": "code",
   "execution_count": 88,
   "metadata": {},
   "outputs": [],
   "source": [
    "def percentage(data_df,category_column,category_value):\n",
    "    is_category=data_df[category_column]==category_value\n",
    "    df=data_df[is_category]\n",
    "    total_of_category=len(df)\n",
    "    total_of_registers=len(data_df)\n",
    "    percentage=round(100*(total_of_category/total_of_registers),2)\n",
    "    return percentage"
   ]
  },
  {
   "cell_type": "code",
   "execution_count": 109,
   "metadata": {},
   "outputs": [],
   "source": [
    "\n",
    "literacy=state[['entidad','alfabetism']].groupby(['entidad','alfabetism'],as_index=False).value_counts()\n",
    "\n",
    "literacy=pd.merge(literacy,total_state, how='inner', on='entidad')\n",
    "literacy['illiteracy_percentage']=literacy['count']/literacy['total_registers']\n",
    "literacy['literacy_percentage']=1-literacy['illiteracy_percentage']\n",
    "literacy['illiteracy_percentage_diff']=abs(literacy['illiteracy_percentage']-literacy['literacy_percentage'])\n",
    "\n",
    "\n"
   ]
  },
  {
   "cell_type": "code",
   "execution_count": 110,
   "metadata": {},
   "outputs": [
    {
     "data": {
      "text/html": [
       "<div>\n",
       "<style scoped>\n",
       "    .dataframe tbody tr th:only-of-type {\n",
       "        vertical-align: middle;\n",
       "    }\n",
       "\n",
       "    .dataframe tbody tr th {\n",
       "        vertical-align: top;\n",
       "    }\n",
       "\n",
       "    .dataframe thead th {\n",
       "        text-align: right;\n",
       "    }\n",
       "</style>\n",
       "<table border=\"1\" class=\"dataframe\">\n",
       "  <thead>\n",
       "    <tr style=\"text-align: right;\">\n",
       "      <th></th>\n",
       "      <th>entidad</th>\n",
       "      <th>alfabetism</th>\n",
       "      <th>count</th>\n",
       "      <th>total_registers</th>\n",
       "      <th>illiteracy_percentage</th>\n",
       "      <th>literacy_percentage</th>\n",
       "      <th>illiteracy_percentage_diff</th>\n",
       "    </tr>\n",
       "  </thead>\n",
       "  <tbody>\n",
       "    <tr>\n",
       "      <th>0</th>\n",
       "      <td>1</td>\n",
       "      <td>1</td>\n",
       "      <td>8608</td>\n",
       "      <td>9424</td>\n",
       "      <td>0.913413</td>\n",
       "      <td>0.086587</td>\n",
       "      <td>0.826825</td>\n",
       "    </tr>\n",
       "    <tr>\n",
       "      <th>1</th>\n",
       "      <td>1</td>\n",
       "      <td>2</td>\n",
       "      <td>816</td>\n",
       "      <td>9424</td>\n",
       "      <td>0.086587</td>\n",
       "      <td>0.913413</td>\n",
       "      <td>0.826825</td>\n",
       "    </tr>\n",
       "    <tr>\n",
       "      <th>2</th>\n",
       "      <td>2</td>\n",
       "      <td>1</td>\n",
       "      <td>12027</td>\n",
       "      <td>13080</td>\n",
       "      <td>0.919495</td>\n",
       "      <td>0.080505</td>\n",
       "      <td>0.838991</td>\n",
       "    </tr>\n",
       "    <tr>\n",
       "      <th>3</th>\n",
       "      <td>2</td>\n",
       "      <td>2</td>\n",
       "      <td>1053</td>\n",
       "      <td>13080</td>\n",
       "      <td>0.080505</td>\n",
       "      <td>0.919495</td>\n",
       "      <td>0.838991</td>\n",
       "    </tr>\n",
       "    <tr>\n",
       "      <th>4</th>\n",
       "      <td>3</td>\n",
       "      <td>1</td>\n",
       "      <td>7515</td>\n",
       "      <td>8156</td>\n",
       "      <td>0.921408</td>\n",
       "      <td>0.078592</td>\n",
       "      <td>0.842815</td>\n",
       "    </tr>\n",
       "    <tr>\n",
       "      <th>...</th>\n",
       "      <td>...</td>\n",
       "      <td>...</td>\n",
       "      <td>...</td>\n",
       "      <td>...</td>\n",
       "      <td>...</td>\n",
       "      <td>...</td>\n",
       "      <td>...</td>\n",
       "    </tr>\n",
       "    <tr>\n",
       "      <th>59</th>\n",
       "      <td>30</td>\n",
       "      <td>2</td>\n",
       "      <td>1197</td>\n",
       "      <td>9077</td>\n",
       "      <td>0.131872</td>\n",
       "      <td>0.868128</td>\n",
       "      <td>0.736256</td>\n",
       "    </tr>\n",
       "    <tr>\n",
       "      <th>60</th>\n",
       "      <td>31</td>\n",
       "      <td>1</td>\n",
       "      <td>8815</td>\n",
       "      <td>10082</td>\n",
       "      <td>0.874330</td>\n",
       "      <td>0.125670</td>\n",
       "      <td>0.748661</td>\n",
       "    </tr>\n",
       "    <tr>\n",
       "      <th>61</th>\n",
       "      <td>31</td>\n",
       "      <td>2</td>\n",
       "      <td>1267</td>\n",
       "      <td>10082</td>\n",
       "      <td>0.125670</td>\n",
       "      <td>0.874330</td>\n",
       "      <td>0.748661</td>\n",
       "    </tr>\n",
       "    <tr>\n",
       "      <th>62</th>\n",
       "      <td>32</td>\n",
       "      <td>1</td>\n",
       "      <td>7801</td>\n",
       "      <td>8629</td>\n",
       "      <td>0.904045</td>\n",
       "      <td>0.095955</td>\n",
       "      <td>0.808089</td>\n",
       "    </tr>\n",
       "    <tr>\n",
       "      <th>63</th>\n",
       "      <td>32</td>\n",
       "      <td>2</td>\n",
       "      <td>828</td>\n",
       "      <td>8629</td>\n",
       "      <td>0.095955</td>\n",
       "      <td>0.904045</td>\n",
       "      <td>0.808089</td>\n",
       "    </tr>\n",
       "  </tbody>\n",
       "</table>\n",
       "<p>64 rows × 7 columns</p>\n",
       "</div>"
      ],
      "text/plain": [
       "    entidad alfabetism  count  total_registers  illiteracy_percentage  \\\n",
       "0         1          1   8608             9424               0.913413   \n",
       "1         1          2    816             9424               0.086587   \n",
       "2         2          1  12027            13080               0.919495   \n",
       "3         2          2   1053            13080               0.080505   \n",
       "4         3          1   7515             8156               0.921408   \n",
       "..      ...        ...    ...              ...                    ...   \n",
       "59       30          2   1197             9077               0.131872   \n",
       "60       31          1   8815            10082               0.874330   \n",
       "61       31          2   1267            10082               0.125670   \n",
       "62       32          1   7801             8629               0.904045   \n",
       "63       32          2    828             8629               0.095955   \n",
       "\n",
       "    literacy_percentage  illiteracy_percentage_diff  \n",
       "0              0.086587                    0.826825  \n",
       "1              0.913413                    0.826825  \n",
       "2              0.080505                    0.838991  \n",
       "3              0.919495                    0.838991  \n",
       "4              0.078592                    0.842815  \n",
       "..                  ...                         ...  \n",
       "59             0.868128                    0.736256  \n",
       "60             0.125670                    0.748661  \n",
       "61             0.874330                    0.748661  \n",
       "62             0.095955                    0.808089  \n",
       "63             0.904045                    0.808089  \n",
       "\n",
       "[64 rows x 7 columns]"
      ]
     },
     "execution_count": 110,
     "metadata": {},
     "output_type": "execute_result"
    }
   ],
   "source": [
    "literacy[:100]"
   ]
  },
  {
   "cell_type": "code",
   "execution_count": 113,
   "metadata": {},
   "outputs": [
    {
     "name": "stderr",
     "output_type": "stream",
     "text": [
      "/var/folders/m5/26l5nfs54r94_664jm4k6zvr0000gn/T/ipykernel_11413/10285548.py:11: UserWarning: No artists with labels found to put in legend.  Note that artists whose label start with an underscore are ignored when legend() is called with no argument.\n",
      "  plt.legend(title='Entidad', bbox_to_anchor=(1.05, 1), loc='upper left')  # Adjust legend\n"
     ]
    },
    {
     "data": {
      "image/png": "[encoded data removed]",
      "text/plain": [
       "<Figure size 1200x600 with 1 Axes>"
      ]
     },
     "metadata": {},
     "output_type": "display_data"
    }
   ],
   "source": [
    "plt.figure(figsize=(12, 6))  # Set the figure size\n",
    "data=literacy\n",
    "\n",
    "# Using Seaborn for a more elegant bar plot\n",
    "sns.barplot(x='entidad', y='illiteracy_percentage_diff', data=data)\n",
    "# Step 3: Customize the plot\n",
    "plt.title(' Most/least illiterate state', fontsize=16)\n",
    "plt.xlabel('Entidad', fontsize=12)\n",
    "plt.ylabel('Total Count', fontsize=12)\n",
    "plt.xticks(rotation=45)  # Rotate x-axis labels for better readability\n",
    "plt.legend(title='Entidad', bbox_to_anchor=(1.05, 1), loc='upper left')  # Adjust legend\n",
    "\n",
    "# Step 4: Show the plot\n",
    "plt.tight_layout()  # Adjust layout to make room for the legend\n",
    "plt.show()"
   ]
  },
  {
   "cell_type": "code",
   "execution_count": 74,
   "metadata": {},
   "outputs": [
    {
     "data": {
      "text/plain": [
       "89.65"
      ]
     },
     "execution_count": 74,
     "metadata": {},
     "output_type": "execute_result"
    }
   ],
   "source": [
    "illiterate_percentage=percentage(state,'alfabetism','1')\n",
    "illiterate_percentage"
   ]
  },
  {
   "cell_type": "code",
   "execution_count": 75,
   "metadata": {},
   "outputs": [],
   "source": [
    "total_interviews=len(df_2022)\n",
    "total_illiterate=len(illiterate)\n",
    "total_literate=len(literate)"
   ]
  },
  {
   "cell_type": "code",
   "execution_count": 76,
   "metadata": {},
   "outputs": [],
   "source": [
    "illiterate=illiterate.groupby('entidad',as_index=False).value_counts()\n",
    "\n",
    "# Age Groups\n",
    "bins = range(0, 101, 10)  # Bins for age groups (0-9, 10-19, 20-29, etc.)\n",
    "labels = [f'{i}-{i+9}' for i in range(0, 100, 10)]  # Labels for the bins\n",
    "illiterate['age_group'] = pd.cut(illiterate['edad'], bins=bins, labels=labels, right=False)\n",
    "\n",
    "# Totals \n",
    "\n",
    "\n",
    "\n",
    "literate=literate.groupby('entidad',as_index=False).value_counts()\n",
    "bins = range(0, 101, 10)  # Bins for age groups (0-9, 10-19, 20-29, etc.)\n",
    "labels = [f'{i}-{i+9}' for i in range(0, 100, 10)]  # Labels for the bins\n",
    "literate['age_group'] = pd.cut(literate['edad'], bins=bins, labels=labels, right=False)"
   ]
  },
  {
   "cell_type": "code",
   "execution_count": 77,
   "metadata": {},
   "outputs": [
    {
     "data": {
      "text/html": [
       "<div>\n",
       "<style scoped>\n",
       "    .dataframe tbody tr th:only-of-type {\n",
       "        vertical-align: middle;\n",
       "    }\n",
       "\n",
       "    .dataframe tbody tr th {\n",
       "        vertical-align: top;\n",
       "    }\n",
       "\n",
       "    .dataframe thead th {\n",
       "        text-align: right;\n",
       "    }\n",
       "</style>\n",
       "<table border=\"1\" class=\"dataframe\">\n",
       "  <thead>\n",
       "    <tr style=\"text-align: right;\">\n",
       "      <th></th>\n",
       "      <th>entidad</th>\n",
       "      <th>edad</th>\n",
       "      <th>alfabetism</th>\n",
       "      <th>total_registers</th>\n",
       "    </tr>\n",
       "  </thead>\n",
       "  <tbody>\n",
       "    <tr>\n",
       "      <th>0</th>\n",
       "      <td>1</td>\n",
       "      <td>91</td>\n",
       "      <td>1</td>\n",
       "      <td>9424</td>\n",
       "    </tr>\n",
       "    <tr>\n",
       "      <th>1</th>\n",
       "      <td>1</td>\n",
       "      <td>48</td>\n",
       "      <td>1</td>\n",
       "      <td>9424</td>\n",
       "    </tr>\n",
       "    <tr>\n",
       "      <th>2</th>\n",
       "      <td>1</td>\n",
       "      <td>13</td>\n",
       "      <td>1</td>\n",
       "      <td>9424</td>\n",
       "    </tr>\n",
       "    <tr>\n",
       "      <th>3</th>\n",
       "      <td>1</td>\n",
       "      <td>68</td>\n",
       "      <td>1</td>\n",
       "      <td>9424</td>\n",
       "    </tr>\n",
       "    <tr>\n",
       "      <th>4</th>\n",
       "      <td>1</td>\n",
       "      <td>64</td>\n",
       "      <td>1</td>\n",
       "      <td>9424</td>\n",
       "    </tr>\n",
       "    <tr>\n",
       "      <th>...</th>\n",
       "      <td>...</td>\n",
       "      <td>...</td>\n",
       "      <td>...</td>\n",
       "      <td>...</td>\n",
       "    </tr>\n",
       "    <tr>\n",
       "      <th>298207</th>\n",
       "      <td>32</td>\n",
       "      <td>5</td>\n",
       "      <td>2</td>\n",
       "      <td>8629</td>\n",
       "    </tr>\n",
       "    <tr>\n",
       "      <th>298208</th>\n",
       "      <td>32</td>\n",
       "      <td>63</td>\n",
       "      <td>1</td>\n",
       "      <td>8629</td>\n",
       "    </tr>\n",
       "    <tr>\n",
       "      <th>298209</th>\n",
       "      <td>32</td>\n",
       "      <td>59</td>\n",
       "      <td>1</td>\n",
       "      <td>8629</td>\n",
       "    </tr>\n",
       "    <tr>\n",
       "      <th>298210</th>\n",
       "      <td>32</td>\n",
       "      <td>29</td>\n",
       "      <td>1</td>\n",
       "      <td>8629</td>\n",
       "    </tr>\n",
       "    <tr>\n",
       "      <th>298211</th>\n",
       "      <td>32</td>\n",
       "      <td>30</td>\n",
       "      <td>1</td>\n",
       "      <td>8629</td>\n",
       "    </tr>\n",
       "  </tbody>\n",
       "</table>\n",
       "<p>298212 rows × 4 columns</p>\n",
       "</div>"
      ],
      "text/plain": [
       "        entidad  edad alfabetism  total_registers\n",
       "0             1    91          1             9424\n",
       "1             1    48          1             9424\n",
       "2             1    13          1             9424\n",
       "3             1    68          1             9424\n",
       "4             1    64          1             9424\n",
       "...         ...   ...        ...              ...\n",
       "298207       32     5          2             8629\n",
       "298208       32    63          1             8629\n",
       "298209       32    59          1             8629\n",
       "298210       32    29          1             8629\n",
       "298211       32    30          1             8629\n",
       "\n",
       "[298212 rows x 4 columns]"
      ]
     },
     "execution_count": 77,
     "metadata": {},
     "output_type": "execute_result"
    }
   ],
   "source": [
    "state"
   ]
  },
  {
   "cell_type": "code",
   "execution_count": 78,
   "metadata": {},
   "outputs": [
    {
     "data": {
      "image/png": "[encoded data removed]",
      "text/plain": [
       "<Figure size 1200x600 with 1 Axes>"
      ]
     },
     "metadata": {},
     "output_type": "display_data"
    }
   ],
   "source": [
    "plt.figure(figsize=(12, 6))  # Set the figure size\n",
    "data=literate.groupby(['entidad'], as_index=False)['count'].sum()\n",
    "data=data.sort_values(by='count', ascending=False)\n",
    "\n",
    "# Using Seaborn for a more elegant bar plot\n",
    "sns.barplot(x='entidad', y='count', hue='count', data=data)\n",
    "# Step 3: Customize the plot\n",
    "plt.title(' Most/least illiterate state', fontsize=16)\n",
    "plt.xlabel('Entidad', fontsize=12)\n",
    "plt.ylabel('Total Count', fontsize=12)\n",
    "plt.xticks(rotation=45)  # Rotate x-axis labels for better readability\n",
    "plt.legend(title='Entidad', bbox_to_anchor=(1.05, 1), loc='upper left')  # Adjust legend\n",
    "\n",
    "# Step 4: Show the plot\n",
    "plt.tight_layout()  # Adjust layout to make room for the legend\n",
    "plt.show()"
   ]
  },
  {
   "cell_type": "code",
   "execution_count": 79,
   "metadata": {},
   "outputs": [
    {
     "data": {
      "image/png": "[encoded data removed]",
      "text/plain": [
       "<Figure size 1200x600 with 1 Axes>"
      ]
     },
     "metadata": {},
     "output_type": "display_data"
    }
   ],
   "source": [
    "plt.figure(figsize=(12, 6))  # Set the figure size\n",
    "data=illiterate.groupby(['entidad'], as_index=False)['count'].sum()\n",
    "data=data.sort_values(by='count', ascending=False)\n",
    "\n",
    "# Using Seaborn for a more elegant bar plot\n",
    "sns.barplot(x='entidad', y='count', hue='count', data=data)\n",
    "# Step 3: Customize the plot\n",
    "plt.title(' Most/least illiterate state', fontsize=16)\n",
    "plt.xlabel('Entidad', fontsize=12)\n",
    "plt.ylabel('Total Count', fontsize=12)\n",
    "plt.xticks(rotation=45)  # Rotate x-axis labels for better readability\n",
    "plt.legend(title='Entidad', bbox_to_anchor=(1.05, 1), loc='upper left')  # Adjust legend\n",
    "\n",
    "# Step 4: Show the plot\n",
    "plt.tight_layout()  # Adjust layout to make room for the legend\n",
    "plt.show()"
   ]
  },
  {
   "cell_type": "markdown",
   "metadata": {},
   "source": [
    "## Type of scholarship has most/least amount of illiteracy"
   ]
  },
  {
   "cell_type": "code",
   "execution_count": 4,
   "metadata": {},
   "outputs": [
    {
     "name": "stderr",
     "output_type": "stream",
     "text": [
      "/var/folders/m5/26l5nfs54r94_664jm4k6zvr0000gn/T/ipykernel_16775/656313294.py:2: DtypeWarning: Columns (82,83,166) have mixed types. Specify dtype option on import or set low_memory=False.\n",
      "  df_2022=pd.read_csv(data_path)\n"
     ]
    }
   ],
   "source": [
    "data_path=f\"{RAW_PATH}/2022/conjunto_de_datos_poblacion_enigh2022_ns/conjunto_de_datos/conjunto_de_datos_poblacion_enigh2022_ns.csv\"\n",
    "df_2022=pd.read_csv(data_path)"
   ]
  },
  {
   "cell_type": "code",
   "execution_count": 5,
   "metadata": {},
   "outputs": [],
   "source": [
    "df_2022=df_2022[ [\n",
    "                'folioviv', 'foliohog', 'numren', 'parentesco', 'sexo', 'edad',\n",
    "                'madre_hog', 'madre_id', 'padre_hog','alfabetism',\n",
    "                'asis_esc', 'nivel', 'grado', 'tipoesc', 'tiene_b', 'otorg_b',\n",
    "                'forma_b', 'tiene_c', 'otorg_c', 'forma_c', 'nivelaprob', 'gradoaprob',\n",
    "                'antec_esc', 'residencia', 'edo_conyug', 'pareja_hog', 'conyuge_id','peso',\n",
    "                'entidad'\n",
    "                ] ]"
   ]
  },
  {
   "cell_type": "code",
   "execution_count": 23,
   "metadata": {},
   "outputs": [],
   "source": [
    "state=df_2022[['entidad','edad','alfabetism','tipoesc']]\n",
    "state=state[state['alfabetism']!=' '] # Only people who are 2 or less years old have ' ' registered \n",
    "\n",
    "total_state=state.groupby(['entidad','tipoesc'],as_index=False).value_counts()\n",
    "total_state=total_state.groupby(['entidad','tipoesc'],as_index=False)['count'].sum()\n",
    "total_state=total_state.rename(columns={'count':'total_registers'})\n",
    "\n",
    "\n",
    "literacy=state[['entidad','tipoesc','alfabetism']].groupby(['entidad','tipoesc','alfabetism'],as_index=False).value_counts()\n",
    "literacy=pd.merge(literacy,total_state, how='inner', on=['entidad','tipoesc'])\n",
    "literacy['illiteracy_percentage']=literacy['count']/literacy['total_registers']\n",
    "literacy['literacy_percentage']=1-literacy['illiteracy_percentage']\n",
    "literacy['illiteracy_percentage_diff']=abs(literacy['illiteracy_percentage']-literacy['literacy_percentage'])\n",
    "\n",
    "\n",
    "#state=pd.merge(state,total_state, how='inner', on='entidad')\n",
    "\n",
    "illiterate=state[state['alfabetism']=='1']\n",
    "literate=state[state['alfabetism']=='2']\n"
   ]
  },
  {
   "cell_type": "code",
   "execution_count": 24,
   "metadata": {},
   "outputs": [
    {
     "data": {
      "text/html": [
       "<div>\n",
       "<style scoped>\n",
       "    .dataframe tbody tr th:only-of-type {\n",
       "        vertical-align: middle;\n",
       "    }\n",
       "\n",
       "    .dataframe tbody tr th {\n",
       "        vertical-align: top;\n",
       "    }\n",
       "\n",
       "    .dataframe thead th {\n",
       "        text-align: right;\n",
       "    }\n",
       "</style>\n",
       "<table border=\"1\" class=\"dataframe\">\n",
       "  <thead>\n",
       "    <tr style=\"text-align: right;\">\n",
       "      <th></th>\n",
       "      <th>entidad</th>\n",
       "      <th>tipoesc</th>\n",
       "      <th>alfabetism</th>\n",
       "      <th>count</th>\n",
       "      <th>total_registers</th>\n",
       "      <th>illiteracy_percentage</th>\n",
       "      <th>literacy_percentage</th>\n",
       "      <th>illiteracy_percentage_diff</th>\n",
       "    </tr>\n",
       "  </thead>\n",
       "  <tbody>\n",
       "    <tr>\n",
       "      <th>0</th>\n",
       "      <td>1</td>\n",
       "      <td></td>\n",
       "      <td>1</td>\n",
       "      <td>6143</td>\n",
       "      <td>6501</td>\n",
       "      <td>0.944932</td>\n",
       "      <td>0.055068</td>\n",
       "      <td>0.889863</td>\n",
       "    </tr>\n",
       "    <tr>\n",
       "      <th>1</th>\n",
       "      <td>1</td>\n",
       "      <td></td>\n",
       "      <td>2</td>\n",
       "      <td>358</td>\n",
       "      <td>6501</td>\n",
       "      <td>0.055068</td>\n",
       "      <td>0.944932</td>\n",
       "      <td>0.889863</td>\n",
       "    </tr>\n",
       "    <tr>\n",
       "      <th>2</th>\n",
       "      <td>1</td>\n",
       "      <td>1</td>\n",
       "      <td>1</td>\n",
       "      <td>2172</td>\n",
       "      <td>2597</td>\n",
       "      <td>0.836350</td>\n",
       "      <td>0.163650</td>\n",
       "      <td>0.672699</td>\n",
       "    </tr>\n",
       "    <tr>\n",
       "      <th>3</th>\n",
       "      <td>1</td>\n",
       "      <td>1</td>\n",
       "      <td>2</td>\n",
       "      <td>425</td>\n",
       "      <td>2597</td>\n",
       "      <td>0.163650</td>\n",
       "      <td>0.836350</td>\n",
       "      <td>0.672699</td>\n",
       "    </tr>\n",
       "    <tr>\n",
       "      <th>4</th>\n",
       "      <td>1</td>\n",
       "      <td>2</td>\n",
       "      <td>1</td>\n",
       "      <td>293</td>\n",
       "      <td>326</td>\n",
       "      <td>0.898773</td>\n",
       "      <td>0.101227</td>\n",
       "      <td>0.797546</td>\n",
       "    </tr>\n",
       "    <tr>\n",
       "      <th>...</th>\n",
       "      <td>...</td>\n",
       "      <td>...</td>\n",
       "      <td>...</td>\n",
       "      <td>...</td>\n",
       "      <td>...</td>\n",
       "      <td>...</td>\n",
       "      <td>...</td>\n",
       "      <td>...</td>\n",
       "    </tr>\n",
       "    <tr>\n",
       "      <th>220</th>\n",
       "      <td>32</td>\n",
       "      <td>1</td>\n",
       "      <td>2</td>\n",
       "      <td>472</td>\n",
       "      <td>2485</td>\n",
       "      <td>0.189940</td>\n",
       "      <td>0.810060</td>\n",
       "      <td>0.620121</td>\n",
       "    </tr>\n",
       "    <tr>\n",
       "      <th>221</th>\n",
       "      <td>32</td>\n",
       "      <td>2</td>\n",
       "      <td>1</td>\n",
       "      <td>149</td>\n",
       "      <td>163</td>\n",
       "      <td>0.914110</td>\n",
       "      <td>0.085890</td>\n",
       "      <td>0.828221</td>\n",
       "    </tr>\n",
       "    <tr>\n",
       "      <th>222</th>\n",
       "      <td>32</td>\n",
       "      <td>2</td>\n",
       "      <td>2</td>\n",
       "      <td>14</td>\n",
       "      <td>163</td>\n",
       "      <td>0.085890</td>\n",
       "      <td>0.914110</td>\n",
       "      <td>0.828221</td>\n",
       "    </tr>\n",
       "    <tr>\n",
       "      <th>223</th>\n",
       "      <td>32</td>\n",
       "      <td>3</td>\n",
       "      <td>1</td>\n",
       "      <td>4</td>\n",
       "      <td>6</td>\n",
       "      <td>0.666667</td>\n",
       "      <td>0.333333</td>\n",
       "      <td>0.333333</td>\n",
       "    </tr>\n",
       "    <tr>\n",
       "      <th>224</th>\n",
       "      <td>32</td>\n",
       "      <td>3</td>\n",
       "      <td>2</td>\n",
       "      <td>2</td>\n",
       "      <td>6</td>\n",
       "      <td>0.333333</td>\n",
       "      <td>0.666667</td>\n",
       "      <td>0.333333</td>\n",
       "    </tr>\n",
       "  </tbody>\n",
       "</table>\n",
       "<p>225 rows × 8 columns</p>\n",
       "</div>"
      ],
      "text/plain": [
       "     entidad tipoesc alfabetism  count  total_registers  \\\n",
       "0          1                  1   6143             6501   \n",
       "1          1                  2    358             6501   \n",
       "2          1       1          1   2172             2597   \n",
       "3          1       1          2    425             2597   \n",
       "4          1       2          1    293              326   \n",
       "..       ...     ...        ...    ...              ...   \n",
       "220       32       1          2    472             2485   \n",
       "221       32       2          1    149              163   \n",
       "222       32       2          2     14              163   \n",
       "223       32       3          1      4                6   \n",
       "224       32       3          2      2                6   \n",
       "\n",
       "     illiteracy_percentage  literacy_percentage  illiteracy_percentage_diff  \n",
       "0                 0.944932             0.055068                    0.889863  \n",
       "1                 0.055068             0.944932                    0.889863  \n",
       "2                 0.836350             0.163650                    0.672699  \n",
       "3                 0.163650             0.836350                    0.672699  \n",
       "4                 0.898773             0.101227                    0.797546  \n",
       "..                     ...                  ...                         ...  \n",
       "220               0.189940             0.810060                    0.620121  \n",
       "221               0.914110             0.085890                    0.828221  \n",
       "222               0.085890             0.914110                    0.828221  \n",
       "223               0.666667             0.333333                    0.333333  \n",
       "224               0.333333             0.666667                    0.333333  \n",
       "\n",
       "[225 rows x 8 columns]"
      ]
     },
     "execution_count": 24,
     "metadata": {},
     "output_type": "execute_result"
    }
   ],
   "source": [
    "literacy"
   ]
  },
  {
   "cell_type": "markdown",
   "metadata": {},
   "source": [
    "## Trimestral bills/income of illiterate and literate people"
   ]
  },
  {
   "cell_type": "code",
   "execution_count": 27,
   "metadata": {},
   "outputs": [
    {
     "name": "stderr",
     "output_type": "stream",
     "text": [
      "/var/folders/m5/26l5nfs54r94_664jm4k6zvr0000gn/T/ipykernel_16775/1404386105.py:2: DtypeWarning: Columns (11,12,13,14,15,16,17,18,27,31,32,33,43,44) have mixed types. Specify dtype option on import or set low_memory=False.\n",
      "  df_2022=pd.read_csv(data_path)\n"
     ]
    }
   ],
   "source": [
    "data_path=f\"{INTERIM_PATH}/2022.csv\"\n",
    "df_2022=pd.read_csv(data_path)\n",
    "df_2022=df_2022[ [\n",
    "                'folioviv', 'foliohog', 'numren', 'parentesco', 'sexo', 'edad',\n",
    "                'madre_hog', 'madre_id', 'padre_hog','alfabetism',\n",
    "                'asis_esc', 'nivel', 'grado', 'tipoesc', 'tiene_b', 'otorg_b',\n",
    "                'forma_b', 'tiene_c', 'otorg_c', 'forma_c', 'nivelaprob', 'gradoaprob',\n",
    "                'antec_esc', 'residencia', 'edo_conyug', 'pareja_hog', 'conyuge_id','peso',\n",
    "                'entidad',\n",
    "\n",
    "\n",
    "                'ing_tri'\n",
    "                ] ]"
   ]
  },
  {
   "cell_type": "code",
   "execution_count": null,
   "metadata": {},
   "outputs": [],
   "source": [
    "state=df_2022[['entidad','edad','alfabetism','ing_tri']]\n",
    "state=state[state['alfabetism']!=' '] # Only people who are 2 or less years old have ' ' registered \n",
    "\n",
    "total_state=state.groupby(['entidad','tipoesc'],as_index=False).value_counts()\n",
    "total_state=total_state.groupby(['entidad','tipoesc'],as_index=False)['count'].sum()\n",
    "total_state=total_state.rename(columns={'count':'total_registers'})\n",
    "\n",
    "\n",
    "literacy=state[['entidad','tipoesc','alfabetism']].groupby(['entidad','tipoesc','alfabetism'],as_index=False).value_counts()\n",
    "literacy=pd.merge(literacy,total_state, how='inner', on=['entidad','tipoesc'])\n",
    "literacy['illiteracy_percentage']=literacy['count']/literacy['total_registers']\n",
    "literacy['literacy_percentage']=1-literacy['illiteracy_percentage']\n",
    "literacy['illiteracy_percentage_diff']=abs(literacy['illiteracy_percentage']-literacy['literacy_percentage'])\n",
    "\n",
    "\n",
    "#state=pd.merge(state,total_state, how='inner', on='entidad')\n",
    "\n",
    "illiterate=state[state['alfabetism']=='1']\n",
    "literate=state[state['alfabetism']=='2']\n"
   ]
  },
  {
   "cell_type": "markdown",
   "metadata": {},
   "source": [
    "## Ages/Generations with illiteracy"
   ]
  },
  {
   "cell_type": "code",
   "execution_count": null,
   "metadata": {},
   "outputs": [],
   "source": [
    "bins = [1901,1924,1945, 1964, 1980, 1996, 2012, 2024 ]  # Define the edges of the bins\n",
    "labels = ['Greatest','Silent','Baby Boomer', 'X', 'Milenial', 'Z','Alpha']  # Define labels for the categories\n",
    "\n",
    "df['año_nacimiento']=int(2022)-df['edad']\n",
    "df['generacion'] = pd.cut(df['año_nacimiento'], bins=bins, labels=labels, right=True)"
   ]
  }
 ],
 "metadata": {
  "kernelspec": {
   "display_name": "venv",
   "language": "python",
   "name": "python3"
  },
  "language_info": {
   "codemirror_mode": {
    "name": "ipython",
    "version": 3
   },
   "file_extension": ".py",
   "mimetype": "text/x-python",
   "name": "python",
   "nbconvert_exporter": "python",
   "pygments_lexer": "ipython3",
   "version": "3.12.4"
  }
 },
 "nbformat": 4,
 "nbformat_minor": 2
}
