{
 "cells": [
  {
   "cell_type": "code",
   "execution_count": 37,
   "metadata": {},
   "outputs": [],
   "source": [
    "import geopandas as gpd\n",
    "import requests\n",
    "import os\n",
    "import zipfile\n",
    "from io import BytesIO\n",
    "import matplotlib.pyplot as plt\n"
   ]
  },
  {
   "cell_type": "code",
   "execution_count": null,
   "metadata": {},
   "outputs": [],
   "source": [
    "os.chdir(\"../data/raw\")"
   ]
  },
  {
   "cell_type": "code",
   "execution_count": 17,
   "metadata": {},
   "outputs": [],
   "source": [
    "data_path=\"DATOS GEOREFERENCIALES\"\n",
    "os.makedirs(data_path,exist_ok=True)\n"
   ]
  },
  {
   "cell_type": "code",
   "execution_count": 18,
   "metadata": {},
   "outputs": [],
   "source": [
    "GEOREF_2000_URL=\"https://www.inegi.org.mx/contenidos/productos/prod_serv/contenidos/espanol/bvinegi/productos/geografia/marc_geo/702825292843_s.zip\"\n",
    "GEOREF_2010_URL=\"https://www.inegi.org.mx/contenidos/productos/prod_serv/contenidos/espanol/bvinegi/productos/geografia/marc_geo/702825292805_s.zip \""
   ]
  },
  {
   "cell_type": "markdown",
   "metadata": {},
   "source": [
    "# 2000\n",
    "\n",
    "Vamos a ver los contenidos de este archivo zip"
   ]
  },
  {
   "cell_type": "code",
   "execution_count": 19,
   "metadata": {},
   "outputs": [
    {
     "name": "stdout",
     "output_type": "stream",
     "text": [
      "El contenido de https://www.inegi.org.mx/contenidos/productos/prod_serv/contenidos/espanol/bvinegi/productos/geografia/marc_geo/702825292843_s.zip se extrajo a DATOS GEOREFERENCIALES/2000\n"
     ]
    }
   ],
   "source": [
    "# Descarga del archivo zip\n",
    "url=GEOREF_2000_URL\n",
    "extract_to=f\"{data_path}/2000\"\n",
    "\n",
    "\n",
    "os.makedirs(extract_to, exist_ok=True)\n",
    "\n",
    "    # Descargamos el archivo zip\n",
    "response = requests.get(url)\n",
    "if response.status_code == 200:\n",
    "        # Abrimos y extraemos el contenido\n",
    "    with zipfile.ZipFile(BytesIO(response.content)) as z:\n",
    "        z.extractall(extract_to)\n",
    "        print(f'El contenido de {url} se extrajo a {extract_to}')\n",
    "else:\n",
    "    print(f'Error al descargar {url}, status code: {response.status_code}')"
   ]
  },
  {
   "cell_type": "code",
   "execution_count": 20,
   "metadata": {},
   "outputs": [
    {
     "name": "stdout",
     "output_type": "stream",
     "text": [
      "El contenido de mge2000.zip se extrajo a DATOS GEOREFERENCIALES/2000\n",
      "El contenido de mgm2000.zip se extrajo a DATOS GEOREFERENCIALES/2000\n",
      "El contenido de mgau2000.zip se extrajo a DATOS GEOREFERENCIALES/2000\n"
     ]
    }
   ],
   "source": [
    "f=extract_to\n",
    "\n",
    "for zip in os.listdir(f):\n",
    "    file_path=f+f\"/{zip}\"\n",
    "    with zipfile.ZipFile(file_path) as z:\n",
    "        z.extractall(f)\n",
    "        print(f'El contenido de {zip} se extrajo a {f}')\n"
   ]
  },
  {
   "cell_type": "markdown",
   "metadata": {},
   "source": [
    "# 2010"
   ]
  },
  {
   "cell_type": "markdown",
   "metadata": {},
   "source": [
    "## Descarga"
   ]
  },
  {
   "cell_type": "code",
   "execution_count": 25,
   "metadata": {},
   "outputs": [
    {
     "name": "stdout",
     "output_type": "stream",
     "text": [
      "\n",
      "  % Total    % Received % Xferd  Average Speed   Time    Time     Time  Current\n",
      "                                 Dload  Upload   Total   Spent    Left  Speed\n",
      "\n",
      "  0     0    0     0    0     0      0      0 --:--:-- --:--:-- --:--:--     0\n",
      "  0     0    0     0    0     0      0      0 --:--:--  0:00:01 --:--:--     0\n",
      "  0     0    0     0    0     0      0      0 --:--:--  0:00:01 --:--:--     0\n",
      "  1 59.0M    1  898k    0     0   359k      0  0:02:47  0:00:02  0:02:45  359k\n",
      "  3 59.0M    3 2210k    0     0   646k      0  0:01:33  0:00:03  0:01:30  646k\n",
      "  6 59.0M    6 3652k    0     0   830k      0  0:01:12  0:00:04  0:01:08  830k\n",
      "  8 59.0M    8 5129k    0     0   942k      0  0:01:04  0:00:05  0:00:59 1239k\n",
      " 10 59.0M   10 6542k    0     0  1018k      0  0:00:59  0:00:06  0:00:53 1367k\n",
      " 13 59.0M   13 8068k    0     0  1086k      0  0:00:55  0:00:07  0:00:48 1455k\n",
      " 16 59.0M   16 9711k    0     0  1155k      0  0:00:52  0:00:08  0:00:44 1505k\n",
      " 18 59.0M   18 11.1M    0     0  1215k      0  0:00:49  0:00:09  0:00:40 1551k\n",
      " 21 59.0M   21 12.9M    0     0  1271k      0  0:00:47  0:00:10  0:00:37 1631k\n",
      " 24 59.0M   24 14.6M    0     0  1317k      0  0:00:45  0:00:11  0:00:34 1703k\n",
      " 27 59.0M   27 16.4M    0     0  1355k      0  0:00:44  0:00:12  0:00:32 1756k\n",
      " 30 59.0M   30 18.2M    0     0  1390k      0  0:00:43  0:00:13  0:00:30 1784k\n",
      " 33 59.0M   33 19.9M    0     0  1419k      0  0:00:42  0:00:14  0:00:28 1807k\n",
      " 36 59.0M   36 21.6M    0     0  1441k      0  0:00:41  0:00:15  0:00:26 1798k\n",
      " 39 59.0M   39 23.4M    0     0  1459k      0  0:00:41  0:00:16  0:00:25 1784k\n",
      " 42 59.0M   42 25.1M    0     0  1480k      0  0:00:40  0:00:17  0:00:23 1790k\n",
      " 45 59.0M   45 26.9M    0     0  1500k      0  0:00:40  0:00:18  0:00:22 1796k\n",
      " 48 59.0M   48 28.7M    0     0  1515k      0  0:00:39  0:00:19  0:00:20 1792k\n",
      " 51 59.0M   51 30.4M    0     0  1526k      0  0:00:39  0:00:20  0:00:19 1785k\n",
      " 54 59.0M   54 32.2M    0     0  1541k      0  0:00:39  0:00:21  0:00:18 1809k\n",
      " 57 59.0M   57 33.9M    0     0  1553k      0  0:00:38  0:00:22  0:00:16 1804k\n",
      " 60 59.0M   60 35.6M    0     0  1561k      0  0:00:38  0:00:23  0:00:15 1786k\n",
      " 63 59.0M   63 37.4M    0     0  1571k      0  0:00:38  0:00:24  0:00:14 1788k\n",
      " 66 59.0M   66 39.2M    0     0  1580k      0  0:00:38  0:00:25  0:00:13 1802k\n",
      " 69 59.0M   69 40.9M    0     0  1584k      0  0:00:38  0:00:26  0:00:12 1770k\n",
      " 72 59.0M   72 42.6M    0     0  1592k      0  0:00:37  0:00:27  0:00:10 1768k\n",
      " 75 59.0M   75 44.4M    0     0  1599k      0  0:00:37  0:00:28  0:00:09 1777k\n",
      " 78 59.0M   78 46.1M    0     0  1606k      0  0:00:37  0:00:29  0:00:08 1776k\n",
      " 81 59.0M   81 47.8M    0     0  1612k      0  0:00:37  0:00:30  0:00:07 1778k\n",
      " 84 59.0M   84 49.6M    0     0  1619k      0  0:00:37  0:00:31  0:00:06 1805k\n",
      " 87 59.0M   87 51.4M    0     0  1626k      0  0:00:37  0:00:32  0:00:05 1814k\n",
      " 90 59.0M   90 53.1M    0     0  1630k      0  0:00:37  0:00:33  0:00:04 1808k\n",
      " 93 59.0M   93 54.9M    0     0  1634k      0  0:00:36  0:00:34  0:00:02 1801k\n",
      " 96 59.0M   96 56.7M    0     0  1639k      0  0:00:36  0:00:35  0:00:01 1801k\n",
      " 97 59.0M   97 57.6M    0     0  1621k      0  0:00:37  0:00:36  0:00:01 1630k\n",
      " 98 59.0M   98 57.8M    0     0  1583k      0  0:00:38  0:00:37  0:00:01 1303k\n",
      " 98 59.0M   98 58.1M    0     0  1549k      0  0:00:38  0:00:38 --:--:-- 1006k\n",
      " 98 59.0M   98 58.3M    0     0  1515k      0  0:00:39  0:00:39 --:--:--  693k\n",
      " 99 59.0M   99 58.6M    0     0  1485k      0  0:00:40  0:00:40 --:--:--  384k\n",
      " 99 59.0M   99 58.8M    0     0  1455k      0  0:00:41  0:00:41 --:--:--  245k\n",
      "100 59.0M  100 59.0M    0     0  1430k      0  0:00:42  0:00:42 --:--:--  241k\n",
      "\n"
     ]
    }
   ],
   "source": [
    "import subprocess\n",
    "command = (\n",
    "    'cd \"DATOS GEOREFERENCIALES\" && '\n",
    "    'mkdir 2010 && '\n",
    "    'cd \"2010\" && '\n",
    "    'curl -O https://www.inegi.org.mx/contenidos/productos/prod_serv/contenidos/espanol/bvinegi/productos/geografia/marc_geo/702825292805_s.zip'\n",
    ")\n",
    "\n",
    "execute=subprocess.run(command,shell=True,capture_output=True,text=True)\n",
    "print(execute.stdout)\n",
    "print(execute.stderr)"
   ]
  },
  {
   "cell_type": "code",
   "execution_count": 26,
   "metadata": {},
   "outputs": [
    {
     "data": {
      "text/plain": [
       "'/Users/federicocirett/Documents/GitHub/ingCaracteristicasProyecto_/data/raw'"
      ]
     },
     "execution_count": 26,
     "metadata": {},
     "output_type": "execute_result"
    }
   ],
   "source": [
    "pwd"
   ]
  },
  {
   "cell_type": "code",
   "execution_count": 27,
   "metadata": {},
   "outputs": [
    {
     "name": "stdout",
     "output_type": "stream",
     "text": [
      "El contenido de 702825292805_s.zip se extrajo a DATOS GEOREFERENCIALES/2010\n"
     ]
    }
   ],
   "source": [
    "f=\"DATOS GEOREFERENCIALES/2010\"\n",
    "\n",
    "for zip in os.listdir(f):\n",
    "    file_path=f+f\"/{zip}\"\n",
    "    with zipfile.ZipFile(file_path) as z:\n",
    "        z.extractall(f)\n",
    "        print(f'El contenido de {zip} se extrajo a {f}')\n"
   ]
  },
  {
   "cell_type": "code",
   "execution_count": 28,
   "metadata": {},
   "outputs": [
    {
     "data": {
      "text/plain": [
       "['mglr2010v5_0.zip', 'mgm2010v5_0.zip', 'mglu2010v5_0.zip', 'mge2010v5_0.zip']"
      ]
     },
     "execution_count": 28,
     "metadata": {},
     "output_type": "execute_result"
    }
   ],
   "source": [
    "os.listdir(f)[2:]"
   ]
  },
  {
   "cell_type": "code",
   "execution_count": 29,
   "metadata": {},
   "outputs": [
    {
     "name": "stdout",
     "output_type": "stream",
     "text": [
      "El contenido de mglr2010v5_0.zip se extrajo a DATOS GEOREFERENCIALES/2010\n",
      "El contenido de mgm2010v5_0.zip se extrajo a DATOS GEOREFERENCIALES/2010\n",
      "El contenido de mglu2010v5_0.zip se extrajo a DATOS GEOREFERENCIALES/2010\n",
      "El contenido de mge2010v5_0.zip se extrajo a DATOS GEOREFERENCIALES/2010\n"
     ]
    }
   ],
   "source": [
    "for zip in os.listdir(f)[2:]:\n",
    "    file_path=f+f\"/{zip}\"\n",
    "    with zipfile.ZipFile(file_path) as z:\n",
    "        z.extractall(f)\n",
    "        print(f'El contenido de {zip} se extrajo a {f}')\n"
   ]
  },
  {
   "cell_type": "markdown",
   "metadata": {},
   "source": [
    "## Exploración"
   ]
  },
  {
   "cell_type": "code",
   "execution_count": 32,
   "metadata": {},
   "outputs": [
    {
     "data": {
      "text/html": [
       "<div>\n",
       "<style scoped>\n",
       "    .dataframe tbody tr th:only-of-type {\n",
       "        vertical-align: middle;\n",
       "    }\n",
       "\n",
       "    .dataframe tbody tr th {\n",
       "        vertical-align: top;\n",
       "    }\n",
       "\n",
       "    .dataframe thead th {\n",
       "        text-align: right;\n",
       "    }\n",
       "</style>\n",
       "<table border=\"1\" class=\"dataframe\">\n",
       "  <thead>\n",
       "    <tr style=\"text-align: right;\">\n",
       "      <th></th>\n",
       "      <th>CVE_ENT</th>\n",
       "      <th>NOM_ENT</th>\n",
       "      <th>geometry</th>\n",
       "    </tr>\n",
       "  </thead>\n",
       "  <tbody>\n",
       "    <tr>\n",
       "      <th>0</th>\n",
       "      <td>09</td>\n",
       "      <td>Distrito Federal</td>\n",
       "      <td>POLYGON ((2802175.66 843326.718, 2801806.563 8...</td>\n",
       "    </tr>\n",
       "    <tr>\n",
       "      <th>1</th>\n",
       "      <td>12</td>\n",
       "      <td>Guerrero</td>\n",
       "      <td>MULTIPOLYGON (((2723198.21 539350.53, 2723205....</td>\n",
       "    </tr>\n",
       "    <tr>\n",
       "      <th>2</th>\n",
       "      <td>15</td>\n",
       "      <td>México</td>\n",
       "      <td>POLYGON ((2717218.9 921748.845, 2717277.833 92...</td>\n",
       "    </tr>\n",
       "    <tr>\n",
       "      <th>3</th>\n",
       "      <td>17</td>\n",
       "      <td>Morelos</td>\n",
       "      <td>POLYGON ((2808476.273 786837.16, 2808717.306 7...</td>\n",
       "    </tr>\n",
       "    <tr>\n",
       "      <th>4</th>\n",
       "      <td>25</td>\n",
       "      <td>Sinaloa</td>\n",
       "      <td>MULTIPOLYGON (((2050677.49 1245244.569, 205066...</td>\n",
       "    </tr>\n",
       "    <tr>\n",
       "      <th>5</th>\n",
       "      <td>02</td>\n",
       "      <td>Baja California</td>\n",
       "      <td>MULTIPOLYGON (((1458026.171 1855728.155, 14578...</td>\n",
       "    </tr>\n",
       "    <tr>\n",
       "      <th>6</th>\n",
       "      <td>26</td>\n",
       "      <td>Sonora</td>\n",
       "      <td>MULTIPOLYGON (((1621363.08 1783430.468, 162134...</td>\n",
       "    </tr>\n",
       "    <tr>\n",
       "      <th>7</th>\n",
       "      <td>03</td>\n",
       "      <td>Baja California Sur</td>\n",
       "      <td>MULTIPOLYGON (((1694646.29 1227655.31, 1694634...</td>\n",
       "    </tr>\n",
       "    <tr>\n",
       "      <th>8</th>\n",
       "      <td>32</td>\n",
       "      <td>Zacatecas</td>\n",
       "      <td>POLYGON ((2515182.307 1441549.748, 2515937.735...</td>\n",
       "    </tr>\n",
       "    <tr>\n",
       "      <th>9</th>\n",
       "      <td>10</td>\n",
       "      <td>Durango</td>\n",
       "      <td>POLYGON ((2107050.444 1641943.398, 2109767.527...</td>\n",
       "    </tr>\n",
       "    <tr>\n",
       "      <th>10</th>\n",
       "      <td>08</td>\n",
       "      <td>Chihuahua</td>\n",
       "      <td>POLYGON ((1961651.183 2201097.236, 1961978.966...</td>\n",
       "    </tr>\n",
       "    <tr>\n",
       "      <th>11</th>\n",
       "      <td>06</td>\n",
       "      <td>Colima</td>\n",
       "      <td>MULTIPOLYGON (((1158658.725 767185.324, 115913...</td>\n",
       "    </tr>\n",
       "    <tr>\n",
       "      <th>12</th>\n",
       "      <td>18</td>\n",
       "      <td>Nayarit</td>\n",
       "      <td>MULTIPOLYGON (((2161247.128 1008303.857, 21612...</td>\n",
       "    </tr>\n",
       "    <tr>\n",
       "      <th>13</th>\n",
       "      <td>16</td>\n",
       "      <td>Michoacán de Ocampo</td>\n",
       "      <td>POLYGON ((2498953.54 930779.82, 2498903.253 93...</td>\n",
       "    </tr>\n",
       "    <tr>\n",
       "      <th>14</th>\n",
       "      <td>14</td>\n",
       "      <td>Jalisco</td>\n",
       "      <td>MULTIPOLYGON (((2204955.618 806750.448, 220495...</td>\n",
       "    </tr>\n",
       "    <tr>\n",
       "      <th>15</th>\n",
       "      <td>07</td>\n",
       "      <td>Chiapas</td>\n",
       "      <td>POLYGON ((3560747.32 695090.733, 3561146.75 69...</td>\n",
       "    </tr>\n",
       "    <tr>\n",
       "      <th>16</th>\n",
       "      <td>27</td>\n",
       "      <td>Tabasco</td>\n",
       "      <td>POLYGON ((3505265.8 767356.609, 3505486.1 7669...</td>\n",
       "    </tr>\n",
       "    <tr>\n",
       "      <th>17</th>\n",
       "      <td>20</td>\n",
       "      <td>Oaxaca</td>\n",
       "      <td>MULTIPOLYGON (((3120867.994 423964.052, 312078...</td>\n",
       "    </tr>\n",
       "    <tr>\n",
       "      <th>18</th>\n",
       "      <td>11</td>\n",
       "      <td>Guanajuato</td>\n",
       "      <td>POLYGON ((2566856.638 1091418.136, 2567910.861...</td>\n",
       "    </tr>\n",
       "    <tr>\n",
       "      <th>19</th>\n",
       "      <td>01</td>\n",
       "      <td>Aguascalientes</td>\n",
       "      <td>POLYGON ((2470517.824 1155028.587, 2470552.249...</td>\n",
       "    </tr>\n",
       "    <tr>\n",
       "      <th>20</th>\n",
       "      <td>22</td>\n",
       "      <td>Querétaro</td>\n",
       "      <td>POLYGON ((2789578.589 1075590.982, 2790053.713...</td>\n",
       "    </tr>\n",
       "    <tr>\n",
       "      <th>21</th>\n",
       "      <td>24</td>\n",
       "      <td>San Luis Potosí</td>\n",
       "      <td>POLYGON ((2640890.453 1374316.088, 2641215.593...</td>\n",
       "    </tr>\n",
       "    <tr>\n",
       "      <th>22</th>\n",
       "      <td>29</td>\n",
       "      <td>Tlaxcala</td>\n",
       "      <td>POLYGON ((2912153.553 863641.586, 2912195.798 ...</td>\n",
       "    </tr>\n",
       "    <tr>\n",
       "      <th>23</th>\n",
       "      <td>21</td>\n",
       "      <td>Puebla</td>\n",
       "      <td>POLYGON ((2930806.281 987523.588, 2930857.791 ...</td>\n",
       "    </tr>\n",
       "    <tr>\n",
       "      <th>24</th>\n",
       "      <td>13</td>\n",
       "      <td>Hidalgo</td>\n",
       "      <td>POLYGON ((2862894.734 1047165.224, 2862941.878...</td>\n",
       "    </tr>\n",
       "    <tr>\n",
       "      <th>25</th>\n",
       "      <td>30</td>\n",
       "      <td>Veracruz de Ignacio de la Llave</td>\n",
       "      <td>MULTIPOLYGON (((3119601.559 810247.315, 311958...</td>\n",
       "    </tr>\n",
       "    <tr>\n",
       "      <th>26</th>\n",
       "      <td>19</td>\n",
       "      <td>Nuevo León</td>\n",
       "      <td>POLYGON ((2695225.697 1731414.725, 2696948.205...</td>\n",
       "    </tr>\n",
       "    <tr>\n",
       "      <th>27</th>\n",
       "      <td>05</td>\n",
       "      <td>Coahuila de Zaragoza</td>\n",
       "      <td>POLYGON ((2469954.193 1978522.993, 2469982.807...</td>\n",
       "    </tr>\n",
       "    <tr>\n",
       "      <th>28</th>\n",
       "      <td>28</td>\n",
       "      <td>Tamaulipas</td>\n",
       "      <td>POLYGON ((2724530.125 1735179.945, 2724595.848...</td>\n",
       "    </tr>\n",
       "    <tr>\n",
       "      <th>29</th>\n",
       "      <td>31</td>\n",
       "      <td>Yucatán</td>\n",
       "      <td>MULTIPOLYGON (((3511760.832 1023282.324, 35117...</td>\n",
       "    </tr>\n",
       "    <tr>\n",
       "      <th>30</th>\n",
       "      <td>04</td>\n",
       "      <td>Campeche</td>\n",
       "      <td>MULTIPOLYGON (((3544897.199 946994.621, 354491...</td>\n",
       "    </tr>\n",
       "    <tr>\n",
       "      <th>31</th>\n",
       "      <td>23</td>\n",
       "      <td>Quintana Roo</td>\n",
       "      <td>MULTIPOLYGON (((4039086.131 787620.708, 403895...</td>\n",
       "    </tr>\n",
       "  </tbody>\n",
       "</table>\n",
       "</div>"
      ],
      "text/plain": [
       "   CVE_ENT                          NOM_ENT  \\\n",
       "0       09                 Distrito Federal   \n",
       "1       12                         Guerrero   \n",
       "2       15                           México   \n",
       "3       17                          Morelos   \n",
       "4       25                          Sinaloa   \n",
       "5       02                  Baja California   \n",
       "6       26                           Sonora   \n",
       "7       03              Baja California Sur   \n",
       "8       32                        Zacatecas   \n",
       "9       10                          Durango   \n",
       "10      08                        Chihuahua   \n",
       "11      06                           Colima   \n",
       "12      18                          Nayarit   \n",
       "13      16              Michoacán de Ocampo   \n",
       "14      14                          Jalisco   \n",
       "15      07                          Chiapas   \n",
       "16      27                          Tabasco   \n",
       "17      20                           Oaxaca   \n",
       "18      11                       Guanajuato   \n",
       "19      01                   Aguascalientes   \n",
       "20      22                        Querétaro   \n",
       "21      24                  San Luis Potosí   \n",
       "22      29                         Tlaxcala   \n",
       "23      21                           Puebla   \n",
       "24      13                          Hidalgo   \n",
       "25      30  Veracruz de Ignacio de la Llave   \n",
       "26      19                       Nuevo León   \n",
       "27      05             Coahuila de Zaragoza   \n",
       "28      28                       Tamaulipas   \n",
       "29      31                          Yucatán   \n",
       "30      04                         Campeche   \n",
       "31      23                     Quintana Roo   \n",
       "\n",
       "                                             geometry  \n",
       "0   POLYGON ((2802175.66 843326.718, 2801806.563 8...  \n",
       "1   MULTIPOLYGON (((2723198.21 539350.53, 2723205....  \n",
       "2   POLYGON ((2717218.9 921748.845, 2717277.833 92...  \n",
       "3   POLYGON ((2808476.273 786837.16, 2808717.306 7...  \n",
       "4   MULTIPOLYGON (((2050677.49 1245244.569, 205066...  \n",
       "5   MULTIPOLYGON (((1458026.171 1855728.155, 14578...  \n",
       "6   MULTIPOLYGON (((1621363.08 1783430.468, 162134...  \n",
       "7   MULTIPOLYGON (((1694646.29 1227655.31, 1694634...  \n",
       "8   POLYGON ((2515182.307 1441549.748, 2515937.735...  \n",
       "9   POLYGON ((2107050.444 1641943.398, 2109767.527...  \n",
       "10  POLYGON ((1961651.183 2201097.236, 1961978.966...  \n",
       "11  MULTIPOLYGON (((1158658.725 767185.324, 115913...  \n",
       "12  MULTIPOLYGON (((2161247.128 1008303.857, 21612...  \n",
       "13  POLYGON ((2498953.54 930779.82, 2498903.253 93...  \n",
       "14  MULTIPOLYGON (((2204955.618 806750.448, 220495...  \n",
       "15  POLYGON ((3560747.32 695090.733, 3561146.75 69...  \n",
       "16  POLYGON ((3505265.8 767356.609, 3505486.1 7669...  \n",
       "17  MULTIPOLYGON (((3120867.994 423964.052, 312078...  \n",
       "18  POLYGON ((2566856.638 1091418.136, 2567910.861...  \n",
       "19  POLYGON ((2470517.824 1155028.587, 2470552.249...  \n",
       "20  POLYGON ((2789578.589 1075590.982, 2790053.713...  \n",
       "21  POLYGON ((2640890.453 1374316.088, 2641215.593...  \n",
       "22  POLYGON ((2912153.553 863641.586, 2912195.798 ...  \n",
       "23  POLYGON ((2930806.281 987523.588, 2930857.791 ...  \n",
       "24  POLYGON ((2862894.734 1047165.224, 2862941.878...  \n",
       "25  MULTIPOLYGON (((3119601.559 810247.315, 311958...  \n",
       "26  POLYGON ((2695225.697 1731414.725, 2696948.205...  \n",
       "27  POLYGON ((2469954.193 1978522.993, 2469982.807...  \n",
       "28  POLYGON ((2724530.125 1735179.945, 2724595.848...  \n",
       "29  MULTIPOLYGON (((3511760.832 1023282.324, 35117...  \n",
       "30  MULTIPOLYGON (((3544897.199 946994.621, 354491...  \n",
       "31  MULTIPOLYGON (((4039086.131 787620.708, 403895...  "
      ]
     },
     "execution_count": 32,
     "metadata": {},
     "output_type": "execute_result"
    }
   ],
   "source": [
    "data_path=\"DATOS GEOREFERENCIALES/2010\"\n",
    "data=['estados.dbf',\n",
    "      'estados.prj',\n",
    "      'estados.shp',\n",
    "      'estados.shx'\n",
    "        ]\n",
    "\n",
    "df=gpd.read_file(f\"{data_path}/estados.shp\")\n",
    "df\n",
    "\n",
    "\n"
   ]
  },
  {
   "cell_type": "code",
   "execution_count": 38,
   "metadata": {},
   "outputs": [
    {
     "data": {
      "text/plain": [
       "<Axes: title={'center': 'Titulo'}>"
      ]
     },
     "execution_count": 38,
     "metadata": {},
     "output_type": "execute_result"
    },
    {
     "data": {
      "image/png": "[encoded data removed]",
      "text/plain": [
       "<Figure size 1000x1100 with 1 Axes>"
      ]
     },
     "metadata": {},
     "output_type": "display_data"
    }
   ],
   "source": [
    "fig , fila = plt.subplots(1, figsize=(10,11))\n",
    "\n",
    "plt.title('Titulo')\n",
    "plt.axis('off')\n",
    "df.plot( \n",
    "        facecolor='#525252',\n",
    "        linewidth=0.3,\n",
    "        edgecolor='#B9EBE3',\n",
    "        ax=fila\n",
    ")"
   ]
  },
  {
   "cell_type": "code",
   "execution_count": null,
   "metadata": {},
   "outputs": [],
   "source": []
  }
 ],
 "metadata": {
  "kernelspec": {
   "display_name": "venv",
   "language": "python",
   "name": "python3"
  },
  "language_info": {
   "codemirror_mode": {
    "name": "ipython",
    "version": 3
   },
   "file_extension": ".py",
   "mimetype": "text/x-python",
   "name": "python",
   "nbconvert_exporter": "python",
   "pygments_lexer": "ipython3",
   "version": "3.12.5"
  }
 },
 "nbformat": 4,
 "nbformat_minor": 2
}
