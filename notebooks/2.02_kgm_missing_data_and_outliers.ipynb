{
 "cells": [
  {
   "cell_type": "code",
   "execution_count": 16,
   "id": "e687d57c-bc15-4dd9-8d7a-4d4f3973bd20",
   "metadata": {},
   "outputs": [],
   "source": [
    "import pandas as pd\n",
    "import os"
   ]
  },
  {
   "cell_type": "code",
   "execution_count": 17,
   "id": "33f47718-1c09-4786-8f25-190c854da8b8",
   "metadata": {},
   "outputs": [
    {
     "data": {
      "text/plain": [
       "Folio                                   object\n",
       "Edad                                     int64\n",
       "Sexo                                  category\n",
       "C_Entidad                                int64\n",
       "Entidad                                 object\n",
       "Fecha                           datetime64[ns]\n",
       "Atentar_contras_si                    category\n",
       "Depresion                             category\n",
       "Tristeza                              category\n",
       "Cuantos cigarrillos (numero)             Int64\n",
       "Frecuencia emborrachar                category\n",
       "dtype: object"
      ]
     },
     "execution_count": 17,
     "metadata": {},
     "output_type": "execute_result"
    }
   ],
   "source": [
    "path_parquet = os.path.join('..','data', 'interim', 'Ensanut-data.parquet')\n",
    "df = pd.read_parquet(path_parquet)\n",
    "df['Sexo'] = df['Sexo'].astype('category')  # Convertir a categoría\n",
    "df.dtypes"
   ]
  },
  {
   "cell_type": "code",
   "execution_count": 18,
   "id": "dbd2954a-9bbd-437c-bb4a-828bfce169fa",
   "metadata": {},
   "outputs": [
    {
     "name": "stdout",
     "output_type": "stream",
     "text": [
      "Folio                           196525\n",
      "Edad                               103\n",
      "Sexo                                 2\n",
      "C_Entidad                           32\n",
      "Entidad                             32\n",
      "Fecha                              709\n",
      "Atentar_contras_si                   7\n",
      "Depresion                            8\n",
      "Tristeza                             9\n",
      "Cuantos cigarrillos (numero)        66\n",
      "Frecuencia emborrachar              44\n",
      "dtype: int64\n"
     ]
    }
   ],
   "source": [
    "valores_unicos = df.nunique() # Contar valores únicos en cada columna\n",
    "\n",
    "print(valores_unicos) # Mostrar el resultado"
   ]
  },
  {
   "cell_type": "code",
   "execution_count": 19,
   "id": "5c0a4c44-dc1b-45b6-8d33-495698a58fb1",
   "metadata": {},
   "outputs": [
    {
     "data": {
      "text/plain": [
       "[NaN, '1', '2', '8', '3', ..., '50', '48', '35', '21', '27']\n",
       "Length: 45\n",
       "Categories (44, object): ['0', '00', '01', '02', ..., '88', '9', '98', '99']"
      ]
     },
     "execution_count": 19,
     "metadata": {},
     "output_type": "execute_result"
    }
   ],
   "source": [
    "# Obtener todos los valores únicos de la columna \"frecuencia\"\n",
    "valores_unicos_frecuencia = df['Frecuencia emborrachar'].unique()\n",
    "\n",
    "# Imprimir los valores únicos\n",
    "valores_unicos_frecuencia"
   ]
  },
  {
   "cell_type": "code",
   "execution_count": 28,
   "id": "c69b267e-e282-4ce8-ab7f-01c7ed50ba93",
   "metadata": {},
   "outputs": [
    {
     "data": {
      "text/plain": [
       "999"
      ]
     },
     "execution_count": 28,
     "metadata": {},
     "output_type": "execute_result"
    }
   ],
   "source": [
    "max_edad = df[\"Edad\"].max()\n",
    "max_edad"
   ]
  },
  {
   "cell_type": "code",
   "execution_count": null,
   "id": "669cfc73-806d-4791-a33c-5f77a822c760",
   "metadata": {},
   "outputs": [],
   "source": [
    "pip install great_expectations"
   ]
  },
  {
   "cell_type": "code",
   "execution_count": null,
   "id": "5640057a-b387-4d8c-a53e-ca77fc41b0d3",
   "metadata": {},
   "outputs": [],
   "source": [
    "pip install --upgrade great_expectations\n"
   ]
  },
  {
   "cell_type": "code",
   "execution_count": null,
   "id": "16f9adca-9852-46d5-8ae9-6f3a2a5bb460",
   "metadata": {},
   "outputs": [],
   "source": [
    "pip install pandera"
   ]
  },
  {
   "cell_type": "code",
   "execution_count": 31,
   "id": "8d16ddd7-1c33-4a3b-8a38-e35948a2ec08",
   "metadata": {},
   "outputs": [
    {
     "name": "stdout",
     "output_type": "stream",
     "text": [
      "Hay que corregir la columna Edad: valores fuera del rango 0-120.\n"
     ]
    },
    {
     "ename": "SchemaError",
     "evalue": "Column 'Edad' failed series or dataframe validator 0: <Check validar_edad>",
     "output_type": "error",
     "traceback": [
      "\u001b[1;31m---------------------------------------------------------------------------\u001b[0m",
      "\u001b[1;31mSchemaError\u001b[0m                               Traceback (most recent call last)",
      "Cell \u001b[1;32mIn[31], line 30\u001b[0m\n\u001b[0;32m     28\u001b[0m \u001b[38;5;66;03m# Aplicar el esquema de validación\u001b[39;00m\n\u001b[0;32m     29\u001b[0m \u001b[38;5;28;01mtry\u001b[39;00m:\n\u001b[1;32m---> 30\u001b[0m     validated_df \u001b[38;5;241m=\u001b[39m schema\u001b[38;5;241m.\u001b[39mvalidate(df)\n\u001b[0;32m     31\u001b[0m     \u001b[38;5;28mprint\u001b[39m(\u001b[38;5;124m\"\u001b[39m\u001b[38;5;124mValidación exitosa.\u001b[39m\u001b[38;5;124m\"\u001b[39m)\n\u001b[0;32m     32\u001b[0m \u001b[38;5;28;01mexcept\u001b[39;00m pa\u001b[38;5;241m.\u001b[39merrors\u001b[38;5;241m.\u001b[39mSchemaErrors \u001b[38;5;28;01mas\u001b[39;00m e:\n",
      "File \u001b[1;32m~\\anaconda3\\Lib\\site-packages\\pandera\\api\\pandas\\container.py:126\u001b[0m, in \u001b[0;36mDataFrameSchema.validate\u001b[1;34m(self, check_obj, head, tail, sample, random_state, lazy, inplace)\u001b[0m\n\u001b[0;32m    114\u001b[0m     check_obj \u001b[38;5;241m=\u001b[39m check_obj\u001b[38;5;241m.\u001b[39mmap_partitions(  \u001b[38;5;66;03m# type: ignore [operator]\u001b[39;00m\n\u001b[0;32m    115\u001b[0m         \u001b[38;5;28mself\u001b[39m\u001b[38;5;241m.\u001b[39m_validate,\n\u001b[0;32m    116\u001b[0m         head\u001b[38;5;241m=\u001b[39mhead,\n\u001b[1;32m   (...)\u001b[0m\n\u001b[0;32m    122\u001b[0m         meta\u001b[38;5;241m=\u001b[39mcheck_obj,\n\u001b[0;32m    123\u001b[0m     )\n\u001b[0;32m    124\u001b[0m     \u001b[38;5;28;01mreturn\u001b[39;00m check_obj\u001b[38;5;241m.\u001b[39mpandera\u001b[38;5;241m.\u001b[39madd_schema(\u001b[38;5;28mself\u001b[39m)\n\u001b[1;32m--> 126\u001b[0m \u001b[38;5;28;01mreturn\u001b[39;00m \u001b[38;5;28mself\u001b[39m\u001b[38;5;241m.\u001b[39m_validate(\n\u001b[0;32m    127\u001b[0m     check_obj\u001b[38;5;241m=\u001b[39mcheck_obj,\n\u001b[0;32m    128\u001b[0m     head\u001b[38;5;241m=\u001b[39mhead,\n\u001b[0;32m    129\u001b[0m     tail\u001b[38;5;241m=\u001b[39mtail,\n\u001b[0;32m    130\u001b[0m     sample\u001b[38;5;241m=\u001b[39msample,\n\u001b[0;32m    131\u001b[0m     random_state\u001b[38;5;241m=\u001b[39mrandom_state,\n\u001b[0;32m    132\u001b[0m     lazy\u001b[38;5;241m=\u001b[39mlazy,\n\u001b[0;32m    133\u001b[0m     inplace\u001b[38;5;241m=\u001b[39minplace,\n\u001b[0;32m    134\u001b[0m )\n",
      "File \u001b[1;32m~\\anaconda3\\Lib\\site-packages\\pandera\\api\\pandas\\container.py:155\u001b[0m, in \u001b[0;36mDataFrameSchema._validate\u001b[1;34m(self, check_obj, head, tail, sample, random_state, lazy, inplace)\u001b[0m\n\u001b[0;32m    146\u001b[0m \u001b[38;5;28;01mif\u001b[39;00m \u001b[38;5;28mself\u001b[39m\u001b[38;5;241m.\u001b[39m_is_inferred:\n\u001b[0;32m    147\u001b[0m     warnings\u001b[38;5;241m.\u001b[39mwarn(\n\u001b[0;32m    148\u001b[0m         \u001b[38;5;124mf\u001b[39m\u001b[38;5;124m\"\u001b[39m\u001b[38;5;124mThis \u001b[39m\u001b[38;5;132;01m{\u001b[39;00m\u001b[38;5;28mtype\u001b[39m(\u001b[38;5;28mself\u001b[39m)\u001b[38;5;132;01m}\u001b[39;00m\u001b[38;5;124m is an inferred schema that hasn\u001b[39m\u001b[38;5;124m'\u001b[39m\u001b[38;5;124mt been \u001b[39m\u001b[38;5;124m\"\u001b[39m\n\u001b[0;32m    149\u001b[0m         \u001b[38;5;124m\"\u001b[39m\u001b[38;5;124mmodified. It\u001b[39m\u001b[38;5;124m'\u001b[39m\u001b[38;5;124ms recommended that you refine the schema \u001b[39m\u001b[38;5;124m\"\u001b[39m\n\u001b[1;32m   (...)\u001b[0m\n\u001b[0;32m    152\u001b[0m         \u001b[38;5;167;01mUserWarning\u001b[39;00m,\n\u001b[0;32m    153\u001b[0m     )\n\u001b[1;32m--> 155\u001b[0m \u001b[38;5;28;01mreturn\u001b[39;00m \u001b[38;5;28mself\u001b[39m\u001b[38;5;241m.\u001b[39mget_backend(check_obj)\u001b[38;5;241m.\u001b[39mvalidate(\n\u001b[0;32m    156\u001b[0m     check_obj,\n\u001b[0;32m    157\u001b[0m     schema\u001b[38;5;241m=\u001b[39m\u001b[38;5;28mself\u001b[39m,\n\u001b[0;32m    158\u001b[0m     head\u001b[38;5;241m=\u001b[39mhead,\n\u001b[0;32m    159\u001b[0m     tail\u001b[38;5;241m=\u001b[39mtail,\n\u001b[0;32m    160\u001b[0m     sample\u001b[38;5;241m=\u001b[39msample,\n\u001b[0;32m    161\u001b[0m     random_state\u001b[38;5;241m=\u001b[39mrandom_state,\n\u001b[0;32m    162\u001b[0m     lazy\u001b[38;5;241m=\u001b[39mlazy,\n\u001b[0;32m    163\u001b[0m     inplace\u001b[38;5;241m=\u001b[39minplace,\n\u001b[0;32m    164\u001b[0m )\n",
      "File \u001b[1;32m~\\anaconda3\\Lib\\site-packages\\pandera\\backends\\pandas\\container.py:105\u001b[0m, in \u001b[0;36mDataFrameSchemaBackend.validate\u001b[1;34m(self, check_obj, schema, head, tail, sample, random_state, lazy, inplace)\u001b[0m\n\u001b[0;32m    100\u001b[0m components \u001b[38;5;241m=\u001b[39m \u001b[38;5;28mself\u001b[39m\u001b[38;5;241m.\u001b[39mcollect_schema_components(\n\u001b[0;32m    101\u001b[0m     check_obj, schema, column_info\n\u001b[0;32m    102\u001b[0m )\n\u001b[0;32m    104\u001b[0m \u001b[38;5;66;03m# run the checks\u001b[39;00m\n\u001b[1;32m--> 105\u001b[0m error_handler \u001b[38;5;241m=\u001b[39m \u001b[38;5;28mself\u001b[39m\u001b[38;5;241m.\u001b[39mrun_checks_and_handle_errors(\n\u001b[0;32m    106\u001b[0m     error_handler,\n\u001b[0;32m    107\u001b[0m     schema,\n\u001b[0;32m    108\u001b[0m     check_obj,\n\u001b[0;32m    109\u001b[0m     column_info,\n\u001b[0;32m    110\u001b[0m     sample,\n\u001b[0;32m    111\u001b[0m     components,\n\u001b[0;32m    112\u001b[0m     lazy,\n\u001b[0;32m    113\u001b[0m     head,\n\u001b[0;32m    114\u001b[0m     tail,\n\u001b[0;32m    115\u001b[0m     random_state,\n\u001b[0;32m    116\u001b[0m )\n\u001b[0;32m    118\u001b[0m \u001b[38;5;28;01mif\u001b[39;00m error_handler\u001b[38;5;241m.\u001b[39mcollected_errors:\n\u001b[0;32m    119\u001b[0m     \u001b[38;5;28;01mif\u001b[39;00m \u001b[38;5;28mgetattr\u001b[39m(schema, \u001b[38;5;124m\"\u001b[39m\u001b[38;5;124mdrop_invalid_rows\u001b[39m\u001b[38;5;124m\"\u001b[39m, \u001b[38;5;28;01mFalse\u001b[39;00m):\n",
      "File \u001b[1;32m~\\anaconda3\\Lib\\site-packages\\pandera\\backends\\pandas\\container.py:180\u001b[0m, in \u001b[0;36mDataFrameSchemaBackend.run_checks_and_handle_errors\u001b[1;34m(self, error_handler, schema, check_obj, column_info, sample, components, lazy, head, tail, random_state)\u001b[0m\n\u001b[0;32m    169\u001b[0m         \u001b[38;5;28;01melse\u001b[39;00m:\n\u001b[0;32m    170\u001b[0m             error \u001b[38;5;241m=\u001b[39m SchemaError(\n\u001b[0;32m    171\u001b[0m                 schema,\n\u001b[0;32m    172\u001b[0m                 data\u001b[38;5;241m=\u001b[39mcheck_obj,\n\u001b[1;32m   (...)\u001b[0m\n\u001b[0;32m    178\u001b[0m                 reason_code\u001b[38;5;241m=\u001b[39mresult\u001b[38;5;241m.\u001b[39mreason_code,\n\u001b[0;32m    179\u001b[0m             )\n\u001b[1;32m--> 180\u001b[0m         error_handler\u001b[38;5;241m.\u001b[39mcollect_error(\n\u001b[0;32m    181\u001b[0m             validation_type(result\u001b[38;5;241m.\u001b[39mreason_code),\n\u001b[0;32m    182\u001b[0m             result\u001b[38;5;241m.\u001b[39mreason_code,\n\u001b[0;32m    183\u001b[0m             error,\n\u001b[0;32m    184\u001b[0m             result\u001b[38;5;241m.\u001b[39moriginal_exc,\n\u001b[0;32m    185\u001b[0m         )\n\u001b[0;32m    187\u001b[0m \u001b[38;5;28;01mreturn\u001b[39;00m error_handler\n",
      "File \u001b[1;32m~\\anaconda3\\Lib\\site-packages\\pandera\\api\\base\\error_handler.py:54\u001b[0m, in \u001b[0;36mErrorHandler.collect_error\u001b[1;34m(self, error_type, reason_code, schema_error, original_exc)\u001b[0m\n\u001b[0;32m     47\u001b[0m \u001b[38;5;250m\u001b[39m\u001b[38;5;124;03m\"\"\"Collect schema error, raising exception if lazy is False.\u001b[39;00m\n\u001b[0;32m     48\u001b[0m \n\u001b[0;32m     49\u001b[0m \u001b[38;5;124;03m:param error_type: type of error\u001b[39;00m\n\u001b[0;32m     50\u001b[0m \u001b[38;5;124;03m:param reason_code: string representing reason for error\u001b[39;00m\n\u001b[0;32m     51\u001b[0m \u001b[38;5;124;03m:param schema_error: ``SchemaError`` object.\u001b[39;00m\n\u001b[0;32m     52\u001b[0m \u001b[38;5;124;03m\"\"\"\u001b[39;00m\n\u001b[0;32m     53\u001b[0m \u001b[38;5;28;01mif\u001b[39;00m \u001b[38;5;129;01mnot\u001b[39;00m \u001b[38;5;28mself\u001b[39m\u001b[38;5;241m.\u001b[39m_lazy:\n\u001b[1;32m---> 54\u001b[0m     \u001b[38;5;28;01mraise\u001b[39;00m schema_error \u001b[38;5;28;01mfrom\u001b[39;00m \u001b[38;5;21;01moriginal_exc\u001b[39;00m\n\u001b[0;32m     56\u001b[0m \u001b[38;5;66;03m# delete data of validated object from SchemaError object to prevent\u001b[39;00m\n\u001b[0;32m     57\u001b[0m \u001b[38;5;66;03m# storing copies of the validated DataFrame/Series for every\u001b[39;00m\n\u001b[0;32m     58\u001b[0m \u001b[38;5;66;03m# SchemaError collected.\u001b[39;00m\n\u001b[0;32m     59\u001b[0m \u001b[38;5;28;01mif\u001b[39;00m \u001b[38;5;28mhasattr\u001b[39m(schema_error, \u001b[38;5;124m\"\u001b[39m\u001b[38;5;124mdata\u001b[39m\u001b[38;5;124m\"\u001b[39m):\n",
      "File \u001b[1;32m~\\anaconda3\\Lib\\site-packages\\pandera\\backends\\pandas\\container.py:201\u001b[0m, in \u001b[0;36mDataFrameSchemaBackend.run_schema_component_checks\u001b[1;34m(self, check_obj, schema_components, lazy)\u001b[0m\n\u001b[0;32m    199\u001b[0m \u001b[38;5;28;01mfor\u001b[39;00m schema_component \u001b[38;5;129;01min\u001b[39;00m schema_components:\n\u001b[0;32m    200\u001b[0m     \u001b[38;5;28;01mtry\u001b[39;00m:\n\u001b[1;32m--> 201\u001b[0m         result \u001b[38;5;241m=\u001b[39m schema_component\u001b[38;5;241m.\u001b[39mvalidate(\n\u001b[0;32m    202\u001b[0m             check_obj, lazy\u001b[38;5;241m=\u001b[39mlazy, inplace\u001b[38;5;241m=\u001b[39m\u001b[38;5;28;01mTrue\u001b[39;00m\n\u001b[0;32m    203\u001b[0m         )\n\u001b[0;32m    204\u001b[0m         check_passed\u001b[38;5;241m.\u001b[39mappend(is_table(result))\n\u001b[0;32m    205\u001b[0m     \u001b[38;5;28;01mexcept\u001b[39;00m SchemaError \u001b[38;5;28;01mas\u001b[39;00m err:\n",
      "File \u001b[1;32m~\\anaconda3\\Lib\\site-packages\\pandera\\api\\dataframe\\components.py:162\u001b[0m, in \u001b[0;36mComponentSchema.validate\u001b[1;34m(self, check_obj, head, tail, sample, random_state, lazy, inplace)\u001b[0m\n\u001b[0;32m    133\u001b[0m \u001b[38;5;28;01mdef\u001b[39;00m \u001b[38;5;21mvalidate\u001b[39m(\n\u001b[0;32m    134\u001b[0m     \u001b[38;5;28mself\u001b[39m,\n\u001b[0;32m    135\u001b[0m     check_obj,\n\u001b[1;32m   (...)\u001b[0m\n\u001b[0;32m    142\u001b[0m ):\n\u001b[0;32m    143\u001b[0m     \u001b[38;5;66;03m# pylint: disable=too-many-locals,too-many-branches,too-many-statements\u001b[39;00m\n\u001b[0;32m    144\u001b[0m \u001b[38;5;250m    \u001b[39m\u001b[38;5;124;03m\"\"\"Validate a series or specific column in dataframe.\u001b[39;00m\n\u001b[0;32m    145\u001b[0m \n\u001b[0;32m    146\u001b[0m \u001b[38;5;124;03m    :check_obj: data object to validate.\u001b[39;00m\n\u001b[1;32m   (...)\u001b[0m\n\u001b[0;32m    160\u001b[0m \n\u001b[0;32m    161\u001b[0m \u001b[38;5;124;03m    \"\"\"\u001b[39;00m\n\u001b[1;32m--> 162\u001b[0m     \u001b[38;5;28;01mreturn\u001b[39;00m \u001b[38;5;28mself\u001b[39m\u001b[38;5;241m.\u001b[39mget_backend(check_obj)\u001b[38;5;241m.\u001b[39mvalidate(\n\u001b[0;32m    163\u001b[0m         check_obj,\n\u001b[0;32m    164\u001b[0m         schema\u001b[38;5;241m=\u001b[39m\u001b[38;5;28mself\u001b[39m,\n\u001b[0;32m    165\u001b[0m         head\u001b[38;5;241m=\u001b[39mhead,\n\u001b[0;32m    166\u001b[0m         tail\u001b[38;5;241m=\u001b[39mtail,\n\u001b[0;32m    167\u001b[0m         sample\u001b[38;5;241m=\u001b[39msample,\n\u001b[0;32m    168\u001b[0m         random_state\u001b[38;5;241m=\u001b[39mrandom_state,\n\u001b[0;32m    169\u001b[0m         lazy\u001b[38;5;241m=\u001b[39mlazy,\n\u001b[0;32m    170\u001b[0m         inplace\u001b[38;5;241m=\u001b[39minplace,\n\u001b[0;32m    171\u001b[0m     )\n",
      "File \u001b[1;32m~\\anaconda3\\Lib\\site-packages\\pandera\\backends\\pandas\\components.py:136\u001b[0m, in \u001b[0;36mColumnBackend.validate\u001b[1;34m(self, check_obj, schema, head, tail, sample, random_state, lazy, inplace)\u001b[0m\n\u001b[0;32m    132\u001b[0m             check_obj \u001b[38;5;241m=\u001b[39m validate_column(\n\u001b[0;32m    133\u001b[0m                 check_obj, column_name, return_check_obj\u001b[38;5;241m=\u001b[39m\u001b[38;5;28;01mTrue\u001b[39;00m\n\u001b[0;32m    134\u001b[0m             )\n\u001b[0;32m    135\u001b[0m         \u001b[38;5;28;01melse\u001b[39;00m:\n\u001b[1;32m--> 136\u001b[0m             validate_column(check_obj, column_name)\n\u001b[0;32m    138\u001b[0m \u001b[38;5;28;01mif\u001b[39;00m lazy \u001b[38;5;129;01mand\u001b[39;00m error_handler\u001b[38;5;241m.\u001b[39mcollected_errors:\n\u001b[0;32m    139\u001b[0m     \u001b[38;5;28;01mraise\u001b[39;00m SchemaErrors(\n\u001b[0;32m    140\u001b[0m         schema\u001b[38;5;241m=\u001b[39mschema,\n\u001b[0;32m    141\u001b[0m         schema_errors\u001b[38;5;241m=\u001b[39merror_handler\u001b[38;5;241m.\u001b[39mschema_errors,\n\u001b[0;32m    142\u001b[0m         data\u001b[38;5;241m=\u001b[39mcheck_obj,\n\u001b[0;32m    143\u001b[0m     )\n",
      "File \u001b[1;32m~\\anaconda3\\Lib\\site-packages\\pandera\\backends\\pandas\\components.py:92\u001b[0m, in \u001b[0;36mColumnBackend.validate.<locals>.validate_column\u001b[1;34m(check_obj, column_name, return_check_obj)\u001b[0m\n\u001b[0;32m     88\u001b[0m         error_handler\u001b[38;5;241m.\u001b[39mcollect_error(\n\u001b[0;32m     89\u001b[0m             validation_type(err\u001b[38;5;241m.\u001b[39mreason_code), err\u001b[38;5;241m.\u001b[39mreason_code, err\n\u001b[0;32m     90\u001b[0m         )\n\u001b[0;32m     91\u001b[0m \u001b[38;5;28;01mexcept\u001b[39;00m SchemaError \u001b[38;5;28;01mas\u001b[39;00m err:\n\u001b[1;32m---> 92\u001b[0m     error_handler\u001b[38;5;241m.\u001b[39mcollect_error(\n\u001b[0;32m     93\u001b[0m         validation_type(err\u001b[38;5;241m.\u001b[39mreason_code), err\u001b[38;5;241m.\u001b[39mreason_code, err\n\u001b[0;32m     94\u001b[0m     )\n",
      "File \u001b[1;32m~\\anaconda3\\Lib\\site-packages\\pandera\\api\\base\\error_handler.py:54\u001b[0m, in \u001b[0;36mErrorHandler.collect_error\u001b[1;34m(self, error_type, reason_code, schema_error, original_exc)\u001b[0m\n\u001b[0;32m     47\u001b[0m \u001b[38;5;250m\u001b[39m\u001b[38;5;124;03m\"\"\"Collect schema error, raising exception if lazy is False.\u001b[39;00m\n\u001b[0;32m     48\u001b[0m \n\u001b[0;32m     49\u001b[0m \u001b[38;5;124;03m:param error_type: type of error\u001b[39;00m\n\u001b[0;32m     50\u001b[0m \u001b[38;5;124;03m:param reason_code: string representing reason for error\u001b[39;00m\n\u001b[0;32m     51\u001b[0m \u001b[38;5;124;03m:param schema_error: ``SchemaError`` object.\u001b[39;00m\n\u001b[0;32m     52\u001b[0m \u001b[38;5;124;03m\"\"\"\u001b[39;00m\n\u001b[0;32m     53\u001b[0m \u001b[38;5;28;01mif\u001b[39;00m \u001b[38;5;129;01mnot\u001b[39;00m \u001b[38;5;28mself\u001b[39m\u001b[38;5;241m.\u001b[39m_lazy:\n\u001b[1;32m---> 54\u001b[0m     \u001b[38;5;28;01mraise\u001b[39;00m schema_error \u001b[38;5;28;01mfrom\u001b[39;00m \u001b[38;5;21;01moriginal_exc\u001b[39;00m\n\u001b[0;32m     56\u001b[0m \u001b[38;5;66;03m# delete data of validated object from SchemaError object to prevent\u001b[39;00m\n\u001b[0;32m     57\u001b[0m \u001b[38;5;66;03m# storing copies of the validated DataFrame/Series for every\u001b[39;00m\n\u001b[0;32m     58\u001b[0m \u001b[38;5;66;03m# SchemaError collected.\u001b[39;00m\n\u001b[0;32m     59\u001b[0m \u001b[38;5;28;01mif\u001b[39;00m \u001b[38;5;28mhasattr\u001b[39m(schema_error, \u001b[38;5;124m\"\u001b[39m\u001b[38;5;124mdata\u001b[39m\u001b[38;5;124m\"\u001b[39m):\n",
      "File \u001b[1;32m~\\anaconda3\\Lib\\site-packages\\pandera\\backends\\pandas\\components.py:72\u001b[0m, in \u001b[0;36mColumnBackend.validate.<locals>.validate_column\u001b[1;34m(check_obj, column_name, return_check_obj)\u001b[0m\n\u001b[0;32m     69\u001b[0m \u001b[38;5;28;01mdef\u001b[39;00m \u001b[38;5;21mvalidate_column\u001b[39m(check_obj, column_name, return_check_obj\u001b[38;5;241m=\u001b[39m\u001b[38;5;28;01mFalse\u001b[39;00m):\n\u001b[0;32m     70\u001b[0m     \u001b[38;5;28;01mtry\u001b[39;00m:\n\u001b[0;32m     71\u001b[0m         \u001b[38;5;66;03m# pylint: disable=super-with-arguments\u001b[39;00m\n\u001b[1;32m---> 72\u001b[0m         validated_check_obj \u001b[38;5;241m=\u001b[39m \u001b[38;5;28msuper\u001b[39m(ColumnBackend, \u001b[38;5;28mself\u001b[39m)\u001b[38;5;241m.\u001b[39mvalidate(\n\u001b[0;32m     73\u001b[0m             check_obj,\n\u001b[0;32m     74\u001b[0m             deepcopy(schema)\u001b[38;5;241m.\u001b[39mset_name(column_name),\n\u001b[0;32m     75\u001b[0m             head\u001b[38;5;241m=\u001b[39mhead,\n\u001b[0;32m     76\u001b[0m             tail\u001b[38;5;241m=\u001b[39mtail,\n\u001b[0;32m     77\u001b[0m             sample\u001b[38;5;241m=\u001b[39msample,\n\u001b[0;32m     78\u001b[0m             random_state\u001b[38;5;241m=\u001b[39mrandom_state,\n\u001b[0;32m     79\u001b[0m             lazy\u001b[38;5;241m=\u001b[39mlazy,\n\u001b[0;32m     80\u001b[0m             inplace\u001b[38;5;241m=\u001b[39minplace,\n\u001b[0;32m     81\u001b[0m         )\n\u001b[0;32m     83\u001b[0m         \u001b[38;5;28;01mif\u001b[39;00m return_check_obj:\n\u001b[0;32m     84\u001b[0m             \u001b[38;5;28;01mreturn\u001b[39;00m validated_check_obj\n",
      "File \u001b[1;32m~\\anaconda3\\Lib\\site-packages\\pandera\\backends\\pandas\\array.py:81\u001b[0m, in \u001b[0;36mArraySchemaBackend.validate\u001b[1;34m(self, check_obj, schema, head, tail, sample, random_state, lazy, inplace)\u001b[0m\n\u001b[0;32m     75\u001b[0m check_obj \u001b[38;5;241m=\u001b[39m \u001b[38;5;28mself\u001b[39m\u001b[38;5;241m.\u001b[39mrun_parsers(\n\u001b[0;32m     76\u001b[0m     schema,\n\u001b[0;32m     77\u001b[0m     check_obj,\n\u001b[0;32m     78\u001b[0m )\n\u001b[0;32m     80\u001b[0m \u001b[38;5;66;03m# run the core checks\u001b[39;00m\n\u001b[1;32m---> 81\u001b[0m error_handler \u001b[38;5;241m=\u001b[39m \u001b[38;5;28mself\u001b[39m\u001b[38;5;241m.\u001b[39mrun_checks_and_handle_errors(\n\u001b[0;32m     82\u001b[0m     error_handler,\n\u001b[0;32m     83\u001b[0m     schema,\n\u001b[0;32m     84\u001b[0m     check_obj,\n\u001b[0;32m     85\u001b[0m     head\u001b[38;5;241m=\u001b[39mhead,\n\u001b[0;32m     86\u001b[0m     tail\u001b[38;5;241m=\u001b[39mtail,\n\u001b[0;32m     87\u001b[0m     sample\u001b[38;5;241m=\u001b[39msample,\n\u001b[0;32m     88\u001b[0m     random_state\u001b[38;5;241m=\u001b[39mrandom_state,\n\u001b[0;32m     89\u001b[0m )\n\u001b[0;32m     91\u001b[0m \u001b[38;5;28;01mif\u001b[39;00m lazy \u001b[38;5;129;01mand\u001b[39;00m error_handler\u001b[38;5;241m.\u001b[39mcollected_errors:\n\u001b[0;32m     92\u001b[0m     \u001b[38;5;28;01mif\u001b[39;00m \u001b[38;5;28mgetattr\u001b[39m(schema, \u001b[38;5;124m\"\u001b[39m\u001b[38;5;124mdrop_invalid_rows\u001b[39m\u001b[38;5;124m\"\u001b[39m, \u001b[38;5;28;01mFalse\u001b[39;00m):\n",
      "File \u001b[1;32m~\\anaconda3\\Lib\\site-packages\\pandera\\backends\\pandas\\array.py:145\u001b[0m, in \u001b[0;36mArraySchemaBackend.run_checks_and_handle_errors\u001b[1;34m(self, error_handler, schema, check_obj, **subsample_kwargs)\u001b[0m\n\u001b[0;32m    134\u001b[0m         \u001b[38;5;28;01melse\u001b[39;00m:\n\u001b[0;32m    135\u001b[0m             error \u001b[38;5;241m=\u001b[39m SchemaError(\n\u001b[0;32m    136\u001b[0m                 schema\u001b[38;5;241m=\u001b[39mschema,\n\u001b[0;32m    137\u001b[0m                 data\u001b[38;5;241m=\u001b[39mcheck_obj,\n\u001b[1;32m   (...)\u001b[0m\n\u001b[0;32m    143\u001b[0m                 reason_code\u001b[38;5;241m=\u001b[39mresult\u001b[38;5;241m.\u001b[39mreason_code,\n\u001b[0;32m    144\u001b[0m             )\n\u001b[1;32m--> 145\u001b[0m             error_handler\u001b[38;5;241m.\u001b[39mcollect_error(\n\u001b[0;32m    146\u001b[0m                 validation_type(result\u001b[38;5;241m.\u001b[39mreason_code),\n\u001b[0;32m    147\u001b[0m                 result\u001b[38;5;241m.\u001b[39mreason_code,\n\u001b[0;32m    148\u001b[0m                 error,\n\u001b[0;32m    149\u001b[0m                 original_exc\u001b[38;5;241m=\u001b[39mresult\u001b[38;5;241m.\u001b[39moriginal_exc,\n\u001b[0;32m    150\u001b[0m             )\n\u001b[0;32m    152\u001b[0m \u001b[38;5;28;01mreturn\u001b[39;00m error_handler\n",
      "File \u001b[1;32m~\\anaconda3\\Lib\\site-packages\\pandera\\api\\base\\error_handler.py:54\u001b[0m, in \u001b[0;36mErrorHandler.collect_error\u001b[1;34m(self, error_type, reason_code, schema_error, original_exc)\u001b[0m\n\u001b[0;32m     47\u001b[0m \u001b[38;5;250m\u001b[39m\u001b[38;5;124;03m\"\"\"Collect schema error, raising exception if lazy is False.\u001b[39;00m\n\u001b[0;32m     48\u001b[0m \n\u001b[0;32m     49\u001b[0m \u001b[38;5;124;03m:param error_type: type of error\u001b[39;00m\n\u001b[0;32m     50\u001b[0m \u001b[38;5;124;03m:param reason_code: string representing reason for error\u001b[39;00m\n\u001b[0;32m     51\u001b[0m \u001b[38;5;124;03m:param schema_error: ``SchemaError`` object.\u001b[39;00m\n\u001b[0;32m     52\u001b[0m \u001b[38;5;124;03m\"\"\"\u001b[39;00m\n\u001b[0;32m     53\u001b[0m \u001b[38;5;28;01mif\u001b[39;00m \u001b[38;5;129;01mnot\u001b[39;00m \u001b[38;5;28mself\u001b[39m\u001b[38;5;241m.\u001b[39m_lazy:\n\u001b[1;32m---> 54\u001b[0m     \u001b[38;5;28;01mraise\u001b[39;00m schema_error \u001b[38;5;28;01mfrom\u001b[39;00m \u001b[38;5;21;01moriginal_exc\u001b[39;00m\n\u001b[0;32m     56\u001b[0m \u001b[38;5;66;03m# delete data of validated object from SchemaError object to prevent\u001b[39;00m\n\u001b[0;32m     57\u001b[0m \u001b[38;5;66;03m# storing copies of the validated DataFrame/Series for every\u001b[39;00m\n\u001b[0;32m     58\u001b[0m \u001b[38;5;66;03m# SchemaError collected.\u001b[39;00m\n\u001b[0;32m     59\u001b[0m \u001b[38;5;28;01mif\u001b[39;00m \u001b[38;5;28mhasattr\u001b[39m(schema_error, \u001b[38;5;124m\"\u001b[39m\u001b[38;5;124mdata\u001b[39m\u001b[38;5;124m\"\u001b[39m):\n",
      "\u001b[1;31mSchemaError\u001b[0m: Column 'Edad' failed series or dataframe validator 0: <Check validar_edad>"
     ]
    }
   ],
   "source": [
    "import pandera as pa\n",
    "from pandera import Column, DataFrameSchema, Check\n",
    "\n",
    "# Función personalizada para verificar la edad y generar un mensaje específico\n",
    "def validar_edad(series):\n",
    "    # Verifica que las edades estén entre 0 y 120\n",
    "    if (series >= 0).all() and (series <= 120).all():\n",
    "        return True\n",
    "    else:\n",
    "        # Imprime mensaje si alguna edad no cumple\n",
    "        print(\"Hay que corregir la columna Edad: valores fuera del rango 0-120.\")\n",
    "        return False\n",
    "\n",
    "# Definir el esquema de validación con la función personalizada\n",
    "schema = DataFrameSchema({\n",
    "    \"Edad\": Column(int, Check(validar_edad), nullable=False),\n",
    "    \"Sexo\": Column(int, Check.isin([1, 2]), nullable=False),\n",
    "    \"C_Entidad\": Column(int, Check.in_range(1, 32), nullable=False),\n",
    "    \"Entidad\": Column(str, Check(lambda s: s.str.isalpha()), nullable=False),\n",
    "    \"Fecha\": Column(pa.DateTime, nullable=True),\n",
    "    \"Atentar_contras_si\": Column(float, Check.isin([1.0, None]), nullable=True),\n",
    "    \"Depresion\": Column(float, Check.isin([1.0, None]), nullable=True),\n",
    "    \"Tristeza\": Column(float, Check.isin([1.0, None]), nullable=True),\n",
    "    \"Cuantos cigarrillos (numero)\": Column(float, Check.ge(0), nullable=True),\n",
    "    \"Frecuencia emborrachar\": Column(float, Check.ge(0), nullable=True),\n",
    "})\n",
    "\n",
    "# Aplicar el esquema de validación\n",
    "try:\n",
    "    validated_df = schema.validate(df)\n",
    "    print(\"Validación exitosa.\")\n",
    "except pa.errors.SchemaErrors as e:\n",
    "    print(\"Errores de validación:\", e)\n"
   ]
  }
 ],
 "metadata": {
  "kernelspec": {
   "display_name": "Python 3 (ipykernel)",
   "language": "python",
   "name": "python3"
  },
  "language_info": {
   "codemirror_mode": {
    "name": "ipython",
    "version": 3
   },
   "file_extension": ".py",
   "mimetype": "text/x-python",
   "name": "python",
   "nbconvert_exporter": "python",
   "pygments_lexer": "ipython3",
   "version": "3.12.4"
  }
 },
 "nbformat": 4,
 "nbformat_minor": 5
}
