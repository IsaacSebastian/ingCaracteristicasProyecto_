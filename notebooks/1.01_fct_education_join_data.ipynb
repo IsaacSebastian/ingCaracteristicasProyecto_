{
 "cells": [
  {
   "cell_type": "code",
   "execution_count": 19,
   "metadata": {},
   "outputs": [],
   "source": [
    "import os\n",
    "import pandas as pd\n",
    "import re"
   ]
  },
  {
   "cell_type": "code",
   "execution_count": 2,
   "metadata": {},
   "outputs": [],
   "source": [
    "os.chdir(\"..\")\n",
    "data_path=\"data/interim\"\n"
   ]
  },
  {
   "cell_type": "code",
   "execution_count": 3,
   "metadata": {},
   "outputs": [
    {
     "data": {
      "text/plain": [
       "'/Users/federicocirett/Documents/GitHub/ingCaracteristicasProyecto_'"
      ]
     },
     "execution_count": 3,
     "metadata": {},
     "output_type": "execute_result"
    }
   ],
   "source": [
    "pwd"
   ]
  },
  {
   "cell_type": "markdown",
   "metadata": {},
   "source": [
    "Now that we are in the preferable working directory, I'll explore each data file's variables in order to figure out how to join each dataframe into a big dataset. Let's begin chronologically:"
   ]
  },
  {
   "cell_type": "markdown",
   "metadata": {},
   "source": [
    "# 1950-1995"
   ]
  },
  {
   "cell_type": "markdown",
   "metadata": {},
   "source": [
    "# 2000-2020"
   ]
  },
  {
   "cell_type": "code",
   "execution_count": 5,
   "metadata": {},
   "outputs": [
    {
     "name": "stderr",
     "output_type": "stream",
     "text": [
      "/var/folders/m5/26l5nfs54r94_664jm4k6zvr0000gn/T/ipykernel_9866/36002156.py:4: DtypeWarning: Columns (9) have mixed types. Specify dtype option on import or set low_memory=False.\n",
      "  df_2020=pd.read_csv(f\"{data_path}/2020.csv\")\n"
     ]
    }
   ],
   "source": [
    "df_2000=pd.read_csv(f\"{data_path}/2000.csv\")\n",
    "df_2005=pd.read_csv(f\"{data_path}/2005.csv\")\n",
    "df_2010=pd.read_csv(f\"{data_path}/2010.csv\")\n",
    "df_2020=pd.read_csv(f\"{data_path}/2020.csv\")"
   ]
  },
  {
   "cell_type": "code",
   "execution_count": 15,
   "metadata": {},
   "outputs": [
    {
     "data": {
      "text/plain": [
       "Index(['Unnamed: 0', 'Clave de entidad federativa', 'Entidad federativa',\n",
       "       'Clave de municipio o demarcación territorial',\n",
       "       'Municipio o demarcación territorial', 'Clave de localidad',\n",
       "       'Localidad', 'Longitud', 'Latitud', 'Altitud', 'Población total',\n",
       "       'Población femenina', 'Población masculina', 'Población de 0 a 2 años',\n",
       "       'Población femenina de 0 a 2 años', 'Población masculina de 0 a 2 años',\n",
       "       'Población de 3 años y más', 'Población femenina de 3 años y más',\n",
       "       'Población masculina de 3 años y más', 'Población de 5 años y más',\n",
       "       'Población femenina de 5 años y más',\n",
       "       'Población masculina de 5 años y más', 'Población de 12 años y más',\n",
       "       'Población femenina de 12 años y más',\n",
       "       'Población masculina de 12 años y más', 'Población de 15 años y más',\n",
       "       'Población femenina de 15 años y más',\n",
       "       'Población masculina de 15 años y más', 'Población de 18 años y más',\n",
       "       'Población femenina de 18 años y más',\n",
       "       'Población masculina de 18 años y más', 'Población de 3 a 5 años',\n",
       "       'Población femenina de 3 a 5 años', 'Población masculina de 3 a 5 años',\n",
       "       'Población de 6 a 11 años', 'Población femenina de 6 a 11 años',\n",
       "       'Población masculina de 6 a 11 años', 'Población de 8 a 14 años',\n",
       "       'Población femenina de 8 a 14 años',\n",
       "       'Población masculina de 8 a 14 años', 'Población de 12 a 14 años',\n",
       "       'Población femenina de 12 a 14 años',\n",
       "       'Población masculina de 12 a 14 años', 'Población de 15 a 17 años',\n",
       "       'Población femenina de 15 a 17 años',\n",
       "       'Población masculina de 15 a 17 años', 'Población de 18 a 24 años',\n",
       "       'Población femenina de 18 a 24 años',\n",
       "       'Población masculina de 18 a 24 años',\n",
       "       'Población femenina de 15 a 49 años', 'Población de 60 años y más',\n",
       "       'Población femenina de 60 años y más',\n",
       "       'Población masculina de 60 años y más', 'Relación hombres-mujeres',\n",
       "       'Población de 0 a 14 años', 'Población de 15 a 64 años',\n",
       "       'Población de 65 años y más', 'Población de 0 a 4 años',\n",
       "       'Población femenina de 0 a 4 años',\n",
       "       'Población masculina de 0 a 4 años'],\n",
       "      dtype='object')"
      ]
     },
     "execution_count": 15,
     "metadata": {},
     "output_type": "execute_result"
    }
   ],
   "source": [
    "df_2020.columns[:60]"
   ]
  },
  {
   "cell_type": "markdown",
   "metadata": {},
   "source": [
    "I think it will be a good idea to split the population columns into categories. For example, the 'Población de 15 años y más' column will be abreviated as 'POB_15+', and each description will be abreviated as well.\n",
    "\n",
    "I'll begin with abreviating the first part of the population columns.\n",
    "\n",
    "\n",
    "\n",
    "\n",
    "\n",
    "\n",
    "\n"
   ]
  },
  {
   "cell_type": "code",
   "execution_count": 16,
   "metadata": {},
   "outputs": [],
   "source": [
    "columns={'Clave de entidad federativa':'CVE_ENT',\n",
    "         'Entidad federativa':'ENT',\n",
    "         'Clave de municipio o demarcación territorial':'CVE TERR',\n",
    "         'Municipio o demarcación territorial':'MUN',\n",
    "         'Clave de localidad':'CVE_LOC',\n",
    "         'Localidad':'LOCALIDAD',\n",
    "         'Longitud':'LON',\n",
    "         'Latitud':'LAT',\n",
    "         'Altitud':'ALTI',\n",
    "         'Población total':'POB_TOT'\n",
    "}\n",
    "\n"
   ]
  },
  {
   "cell_type": "markdown",
   "metadata": {},
   "source": [
    "Now, I need to find a good use of regular expressions in order to speed things up. I want for the next columns to have the name structure: \"POB_[age_range]_[category]\". "
   ]
  },
  {
   "cell_type": "code",
   "execution_count": 22,
   "metadata": {},
   "outputs": [
    {
     "data": {
      "text/plain": [
       "'8 a 14'"
      ]
     },
     "execution_count": 22,
     "metadata": {},
     "output_type": "execute_result"
    }
   ],
   "source": [
    "age_range_pattern=r'\\d+ a \\d+' \n",
    "text='Población masculina de 8 a 14 años que no sabe leer y escribir'\n",
    "match=re.search(age_pattern,text)\n",
    "match.group()"
   ]
  },
  {
   "cell_type": "code",
   "execution_count": 55,
   "metadata": {},
   "outputs": [],
   "source": [
    "def age_range(text):\n",
    "    # Case for specified age range:\n",
    "    age_range_pattern=r'\\d+ a \\d+' \n",
    "    match=re.search(age_range_pattern,text)\n",
    "    if match:\n",
    "        return match.group()\n",
    "    # Case for ambiguos age range:\n",
    "    ambiguos_age_range_pattern=r\"\\d+ años y más\"\n",
    "    match=re.search(ambiguos_age_range_pattern,text)\n",
    "    if match:\n",
    "        text=match.group(0)\n",
    "        age_range=f\"{re.findall(r'\\d+',text)[0]}+\"\n",
    "        return age_range\n",
    "\n"
   ]
  },
  {
   "cell_type": "code",
   "execution_count": 57,
   "metadata": {},
   "outputs": [
    {
     "data": {
      "text/plain": [
       "'8 a 14'"
      ]
     },
     "execution_count": 57,
     "metadata": {},
     "output_type": "execute_result"
    }
   ],
   "source": [
    "text='Población masculina de 8 a 14 años que no sabe leer y escribir'\n",
    "age_range(text)"
   ]
  },
  {
   "cell_type": "code",
   "execution_count": 58,
   "metadata": {},
   "outputs": [
    {
     "data": {
      "text/plain": [
       "'12+'"
      ]
     },
     "execution_count": 58,
     "metadata": {},
     "output_type": "execute_result"
    }
   ],
   "source": [
    "text=\"Población masculina de 12 años y más ocupada\"\n",
    "age_range(text)"
   ]
  },
  {
   "cell_type": "code",
   "execution_count": 60,
   "metadata": {},
   "outputs": [
    {
     "data": {
      "text/plain": [
       "Index(['Población femenina de 70 a 74 años',\n",
       "       'Población masculina de 70 a 74 años', 'Población de 75 a 79 años',\n",
       "       'Población con discapacidad',\n",
       "       'Población con discapacidad para hablar o comunicarse',\n",
       "       'Población con discapacidad para oír, aun usando aparato auditivo',\n",
       "       'Población con discapacidad para vestirse, bañarse o comer',\n",
       "       'Población con discapacidad para recordar o concentrarse',\n",
       "       'Población con limitación',\n",
       "       'Población con limitación para caminar, subir o bajar',\n",
       "       'Población con limitación para ver, aun usando lentes',\n",
       "       'Población con limitación para hablar o comunicarse',\n",
       "       'Población con limitación para oír, aun usando aparato auditivo',\n",
       "       'Población con limitación para vestirse, bañarse o comer',\n",
       "       'Población con limitación para recordar o concentrarse',\n",
       "       'Población con algún problema o condición mental',\n",
       "       'Población sin discapacidad, limitación, problema o condición mental',\n",
       "       'Población de 3 a 5 años que no asiste a la escuela',\n",
       "       'Población femenina de 3 a 5 años que no asiste a la escuela',\n",
       "       'Población masculina de 3 a 5 años que no asiste a la escuela',\n",
       "       'Población de 6 a 11 años que no asiste a la escuela',\n",
       "       'Población femenina de 6 a 11 años que no asiste a la escuela',\n",
       "       'Población masculina de 6 a 11 años que no asiste a la escuela',\n",
       "       'Población de 12 a 14 años que no asiste a la escuela',\n",
       "       'Población femenina de 12 a 14 años que no asiste a la escuela',\n",
       "       'Población masculina de 12 a 14 años que no asiste a la escuela',\n",
       "       'Población de 15 a 17 años que asiste a la escuela',\n",
       "       'Población femenina de 15 a 17 años que asiste a la escuela',\n",
       "       'Población masculina de 15 a 17 años que asiste a la escuela',\n",
       "       'Población de 18 a 24 años que asiste a la escuela',\n",
       "       'Población femenina de 18 a 24 años que asiste a la escuela',\n",
       "       'Población masculina de 18 a 24 años que asiste a la escuela',\n",
       "       'Población de 8 a 14 años que no sabe leer y escribir',\n",
       "       'Población femenina de 8 a 14 años que no sabe leer y escribir',\n",
       "       'Población masculina de 8 a 14 años que no sabe leer y escribir',\n",
       "       'Población de 15 años y más analfabeta',\n",
       "       'Población femenina de 15 años y más analfabeta',\n",
       "       'Población masculina de 15 años y más analfabeta',\n",
       "       'Población de 15 años y más sin escolaridad',\n",
       "       'Población femenina de 15 años y más sin escolaridad',\n",
       "       'Población masculina de 15 años y más sin escolaridad',\n",
       "       'Población de 15 años y más con primaria incompleta',\n",
       "       'Población femenina de 15 años y más con primaria incompleta',\n",
       "       'Población masculina de 15 años y más con primaria incompleta',\n",
       "       'Población de 15 años y más con primaria completa',\n",
       "       'Población femenina de 15 años y más con primaria completa',\n",
       "       'Población masculina de 15 años y más con primaria completa',\n",
       "       'Población de 15 años y más con secundaria incompleta',\n",
       "       'Población femenina de 15 años y más con secundaria incompleta',\n",
       "       'Población masculina de 15 años y más con secundaria incompleta',\n",
       "       'Población de 15 años y más con secundaria completa',\n",
       "       'Población femenina de 15 años y más con secundaria completa',\n",
       "       'Población masculina de 15 años y más con secundaria completa',\n",
       "       'Población de 18 años y más con educación posbásica',\n",
       "       'Población femenina de 18 años y más con educación posbásica',\n",
       "       'Población masculina de 18 años y más con educación posbásica',\n",
       "       'Grado promedio de escolaridad',\n",
       "       'Grado promedio de escolaridad de la población femenina',\n",
       "       'Grado promedio de escolaridad de la población masculina',\n",
       "       'Población de 12 años y más económicamente activa',\n",
       "       'Población femenina de 12 años y más económicamente activa',\n",
       "       'Población masculina de 12 años y más económicamente activa',\n",
       "       'Población de 12 años y más no económicamente activa',\n",
       "       'Población femenina de 12 años y más no económicamente activa',\n",
       "       'Población masculina de 12 años y más no económicamente activa',\n",
       "       'Población de 12 años y más ocupada',\n",
       "       'Población femenina de 12 años y más ocupada',\n",
       "       'Población masculina de 12 años y más ocupada',\n",
       "       'Población de 12 años y más desocupada',\n",
       "       'Población femenina de 12 años y más desocupada',\n",
       "       'Población masculina de 12 años y más desocupada'],\n",
       "      dtype='object')"
      ]
     },
     "execution_count": 60,
     "metadata": {},
     "output_type": "execute_result"
    }
   ],
   "source": [
    "df_2020.columns[100:]"
   ]
  },
  {
   "cell_type": "code",
   "execution_count": 61,
   "metadata": {},
   "outputs": [],
   "source": [
    "def category(text):\n",
    "    categories={\n",
    "        \"que no asiste a la escuela\":\"NAE\",\n",
    "        \"que asiste a la escuela\":\"AE\",\n",
    "        \"que no sabe leer y escribir\":\"NSLE\",\n",
    "        \"analfabeta\":\"ANBT\",\n",
    "        \"sin escolaridad\":\"SIN_E\",\n",
    "        \"primaria completa\":\"PRIM_COM\",\n",
    "        \"primaria incompleta\":\"PRIM_INC\",\n",
    "        \"secundaria completa\":\"SEC_COM\",\n",
    "        \"secundaria incompleta\":\"SEC_INC\",\n",
    "        \"educación posbásica\":\"POSBASICA\"\n",
    "    }\n",
    "    for replacement,category in categories.items():\n",
    "        match=re.search(fr'{replacement}',text)\n",
    "        if match:\n",
    "            return category\n",
    "    print(\"No matches :( \")"
   ]
  },
  {
   "cell_type": "code",
   "execution_count": 62,
   "metadata": {},
   "outputs": [
    {
     "data": {
      "text/plain": [
       "'PRIM_INC'"
      ]
     },
     "execution_count": 62,
     "metadata": {},
     "output_type": "execute_result"
    }
   ],
   "source": [
    "text='Población masculina de 15 años y más con primaria incompleta'\n",
    "category(text)"
   ]
  },
  {
   "cell_type": "code",
   "execution_count": 65,
   "metadata": {},
   "outputs": [],
   "source": [
    "def population(text):\n",
    "    match=re.search(\"Población\",text)\n",
    "    if match:\n",
    "        sex=re.search(\"femenina|masculina\",text)\n",
    "        if sex:\n",
    "            letter=str.upper(sex.group()[0])\n",
    "            return f\"POB {letter}\"\n",
    "        return \"POB\""
   ]
  },
  {
   "cell_type": "code",
   "execution_count": 67,
   "metadata": {},
   "outputs": [
    {
     "data": {
      "text/plain": [
       "'POB'"
      ]
     },
     "execution_count": 67,
     "metadata": {},
     "output_type": "execute_result"
    }
   ],
   "source": [
    "text='Población de 15 años y más con primaria incompleta'\n",
    "population(text)"
   ]
  },
  {
   "cell_type": "code",
   "execution_count": null,
   "metadata": {},
   "outputs": [],
   "source": []
  }
 ],
 "metadata": {
  "kernelspec": {
   "display_name": "venv",
   "language": "python",
   "name": "python3"
  },
  "language_info": {
   "codemirror_mode": {
    "name": "ipython",
    "version": 3
   },
   "file_extension": ".py",
   "mimetype": "text/x-python",
   "name": "python",
   "nbconvert_exporter": "python",
   "pygments_lexer": "ipython3",
   "version": "3.12.5"
  }
 },
 "nbformat": 4,
 "nbformat_minor": 2
}
