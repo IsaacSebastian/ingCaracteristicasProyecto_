{
 "cells": [
  {
   "cell_type": "code",
   "execution_count": 1,
   "metadata": {},
   "outputs": [],
   "source": [
    "import requests\n",
    "import os\n",
    "import pandas as pd\n",
    "import seaborn as sns\n",
    "import matplotlib.pyplot as plt\n",
    "import math\n",
    "import numpy as np\n",
    "\n",
    "INTERIM_PATH=\"data/interim/ENIGH\"\n",
    "RAW_PATH=\"data/raw/DATOS EDUCACION/ENCUESTA NACIONAL DE INGRESOS Y GASTOS EN LOS HOGARES/Extracted\"\n"
   ]
  },
  {
   "cell_type": "code",
   "execution_count": 2,
   "metadata": {},
   "outputs": [],
   "source": [
    "os.chdir('..')"
   ]
  },
  {
   "cell_type": "code",
   "execution_count": 4,
   "metadata": {},
   "outputs": [
    {
     "name": "stderr",
     "output_type": "stream",
     "text": [
      "/var/folders/m5/26l5nfs54r94_664jm4k6zvr0000gn/T/ipykernel_26178/3428410353.py:2: DtypeWarning: Columns (11,12,13,14,15,16,17,18,27,31,32,33,43,44) have mixed types. Specify dtype option on import or set low_memory=False.\n",
      "  df_2022=pd.read_csv(data_path)\n"
     ]
    }
   ],
   "source": [
    "data_path=f\"{INTERIM_PATH}/2022.csv\"\n",
    "df_2022=pd.read_csv(data_path)\n"
   ]
  },
  {
   "cell_type": "code",
   "execution_count": 8,
   "metadata": {},
   "outputs": [
    {
     "name": "stdout",
     "output_type": "stream",
     "text": [
      "<class 'pandas.core.frame.DataFrame'>\n",
      "RangeIndex: 397182 entries, 0 to 397181\n",
      "Columns: 203 entries, Unnamed: 0 to delta\n",
      "dtypes: float64(4), int64(20), object(179)\n",
      "memory usage: 615.1+ MB\n"
     ]
    }
   ],
   "source": [
    "df_2022.info()"
   ]
  },
  {
   "cell_type": "code",
   "execution_count": 9,
   "metadata": {},
   "outputs": [
    {
     "data": {
      "text/plain": [
       "Index(['Unnamed: 0', 'folioviv', 'foliohog', 'numren', 'parentesco', 'sexo',\n",
       "       'edad', 'madre_hog', 'madre_id', 'padre_hog', 'padre_id', 'disc_camin',\n",
       "       'disc_ver', 'disc_brazo', 'disc_apren', 'disc_oir', 'disc_vest',\n",
       "       'disc_habla', 'disc_acti', 'cau_camin', 'cau_ver', 'cau_brazo',\n",
       "       'cau_apren', 'cau_oir', 'cau_vest', 'cau_habla', 'cau_acti', 'hablaind',\n",
       "       'lenguaind', 'hablaesp', 'comprenind', 'etnia', 'alfabetism',\n",
       "       'asis_esc', 'nivel', 'grado', 'tipoesc', 'tiene_b', 'otorg_b',\n",
       "       'forma_b', 'tiene_c', 'otorg_c', 'forma_c', 'nivelaprob', 'gradoaprob',\n",
       "       'antec_esc', 'residencia', 'edo_conyug', 'pareja_hog', 'conyuge_id',\n",
       "       'segsoc', 'ss_aa', 'ss_mm', 'redsoc_1', 'redsoc_2', 'redsoc_3',\n",
       "       'redsoc_4', 'redsoc_5', 'redsoc_6', 'hor_1', 'min_1', 'usotiempo1',\n",
       "       'hor_2', 'min_2', 'usotiempo2', 'hor_3', 'min_3', 'usotiempo3', 'hor_4',\n",
       "       'min_4', 'usotiempo4', 'hor_5', 'min_5', 'usotiempo5', 'hor_6', 'min_6',\n",
       "       'usotiempo6', 'hor_7', 'min_7', 'usotiempo7', 'hor_8', 'min_8',\n",
       "       'usotiempo8', 'pop_insabi', 'atemed', 'inst_1', 'inst_2', 'inst_3',\n",
       "       'inst_4', 'inst_5', 'inst_6', 'inscr_1', 'inscr_2', 'inscr_3',\n",
       "       'inscr_4', 'inscr_5', 'inscr_6', 'inscr_7', 'inscr_8', 'prob_anio'],\n",
       "      dtype='object')"
      ]
     },
     "execution_count": 9,
     "metadata": {},
     "output_type": "execute_result"
    }
   ],
   "source": [
    "df_2022.columns[:100]"
   ]
  },
  {
   "cell_type": "code",
   "execution_count": 11,
   "metadata": {},
   "outputs": [
    {
     "data": {
      "text/plain": [
       "Index(['prob_mes', 'prob_sal', 'aten_sal', 'servmed_1', 'servmed_2',\n",
       "       'servmed_3', 'servmed_4', 'servmed_5', 'servmed_6', 'servmed_7',\n",
       "       'servmed_8', 'servmed_9', 'servmed_10', 'servmed_11', 'servmed_12',\n",
       "       'hh_lug', 'mm_lug', 'hh_esp', 'mm_esp', 'pagoaten_1', 'pagoaten_2',\n",
       "       'pagoaten_3', 'pagoaten_4', 'pagoaten_5', 'pagoaten_6', 'pagoaten_7',\n",
       "       'noatenc_1', 'noatenc_2', 'noatenc_3', 'noatenc_4', 'noatenc_5',\n",
       "       'noatenc_6', 'noatenc_7', 'noatenc_8', 'noatenc_9', 'noatenc_10',\n",
       "       'noatenc_11', 'noatenc_12', 'noatenc_13', 'noatenc_14', 'noatenc_15',\n",
       "       'noatenc_16', 'norecib_1', 'norecib_2', 'norecib_3', 'norecib_4',\n",
       "       'norecib_5', 'norecib_6', 'norecib_7', 'norecib_8', 'norecib_9',\n",
       "       'norecib_10', 'norecib_11', 'norecib_12', 'razon_1', 'razon_2',\n",
       "       'razon_3', 'razon_4', 'razon_5', 'razon_6', 'razon_7', 'razon_8',\n",
       "       'razon_9', 'razon_10', 'razon_11', 'diabetes', 'pres_alta', 'peso',\n",
       "       'segvol_1', 'segvol_2', 'segvol_3', 'segvol_4', 'segvol_5', 'segvol_6',\n",
       "       'segvol_7', 'hijos_viv', 'hijos_mue', 'hijos_sob', 'trabajo_mp',\n",
       "       'motivo_aus', 'act_pnea1', 'act_pnea2', 'num_trabaj', 'c_futuro',\n",
       "       'ct_futuro', 'entidad', 'est_dis', 'upm', 'factor', 'integrantes',\n",
       "       'año_nacimiento', 'generacion', 'index', 'gasto_tri', 'ing_tri',\n",
       "       'clave', 'numero_de_ingresos_hogar', 'ing_tri_hogar_total',\n",
       "       'ing_tri_individual_total', 'niveles_hogar'],\n",
       "      dtype='object')"
      ]
     },
     "execution_count": 11,
     "metadata": {},
     "output_type": "execute_result"
    }
   ],
   "source": [
    "df_2022.columns[100:200]"
   ]
  },
  {
   "cell_type": "code",
   "execution_count": 15,
   "metadata": {},
   "outputs": [],
   "source": [
    "df_2022=df_2022[ [\n",
    "                 # Integer\n",
    "                'folioviv', 'foliohog', 'numren', 'parentesco', 'edad',\n",
    "                'madre_hog', 'madre_id', 'padre_hog','num_trabaj','pareja_hog','conyuge_id',\n",
    "                \n",
    "                #Float\n",
    "                'gasto_tri', 'ing_tri','peso',\n",
    "\n",
    "                #Categorical\n",
    "                'alfabetism','generacion','entidad','asis_esc','grado','nivel','tipoesc','gradoaprob','clave',\n",
    "                'sexo','nivelaprob','edo_conyug',\n",
    "                \n",
    "                #String\n",
    "\n",
    "\n",
    "                \n",
    "                \n",
    "                 \n",
    "                'antec_esc'\n",
    "                \n",
    "                ] ]"
   ]
  },
  {
   "cell_type": "code",
   "execution_count": 16,
   "metadata": {},
   "outputs": [
    {
     "name": "stdout",
     "output_type": "stream",
     "text": [
      "<class 'pandas.core.frame.DataFrame'>\n",
      "RangeIndex: 397182 entries, 0 to 397181\n",
      "Data columns (total 27 columns):\n",
      " #   Column      Non-Null Count   Dtype  \n",
      "---  ------      --------------   -----  \n",
      " 0   folioviv    397182 non-null  int64  \n",
      " 1   foliohog    397182 non-null  int64  \n",
      " 2   numren      397182 non-null  int64  \n",
      " 3   parentesco  397182 non-null  int64  \n",
      " 4   edad        397182 non-null  int64  \n",
      " 5   madre_hog   397182 non-null  int64  \n",
      " 6   madre_id    397182 non-null  object \n",
      " 7   padre_hog   397182 non-null  int64  \n",
      " 8   num_trabaj  397182 non-null  object \n",
      " 9   pareja_hog  397182 non-null  object \n",
      " 10  conyuge_id  397182 non-null  object \n",
      " 11  gasto_tri   397182 non-null  float64\n",
      " 12  ing_tri     397182 non-null  float64\n",
      " 13  peso        397182 non-null  int64  \n",
      " 14  alfabetism  397182 non-null  object \n",
      " 15  generacion  397182 non-null  object \n",
      " 16  entidad     397182 non-null  int64  \n",
      " 17  asis_esc    397182 non-null  object \n",
      " 18  grado       397182 non-null  object \n",
      " 19  nivel       397182 non-null  object \n",
      " 20  tipoesc     397182 non-null  object \n",
      " 21  gradoaprob  397182 non-null  object \n",
      " 22  clave       397182 non-null  object \n",
      " 23  sexo        397182 non-null  int64  \n",
      " 24  nivelaprob  397182 non-null  object \n",
      " 25  edo_conyug  397182 non-null  object \n",
      " 26  antec_esc   397182 non-null  object \n",
      "dtypes: float64(2), int64(10), object(15)\n",
      "memory usage: 81.8+ MB\n"
     ]
    }
   ],
   "source": [
    "df_2022.info()"
   ]
  },
  {
   "cell_type": "code",
   "execution_count": 18,
   "metadata": {},
   "outputs": [
    {
     "data": {
      "text/plain": [
       "array([' ', '3', '4', '2', '1', '5'], dtype=object)"
      ]
     },
     "execution_count": 18,
     "metadata": {},
     "output_type": "execute_result"
    }
   ],
   "source": [
    "df_2022.antec_esc.unique()"
   ]
  },
  {
   "cell_type": "code",
   "execution_count": 20,
   "metadata": {},
   "outputs": [],
   "source": [
    "df_2022=df_2022[df_2022['alfabetism']!=' ']\n",
    "df_2022['alfabetism']=df_2022['alfabetism'].astype('int')"
   ]
  },
  {
   "cell_type": "code",
   "execution_count": 52,
   "metadata": {},
   "outputs": [],
   "source": [
    "df=df_2022[ [\n",
    "                 # Integer\n",
    "                'folioviv', 'foliohog', 'numren', 'edad',\n",
    "                'madre_hog', 'padre_hog','num_trabaj','pareja_hog',\n",
    "                \n",
    "                #Float\n",
    "                'gasto_tri', 'ing_tri','peso',\n",
    "\n",
    "                #Categorical\n",
    "                'alfabetism','generacion','entidad','grado','nivel','tipoesc','gradoaprob','clave',\n",
    "                'sexo','nivelaprob','edo_conyug','asis_esc',\n",
    "                \n",
    "                #String\n",
    "\n",
    "\n",
    "                \n",
    "                \n",
    "                 \n",
    "                'antec_esc',   \n",
    "                \n",
    "                ] ]"
   ]
  },
  {
   "cell_type": "code",
   "execution_count": 24,
   "metadata": {},
   "outputs": [
    {
     "name": "stdout",
     "output_type": "stream",
     "text": [
      "<class 'pandas.core.frame.DataFrame'>\n",
      "Index: 396263 entries, 0 to 397181\n",
      "Data columns (total 23 columns):\n",
      " #   Column      Non-Null Count   Dtype  \n",
      "---  ------      --------------   -----  \n",
      " 0   folioviv    396263 non-null  int64  \n",
      " 1   foliohog    396263 non-null  int64  \n",
      " 2   numren      396263 non-null  int64  \n",
      " 3   edad        396263 non-null  int64  \n",
      " 4   madre_hog   396263 non-null  int64  \n",
      " 5   padre_hog   396263 non-null  int64  \n",
      " 6   num_trabaj  396263 non-null  object \n",
      " 7   pareja_hog  396263 non-null  object \n",
      " 8   gasto_tri   396263 non-null  float64\n",
      " 9   ing_tri     396263 non-null  float64\n",
      " 10  peso        396263 non-null  int64  \n",
      " 11  alfabetism  396263 non-null  int64  \n",
      " 12  generacion  396263 non-null  object \n",
      " 13  entidad     396263 non-null  int64  \n",
      " 14  grado       396263 non-null  object \n",
      " 15  nivel       396263 non-null  object \n",
      " 16  tipoesc     396263 non-null  object \n",
      " 17  gradoaprob  396263 non-null  object \n",
      " 18  clave       396263 non-null  object \n",
      " 19  sexo        396263 non-null  int64  \n",
      " 20  nivelaprob  396263 non-null  object \n",
      " 21  edo_conyug  396263 non-null  object \n",
      " 22  antec_esc   396263 non-null  object \n",
      "dtypes: float64(2), int64(10), object(11)\n",
      "memory usage: 72.6+ MB\n"
     ]
    }
   ],
   "source": [
    "df.info()"
   ]
  },
  {
   "cell_type": "markdown",
   "metadata": {},
   "source": [
    "## num_trabaj"
   ]
  },
  {
   "cell_type": "code",
   "execution_count": 25,
   "metadata": {},
   "outputs": [
    {
     "data": {
      "text/plain": [
       "array([' ', '1', '2'], dtype=object)"
      ]
     },
     "execution_count": 25,
     "metadata": {},
     "output_type": "execute_result"
    }
   ],
   "source": [
    "df.num_trabaj.unique()"
   ]
  },
  {
   "cell_type": "code",
   "execution_count": 29,
   "metadata": {},
   "outputs": [
    {
     "data": {
      "text/plain": [
       "array(['P104', 'P037', 'P041', 'P032', 'P067', 'P022', 'P027', 'P024',\n",
       "       'P040', 'P038', 'P102', 'P051', 'P023', 'P063', 'P062', 'P045',\n",
       "       'P101', 'P103', 'P105', 'P053', 'P059', 'P036', 'P107', 'P108',\n",
       "       'P066', 'P035', 'P050', 'P052', 'P054', 'P049', 'P033', 'P026',\n",
       "       'P043', 'P057', 'P031', 'P058', 'P106', 'P061', 'P039', 'P048',\n",
       "       'P025', 'P034', 'P060', 'P064', 'P065', 'P028', 'P030', 'P055',\n",
       "       'P029'], dtype=object)"
      ]
     },
     "execution_count": 29,
     "metadata": {},
     "output_type": "execute_result"
    }
   ],
   "source": [
    "df[df['num_trabaj']==' '].clave.unique()"
   ]
  },
  {
   "cell_type": "markdown",
   "metadata": {},
   "source": [
    "From what I can tell, ' ' in the 'num_trabaj' column means the individual is not currently working at the time of the interview. We'll replace each of these with 'No job' in the categorical column that will replace it. "
   ]
  },
  {
   "cell_type": "markdown",
   "metadata": {},
   "source": [
    "## pareja_hog"
   ]
  },
  {
   "cell_type": "code",
   "execution_count": 30,
   "metadata": {},
   "outputs": [
    {
     "data": {
      "text/plain": [
       "array([' ', '1', '2'], dtype=object)"
      ]
     },
     "execution_count": 30,
     "metadata": {},
     "output_type": "execute_result"
    }
   ],
   "source": [
    "df.pareja_hog.unique()"
   ]
  },
  {
   "cell_type": "code",
   "execution_count": 33,
   "metadata": {},
   "outputs": [
    {
     "data": {
      "text/plain": [
       "array(['5', '6', ' ', '4', '3'], dtype=object)"
      ]
     },
     "execution_count": 33,
     "metadata": {},
     "output_type": "execute_result"
    }
   ],
   "source": [
    "df[df['pareja_hog']==' '].edo_conyug.unique()"
   ]
  },
  {
   "cell_type": "code",
   "execution_count": 35,
   "metadata": {},
   "outputs": [
    {
     "data": {
      "text/plain": [
       "array([11, 10,  9,  7,  8,  6,  5,  3,  4])"
      ]
     },
     "execution_count": 35,
     "metadata": {},
     "output_type": "execute_result"
    }
   ],
   "source": [
    "df[df['edo_conyug']==' '].edad.unique()"
   ]
  },
  {
   "cell_type": "markdown",
   "metadata": {},
   "source": [
    "From what I can tell, ' ' in the 'pareja_hog' column means the individual is not currently living with their couple at the time of the interview. We'll replace each of these with 'No couple' in the categorical column that will replace it. "
   ]
  },
  {
   "cell_type": "markdown",
   "metadata": {},
   "source": [
    "## grado"
   ]
  },
  {
   "cell_type": "code",
   "execution_count": 37,
   "metadata": {},
   "outputs": [],
   "source": [
    "column_name='grado'"
   ]
  },
  {
   "cell_type": "code",
   "execution_count": 39,
   "metadata": {},
   "outputs": [
    {
     "data": {
      "text/plain": [
       "array([' ', '2', '3', '6', '1', '4', '5'], dtype=object)"
      ]
     },
     "execution_count": 39,
     "metadata": {},
     "output_type": "execute_result"
    }
   ],
   "source": [
    "df[column_name].unique()"
   ]
  },
  {
   "cell_type": "code",
   "execution_count": 42,
   "metadata": {},
   "outputs": [
    {
     "data": {
      "text/plain": [
       "array(['2', '4', '7', '8', '3', '5', '6', '0', '9', '1', 2, 8, 7, 3, 4, 6,\n",
       "       0, 5, 9], dtype=object)"
      ]
     },
     "execution_count": 42,
     "metadata": {},
     "output_type": "execute_result"
    }
   ],
   "source": [
    "df[df[column_name]==' '].nivelaprob.unique()"
   ]
  },
  {
   "cell_type": "code",
   "execution_count": 44,
   "metadata": {},
   "outputs": [
    {
     "data": {
      "text/plain": [
       "array([' ', '04', '06'], dtype=object)"
      ]
     },
     "execution_count": 44,
     "metadata": {},
     "output_type": "execute_result"
    }
   ],
   "source": [
    "df[df[column_name]==' '].nivel.unique()"
   ]
  },
  {
   "cell_type": "code",
   "execution_count": 47,
   "metadata": {},
   "outputs": [
    {
     "data": {
      "text/html": [
       "<div>\n",
       "<style scoped>\n",
       "    .dataframe tbody tr th:only-of-type {\n",
       "        vertical-align: middle;\n",
       "    }\n",
       "\n",
       "    .dataframe tbody tr th {\n",
       "        vertical-align: top;\n",
       "    }\n",
       "\n",
       "    .dataframe thead th {\n",
       "        text-align: right;\n",
       "    }\n",
       "</style>\n",
       "<table border=\"1\" class=\"dataframe\">\n",
       "  <thead>\n",
       "    <tr style=\"text-align: right;\">\n",
       "      <th></th>\n",
       "      <th>folioviv</th>\n",
       "      <th>foliohog</th>\n",
       "      <th>numren</th>\n",
       "      <th>edad</th>\n",
       "      <th>madre_hog</th>\n",
       "      <th>padre_hog</th>\n",
       "      <th>num_trabaj</th>\n",
       "      <th>pareja_hog</th>\n",
       "      <th>gasto_tri</th>\n",
       "      <th>ing_tri</th>\n",
       "      <th>...</th>\n",
       "      <th>entidad</th>\n",
       "      <th>grado</th>\n",
       "      <th>nivel</th>\n",
       "      <th>tipoesc</th>\n",
       "      <th>gradoaprob</th>\n",
       "      <th>clave</th>\n",
       "      <th>sexo</th>\n",
       "      <th>nivelaprob</th>\n",
       "      <th>edo_conyug</th>\n",
       "      <th>antec_esc</th>\n",
       "    </tr>\n",
       "  </thead>\n",
       "  <tbody>\n",
       "    <tr>\n",
       "      <th>171218</th>\n",
       "      <td>1403898806</td>\n",
       "      <td>1</td>\n",
       "      <td>2</td>\n",
       "      <td>11</td>\n",
       "      <td>2</td>\n",
       "      <td>2</td>\n",
       "      <td></td>\n",
       "      <td></td>\n",
       "      <td>69414.46</td>\n",
       "      <td>4721.31</td>\n",
       "      <td>...</td>\n",
       "      <td>14</td>\n",
       "      <td></td>\n",
       "      <td>06</td>\n",
       "      <td>2</td>\n",
       "      <td>5</td>\n",
       "      <td>P105</td>\n",
       "      <td>1</td>\n",
       "      <td>2</td>\n",
       "      <td></td>\n",
       "      <td></td>\n",
       "    </tr>\n",
       "  </tbody>\n",
       "</table>\n",
       "<p>1 rows × 23 columns</p>\n",
       "</div>"
      ],
      "text/plain": [
       "          folioviv  foliohog  numren  edad  madre_hog  padre_hog num_trabaj  \\\n",
       "171218  1403898806         1       2    11          2          2              \n",
       "\n",
       "       pareja_hog  gasto_tri  ing_tri  ...  entidad  grado nivel  tipoesc  \\\n",
       "171218              69414.46  4721.31  ...       14           06        2   \n",
       "\n",
       "       gradoaprob clave sexo nivelaprob edo_conyug  antec_esc  \n",
       "171218          5  P105    1          2                        \n",
       "\n",
       "[1 rows x 23 columns]"
      ]
     },
     "execution_count": 47,
     "metadata": {},
     "output_type": "execute_result"
    }
   ],
   "source": [
    "df[(df[column_name]==' ') & (df['nivel']=='06')]\n"
   ]
  },
  {
   "cell_type": "code",
   "execution_count": 54,
   "metadata": {},
   "outputs": [
    {
     "data": {
      "text/html": [
       "<div>\n",
       "<style scoped>\n",
       "    .dataframe tbody tr th:only-of-type {\n",
       "        vertical-align: middle;\n",
       "    }\n",
       "\n",
       "    .dataframe tbody tr th {\n",
       "        vertical-align: top;\n",
       "    }\n",
       "\n",
       "    .dataframe thead th {\n",
       "        text-align: right;\n",
       "    }\n",
       "</style>\n",
       "<table border=\"1\" class=\"dataframe\">\n",
       "  <thead>\n",
       "    <tr style=\"text-align: right;\">\n",
       "      <th></th>\n",
       "      <th>folioviv</th>\n",
       "      <th>foliohog</th>\n",
       "      <th>numren</th>\n",
       "      <th>edad</th>\n",
       "      <th>madre_hog</th>\n",
       "      <th>padre_hog</th>\n",
       "      <th>num_trabaj</th>\n",
       "      <th>pareja_hog</th>\n",
       "      <th>gasto_tri</th>\n",
       "      <th>ing_tri</th>\n",
       "      <th>...</th>\n",
       "      <th>grado</th>\n",
       "      <th>nivel</th>\n",
       "      <th>tipoesc</th>\n",
       "      <th>gradoaprob</th>\n",
       "      <th>clave</th>\n",
       "      <th>sexo</th>\n",
       "      <th>nivelaprob</th>\n",
       "      <th>edo_conyug</th>\n",
       "      <th>asis_esc</th>\n",
       "      <th>antec_esc</th>\n",
       "    </tr>\n",
       "  </thead>\n",
       "  <tbody>\n",
       "    <tr>\n",
       "      <th>55852</th>\n",
       "      <td>501506805</td>\n",
       "      <td>1</td>\n",
       "      <td>2</td>\n",
       "      <td>25</td>\n",
       "      <td>1</td>\n",
       "      <td>2</td>\n",
       "      <td></td>\n",
       "      <td></td>\n",
       "      <td>13903.69</td>\n",
       "      <td>4131.14</td>\n",
       "      <td>...</td>\n",
       "      <td></td>\n",
       "      <td>04</td>\n",
       "      <td>1</td>\n",
       "      <td>5</td>\n",
       "      <td>P101</td>\n",
       "      <td>1</td>\n",
       "      <td>9</td>\n",
       "      <td>6</td>\n",
       "      <td>1</td>\n",
       "      <td>5</td>\n",
       "    </tr>\n",
       "    <tr>\n",
       "      <th>58641</th>\n",
       "      <td>502910704</td>\n",
       "      <td>1</td>\n",
       "      <td>2</td>\n",
       "      <td>25</td>\n",
       "      <td>1</td>\n",
       "      <td>2</td>\n",
       "      <td></td>\n",
       "      <td></td>\n",
       "      <td>19706.50</td>\n",
       "      <td>4131.14</td>\n",
       "      <td>...</td>\n",
       "      <td></td>\n",
       "      <td>04</td>\n",
       "      <td>1</td>\n",
       "      <td>5</td>\n",
       "      <td>P105</td>\n",
       "      <td>1</td>\n",
       "      <td>9</td>\n",
       "      <td>6</td>\n",
       "      <td>1</td>\n",
       "      <td>5</td>\n",
       "    </tr>\n",
       "  </tbody>\n",
       "</table>\n",
       "<p>2 rows × 24 columns</p>\n",
       "</div>"
      ],
      "text/plain": [
       "        folioviv  foliohog  numren  edad  madre_hog  padre_hog num_trabaj  \\\n",
       "55852  501506805         1       2    25          1          2              \n",
       "58641  502910704         1       2    25          1          2              \n",
       "\n",
       "      pareja_hog  gasto_tri  ing_tri  ...  grado  nivel tipoesc  gradoaprob  \\\n",
       "55852              13903.69  4131.14  ...            04       1           5   \n",
       "58641              19706.50  4131.14  ...            04       1           5   \n",
       "\n",
       "      clave sexo nivelaprob edo_conyug asis_esc  antec_esc  \n",
       "55852  P101    1          9          6        1          5  \n",
       "58641  P105    1          9          6        1          5  \n",
       "\n",
       "[2 rows x 24 columns]"
      ]
     },
     "execution_count": 54,
     "metadata": {},
     "output_type": "execute_result"
    }
   ],
   "source": [
    "df[(df[column_name]==' ') & (df['nivel']=='04')]"
   ]
  },
  {
   "cell_type": "code",
   "execution_count": 56,
   "metadata": {},
   "outputs": [
    {
     "data": {
      "text/plain": [
       "array(['2', '1', 2], dtype=object)"
      ]
     },
     "execution_count": 56,
     "metadata": {},
     "output_type": "execute_result"
    }
   ],
   "source": [
    "df[df[column_name]==' '].asis_esc.unique()"
   ]
  },
  {
   "cell_type": "code",
   "execution_count": 59,
   "metadata": {},
   "outputs": [
    {
     "data": {
      "text/html": [
       "<div>\n",
       "<style scoped>\n",
       "    .dataframe tbody tr th:only-of-type {\n",
       "        vertical-align: middle;\n",
       "    }\n",
       "\n",
       "    .dataframe tbody tr th {\n",
       "        vertical-align: top;\n",
       "    }\n",
       "\n",
       "    .dataframe thead th {\n",
       "        text-align: right;\n",
       "    }\n",
       "</style>\n",
       "<table border=\"1\" class=\"dataframe\">\n",
       "  <thead>\n",
       "    <tr style=\"text-align: right;\">\n",
       "      <th></th>\n",
       "      <th>folioviv</th>\n",
       "      <th>foliohog</th>\n",
       "      <th>numren</th>\n",
       "      <th>edad</th>\n",
       "      <th>madre_hog</th>\n",
       "      <th>padre_hog</th>\n",
       "      <th>num_trabaj</th>\n",
       "      <th>pareja_hog</th>\n",
       "      <th>gasto_tri</th>\n",
       "      <th>ing_tri</th>\n",
       "      <th>...</th>\n",
       "      <th>grado</th>\n",
       "      <th>nivel</th>\n",
       "      <th>tipoesc</th>\n",
       "      <th>gradoaprob</th>\n",
       "      <th>clave</th>\n",
       "      <th>sexo</th>\n",
       "      <th>nivelaprob</th>\n",
       "      <th>edo_conyug</th>\n",
       "      <th>asis_esc</th>\n",
       "      <th>antec_esc</th>\n",
       "    </tr>\n",
       "  </thead>\n",
       "  <tbody>\n",
       "    <tr>\n",
       "      <th>55852</th>\n",
       "      <td>501506805</td>\n",
       "      <td>1</td>\n",
       "      <td>2</td>\n",
       "      <td>25</td>\n",
       "      <td>1</td>\n",
       "      <td>2</td>\n",
       "      <td></td>\n",
       "      <td></td>\n",
       "      <td>13903.69</td>\n",
       "      <td>4131.14</td>\n",
       "      <td>...</td>\n",
       "      <td></td>\n",
       "      <td>04</td>\n",
       "      <td>1</td>\n",
       "      <td>5</td>\n",
       "      <td>P101</td>\n",
       "      <td>1</td>\n",
       "      <td>9</td>\n",
       "      <td>6</td>\n",
       "      <td>1</td>\n",
       "      <td>5</td>\n",
       "    </tr>\n",
       "    <tr>\n",
       "      <th>58641</th>\n",
       "      <td>502910704</td>\n",
       "      <td>1</td>\n",
       "      <td>2</td>\n",
       "      <td>25</td>\n",
       "      <td>1</td>\n",
       "      <td>2</td>\n",
       "      <td></td>\n",
       "      <td></td>\n",
       "      <td>19706.50</td>\n",
       "      <td>4131.14</td>\n",
       "      <td>...</td>\n",
       "      <td></td>\n",
       "      <td>04</td>\n",
       "      <td>1</td>\n",
       "      <td>5</td>\n",
       "      <td>P105</td>\n",
       "      <td>1</td>\n",
       "      <td>9</td>\n",
       "      <td>6</td>\n",
       "      <td>1</td>\n",
       "      <td>5</td>\n",
       "    </tr>\n",
       "    <tr>\n",
       "      <th>171218</th>\n",
       "      <td>1403898806</td>\n",
       "      <td>1</td>\n",
       "      <td>2</td>\n",
       "      <td>11</td>\n",
       "      <td>2</td>\n",
       "      <td>2</td>\n",
       "      <td></td>\n",
       "      <td></td>\n",
       "      <td>69414.46</td>\n",
       "      <td>4721.31</td>\n",
       "      <td>...</td>\n",
       "      <td></td>\n",
       "      <td>06</td>\n",
       "      <td>2</td>\n",
       "      <td>5</td>\n",
       "      <td>P105</td>\n",
       "      <td>1</td>\n",
       "      <td>2</td>\n",
       "      <td></td>\n",
       "      <td>1</td>\n",
       "      <td></td>\n",
       "    </tr>\n",
       "  </tbody>\n",
       "</table>\n",
       "<p>3 rows × 24 columns</p>\n",
       "</div>"
      ],
      "text/plain": [
       "          folioviv  foliohog  numren  edad  madre_hog  padre_hog num_trabaj  \\\n",
       "55852    501506805         1       2    25          1          2              \n",
       "58641    502910704         1       2    25          1          2              \n",
       "171218  1403898806         1       2    11          2          2              \n",
       "\n",
       "       pareja_hog  gasto_tri  ing_tri  ...  grado  nivel tipoesc  gradoaprob  \\\n",
       "55852               13903.69  4131.14  ...            04       1           5   \n",
       "58641               19706.50  4131.14  ...            04       1           5   \n",
       "171218              69414.46  4721.31  ...            06       2           5   \n",
       "\n",
       "       clave sexo nivelaprob edo_conyug asis_esc  antec_esc  \n",
       "55852   P101    1          9          6        1          5  \n",
       "58641   P105    1          9          6        1          5  \n",
       "171218  P105    1          2                   1             \n",
       "\n",
       "[3 rows x 24 columns]"
      ]
     },
     "execution_count": 59,
     "metadata": {},
     "output_type": "execute_result"
    }
   ],
   "source": [
    "df[(df[column_name]==' ') &( df['asis_esc']=='1')]"
   ]
  },
  {
   "cell_type": "markdown",
   "metadata": {},
   "source": [
    "In this case, by looking at the ocurrences of ' ' in the column 'grado', it would appear as though it meant that the subject is not currently assisting school.  "
   ]
  },
  {
   "cell_type": "markdown",
   "metadata": {},
   "source": [
    "## nivel"
   ]
  },
  {
   "cell_type": "code",
   "execution_count": 60,
   "metadata": {},
   "outputs": [],
   "source": [
    "column_name='nivel'"
   ]
  },
  {
   "cell_type": "code",
   "execution_count": 61,
   "metadata": {},
   "outputs": [
    {
     "data": {
      "text/plain": [
       "array([' ', '07', '09', '06', '12', '11', '08', '01', '13', '10', '04'],\n",
       "      dtype=object)"
      ]
     },
     "execution_count": 61,
     "metadata": {},
     "output_type": "execute_result"
    }
   ],
   "source": [
    "df[column_name].unique()"
   ]
  },
  {
   "cell_type": "code",
   "execution_count": 64,
   "metadata": {},
   "outputs": [
    {
     "data": {
      "text/plain": [
       "array(['2', 2], dtype=object)"
      ]
     },
     "execution_count": 64,
     "metadata": {},
     "output_type": "execute_result"
    }
   ],
   "source": [
    "df[(df[column_name]==' ')].asis_esc.unique()"
   ]
  },
  {
   "cell_type": "code",
   "execution_count": 63,
   "metadata": {},
   "outputs": [
    {
     "data": {
      "text/html": [
       "<div>\n",
       "<style scoped>\n",
       "    .dataframe tbody tr th:only-of-type {\n",
       "        vertical-align: middle;\n",
       "    }\n",
       "\n",
       "    .dataframe tbody tr th {\n",
       "        vertical-align: top;\n",
       "    }\n",
       "\n",
       "    .dataframe thead th {\n",
       "        text-align: right;\n",
       "    }\n",
       "</style>\n",
       "<table border=\"1\" class=\"dataframe\">\n",
       "  <thead>\n",
       "    <tr style=\"text-align: right;\">\n",
       "      <th></th>\n",
       "      <th>folioviv</th>\n",
       "      <th>foliohog</th>\n",
       "      <th>numren</th>\n",
       "      <th>edad</th>\n",
       "      <th>madre_hog</th>\n",
       "      <th>padre_hog</th>\n",
       "      <th>num_trabaj</th>\n",
       "      <th>pareja_hog</th>\n",
       "      <th>gasto_tri</th>\n",
       "      <th>ing_tri</th>\n",
       "      <th>...</th>\n",
       "      <th>grado</th>\n",
       "      <th>nivel</th>\n",
       "      <th>tipoesc</th>\n",
       "      <th>gradoaprob</th>\n",
       "      <th>clave</th>\n",
       "      <th>sexo</th>\n",
       "      <th>nivelaprob</th>\n",
       "      <th>edo_conyug</th>\n",
       "      <th>asis_esc</th>\n",
       "      <th>antec_esc</th>\n",
       "    </tr>\n",
       "  </thead>\n",
       "  <tbody>\n",
       "  </tbody>\n",
       "</table>\n",
       "<p>0 rows × 24 columns</p>\n",
       "</div>"
      ],
      "text/plain": [
       "Empty DataFrame\n",
       "Columns: [folioviv, foliohog, numren, edad, madre_hog, padre_hog, num_trabaj, pareja_hog, gasto_tri, ing_tri, peso, alfabetism, generacion, entidad, grado, nivel, tipoesc, gradoaprob, clave, sexo, nivelaprob, edo_conyug, asis_esc, antec_esc]\n",
       "Index: []\n",
       "\n",
       "[0 rows x 24 columns]"
      ]
     },
     "execution_count": 63,
     "metadata": {},
     "output_type": "execute_result"
    }
   ],
   "source": [
    "df[(df[column_name]==' ') &( df['asis_esc']=='1')]"
   ]
  },
  {
   "cell_type": "markdown",
   "metadata": {},
   "source": [
    "Same case as the column 'grado' "
   ]
  },
  {
   "cell_type": "markdown",
   "metadata": {},
   "source": [
    "## tipoesc"
   ]
  },
  {
   "cell_type": "code",
   "execution_count": 65,
   "metadata": {},
   "outputs": [],
   "source": [
    "column_name='tipoesc'"
   ]
  },
  {
   "cell_type": "code",
   "execution_count": 66,
   "metadata": {},
   "outputs": [
    {
     "data": {
      "text/plain": [
       "array([' ', '2', '1', '3'], dtype=object)"
      ]
     },
     "execution_count": 66,
     "metadata": {},
     "output_type": "execute_result"
    }
   ],
   "source": [
    "df[column_name].unique()"
   ]
  },
  {
   "cell_type": "code",
   "execution_count": 68,
   "metadata": {},
   "outputs": [
    {
     "data": {
      "text/plain": [
       "array(['2', 2], dtype=object)"
      ]
     },
     "execution_count": 68,
     "metadata": {},
     "output_type": "execute_result"
    }
   ],
   "source": [
    "df[(df[column_name]==' ')].asis_esc.unique()"
   ]
  },
  {
   "cell_type": "markdown",
   "metadata": {},
   "source": [
    "Same case as column 'nivel'"
   ]
  },
  {
   "cell_type": "markdown",
   "metadata": {},
   "source": [
    "## gradoaprob\n"
   ]
  },
  {
   "cell_type": "code",
   "execution_count": 69,
   "metadata": {},
   "outputs": [],
   "source": [
    "column_name='gradoaprob'\n"
   ]
  },
  {
   "cell_type": "code",
   "execution_count": 70,
   "metadata": {},
   "outputs": [
    {
     "data": {
      "text/plain": [
       "array(['4', '3', '1', '5', '2', '6', '0', 4, 3, 5, 2, 6, 0, 1],\n",
       "      dtype=object)"
      ]
     },
     "execution_count": 70,
     "metadata": {},
     "output_type": "execute_result"
    }
   ],
   "source": [
    "df[column_name].unique()\n"
   ]
  },
  {
   "cell_type": "markdown",
   "metadata": {},
   "source": [
    "Just need to format the column correctly"
   ]
  },
  {
   "cell_type": "markdown",
   "metadata": {},
   "source": [
    "## nivelaprob"
   ]
  },
  {
   "cell_type": "code",
   "execution_count": 72,
   "metadata": {},
   "outputs": [],
   "source": [
    "column_name='nivelaprob'\n"
   ]
  },
  {
   "cell_type": "code",
   "execution_count": 73,
   "metadata": {},
   "outputs": [
    {
     "data": {
      "text/plain": [
       "array(['2', '4', '3', '7', '8', '5', '6', '0', '1', '9', 2, 8, 7, 3, 4, 6,\n",
       "       0, 1, 5, 9], dtype=object)"
      ]
     },
     "execution_count": 73,
     "metadata": {},
     "output_type": "execute_result"
    }
   ],
   "source": [
    "df[column_name].unique()\n"
   ]
  },
  {
   "cell_type": "code",
   "execution_count": 74,
   "metadata": {},
   "outputs": [
    {
     "data": {
      "text/plain": [
       "array([], dtype=object)"
      ]
     },
     "execution_count": 74,
     "metadata": {},
     "output_type": "execute_result"
    }
   ],
   "source": [
    "df[(df[column_name]==' ')].asis_esc.unique()"
   ]
  },
  {
   "cell_type": "markdown",
   "metadata": {},
   "source": [
    "Just need to format the column correctly"
   ]
  },
  {
   "cell_type": "markdown",
   "metadata": {},
   "source": [
    "## edo_conyug"
   ]
  },
  {
   "cell_type": "code",
   "execution_count": 75,
   "metadata": {},
   "outputs": [],
   "source": [
    "column_name='edo_conyug'\n"
   ]
  },
  {
   "cell_type": "code",
   "execution_count": 76,
   "metadata": {},
   "outputs": [
    {
     "data": {
      "text/plain": [
       "array(['5', '6', '2', '1', ' ', '4', '3'], dtype=object)"
      ]
     },
     "execution_count": 76,
     "metadata": {},
     "output_type": "execute_result"
    }
   ],
   "source": [
    "df[column_name].unique()\n"
   ]
  },
  {
   "cell_type": "code",
   "execution_count": 78,
   "metadata": {},
   "outputs": [
    {
     "data": {
      "text/plain": [
       "array([11, 10,  9,  7,  8,  6,  5,  3,  4])"
      ]
     },
     "execution_count": 78,
     "metadata": {},
     "output_type": "execute_result"
    }
   ],
   "source": [
    "df[(df[column_name]==' ')].edad.unique()"
   ]
  },
  {
   "cell_type": "markdown",
   "metadata": {},
   "source": [
    "The ocurrences of ' ' happen for individuals with less than 11 years old."
   ]
  },
  {
   "cell_type": "markdown",
   "metadata": {},
   "source": [
    "## antec_esc"
   ]
  },
  {
   "cell_type": "code",
   "execution_count": 79,
   "metadata": {},
   "outputs": [],
   "source": [
    "column_name='antec_esc'\n"
   ]
  },
  {
   "cell_type": "code",
   "execution_count": 80,
   "metadata": {},
   "outputs": [
    {
     "data": {
      "text/plain": [
       "array([' ', '3', '4', '2', '1', '5'], dtype=object)"
      ]
     },
     "execution_count": 80,
     "metadata": {},
     "output_type": "execute_result"
    }
   ],
   "source": [
    "df[column_name].unique()\n"
   ]
  },
  {
   "cell_type": "code",
   "execution_count": 82,
   "metadata": {},
   "outputs": [
    {
     "data": {
      "text/html": [
       "<div>\n",
       "<style scoped>\n",
       "    .dataframe tbody tr th:only-of-type {\n",
       "        vertical-align: middle;\n",
       "    }\n",
       "\n",
       "    .dataframe tbody tr th {\n",
       "        vertical-align: top;\n",
       "    }\n",
       "\n",
       "    .dataframe thead th {\n",
       "        text-align: right;\n",
       "    }\n",
       "</style>\n",
       "<table border=\"1\" class=\"dataframe\">\n",
       "  <thead>\n",
       "    <tr style=\"text-align: right;\">\n",
       "      <th></th>\n",
       "      <th>folioviv</th>\n",
       "      <th>foliohog</th>\n",
       "      <th>numren</th>\n",
       "      <th>edad</th>\n",
       "      <th>madre_hog</th>\n",
       "      <th>padre_hog</th>\n",
       "      <th>num_trabaj</th>\n",
       "      <th>pareja_hog</th>\n",
       "      <th>gasto_tri</th>\n",
       "      <th>ing_tri</th>\n",
       "      <th>...</th>\n",
       "      <th>grado</th>\n",
       "      <th>nivel</th>\n",
       "      <th>tipoesc</th>\n",
       "      <th>gradoaprob</th>\n",
       "      <th>clave</th>\n",
       "      <th>sexo</th>\n",
       "      <th>nivelaprob</th>\n",
       "      <th>edo_conyug</th>\n",
       "      <th>asis_esc</th>\n",
       "      <th>antec_esc</th>\n",
       "    </tr>\n",
       "  </thead>\n",
       "  <tbody>\n",
       "    <tr>\n",
       "      <th>0</th>\n",
       "      <td>100005002</td>\n",
       "      <td>1</td>\n",
       "      <td>1</td>\n",
       "      <td>91</td>\n",
       "      <td>2</td>\n",
       "      <td>2</td>\n",
       "      <td></td>\n",
       "      <td></td>\n",
       "      <td>32776.89</td>\n",
       "      <td>7434.78</td>\n",
       "      <td>...</td>\n",
       "      <td></td>\n",
       "      <td></td>\n",
       "      <td></td>\n",
       "      <td>4</td>\n",
       "      <td>P104</td>\n",
       "      <td>2</td>\n",
       "      <td>2</td>\n",
       "      <td>5</td>\n",
       "      <td>2</td>\n",
       "      <td></td>\n",
       "    </tr>\n",
       "    <tr>\n",
       "      <th>1</th>\n",
       "      <td>100005002</td>\n",
       "      <td>1</td>\n",
       "      <td>2</td>\n",
       "      <td>48</td>\n",
       "      <td>1</td>\n",
       "      <td>2</td>\n",
       "      <td>1</td>\n",
       "      <td></td>\n",
       "      <td>32776.89</td>\n",
       "      <td>33749.99</td>\n",
       "      <td>...</td>\n",
       "      <td></td>\n",
       "      <td></td>\n",
       "      <td></td>\n",
       "      <td>3</td>\n",
       "      <td>P001</td>\n",
       "      <td>2</td>\n",
       "      <td>4</td>\n",
       "      <td>6</td>\n",
       "      <td>2</td>\n",
       "      <td></td>\n",
       "    </tr>\n",
       "    <tr>\n",
       "      <th>2</th>\n",
       "      <td>100005002</td>\n",
       "      <td>1</td>\n",
       "      <td>2</td>\n",
       "      <td>48</td>\n",
       "      <td>1</td>\n",
       "      <td>2</td>\n",
       "      <td>1</td>\n",
       "      <td></td>\n",
       "      <td>32776.89</td>\n",
       "      <td>1956.52</td>\n",
       "      <td>...</td>\n",
       "      <td></td>\n",
       "      <td></td>\n",
       "      <td></td>\n",
       "      <td>3</td>\n",
       "      <td>P009</td>\n",
       "      <td>2</td>\n",
       "      <td>4</td>\n",
       "      <td>6</td>\n",
       "      <td>2</td>\n",
       "      <td></td>\n",
       "    </tr>\n",
       "    <tr>\n",
       "      <th>3</th>\n",
       "      <td>100005002</td>\n",
       "      <td>1</td>\n",
       "      <td>3</td>\n",
       "      <td>13</td>\n",
       "      <td>1</td>\n",
       "      <td>2</td>\n",
       "      <td></td>\n",
       "      <td></td>\n",
       "      <td>32776.89</td>\n",
       "      <td>391.30</td>\n",
       "      <td>...</td>\n",
       "      <td>2</td>\n",
       "      <td>07</td>\n",
       "      <td>2</td>\n",
       "      <td>1</td>\n",
       "      <td>P037</td>\n",
       "      <td>2</td>\n",
       "      <td>3</td>\n",
       "      <td>6</td>\n",
       "      <td>1</td>\n",
       "      <td></td>\n",
       "    </tr>\n",
       "    <tr>\n",
       "      <th>4</th>\n",
       "      <td>100005002</td>\n",
       "      <td>1</td>\n",
       "      <td>3</td>\n",
       "      <td>13</td>\n",
       "      <td>1</td>\n",
       "      <td>2</td>\n",
       "      <td></td>\n",
       "      <td></td>\n",
       "      <td>32776.89</td>\n",
       "      <td>978.26</td>\n",
       "      <td>...</td>\n",
       "      <td>2</td>\n",
       "      <td>07</td>\n",
       "      <td>2</td>\n",
       "      <td>1</td>\n",
       "      <td>P041</td>\n",
       "      <td>2</td>\n",
       "      <td>3</td>\n",
       "      <td>6</td>\n",
       "      <td>1</td>\n",
       "      <td></td>\n",
       "    </tr>\n",
       "    <tr>\n",
       "      <th>...</th>\n",
       "      <td>...</td>\n",
       "      <td>...</td>\n",
       "      <td>...</td>\n",
       "      <td>...</td>\n",
       "      <td>...</td>\n",
       "      <td>...</td>\n",
       "      <td>...</td>\n",
       "      <td>...</td>\n",
       "      <td>...</td>\n",
       "      <td>...</td>\n",
       "      <td>...</td>\n",
       "      <td>...</td>\n",
       "      <td>...</td>\n",
       "      <td>...</td>\n",
       "      <td>...</td>\n",
       "      <td>...</td>\n",
       "      <td>...</td>\n",
       "      <td>...</td>\n",
       "      <td>...</td>\n",
       "      <td>...</td>\n",
       "      <td>...</td>\n",
       "    </tr>\n",
       "    <tr>\n",
       "      <th>397175</th>\n",
       "      <td>3260797908</td>\n",
       "      <td>1</td>\n",
       "      <td>1</td>\n",
       "      <td>52</td>\n",
       "      <td>2</td>\n",
       "      <td>2</td>\n",
       "      <td>2</td>\n",
       "      <td>1</td>\n",
       "      <td>13198.75</td>\n",
       "      <td>2054.34</td>\n",
       "      <td>...</td>\n",
       "      <td></td>\n",
       "      <td></td>\n",
       "      <td></td>\n",
       "      <td>2</td>\n",
       "      <td>P014</td>\n",
       "      <td>1</td>\n",
       "      <td>3</td>\n",
       "      <td>2</td>\n",
       "      <td>2</td>\n",
       "      <td></td>\n",
       "    </tr>\n",
       "    <tr>\n",
       "      <th>397176</th>\n",
       "      <td>3260797908</td>\n",
       "      <td>1</td>\n",
       "      <td>1</td>\n",
       "      <td>52</td>\n",
       "      <td>2</td>\n",
       "      <td>2</td>\n",
       "      <td>2</td>\n",
       "      <td>1</td>\n",
       "      <td>13198.75</td>\n",
       "      <td>10271.73</td>\n",
       "      <td>...</td>\n",
       "      <td></td>\n",
       "      <td></td>\n",
       "      <td></td>\n",
       "      <td>2</td>\n",
       "      <td>P068</td>\n",
       "      <td>1</td>\n",
       "      <td>3</td>\n",
       "      <td>2</td>\n",
       "      <td>2</td>\n",
       "      <td></td>\n",
       "    </tr>\n",
       "    <tr>\n",
       "      <th>397177</th>\n",
       "      <td>3260797908</td>\n",
       "      <td>1</td>\n",
       "      <td>2</td>\n",
       "      <td>50</td>\n",
       "      <td>2</td>\n",
       "      <td>2</td>\n",
       "      <td>1</td>\n",
       "      <td>1</td>\n",
       "      <td>13198.75</td>\n",
       "      <td>2543.47</td>\n",
       "      <td>...</td>\n",
       "      <td></td>\n",
       "      <td></td>\n",
       "      <td></td>\n",
       "      <td>6</td>\n",
       "      <td>P001</td>\n",
       "      <td>2</td>\n",
       "      <td>2</td>\n",
       "      <td>2</td>\n",
       "      <td>2</td>\n",
       "      <td></td>\n",
       "    </tr>\n",
       "    <tr>\n",
       "      <th>397178</th>\n",
       "      <td>3260797909</td>\n",
       "      <td>1</td>\n",
       "      <td>1</td>\n",
       "      <td>37</td>\n",
       "      <td>2</td>\n",
       "      <td>2</td>\n",
       "      <td>1</td>\n",
       "      <td>1</td>\n",
       "      <td>18702.34</td>\n",
       "      <td>26413.04</td>\n",
       "      <td>...</td>\n",
       "      <td></td>\n",
       "      <td></td>\n",
       "      <td></td>\n",
       "      <td>6</td>\n",
       "      <td>P001</td>\n",
       "      <td>1</td>\n",
       "      <td>2</td>\n",
       "      <td>2</td>\n",
       "      <td>2</td>\n",
       "      <td></td>\n",
       "    </tr>\n",
       "    <tr>\n",
       "      <th>397179</th>\n",
       "      <td>3260797910</td>\n",
       "      <td>1</td>\n",
       "      <td>1</td>\n",
       "      <td>63</td>\n",
       "      <td>2</td>\n",
       "      <td>2</td>\n",
       "      <td>1</td>\n",
       "      <td>1</td>\n",
       "      <td>117455.55</td>\n",
       "      <td>136709.99</td>\n",
       "      <td>...</td>\n",
       "      <td></td>\n",
       "      <td></td>\n",
       "      <td></td>\n",
       "      <td>3</td>\n",
       "      <td>P069</td>\n",
       "      <td>1</td>\n",
       "      <td>3</td>\n",
       "      <td>2</td>\n",
       "      <td>2</td>\n",
       "      <td></td>\n",
       "    </tr>\n",
       "  </tbody>\n",
       "</table>\n",
       "<p>301743 rows × 24 columns</p>\n",
       "</div>"
      ],
      "text/plain": [
       "          folioviv  foliohog  numren  edad  madre_hog  padre_hog num_trabaj  \\\n",
       "0        100005002         1       1    91          2          2              \n",
       "1        100005002         1       2    48          1          2          1   \n",
       "2        100005002         1       2    48          1          2          1   \n",
       "3        100005002         1       3    13          1          2              \n",
       "4        100005002         1       3    13          1          2              \n",
       "...            ...       ...     ...   ...        ...        ...        ...   \n",
       "397175  3260797908         1       1    52          2          2          2   \n",
       "397176  3260797908         1       1    52          2          2          2   \n",
       "397177  3260797908         1       2    50          2          2          1   \n",
       "397178  3260797909         1       1    37          2          2          1   \n",
       "397179  3260797910         1       1    63          2          2          1   \n",
       "\n",
       "       pareja_hog  gasto_tri    ing_tri  ...  grado  nivel tipoesc  \\\n",
       "0                   32776.89    7434.78  ...                         \n",
       "1                   32776.89   33749.99  ...                         \n",
       "2                   32776.89    1956.52  ...                         \n",
       "3                   32776.89     391.30  ...      2     07       2   \n",
       "4                   32776.89     978.26  ...      2     07       2   \n",
       "...           ...        ...        ...  ...    ...    ...     ...   \n",
       "397175          1   13198.75    2054.34  ...                         \n",
       "397176          1   13198.75   10271.73  ...                         \n",
       "397177          1   13198.75    2543.47  ...                         \n",
       "397178          1   18702.34   26413.04  ...                         \n",
       "397179          1  117455.55  136709.99  ...                         \n",
       "\n",
       "        gradoaprob clave sexo nivelaprob edo_conyug asis_esc  antec_esc  \n",
       "0                4  P104    2          2          5        2             \n",
       "1                3  P001    2          4          6        2             \n",
       "2                3  P009    2          4          6        2             \n",
       "3                1  P037    2          3          6        1             \n",
       "4                1  P041    2          3          6        1             \n",
       "...            ...   ...  ...        ...        ...      ...        ...  \n",
       "397175           2  P014    1          3          2        2             \n",
       "397176           2  P068    1          3          2        2             \n",
       "397177           6  P001    2          2          2        2             \n",
       "397178           6  P001    1          2          2        2             \n",
       "397179           3  P069    1          3          2        2             \n",
       "\n",
       "[301743 rows x 24 columns]"
      ]
     },
     "execution_count": 82,
     "metadata": {},
     "output_type": "execute_result"
    }
   ],
   "source": [
    "df[(df[column_name]==' ')]"
   ]
  },
  {
   "cell_type": "markdown",
   "metadata": {},
   "source": [
    "# PCA"
   ]
  },
  {
   "cell_type": "code",
   "execution_count": 89,
   "metadata": {},
   "outputs": [],
   "source": [
    "df=df_2022[ [\n",
    "                 # Integer\n",
    "                'folioviv', 'foliohog', 'numren', 'edad',\n",
    "                'madre_hog', 'padre_hog',\n",
    "                \n",
    "                #Float\n",
    "                'gasto_tri', 'ing_tri','peso',\n",
    "\n",
    "                #Categorical\n",
    "                'alfabetism','generacion','entidad',\n",
    "                'sexo',\n",
    "                \n",
    "                #String\n",
    "\n",
    "\n",
    "                \n",
    "                \n",
    "                   \n",
    "                \n",
    "                ] ]"
   ]
  },
  {
   "cell_type": "code",
   "execution_count": 90,
   "metadata": {},
   "outputs": [
    {
     "name": "stderr",
     "output_type": "stream",
     "text": [
      "/var/folders/m5/26l5nfs54r94_664jm4k6zvr0000gn/T/ipykernel_26178/3964520781.py:1: SettingWithCopyWarning: \n",
      "A value is trying to be set on a copy of a slice from a DataFrame.\n",
      "Try using .loc[row_indexer,col_indexer] = value instead\n",
      "\n",
      "See the caveats in the documentation: https://pandas.pydata.org/pandas-docs/stable/user_guide/indexing.html#returning-a-view-versus-a-copy\n",
      "  df['generacion']=df['generacion'].astype('category')\n",
      "/var/folders/m5/26l5nfs54r94_664jm4k6zvr0000gn/T/ipykernel_26178/3964520781.py:2: SettingWithCopyWarning: \n",
      "A value is trying to be set on a copy of a slice from a DataFrame.\n",
      "Try using .loc[row_indexer,col_indexer] = value instead\n",
      "\n",
      "See the caveats in the documentation: https://pandas.pydata.org/pandas-docs/stable/user_guide/indexing.html#returning-a-view-versus-a-copy\n",
      "  df['alfabetism']=df['alfabetism'].astype('category')\n",
      "/var/folders/m5/26l5nfs54r94_664jm4k6zvr0000gn/T/ipykernel_26178/3964520781.py:3: SettingWithCopyWarning: \n",
      "A value is trying to be set on a copy of a slice from a DataFrame.\n",
      "Try using .loc[row_indexer,col_indexer] = value instead\n",
      "\n",
      "See the caveats in the documentation: https://pandas.pydata.org/pandas-docs/stable/user_guide/indexing.html#returning-a-view-versus-a-copy\n",
      "  df['entidad']=df['entidad'].astype('category')\n",
      "/var/folders/m5/26l5nfs54r94_664jm4k6zvr0000gn/T/ipykernel_26178/3964520781.py:4: SettingWithCopyWarning: \n",
      "A value is trying to be set on a copy of a slice from a DataFrame.\n",
      "Try using .loc[row_indexer,col_indexer] = value instead\n",
      "\n",
      "See the caveats in the documentation: https://pandas.pydata.org/pandas-docs/stable/user_guide/indexing.html#returning-a-view-versus-a-copy\n",
      "  df['sexo']=df['sexo'].astype('category')\n"
     ]
    }
   ],
   "source": [
    "df['generacion']=df['generacion'].astype('category')\n",
    "df['alfabetism']=df['alfabetism'].astype('category')\n",
    "df['entidad']=df['entidad'].astype('category')\n",
    "df['sexo']=df['sexo'].astype('category')\n",
    " \n",
    "               "
   ]
  },
  {
   "cell_type": "code",
   "execution_count": 91,
   "metadata": {},
   "outputs": [
    {
     "name": "stdout",
     "output_type": "stream",
     "text": [
      "<class 'pandas.core.frame.DataFrame'>\n",
      "Index: 396263 entries, 0 to 397181\n",
      "Data columns (total 13 columns):\n",
      " #   Column      Non-Null Count   Dtype   \n",
      "---  ------      --------------   -----   \n",
      " 0   folioviv    396263 non-null  int64   \n",
      " 1   foliohog    396263 non-null  int64   \n",
      " 2   numren      396263 non-null  int64   \n",
      " 3   edad        396263 non-null  int64   \n",
      " 4   madre_hog   396263 non-null  int64   \n",
      " 5   padre_hog   396263 non-null  int64   \n",
      " 6   gasto_tri   396263 non-null  float64 \n",
      " 7   ing_tri     396263 non-null  float64 \n",
      " 8   peso        396263 non-null  int64   \n",
      " 9   alfabetism  396263 non-null  category\n",
      " 10  generacion  396263 non-null  category\n",
      " 11  entidad     396263 non-null  category\n",
      " 12  sexo        396263 non-null  category\n",
      "dtypes: category(4), float64(2), int64(7)\n",
      "memory usage: 31.7 MB\n"
     ]
    }
   ],
   "source": [
    "df.info()"
   ]
  },
  {
   "cell_type": "code",
   "execution_count": 103,
   "metadata": {},
   "outputs": [],
   "source": [
    "from sklearn.pipeline import Pipeline\n",
    "from sklearn.compose import ColumnTransformer\n",
    "from sklearn.preprocessing import StandardScaler, OneHotEncoder\n",
    "from sklearn.decomposition import PCA\n",
    "\n",
    "n_components=4\n",
    "categorical_columns = df.select_dtypes(include=['category']).columns\n",
    "numerical_columns = df.select_dtypes(include=['number']).columns\n",
    "\n",
    "# Define the preprocessor\n",
    "preprocessor = ColumnTransformer(\n",
    "    transformers=[\n",
    "        ('num', StandardScaler(), numerical_columns),\n",
    "        ('cat', OneHotEncoder(), categorical_columns)\n",
    "    ]\n",
    ")\n",
    "\n",
    "\n",
    "\n",
    "pipe = Pipeline([\n",
    "    ('preprocessor', preprocessor),\n",
    "    ('pca', PCA(n_components=n_components))\n",
    "])\n",
    "\n",
    "\n",
    "pipe.fit(df)\n",
    "\n",
    "\n",
    "pca = pipe.named_steps['pca']\n",
    "\n",
    "encoded_feature_names = (\n",
    "    numerical_columns.tolist() +\n",
    "    pipe.named_steps['preprocessor'].named_transformers_['cat']\n",
    "    .get_feature_names_out(categorical_columns).tolist()\n",
    ")\n",
    "\n",
    "pca_df = pd.DataFrame(\n",
    "    pca.components_.T,\n",
    "    columns=[f'PC {x}' for x in range(1, n_components + 1)],\n",
    "    index=encoded_feature_names\n",
    ")\n",
    "\n"
   ]
  },
  {
   "cell_type": "code",
   "execution_count": 104,
   "metadata": {},
   "outputs": [
    {
     "data": {
      "text/html": [
       "<div>\n",
       "<style scoped>\n",
       "    .dataframe tbody tr th:only-of-type {\n",
       "        vertical-align: middle;\n",
       "    }\n",
       "\n",
       "    .dataframe tbody tr th {\n",
       "        vertical-align: top;\n",
       "    }\n",
       "\n",
       "    .dataframe thead th {\n",
       "        text-align: right;\n",
       "    }\n",
       "</style>\n",
       "<table border=\"1\" class=\"dataframe\">\n",
       "  <thead>\n",
       "    <tr style=\"text-align: right;\">\n",
       "      <th></th>\n",
       "      <th>PC 1</th>\n",
       "      <th>PC 2</th>\n",
       "      <th>PC 3</th>\n",
       "      <th>PC 4</th>\n",
       "    </tr>\n",
       "  </thead>\n",
       "  <tbody>\n",
       "    <tr>\n",
       "      <th>folioviv</th>\n",
       "      <td>-0.000440</td>\n",
       "      <td>-0.295522</td>\n",
       "      <td>0.489913</td>\n",
       "      <td>-0.643374</td>\n",
       "    </tr>\n",
       "    <tr>\n",
       "      <th>foliohog</th>\n",
       "      <td>0.005252</td>\n",
       "      <td>0.171566</td>\n",
       "      <td>0.692241</td>\n",
       "      <td>-0.045894</td>\n",
       "    </tr>\n",
       "    <tr>\n",
       "      <th>numren</th>\n",
       "      <td>-0.487614</td>\n",
       "      <td>-0.008224</td>\n",
       "      <td>-0.053557</td>\n",
       "      <td>-0.062985</td>\n",
       "    </tr>\n",
       "    <tr>\n",
       "      <th>edad</th>\n",
       "      <td>0.461936</td>\n",
       "      <td>-0.057986</td>\n",
       "      <td>-0.118718</td>\n",
       "      <td>-0.084246</td>\n",
       "    </tr>\n",
       "    <tr>\n",
       "      <th>madre_hog</th>\n",
       "      <td>0.515790</td>\n",
       "      <td>0.028471</td>\n",
       "      <td>0.053740</td>\n",
       "      <td>0.020667</td>\n",
       "    </tr>\n",
       "    <tr>\n",
       "      <th>padre_hog</th>\n",
       "      <td>0.484268</td>\n",
       "      <td>0.013366</td>\n",
       "      <td>0.056461</td>\n",
       "      <td>0.037287</td>\n",
       "    </tr>\n",
       "    <tr>\n",
       "      <th>gasto_tri</th>\n",
       "      <td>-0.063836</td>\n",
       "      <td>0.681094</td>\n",
       "      <td>0.106772</td>\n",
       "      <td>-0.143008</td>\n",
       "    </tr>\n",
       "    <tr>\n",
       "      <th>ing_tri</th>\n",
       "      <td>0.057045</td>\n",
       "      <td>0.592235</td>\n",
       "      <td>0.092191</td>\n",
       "      <td>0.110894</td>\n",
       "    </tr>\n",
       "    <tr>\n",
       "      <th>peso</th>\n",
       "      <td>-0.046528</td>\n",
       "      <td>-0.236916</td>\n",
       "      <td>0.469151</td>\n",
       "      <td>0.712382</td>\n",
       "    </tr>\n",
       "    <tr>\n",
       "      <th>alfabetism_1</th>\n",
       "      <td>-0.011279</td>\n",
       "      <td>0.025128</td>\n",
       "      <td>0.003673</td>\n",
       "      <td>0.001497</td>\n",
       "    </tr>\n",
       "    <tr>\n",
       "      <th>alfabetism_2</th>\n",
       "      <td>0.011279</td>\n",
       "      <td>-0.025128</td>\n",
       "      <td>-0.003673</td>\n",
       "      <td>-0.001497</td>\n",
       "    </tr>\n",
       "    <tr>\n",
       "      <th>generacion_Alpha</th>\n",
       "      <td>-0.017594</td>\n",
       "      <td>-0.001634</td>\n",
       "      <td>-0.001267</td>\n",
       "      <td>-0.003570</td>\n",
       "    </tr>\n",
       "    <tr>\n",
       "      <th>generacion_Baby Boomer</th>\n",
       "      <td>0.088953</td>\n",
       "      <td>-0.022167</td>\n",
       "      <td>-0.035596</td>\n",
       "      <td>-0.027151</td>\n",
       "    </tr>\n",
       "    <tr>\n",
       "      <th>generacion_Greatest</th>\n",
       "      <td>0.000323</td>\n",
       "      <td>-0.000153</td>\n",
       "      <td>-0.000148</td>\n",
       "      <td>-0.000144</td>\n",
       "    </tr>\n",
       "    <tr>\n",
       "      <th>generacion_Milenial</th>\n",
       "      <td>-0.028202</td>\n",
       "      <td>0.037457</td>\n",
       "      <td>0.042579</td>\n",
       "      <td>0.023917</td>\n",
       "    </tr>\n",
       "    <tr>\n",
       "      <th>generacion_Silent</th>\n",
       "      <td>0.027580</td>\n",
       "      <td>-0.014281</td>\n",
       "      <td>-0.013803</td>\n",
       "      <td>-0.013197</td>\n",
       "    </tr>\n",
       "    <tr>\n",
       "      <th>generacion_X</th>\n",
       "      <td>0.078421</td>\n",
       "      <td>0.012886</td>\n",
       "      <td>-0.005767</td>\n",
       "      <td>0.008011</td>\n",
       "    </tr>\n",
       "    <tr>\n",
       "      <th>generacion_Z</th>\n",
       "      <td>-0.149481</td>\n",
       "      <td>-0.012108</td>\n",
       "      <td>0.014002</td>\n",
       "      <td>0.012134</td>\n",
       "    </tr>\n",
       "    <tr>\n",
       "      <th>entidad_1</th>\n",
       "      <td>-0.003640</td>\n",
       "      <td>0.019260</td>\n",
       "      <td>-0.029679</td>\n",
       "      <td>0.034191</td>\n",
       "    </tr>\n",
       "    <tr>\n",
       "      <th>entidad_2</th>\n",
       "      <td>0.001045</td>\n",
       "      <td>0.022874</td>\n",
       "      <td>-0.028201</td>\n",
       "      <td>0.038400</td>\n",
       "    </tr>\n",
       "    <tr>\n",
       "      <th>entidad_3</th>\n",
       "      <td>0.000790</td>\n",
       "      <td>0.018095</td>\n",
       "      <td>-0.019938</td>\n",
       "      <td>0.026747</td>\n",
       "    </tr>\n",
       "    <tr>\n",
       "      <th>entidad_4</th>\n",
       "      <td>0.000914</td>\n",
       "      <td>0.006809</td>\n",
       "      <td>-0.017130</td>\n",
       "      <td>0.022222</td>\n",
       "    </tr>\n",
       "    <tr>\n",
       "      <th>entidad_5</th>\n",
       "      <td>0.001047</td>\n",
       "      <td>0.016500</td>\n",
       "      <td>-0.029245</td>\n",
       "      <td>0.034999</td>\n",
       "    </tr>\n",
       "    <tr>\n",
       "      <th>entidad_6</th>\n",
       "      <td>0.000732</td>\n",
       "      <td>0.010513</td>\n",
       "      <td>-0.019166</td>\n",
       "      <td>0.020300</td>\n",
       "    </tr>\n",
       "    <tr>\n",
       "      <th>entidad_7</th>\n",
       "      <td>0.000648</td>\n",
       "      <td>-0.001284</td>\n",
       "      <td>-0.009585</td>\n",
       "      <td>0.018758</td>\n",
       "    </tr>\n",
       "    <tr>\n",
       "      <th>entidad_8</th>\n",
       "      <td>0.002849</td>\n",
       "      <td>0.011262</td>\n",
       "      <td>-0.021915</td>\n",
       "      <td>0.027761</td>\n",
       "    </tr>\n",
       "    <tr>\n",
       "      <th>entidad_9</th>\n",
       "      <td>-0.001698</td>\n",
       "      <td>0.011645</td>\n",
       "      <td>-0.010161</td>\n",
       "      <td>0.010575</td>\n",
       "    </tr>\n",
       "    <tr>\n",
       "      <th>entidad_10</th>\n",
       "      <td>-0.000624</td>\n",
       "      <td>0.001870</td>\n",
       "      <td>-0.011248</td>\n",
       "      <td>0.013864</td>\n",
       "    </tr>\n",
       "    <tr>\n",
       "      <th>entidad_11</th>\n",
       "      <td>-0.002479</td>\n",
       "      <td>0.001827</td>\n",
       "      <td>-0.005347</td>\n",
       "      <td>0.013641</td>\n",
       "    </tr>\n",
       "    <tr>\n",
       "      <th>entidad_12</th>\n",
       "      <td>0.001608</td>\n",
       "      <td>-0.003313</td>\n",
       "      <td>-0.004259</td>\n",
       "      <td>0.012253</td>\n",
       "    </tr>\n",
       "    <tr>\n",
       "      <th>entidad_13</th>\n",
       "      <td>-0.000512</td>\n",
       "      <td>-0.000546</td>\n",
       "      <td>-0.006073</td>\n",
       "      <td>0.003886</td>\n",
       "    </tr>\n",
       "    <tr>\n",
       "      <th>entidad_14</th>\n",
       "      <td>-0.001445</td>\n",
       "      <td>0.004343</td>\n",
       "      <td>0.000557</td>\n",
       "      <td>0.005909</td>\n",
       "    </tr>\n",
       "    <tr>\n",
       "      <th>entidad_15</th>\n",
       "      <td>-0.000671</td>\n",
       "      <td>-0.001519</td>\n",
       "      <td>-0.002732</td>\n",
       "      <td>0.001702</td>\n",
       "    </tr>\n",
       "    <tr>\n",
       "      <th>entidad_16</th>\n",
       "      <td>-0.000288</td>\n",
       "      <td>0.001872</td>\n",
       "      <td>0.003417</td>\n",
       "      <td>0.000367</td>\n",
       "    </tr>\n",
       "    <tr>\n",
       "      <th>entidad_17</th>\n",
       "      <td>0.000383</td>\n",
       "      <td>-0.001496</td>\n",
       "      <td>0.000231</td>\n",
       "      <td>-0.002637</td>\n",
       "    </tr>\n",
       "    <tr>\n",
       "      <th>entidad_18</th>\n",
       "      <td>0.001000</td>\n",
       "      <td>-0.000124</td>\n",
       "      <td>0.001995</td>\n",
       "      <td>-0.003111</td>\n",
       "    </tr>\n",
       "    <tr>\n",
       "      <th>entidad_19</th>\n",
       "      <td>0.001152</td>\n",
       "      <td>-0.001748</td>\n",
       "      <td>0.007471</td>\n",
       "      <td>-0.007329</td>\n",
       "    </tr>\n",
       "    <tr>\n",
       "      <th>entidad_20</th>\n",
       "      <td>0.001671</td>\n",
       "      <td>-0.011490</td>\n",
       "      <td>0.005170</td>\n",
       "      <td>-0.005727</td>\n",
       "    </tr>\n",
       "    <tr>\n",
       "      <th>entidad_21</th>\n",
       "      <td>-0.000535</td>\n",
       "      <td>-0.006737</td>\n",
       "      <td>0.005375</td>\n",
       "      <td>-0.007315</td>\n",
       "    </tr>\n",
       "    <tr>\n",
       "      <th>entidad_22</th>\n",
       "      <td>-0.002250</td>\n",
       "      <td>-0.000203</td>\n",
       "      <td>0.016944</td>\n",
       "      <td>-0.022619</td>\n",
       "    </tr>\n",
       "    <tr>\n",
       "      <th>entidad_23</th>\n",
       "      <td>0.000277</td>\n",
       "      <td>-0.003054</td>\n",
       "      <td>0.011248</td>\n",
       "      <td>-0.012598</td>\n",
       "    </tr>\n",
       "    <tr>\n",
       "      <th>entidad_24</th>\n",
       "      <td>-0.000849</td>\n",
       "      <td>-0.006901</td>\n",
       "      <td>0.011658</td>\n",
       "      <td>-0.019341</td>\n",
       "    </tr>\n",
       "    <tr>\n",
       "      <th>entidad_25</th>\n",
       "      <td>-0.000120</td>\n",
       "      <td>-0.004210</td>\n",
       "      <td>0.018769</td>\n",
       "      <td>-0.028122</td>\n",
       "    </tr>\n",
       "    <tr>\n",
       "      <th>entidad_26</th>\n",
       "      <td>-0.000035</td>\n",
       "      <td>-0.007399</td>\n",
       "      <td>0.015672</td>\n",
       "      <td>-0.021265</td>\n",
       "    </tr>\n",
       "    <tr>\n",
       "      <th>entidad_27</th>\n",
       "      <td>0.000276</td>\n",
       "      <td>-0.010541</td>\n",
       "      <td>0.013316</td>\n",
       "      <td>-0.019596</td>\n",
       "    </tr>\n",
       "    <tr>\n",
       "      <th>entidad_28</th>\n",
       "      <td>0.001550</td>\n",
       "      <td>-0.008038</td>\n",
       "      <td>0.015087</td>\n",
       "      <td>-0.021367</td>\n",
       "    </tr>\n",
       "    <tr>\n",
       "      <th>entidad_29</th>\n",
       "      <td>-0.001460</td>\n",
       "      <td>-0.010259</td>\n",
       "      <td>0.013759</td>\n",
       "      <td>-0.023789</td>\n",
       "    </tr>\n",
       "    <tr>\n",
       "      <th>entidad_30</th>\n",
       "      <td>0.002454</td>\n",
       "      <td>-0.017284</td>\n",
       "      <td>0.021711</td>\n",
       "      <td>-0.022738</td>\n",
       "    </tr>\n",
       "    <tr>\n",
       "      <th>entidad_31</th>\n",
       "      <td>-0.001044</td>\n",
       "      <td>-0.018679</td>\n",
       "      <td>0.031555</td>\n",
       "      <td>-0.038360</td>\n",
       "    </tr>\n",
       "    <tr>\n",
       "      <th>entidad_32</th>\n",
       "      <td>-0.000746</td>\n",
       "      <td>-0.012044</td>\n",
       "      <td>0.020744</td>\n",
       "      <td>-0.029660</td>\n",
       "    </tr>\n",
       "    <tr>\n",
       "      <th>sexo_1</th>\n",
       "      <td>0.009470</td>\n",
       "      <td>0.022722</td>\n",
       "      <td>0.054637</td>\n",
       "      <td>0.086918</td>\n",
       "    </tr>\n",
       "    <tr>\n",
       "      <th>sexo_2</th>\n",
       "      <td>-0.009470</td>\n",
       "      <td>-0.022722</td>\n",
       "      <td>-0.054637</td>\n",
       "      <td>-0.086918</td>\n",
       "    </tr>\n",
       "  </tbody>\n",
       "</table>\n",
       "</div>"
      ],
      "text/plain": [
       "                            PC 1      PC 2      PC 3      PC 4\n",
       "folioviv               -0.000440 -0.295522  0.489913 -0.643374\n",
       "foliohog                0.005252  0.171566  0.692241 -0.045894\n",
       "numren                 -0.487614 -0.008224 -0.053557 -0.062985\n",
       "edad                    0.461936 -0.057986 -0.118718 -0.084246\n",
       "madre_hog               0.515790  0.028471  0.053740  0.020667\n",
       "padre_hog               0.484268  0.013366  0.056461  0.037287\n",
       "gasto_tri              -0.063836  0.681094  0.106772 -0.143008\n",
       "ing_tri                 0.057045  0.592235  0.092191  0.110894\n",
       "peso                   -0.046528 -0.236916  0.469151  0.712382\n",
       "alfabetism_1           -0.011279  0.025128  0.003673  0.001497\n",
       "alfabetism_2            0.011279 -0.025128 -0.003673 -0.001497\n",
       "generacion_Alpha       -0.017594 -0.001634 -0.001267 -0.003570\n",
       "generacion_Baby Boomer  0.088953 -0.022167 -0.035596 -0.027151\n",
       "generacion_Greatest     0.000323 -0.000153 -0.000148 -0.000144\n",
       "generacion_Milenial    -0.028202  0.037457  0.042579  0.023917\n",
       "generacion_Silent       0.027580 -0.014281 -0.013803 -0.013197\n",
       "generacion_X            0.078421  0.012886 -0.005767  0.008011\n",
       "generacion_Z           -0.149481 -0.012108  0.014002  0.012134\n",
       "entidad_1              -0.003640  0.019260 -0.029679  0.034191\n",
       "entidad_2               0.001045  0.022874 -0.028201  0.038400\n",
       "entidad_3               0.000790  0.018095 -0.019938  0.026747\n",
       "entidad_4               0.000914  0.006809 -0.017130  0.022222\n",
       "entidad_5               0.001047  0.016500 -0.029245  0.034999\n",
       "entidad_6               0.000732  0.010513 -0.019166  0.020300\n",
       "entidad_7               0.000648 -0.001284 -0.009585  0.018758\n",
       "entidad_8               0.002849  0.011262 -0.021915  0.027761\n",
       "entidad_9              -0.001698  0.011645 -0.010161  0.010575\n",
       "entidad_10             -0.000624  0.001870 -0.011248  0.013864\n",
       "entidad_11             -0.002479  0.001827 -0.005347  0.013641\n",
       "entidad_12              0.001608 -0.003313 -0.004259  0.012253\n",
       "entidad_13             -0.000512 -0.000546 -0.006073  0.003886\n",
       "entidad_14             -0.001445  0.004343  0.000557  0.005909\n",
       "entidad_15             -0.000671 -0.001519 -0.002732  0.001702\n",
       "entidad_16             -0.000288  0.001872  0.003417  0.000367\n",
       "entidad_17              0.000383 -0.001496  0.000231 -0.002637\n",
       "entidad_18              0.001000 -0.000124  0.001995 -0.003111\n",
       "entidad_19              0.001152 -0.001748  0.007471 -0.007329\n",
       "entidad_20              0.001671 -0.011490  0.005170 -0.005727\n",
       "entidad_21             -0.000535 -0.006737  0.005375 -0.007315\n",
       "entidad_22             -0.002250 -0.000203  0.016944 -0.022619\n",
       "entidad_23              0.000277 -0.003054  0.011248 -0.012598\n",
       "entidad_24             -0.000849 -0.006901  0.011658 -0.019341\n",
       "entidad_25             -0.000120 -0.004210  0.018769 -0.028122\n",
       "entidad_26             -0.000035 -0.007399  0.015672 -0.021265\n",
       "entidad_27              0.000276 -0.010541  0.013316 -0.019596\n",
       "entidad_28              0.001550 -0.008038  0.015087 -0.021367\n",
       "entidad_29             -0.001460 -0.010259  0.013759 -0.023789\n",
       "entidad_30              0.002454 -0.017284  0.021711 -0.022738\n",
       "entidad_31             -0.001044 -0.018679  0.031555 -0.038360\n",
       "entidad_32             -0.000746 -0.012044  0.020744 -0.029660\n",
       "sexo_1                  0.009470  0.022722  0.054637  0.086918\n",
       "sexo_2                 -0.009470 -0.022722 -0.054637 -0.086918"
      ]
     },
     "execution_count": 104,
     "metadata": {},
     "output_type": "execute_result"
    }
   ],
   "source": [
    "pca_df"
   ]
  },
  {
   "cell_type": "code",
   "execution_count": 107,
   "metadata": {},
   "outputs": [
    {
     "name": "stdout",
     "output_type": "stream",
     "text": [
      "Varianza por componente:  [2.73028163 1.25303911 1.04596554 1.00651653]\n",
      "Porcentaje de varianza explicada por componente:  [0.24103244 0.11061975 0.09233906 0.08885645]\n"
     ]
    },
    {
     "ename": "ValueError",
     "evalue": "Mime type rendering requires nbformat>=4.2.0 but it is not installed",
     "output_type": "error",
     "traceback": [
      "\u001b[0;31m---------------------------------------------------------------------------\u001b[0m",
      "\u001b[0;31mValueError\u001b[0m                                Traceback (most recent call last)",
      "Cell \u001b[0;32mIn[107], line 14\u001b[0m\n\u001b[1;32m      8\u001b[0m df_ev \u001b[38;5;241m=\u001b[39m pd\u001b[38;5;241m.\u001b[39mDataFrame({\n\u001b[1;32m      9\u001b[0m     \u001b[38;5;124m\"\u001b[39m\u001b[38;5;124mVarianza explicada\u001b[39m\u001b[38;5;124m\"\u001b[39m: np\u001b[38;5;241m.\u001b[39mcumsum(pca\u001b[38;5;241m.\u001b[39mexplained_variance_ratio_),\n\u001b[1;32m     10\u001b[0m     \u001b[38;5;124m\"\u001b[39m\u001b[38;5;124mComponente\u001b[39m\u001b[38;5;124m\"\u001b[39m: [\u001b[38;5;124mf\u001b[39m\u001b[38;5;124m'\u001b[39m\u001b[38;5;124mPC \u001b[39m\u001b[38;5;132;01m{\u001b[39;00mx\u001b[38;5;132;01m}\u001b[39;00m\u001b[38;5;124m'\u001b[39m \u001b[38;5;28;01mfor\u001b[39;00m x \u001b[38;5;129;01min\u001b[39;00m \u001b[38;5;28mrange\u001b[39m(\u001b[38;5;241m1\u001b[39m,n_components\u001b[38;5;241m+\u001b[39m\u001b[38;5;241m1\u001b[39m)]\n\u001b[1;32m     11\u001b[0m })\n\u001b[1;32m     12\u001b[0m fig \u001b[38;5;241m=\u001b[39m px\u001b[38;5;241m.\u001b[39mline(df_ev, x\u001b[38;5;241m=\u001b[39m\u001b[38;5;124m'\u001b[39m\u001b[38;5;124mComponente\u001b[39m\u001b[38;5;124m'\u001b[39m, y\u001b[38;5;241m=\u001b[39m\u001b[38;5;124m'\u001b[39m\u001b[38;5;124mVarianza explicada\u001b[39m\u001b[38;5;124m'\u001b[39m, markers\u001b[38;5;241m=\u001b[39m\u001b[38;5;28;01mTrue\u001b[39;00m,\n\u001b[1;32m     13\u001b[0m               title\u001b[38;5;241m=\u001b[39m\u001b[38;5;124m\"\u001b[39m\u001b[38;5;124mVarianza explicada por componente\u001b[39m\u001b[38;5;124m\"\u001b[39m)\n\u001b[0;32m---> 14\u001b[0m \u001b[43mfig\u001b[49m\u001b[38;5;241;43m.\u001b[39;49m\u001b[43mshow\u001b[49m\u001b[43m(\u001b[49m\u001b[43m)\u001b[49m\n",
      "File \u001b[0;32m~/Documents/GitHub/ingCaracteristicasProyecto_/venv/lib/python3.12/site-packages/plotly/basedatatypes.py:3410\u001b[0m, in \u001b[0;36mBaseFigure.show\u001b[0;34m(self, *args, **kwargs)\u001b[0m\n\u001b[1;32m   3377\u001b[0m \u001b[38;5;250m\u001b[39m\u001b[38;5;124;03m\"\"\"\u001b[39;00m\n\u001b[1;32m   3378\u001b[0m \u001b[38;5;124;03mShow a figure using either the default renderer(s) or the renderer(s)\u001b[39;00m\n\u001b[1;32m   3379\u001b[0m \u001b[38;5;124;03mspecified by the renderer argument\u001b[39;00m\n\u001b[0;32m   (...)\u001b[0m\n\u001b[1;32m   3406\u001b[0m \u001b[38;5;124;03mNone\u001b[39;00m\n\u001b[1;32m   3407\u001b[0m \u001b[38;5;124;03m\"\"\"\u001b[39;00m\n\u001b[1;32m   3408\u001b[0m \u001b[38;5;28;01mimport\u001b[39;00m \u001b[38;5;21;01mplotly\u001b[39;00m\u001b[38;5;21;01m.\u001b[39;00m\u001b[38;5;21;01mio\u001b[39;00m \u001b[38;5;28;01mas\u001b[39;00m \u001b[38;5;21;01mpio\u001b[39;00m\n\u001b[0;32m-> 3410\u001b[0m \u001b[38;5;28;01mreturn\u001b[39;00m \u001b[43mpio\u001b[49m\u001b[38;5;241;43m.\u001b[39;49m\u001b[43mshow\u001b[49m\u001b[43m(\u001b[49m\u001b[38;5;28;43mself\u001b[39;49m\u001b[43m,\u001b[49m\u001b[43m \u001b[49m\u001b[38;5;241;43m*\u001b[39;49m\u001b[43margs\u001b[49m\u001b[43m,\u001b[49m\u001b[43m \u001b[49m\u001b[38;5;241;43m*\u001b[39;49m\u001b[38;5;241;43m*\u001b[39;49m\u001b[43mkwargs\u001b[49m\u001b[43m)\u001b[49m\n",
      "File \u001b[0;32m~/Documents/GitHub/ingCaracteristicasProyecto_/venv/lib/python3.12/site-packages/plotly/io/_renderers.py:394\u001b[0m, in \u001b[0;36mshow\u001b[0;34m(fig, renderer, validate, **kwargs)\u001b[0m\n\u001b[1;32m    389\u001b[0m         \u001b[38;5;28;01mraise\u001b[39;00m \u001b[38;5;167;01mValueError\u001b[39;00m(\n\u001b[1;32m    390\u001b[0m             \u001b[38;5;124m\"\u001b[39m\u001b[38;5;124mMime type rendering requires ipython but it is not installed\u001b[39m\u001b[38;5;124m\"\u001b[39m\n\u001b[1;32m    391\u001b[0m         )\n\u001b[1;32m    393\u001b[0m     \u001b[38;5;28;01mif\u001b[39;00m \u001b[38;5;129;01mnot\u001b[39;00m nbformat \u001b[38;5;129;01mor\u001b[39;00m Version(nbformat\u001b[38;5;241m.\u001b[39m__version__) \u001b[38;5;241m<\u001b[39m Version(\u001b[38;5;124m\"\u001b[39m\u001b[38;5;124m4.2.0\u001b[39m\u001b[38;5;124m\"\u001b[39m):\n\u001b[0;32m--> 394\u001b[0m         \u001b[38;5;28;01mraise\u001b[39;00m \u001b[38;5;167;01mValueError\u001b[39;00m(\n\u001b[1;32m    395\u001b[0m             \u001b[38;5;124m\"\u001b[39m\u001b[38;5;124mMime type rendering requires nbformat>=4.2.0 but it is not installed\u001b[39m\u001b[38;5;124m\"\u001b[39m\n\u001b[1;32m    396\u001b[0m         )\n\u001b[1;32m    398\u001b[0m     ipython_display\u001b[38;5;241m.\u001b[39mdisplay(bundle, raw\u001b[38;5;241m=\u001b[39m\u001b[38;5;28;01mTrue\u001b[39;00m)\n\u001b[1;32m    400\u001b[0m \u001b[38;5;66;03m# external renderers\u001b[39;00m\n",
      "\u001b[0;31mValueError\u001b[0m: Mime type rendering requires nbformat>=4.2.0 but it is not installed"
     ]
    }
   ],
   "source": [
    "import numpy as np\n",
    "import plotly.express as px\n",
    "\n",
    "print(\"Varianza por componente: \", pca.explained_variance_)\n",
    "print(\"Porcentaje de varianza explicada por componente: \", \n",
    "      pca.explained_variance_ratio_)\n",
    "\n",
    "df_ev = pd.DataFrame({\n",
    "    \"Varianza explicada\": np.cumsum(pca.explained_variance_ratio_),\n",
    "    \"Componente\": [f'PC {x}' for x in range(1,n_components+1)]\n",
    "})\n",
    "fig = px.line(df_ev, x='Componente', y='Varianza explicada', markers=True,\n",
    "              title=\"Varianza explicada por componente\")\n",
    "fig.show()"
   ]
  },
  {
   "cell_type": "code",
   "execution_count": null,
   "metadata": {},
   "outputs": [],
   "source": []
  }
 ],
 "metadata": {
  "kernelspec": {
   "display_name": "venv",
   "language": "python",
   "name": "python3"
  },
  "language_info": {
   "codemirror_mode": {
    "name": "ipython",
    "version": 3
   },
   "file_extension": ".py",
   "mimetype": "text/x-python",
   "name": "python",
   "nbconvert_exporter": "python",
   "pygments_lexer": "ipython3",
   "version": "3.12.4"
  }
 },
 "nbformat": 4,
 "nbformat_minor": 2
}
