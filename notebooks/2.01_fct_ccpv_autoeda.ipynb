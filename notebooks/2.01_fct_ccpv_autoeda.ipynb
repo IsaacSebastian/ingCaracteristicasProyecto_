{
 "cells": [
  {
   "cell_type": "code",
   "execution_count": 1,
   "metadata": {},
   "outputs": [],
   "source": [
    "import pandas as pd\n",
    "import os\n",
    "from ydata_profiling import ProfileReport\n",
    "\n"
   ]
  },
  {
   "cell_type": "code",
   "execution_count": 2,
   "metadata": {},
   "outputs": [],
   "source": [
    "os.chdir(\"../data/interim/CCPV/\")"
   ]
  },
  {
   "cell_type": "code",
   "execution_count": 3,
   "metadata": {},
   "outputs": [
    {
     "data": {
      "text/plain": [
       "'/Users/federicocirett/Documents/GitHub/ingCaracteristicasProyecto_/data/interim/CCPV'"
      ]
     },
     "execution_count": 3,
     "metadata": {},
     "output_type": "execute_result"
    }
   ],
   "source": [
    "pwd"
   ]
  },
  {
   "cell_type": "markdown",
   "metadata": {},
   "source": [
    "## 2000-2020"
   ]
  },
  {
   "cell_type": "code",
   "execution_count": 4,
   "metadata": {},
   "outputs": [
    {
     "data": {
      "text/plain": [
       "['2000.csv', '2005.csv', '2010.csv', '2020.csv']"
      ]
     },
     "execution_count": 4,
     "metadata": {},
     "output_type": "execute_result"
    }
   ],
   "source": [
    "XXI=os.listdir(\"./\")[4:8]\n",
    "sorted_list = sorted(XXI, key=lambda x: int(x.split('.')[0]))\n",
    "XXI=sorted_list\n",
    "XXI"
   ]
  },
  {
   "cell_type": "code",
   "execution_count": 5,
   "metadata": {},
   "outputs": [],
   "source": [
    "def dataframes(dataset_list):\n",
    "    dataframes_list=[]\n",
    "    for dataset in dataset_list:\n",
    "        df=pd.read_csv(dataset)\n",
    "        dataframes_list.append( (dataset, df ) )\n",
    "    return dataframes_list"
   ]
  },
  {
   "cell_type": "code",
   "execution_count": 6,
   "metadata": {},
   "outputs": [
    {
     "name": "stderr",
     "output_type": "stream",
     "text": [
      "/var/folders/m5/26l5nfs54r94_664jm4k6zvr0000gn/T/ipykernel_61356/3648647041.py:4: DtypeWarning: Columns (9) have mixed types. Specify dtype option on import or set low_memory=False.\n",
      "  df=pd.read_csv(dataset)\n"
     ]
    }
   ],
   "source": [
    "XXI_dataframes=dataframes(XXI)\n",
    "\n",
    "ccpv_2000=XXI_dataframes[0][1]\n",
    "ccpv_2000.drop(['Longitud', 'Latitud', 'Altitud'], axis=1, inplace=True)\n",
    "\n",
    "ccpv_2005=XXI_dataframes[1][1]\n",
    "ccpv_2005.drop(['Longitud', 'Latitud', 'Altitud'], axis=1, inplace=True)\n",
    "\n",
    "ccpv_2010=XXI_dataframes[2][1]\n",
    "ccpv_2010.drop(['Longitud', 'Latitud', 'Altitud'], axis=1, inplace=True)\n",
    "\n",
    "ccpv_2020=XXI_dataframes[3][1]\n",
    "ccpv_2020.drop(['Longitud', 'Latitud', 'Altitud'], axis=1, inplace=True)\n"
   ]
  },
  {
   "cell_type": "code",
   "execution_count": 7,
   "metadata": {},
   "outputs": [],
   "source": [
    "profile_2000 = ProfileReport(ccpv_2000, title=\"Sonora CCPV 2000 Profile Report\")\n",
    "profile_2005 = ProfileReport(ccpv_2005, title=\"Sonora CCPV 2005 Profile Report\")\n",
    "profile_2010 = ProfileReport(ccpv_2010, title=\"Sonora CCPV 2010 Profile Report\")\n",
    "profile_2020 = ProfileReport(ccpv_2020, title=\"Sonora CCPV 2020 Profile Report\")"
   ]
  },
  {
   "cell_type": "code",
   "execution_count": 8,
   "metadata": {},
   "outputs": [
    {
     "data": {
      "application/vnd.jupyter.widget-view+json": {
       "model_id": "e43ed586b5a44a9d9533ff50d2c9c6b1",
       "version_major": 2,
       "version_minor": 0
      },
      "text/plain": [
       "Summarize dataset:   0%|          | 0/5 [00:00<?, ?it/s]"
      ]
     },
     "metadata": {},
     "output_type": "display_data"
    },
    {
     "data": {
      "application/vnd.jupyter.widget-view+json": {
       "model_id": "66126cd1a62f44b6aad3bdc32db4e51c",
       "version_major": 2,
       "version_minor": 0
      },
      "text/plain": [
       "Generate report structure:   0%|          | 0/1 [00:00<?, ?it/s]"
      ]
     },
     "metadata": {},
     "output_type": "display_data"
    },
    {
     "data": {
      "application/vnd.jupyter.widget-view+json": {
       "model_id": "2ddd1999c52544e8a54879cddf7b6ea6",
       "version_major": 2,
       "version_minor": 0
      },
      "text/plain": [
       "Render HTML:   0%|          | 0/1 [00:00<?, ?it/s]"
      ]
     },
     "metadata": {},
     "output_type": "display_data"
    },
    {
     "data": {
      "application/vnd.jupyter.widget-view+json": {
       "model_id": "feb006658122492e940bf58e4ee94c34",
       "version_major": 2,
       "version_minor": 0
      },
      "text/plain": [
       "Export report to file:   0%|          | 0/1 [00:00<?, ?it/s]"
      ]
     },
     "metadata": {},
     "output_type": "display_data"
    }
   ],
   "source": [
    "os.makedirs(\"National\",exist_ok=True)\n",
    "profile_2000.to_file(\"National/ccpv_national_2000_report.html\")"
   ]
  },
  {
   "cell_type": "code",
   "execution_count": 9,
   "metadata": {},
   "outputs": [
    {
     "data": {
      "application/vnd.jupyter.widget-view+json": {
       "model_id": "7f5721b0706649a781b49066829b6026",
       "version_major": 2,
       "version_minor": 0
      },
      "text/plain": [
       "Summarize dataset:   0%|          | 0/5 [00:00<?, ?it/s]"
      ]
     },
     "metadata": {},
     "output_type": "display_data"
    },
    {
     "data": {
      "application/vnd.jupyter.widget-view+json": {
       "model_id": "d95434105508494f8fcfa351f4b3f1f9",
       "version_major": 2,
       "version_minor": 0
      },
      "text/plain": [
       "Generate report structure:   0%|          | 0/1 [00:00<?, ?it/s]"
      ]
     },
     "metadata": {},
     "output_type": "display_data"
    },
    {
     "data": {
      "application/vnd.jupyter.widget-view+json": {
       "model_id": "3487853b682446e79b0d38c4634e4623",
       "version_major": 2,
       "version_minor": 0
      },
      "text/plain": [
       "Render HTML:   0%|          | 0/1 [00:00<?, ?it/s]"
      ]
     },
     "metadata": {},
     "output_type": "display_data"
    },
    {
     "data": {
      "application/vnd.jupyter.widget-view+json": {
       "model_id": "9b4c10953bf54244a98adec0b8dc5a99",
       "version_major": 2,
       "version_minor": 0
      },
      "text/plain": [
       "Export report to file:   0%|          | 0/1 [00:00<?, ?it/s]"
      ]
     },
     "metadata": {},
     "output_type": "display_data"
    }
   ],
   "source": [
    "os.makedirs(\"National\",exist_ok=True)\n",
    "profile_2005.to_file(\"National/ccpv_national_2005_report.html\")"
   ]
  },
  {
   "cell_type": "code",
   "execution_count": 10,
   "metadata": {},
   "outputs": [
    {
     "data": {
      "application/vnd.jupyter.widget-view+json": {
       "model_id": "dd6c5684815944cfafd467a9fb56a43b",
       "version_major": 2,
       "version_minor": 0
      },
      "text/plain": [
       "Summarize dataset:   0%|          | 0/5 [00:00<?, ?it/s]"
      ]
     },
     "metadata": {},
     "output_type": "display_data"
    },
    {
     "name": "stderr",
     "output_type": "stream",
     "text": [
      "/Users/federicocirett/Documents/GitHub/ingCaracteristicasProyecto_/venv/lib/python3.12/site-packages/ydata_profiling/model/pandas/duplicates_pandas.py:40: PerformanceWarning: DataFrame is highly fragmented.  This is usually the result of calling `frame.insert` many times, which has poor performance.  Consider joining all columns at once using pd.concat(axis=1) instead. To get a de-fragmented frame, use `newframe = frame.copy()`\n",
      "  .reset_index(name=duplicates_key)\n",
      "/Users/federicocirett/Documents/GitHub/ingCaracteristicasProyecto_/venv/lib/python3.12/site-packages/ydata_profiling/model/pandas/duplicates_pandas.py:40: PerformanceWarning: DataFrame is highly fragmented.  This is usually the result of calling `frame.insert` many times, which has poor performance.  Consider joining all columns at once using pd.concat(axis=1) instead. To get a de-fragmented frame, use `newframe = frame.copy()`\n",
      "  .reset_index(name=duplicates_key)\n",
      "/Users/federicocirett/Documents/GitHub/ingCaracteristicasProyecto_/venv/lib/python3.12/site-packages/ydata_profiling/model/pandas/duplicates_pandas.py:40: PerformanceWarning: DataFrame is highly fragmented.  This is usually the result of calling `frame.insert` many times, which has poor performance.  Consider joining all columns at once using pd.concat(axis=1) instead. To get a de-fragmented frame, use `newframe = frame.copy()`\n",
      "  .reset_index(name=duplicates_key)\n",
      "/Users/federicocirett/Documents/GitHub/ingCaracteristicasProyecto_/venv/lib/python3.12/site-packages/ydata_profiling/model/pandas/duplicates_pandas.py:40: PerformanceWarning: DataFrame is highly fragmented.  This is usually the result of calling `frame.insert` many times, which has poor performance.  Consider joining all columns at once using pd.concat(axis=1) instead. To get a de-fragmented frame, use `newframe = frame.copy()`\n",
      "  .reset_index(name=duplicates_key)\n",
      "/Users/federicocirett/Documents/GitHub/ingCaracteristicasProyecto_/venv/lib/python3.12/site-packages/ydata_profiling/model/pandas/duplicates_pandas.py:40: PerformanceWarning: DataFrame is highly fragmented.  This is usually the result of calling `frame.insert` many times, which has poor performance.  Consider joining all columns at once using pd.concat(axis=1) instead. To get a de-fragmented frame, use `newframe = frame.copy()`\n",
      "  .reset_index(name=duplicates_key)\n"
     ]
    },
    {
     "data": {
      "application/vnd.jupyter.widget-view+json": {
       "model_id": "3fbb0d7e0742448689c5e056c8d031e9",
       "version_major": 2,
       "version_minor": 0
      },
      "text/plain": [
       "Generate report structure:   0%|          | 0/1 [00:00<?, ?it/s]"
      ]
     },
     "metadata": {},
     "output_type": "display_data"
    },
    {
     "data": {
      "application/vnd.jupyter.widget-view+json": {
       "model_id": "19668d0e188f484198b15581ef66958d",
       "version_major": 2,
       "version_minor": 0
      },
      "text/plain": [
       "Render HTML:   0%|          | 0/1 [00:00<?, ?it/s]"
      ]
     },
     "metadata": {},
     "output_type": "display_data"
    },
    {
     "data": {
      "application/vnd.jupyter.widget-view+json": {
       "model_id": "1430695125144c5cb0d4589f95c8646a",
       "version_major": 2,
       "version_minor": 0
      },
      "text/plain": [
       "Export report to file:   0%|          | 0/1 [00:00<?, ?it/s]"
      ]
     },
     "metadata": {},
     "output_type": "display_data"
    }
   ],
   "source": [
    "os.makedirs(\"National\",exist_ok=True)\n",
    "profile_2010.to_file(\"National/ccpv_national_2010_report.html\")"
   ]
  },
  {
   "cell_type": "code",
   "execution_count": 11,
   "metadata": {},
   "outputs": [
    {
     "data": {
      "application/vnd.jupyter.widget-view+json": {
       "model_id": "de47ae56cdf64b7aad4686858277b4a3",
       "version_major": 2,
       "version_minor": 0
      },
      "text/plain": [
       "Summarize dataset:   0%|          | 0/5 [00:00<?, ?it/s]"
      ]
     },
     "metadata": {},
     "output_type": "display_data"
    },
    {
     "name": "stderr",
     "output_type": "stream",
     "text": [
      "/Users/federicocirett/Documents/GitHub/ingCaracteristicasProyecto_/venv/lib/python3.12/site-packages/ydata_profiling/model/pandas/duplicates_pandas.py:40: PerformanceWarning: DataFrame is highly fragmented.  This is usually the result of calling `frame.insert` many times, which has poor performance.  Consider joining all columns at once using pd.concat(axis=1) instead. To get a de-fragmented frame, use `newframe = frame.copy()`\n",
      "  .reset_index(name=duplicates_key)\n",
      "/Users/federicocirett/Documents/GitHub/ingCaracteristicasProyecto_/venv/lib/python3.12/site-packages/ydata_profiling/model/pandas/duplicates_pandas.py:40: PerformanceWarning: DataFrame is highly fragmented.  This is usually the result of calling `frame.insert` many times, which has poor performance.  Consider joining all columns at once using pd.concat(axis=1) instead. To get a de-fragmented frame, use `newframe = frame.copy()`\n",
      "  .reset_index(name=duplicates_key)\n",
      "/Users/federicocirett/Documents/GitHub/ingCaracteristicasProyecto_/venv/lib/python3.12/site-packages/ydata_profiling/model/pandas/duplicates_pandas.py:40: PerformanceWarning: DataFrame is highly fragmented.  This is usually the result of calling `frame.insert` many times, which has poor performance.  Consider joining all columns at once using pd.concat(axis=1) instead. To get a de-fragmented frame, use `newframe = frame.copy()`\n",
      "  .reset_index(name=duplicates_key)\n",
      "/Users/federicocirett/Documents/GitHub/ingCaracteristicasProyecto_/venv/lib/python3.12/site-packages/ydata_profiling/model/pandas/duplicates_pandas.py:40: PerformanceWarning: DataFrame is highly fragmented.  This is usually the result of calling `frame.insert` many times, which has poor performance.  Consider joining all columns at once using pd.concat(axis=1) instead. To get a de-fragmented frame, use `newframe = frame.copy()`\n",
      "  .reset_index(name=duplicates_key)\n",
      "/Users/federicocirett/Documents/GitHub/ingCaracteristicasProyecto_/venv/lib/python3.12/site-packages/ydata_profiling/model/pandas/duplicates_pandas.py:40: PerformanceWarning: DataFrame is highly fragmented.  This is usually the result of calling `frame.insert` many times, which has poor performance.  Consider joining all columns at once using pd.concat(axis=1) instead. To get a de-fragmented frame, use `newframe = frame.copy()`\n",
      "  .reset_index(name=duplicates_key)\n",
      "/Users/federicocirett/Documents/GitHub/ingCaracteristicasProyecto_/venv/lib/python3.12/site-packages/ydata_profiling/model/pandas/duplicates_pandas.py:40: PerformanceWarning: DataFrame is highly fragmented.  This is usually the result of calling `frame.insert` many times, which has poor performance.  Consider joining all columns at once using pd.concat(axis=1) instead. To get a de-fragmented frame, use `newframe = frame.copy()`\n",
      "  .reset_index(name=duplicates_key)\n",
      "/Users/federicocirett/Documents/GitHub/ingCaracteristicasProyecto_/venv/lib/python3.12/site-packages/ydata_profiling/model/pandas/duplicates_pandas.py:40: PerformanceWarning: DataFrame is highly fragmented.  This is usually the result of calling `frame.insert` many times, which has poor performance.  Consider joining all columns at once using pd.concat(axis=1) instead. To get a de-fragmented frame, use `newframe = frame.copy()`\n",
      "  .reset_index(name=duplicates_key)\n",
      "/Users/federicocirett/Documents/GitHub/ingCaracteristicasProyecto_/venv/lib/python3.12/site-packages/ydata_profiling/model/pandas/duplicates_pandas.py:40: PerformanceWarning: DataFrame is highly fragmented.  This is usually the result of calling `frame.insert` many times, which has poor performance.  Consider joining all columns at once using pd.concat(axis=1) instead. To get a de-fragmented frame, use `newframe = frame.copy()`\n",
      "  .reset_index(name=duplicates_key)\n",
      "/Users/federicocirett/Documents/GitHub/ingCaracteristicasProyecto_/venv/lib/python3.12/site-packages/ydata_profiling/model/pandas/duplicates_pandas.py:40: PerformanceWarning: DataFrame is highly fragmented.  This is usually the result of calling `frame.insert` many times, which has poor performance.  Consider joining all columns at once using pd.concat(axis=1) instead. To get a de-fragmented frame, use `newframe = frame.copy()`\n",
      "  .reset_index(name=duplicates_key)\n",
      "/Users/federicocirett/Documents/GitHub/ingCaracteristicasProyecto_/venv/lib/python3.12/site-packages/ydata_profiling/model/pandas/duplicates_pandas.py:40: PerformanceWarning: DataFrame is highly fragmented.  This is usually the result of calling `frame.insert` many times, which has poor performance.  Consider joining all columns at once using pd.concat(axis=1) instead. To get a de-fragmented frame, use `newframe = frame.copy()`\n",
      "  .reset_index(name=duplicates_key)\n",
      "/Users/federicocirett/Documents/GitHub/ingCaracteristicasProyecto_/venv/lib/python3.12/site-packages/ydata_profiling/model/pandas/duplicates_pandas.py:40: PerformanceWarning: DataFrame is highly fragmented.  This is usually the result of calling `frame.insert` many times, which has poor performance.  Consider joining all columns at once using pd.concat(axis=1) instead. To get a de-fragmented frame, use `newframe = frame.copy()`\n",
      "  .reset_index(name=duplicates_key)\n",
      "/Users/federicocirett/Documents/GitHub/ingCaracteristicasProyecto_/venv/lib/python3.12/site-packages/ydata_profiling/model/pandas/duplicates_pandas.py:40: PerformanceWarning: DataFrame is highly fragmented.  This is usually the result of calling `frame.insert` many times, which has poor performance.  Consider joining all columns at once using pd.concat(axis=1) instead. To get a de-fragmented frame, use `newframe = frame.copy()`\n",
      "  .reset_index(name=duplicates_key)\n",
      "/Users/federicocirett/Documents/GitHub/ingCaracteristicasProyecto_/venv/lib/python3.12/site-packages/ydata_profiling/model/pandas/duplicates_pandas.py:40: PerformanceWarning: DataFrame is highly fragmented.  This is usually the result of calling `frame.insert` many times, which has poor performance.  Consider joining all columns at once using pd.concat(axis=1) instead. To get a de-fragmented frame, use `newframe = frame.copy()`\n",
      "  .reset_index(name=duplicates_key)\n",
      "/Users/federicocirett/Documents/GitHub/ingCaracteristicasProyecto_/venv/lib/python3.12/site-packages/ydata_profiling/model/pandas/duplicates_pandas.py:40: PerformanceWarning: DataFrame is highly fragmented.  This is usually the result of calling `frame.insert` many times, which has poor performance.  Consider joining all columns at once using pd.concat(axis=1) instead. To get a de-fragmented frame, use `newframe = frame.copy()`\n",
      "  .reset_index(name=duplicates_key)\n",
      "/Users/federicocirett/Documents/GitHub/ingCaracteristicasProyecto_/venv/lib/python3.12/site-packages/ydata_profiling/model/pandas/duplicates_pandas.py:40: PerformanceWarning: DataFrame is highly fragmented.  This is usually the result of calling `frame.insert` many times, which has poor performance.  Consider joining all columns at once using pd.concat(axis=1) instead. To get a de-fragmented frame, use `newframe = frame.copy()`\n",
      "  .reset_index(name=duplicates_key)\n",
      "/Users/federicocirett/Documents/GitHub/ingCaracteristicasProyecto_/venv/lib/python3.12/site-packages/ydata_profiling/model/pandas/duplicates_pandas.py:40: PerformanceWarning: DataFrame is highly fragmented.  This is usually the result of calling `frame.insert` many times, which has poor performance.  Consider joining all columns at once using pd.concat(axis=1) instead. To get a de-fragmented frame, use `newframe = frame.copy()`\n",
      "  .reset_index(name=duplicates_key)\n",
      "/Users/federicocirett/Documents/GitHub/ingCaracteristicasProyecto_/venv/lib/python3.12/site-packages/ydata_profiling/model/pandas/duplicates_pandas.py:40: PerformanceWarning: DataFrame is highly fragmented.  This is usually the result of calling `frame.insert` many times, which has poor performance.  Consider joining all columns at once using pd.concat(axis=1) instead. To get a de-fragmented frame, use `newframe = frame.copy()`\n",
      "  .reset_index(name=duplicates_key)\n",
      "/Users/federicocirett/Documents/GitHub/ingCaracteristicasProyecto_/venv/lib/python3.12/site-packages/ydata_profiling/model/pandas/duplicates_pandas.py:40: PerformanceWarning: DataFrame is highly fragmented.  This is usually the result of calling `frame.insert` many times, which has poor performance.  Consider joining all columns at once using pd.concat(axis=1) instead. To get a de-fragmented frame, use `newframe = frame.copy()`\n",
      "  .reset_index(name=duplicates_key)\n",
      "/Users/federicocirett/Documents/GitHub/ingCaracteristicasProyecto_/venv/lib/python3.12/site-packages/ydata_profiling/model/pandas/duplicates_pandas.py:40: PerformanceWarning: DataFrame is highly fragmented.  This is usually the result of calling `frame.insert` many times, which has poor performance.  Consider joining all columns at once using pd.concat(axis=1) instead. To get a de-fragmented frame, use `newframe = frame.copy()`\n",
      "  .reset_index(name=duplicates_key)\n",
      "/Users/federicocirett/Documents/GitHub/ingCaracteristicasProyecto_/venv/lib/python3.12/site-packages/ydata_profiling/model/pandas/duplicates_pandas.py:40: PerformanceWarning: DataFrame is highly fragmented.  This is usually the result of calling `frame.insert` many times, which has poor performance.  Consider joining all columns at once using pd.concat(axis=1) instead. To get a de-fragmented frame, use `newframe = frame.copy()`\n",
      "  .reset_index(name=duplicates_key)\n",
      "/Users/federicocirett/Documents/GitHub/ingCaracteristicasProyecto_/venv/lib/python3.12/site-packages/ydata_profiling/model/pandas/duplicates_pandas.py:40: PerformanceWarning: DataFrame is highly fragmented.  This is usually the result of calling `frame.insert` many times, which has poor performance.  Consider joining all columns at once using pd.concat(axis=1) instead. To get a de-fragmented frame, use `newframe = frame.copy()`\n",
      "  .reset_index(name=duplicates_key)\n",
      "/Users/federicocirett/Documents/GitHub/ingCaracteristicasProyecto_/venv/lib/python3.12/site-packages/ydata_profiling/model/pandas/duplicates_pandas.py:40: PerformanceWarning: DataFrame is highly fragmented.  This is usually the result of calling `frame.insert` many times, which has poor performance.  Consider joining all columns at once using pd.concat(axis=1) instead. To get a de-fragmented frame, use `newframe = frame.copy()`\n",
      "  .reset_index(name=duplicates_key)\n",
      "/Users/federicocirett/Documents/GitHub/ingCaracteristicasProyecto_/venv/lib/python3.12/site-packages/ydata_profiling/model/pandas/duplicates_pandas.py:40: PerformanceWarning: DataFrame is highly fragmented.  This is usually the result of calling `frame.insert` many times, which has poor performance.  Consider joining all columns at once using pd.concat(axis=1) instead. To get a de-fragmented frame, use `newframe = frame.copy()`\n",
      "  .reset_index(name=duplicates_key)\n",
      "/Users/federicocirett/Documents/GitHub/ingCaracteristicasProyecto_/venv/lib/python3.12/site-packages/ydata_profiling/model/pandas/duplicates_pandas.py:40: PerformanceWarning: DataFrame is highly fragmented.  This is usually the result of calling `frame.insert` many times, which has poor performance.  Consider joining all columns at once using pd.concat(axis=1) instead. To get a de-fragmented frame, use `newframe = frame.copy()`\n",
      "  .reset_index(name=duplicates_key)\n",
      "/Users/federicocirett/Documents/GitHub/ingCaracteristicasProyecto_/venv/lib/python3.12/site-packages/ydata_profiling/model/pandas/duplicates_pandas.py:40: PerformanceWarning: DataFrame is highly fragmented.  This is usually the result of calling `frame.insert` many times, which has poor performance.  Consider joining all columns at once using pd.concat(axis=1) instead. To get a de-fragmented frame, use `newframe = frame.copy()`\n",
      "  .reset_index(name=duplicates_key)\n",
      "/Users/federicocirett/Documents/GitHub/ingCaracteristicasProyecto_/venv/lib/python3.12/site-packages/ydata_profiling/model/pandas/duplicates_pandas.py:40: PerformanceWarning: DataFrame is highly fragmented.  This is usually the result of calling `frame.insert` many times, which has poor performance.  Consider joining all columns at once using pd.concat(axis=1) instead. To get a de-fragmented frame, use `newframe = frame.copy()`\n",
      "  .reset_index(name=duplicates_key)\n",
      "/Users/federicocirett/Documents/GitHub/ingCaracteristicasProyecto_/venv/lib/python3.12/site-packages/ydata_profiling/model/pandas/duplicates_pandas.py:40: PerformanceWarning: DataFrame is highly fragmented.  This is usually the result of calling `frame.insert` many times, which has poor performance.  Consider joining all columns at once using pd.concat(axis=1) instead. To get a de-fragmented frame, use `newframe = frame.copy()`\n",
      "  .reset_index(name=duplicates_key)\n",
      "/Users/federicocirett/Documents/GitHub/ingCaracteristicasProyecto_/venv/lib/python3.12/site-packages/ydata_profiling/model/pandas/duplicates_pandas.py:40: PerformanceWarning: DataFrame is highly fragmented.  This is usually the result of calling `frame.insert` many times, which has poor performance.  Consider joining all columns at once using pd.concat(axis=1) instead. To get a de-fragmented frame, use `newframe = frame.copy()`\n",
      "  .reset_index(name=duplicates_key)\n",
      "/Users/federicocirett/Documents/GitHub/ingCaracteristicasProyecto_/venv/lib/python3.12/site-packages/ydata_profiling/model/pandas/duplicates_pandas.py:40: PerformanceWarning: DataFrame is highly fragmented.  This is usually the result of calling `frame.insert` many times, which has poor performance.  Consider joining all columns at once using pd.concat(axis=1) instead. To get a de-fragmented frame, use `newframe = frame.copy()`\n",
      "  .reset_index(name=duplicates_key)\n",
      "/Users/federicocirett/Documents/GitHub/ingCaracteristicasProyecto_/venv/lib/python3.12/site-packages/ydata_profiling/model/pandas/duplicates_pandas.py:40: PerformanceWarning: DataFrame is highly fragmented.  This is usually the result of calling `frame.insert` many times, which has poor performance.  Consider joining all columns at once using pd.concat(axis=1) instead. To get a de-fragmented frame, use `newframe = frame.copy()`\n",
      "  .reset_index(name=duplicates_key)\n",
      "/Users/federicocirett/Documents/GitHub/ingCaracteristicasProyecto_/venv/lib/python3.12/site-packages/ydata_profiling/model/pandas/duplicates_pandas.py:40: PerformanceWarning: DataFrame is highly fragmented.  This is usually the result of calling `frame.insert` many times, which has poor performance.  Consider joining all columns at once using pd.concat(axis=1) instead. To get a de-fragmented frame, use `newframe = frame.copy()`\n",
      "  .reset_index(name=duplicates_key)\n",
      "/Users/federicocirett/Documents/GitHub/ingCaracteristicasProyecto_/venv/lib/python3.12/site-packages/ydata_profiling/model/pandas/duplicates_pandas.py:40: PerformanceWarning: DataFrame is highly fragmented.  This is usually the result of calling `frame.insert` many times, which has poor performance.  Consider joining all columns at once using pd.concat(axis=1) instead. To get a de-fragmented frame, use `newframe = frame.copy()`\n",
      "  .reset_index(name=duplicates_key)\n",
      "/Users/federicocirett/Documents/GitHub/ingCaracteristicasProyecto_/venv/lib/python3.12/site-packages/ydata_profiling/model/pandas/duplicates_pandas.py:40: PerformanceWarning: DataFrame is highly fragmented.  This is usually the result of calling `frame.insert` many times, which has poor performance.  Consider joining all columns at once using pd.concat(axis=1) instead. To get a de-fragmented frame, use `newframe = frame.copy()`\n",
      "  .reset_index(name=duplicates_key)\n",
      "/Users/federicocirett/Documents/GitHub/ingCaracteristicasProyecto_/venv/lib/python3.12/site-packages/ydata_profiling/model/pandas/duplicates_pandas.py:40: PerformanceWarning: DataFrame is highly fragmented.  This is usually the result of calling `frame.insert` many times, which has poor performance.  Consider joining all columns at once using pd.concat(axis=1) instead. To get a de-fragmented frame, use `newframe = frame.copy()`\n",
      "  .reset_index(name=duplicates_key)\n",
      "/Users/federicocirett/Documents/GitHub/ingCaracteristicasProyecto_/venv/lib/python3.12/site-packages/ydata_profiling/model/pandas/duplicates_pandas.py:40: PerformanceWarning: DataFrame is highly fragmented.  This is usually the result of calling `frame.insert` many times, which has poor performance.  Consider joining all columns at once using pd.concat(axis=1) instead. To get a de-fragmented frame, use `newframe = frame.copy()`\n",
      "  .reset_index(name=duplicates_key)\n",
      "/Users/federicocirett/Documents/GitHub/ingCaracteristicasProyecto_/venv/lib/python3.12/site-packages/ydata_profiling/model/pandas/duplicates_pandas.py:40: PerformanceWarning: DataFrame is highly fragmented.  This is usually the result of calling `frame.insert` many times, which has poor performance.  Consider joining all columns at once using pd.concat(axis=1) instead. To get a de-fragmented frame, use `newframe = frame.copy()`\n",
      "  .reset_index(name=duplicates_key)\n",
      "/Users/federicocirett/Documents/GitHub/ingCaracteristicasProyecto_/venv/lib/python3.12/site-packages/ydata_profiling/model/pandas/duplicates_pandas.py:40: PerformanceWarning: DataFrame is highly fragmented.  This is usually the result of calling `frame.insert` many times, which has poor performance.  Consider joining all columns at once using pd.concat(axis=1) instead. To get a de-fragmented frame, use `newframe = frame.copy()`\n",
      "  .reset_index(name=duplicates_key)\n",
      "/Users/federicocirett/Documents/GitHub/ingCaracteristicasProyecto_/venv/lib/python3.12/site-packages/ydata_profiling/model/pandas/duplicates_pandas.py:40: PerformanceWarning: DataFrame is highly fragmented.  This is usually the result of calling `frame.insert` many times, which has poor performance.  Consider joining all columns at once using pd.concat(axis=1) instead. To get a de-fragmented frame, use `newframe = frame.copy()`\n",
      "  .reset_index(name=duplicates_key)\n",
      "/Users/federicocirett/Documents/GitHub/ingCaracteristicasProyecto_/venv/lib/python3.12/site-packages/ydata_profiling/model/pandas/duplicates_pandas.py:40: PerformanceWarning: DataFrame is highly fragmented.  This is usually the result of calling `frame.insert` many times, which has poor performance.  Consider joining all columns at once using pd.concat(axis=1) instead. To get a de-fragmented frame, use `newframe = frame.copy()`\n",
      "  .reset_index(name=duplicates_key)\n",
      "/Users/federicocirett/Documents/GitHub/ingCaracteristicasProyecto_/venv/lib/python3.12/site-packages/ydata_profiling/model/pandas/duplicates_pandas.py:40: PerformanceWarning: DataFrame is highly fragmented.  This is usually the result of calling `frame.insert` many times, which has poor performance.  Consider joining all columns at once using pd.concat(axis=1) instead. To get a de-fragmented frame, use `newframe = frame.copy()`\n",
      "  .reset_index(name=duplicates_key)\n",
      "/Users/federicocirett/Documents/GitHub/ingCaracteristicasProyecto_/venv/lib/python3.12/site-packages/ydata_profiling/model/pandas/duplicates_pandas.py:40: PerformanceWarning: DataFrame is highly fragmented.  This is usually the result of calling `frame.insert` many times, which has poor performance.  Consider joining all columns at once using pd.concat(axis=1) instead. To get a de-fragmented frame, use `newframe = frame.copy()`\n",
      "  .reset_index(name=duplicates_key)\n",
      "/Users/federicocirett/Documents/GitHub/ingCaracteristicasProyecto_/venv/lib/python3.12/site-packages/ydata_profiling/model/pandas/duplicates_pandas.py:40: PerformanceWarning: DataFrame is highly fragmented.  This is usually the result of calling `frame.insert` many times, which has poor performance.  Consider joining all columns at once using pd.concat(axis=1) instead. To get a de-fragmented frame, use `newframe = frame.copy()`\n",
      "  .reset_index(name=duplicates_key)\n",
      "/Users/federicocirett/Documents/GitHub/ingCaracteristicasProyecto_/venv/lib/python3.12/site-packages/ydata_profiling/model/pandas/duplicates_pandas.py:40: PerformanceWarning: DataFrame is highly fragmented.  This is usually the result of calling `frame.insert` many times, which has poor performance.  Consider joining all columns at once using pd.concat(axis=1) instead. To get a de-fragmented frame, use `newframe = frame.copy()`\n",
      "  .reset_index(name=duplicates_key)\n",
      "/Users/federicocirett/Documents/GitHub/ingCaracteristicasProyecto_/venv/lib/python3.12/site-packages/ydata_profiling/model/pandas/duplicates_pandas.py:40: PerformanceWarning: DataFrame is highly fragmented.  This is usually the result of calling `frame.insert` many times, which has poor performance.  Consider joining all columns at once using pd.concat(axis=1) instead. To get a de-fragmented frame, use `newframe = frame.copy()`\n",
      "  .reset_index(name=duplicates_key)\n",
      "/Users/federicocirett/Documents/GitHub/ingCaracteristicasProyecto_/venv/lib/python3.12/site-packages/ydata_profiling/model/pandas/duplicates_pandas.py:40: PerformanceWarning: DataFrame is highly fragmented.  This is usually the result of calling `frame.insert` many times, which has poor performance.  Consider joining all columns at once using pd.concat(axis=1) instead. To get a de-fragmented frame, use `newframe = frame.copy()`\n",
      "  .reset_index(name=duplicates_key)\n",
      "/Users/federicocirett/Documents/GitHub/ingCaracteristicasProyecto_/venv/lib/python3.12/site-packages/ydata_profiling/model/pandas/duplicates_pandas.py:40: PerformanceWarning: DataFrame is highly fragmented.  This is usually the result of calling `frame.insert` many times, which has poor performance.  Consider joining all columns at once using pd.concat(axis=1) instead. To get a de-fragmented frame, use `newframe = frame.copy()`\n",
      "  .reset_index(name=duplicates_key)\n",
      "/Users/federicocirett/Documents/GitHub/ingCaracteristicasProyecto_/venv/lib/python3.12/site-packages/ydata_profiling/model/pandas/duplicates_pandas.py:40: PerformanceWarning: DataFrame is highly fragmented.  This is usually the result of calling `frame.insert` many times, which has poor performance.  Consider joining all columns at once using pd.concat(axis=1) instead. To get a de-fragmented frame, use `newframe = frame.copy()`\n",
      "  .reset_index(name=duplicates_key)\n",
      "/Users/federicocirett/Documents/GitHub/ingCaracteristicasProyecto_/venv/lib/python3.12/site-packages/ydata_profiling/model/pandas/duplicates_pandas.py:40: PerformanceWarning: DataFrame is highly fragmented.  This is usually the result of calling `frame.insert` many times, which has poor performance.  Consider joining all columns at once using pd.concat(axis=1) instead. To get a de-fragmented frame, use `newframe = frame.copy()`\n",
      "  .reset_index(name=duplicates_key)\n",
      "/Users/federicocirett/Documents/GitHub/ingCaracteristicasProyecto_/venv/lib/python3.12/site-packages/ydata_profiling/model/pandas/duplicates_pandas.py:40: PerformanceWarning: DataFrame is highly fragmented.  This is usually the result of calling `frame.insert` many times, which has poor performance.  Consider joining all columns at once using pd.concat(axis=1) instead. To get a de-fragmented frame, use `newframe = frame.copy()`\n",
      "  .reset_index(name=duplicates_key)\n",
      "/Users/federicocirett/Documents/GitHub/ingCaracteristicasProyecto_/venv/lib/python3.12/site-packages/ydata_profiling/model/pandas/duplicates_pandas.py:40: PerformanceWarning: DataFrame is highly fragmented.  This is usually the result of calling `frame.insert` many times, which has poor performance.  Consider joining all columns at once using pd.concat(axis=1) instead. To get a de-fragmented frame, use `newframe = frame.copy()`\n",
      "  .reset_index(name=duplicates_key)\n",
      "/Users/federicocirett/Documents/GitHub/ingCaracteristicasProyecto_/venv/lib/python3.12/site-packages/ydata_profiling/model/pandas/duplicates_pandas.py:40: PerformanceWarning: DataFrame is highly fragmented.  This is usually the result of calling `frame.insert` many times, which has poor performance.  Consider joining all columns at once using pd.concat(axis=1) instead. To get a de-fragmented frame, use `newframe = frame.copy()`\n",
      "  .reset_index(name=duplicates_key)\n",
      "/Users/federicocirett/Documents/GitHub/ingCaracteristicasProyecto_/venv/lib/python3.12/site-packages/ydata_profiling/model/pandas/duplicates_pandas.py:40: PerformanceWarning: DataFrame is highly fragmented.  This is usually the result of calling `frame.insert` many times, which has poor performance.  Consider joining all columns at once using pd.concat(axis=1) instead. To get a de-fragmented frame, use `newframe = frame.copy()`\n",
      "  .reset_index(name=duplicates_key)\n",
      "/Users/federicocirett/Documents/GitHub/ingCaracteristicasProyecto_/venv/lib/python3.12/site-packages/ydata_profiling/model/pandas/duplicates_pandas.py:40: PerformanceWarning: DataFrame is highly fragmented.  This is usually the result of calling `frame.insert` many times, which has poor performance.  Consider joining all columns at once using pd.concat(axis=1) instead. To get a de-fragmented frame, use `newframe = frame.copy()`\n",
      "  .reset_index(name=duplicates_key)\n",
      "/Users/federicocirett/Documents/GitHub/ingCaracteristicasProyecto_/venv/lib/python3.12/site-packages/ydata_profiling/model/pandas/duplicates_pandas.py:40: PerformanceWarning: DataFrame is highly fragmented.  This is usually the result of calling `frame.insert` many times, which has poor performance.  Consider joining all columns at once using pd.concat(axis=1) instead. To get a de-fragmented frame, use `newframe = frame.copy()`\n",
      "  .reset_index(name=duplicates_key)\n",
      "/Users/federicocirett/Documents/GitHub/ingCaracteristicasProyecto_/venv/lib/python3.12/site-packages/ydata_profiling/model/pandas/duplicates_pandas.py:40: PerformanceWarning: DataFrame is highly fragmented.  This is usually the result of calling `frame.insert` many times, which has poor performance.  Consider joining all columns at once using pd.concat(axis=1) instead. To get a de-fragmented frame, use `newframe = frame.copy()`\n",
      "  .reset_index(name=duplicates_key)\n",
      "/Users/federicocirett/Documents/GitHub/ingCaracteristicasProyecto_/venv/lib/python3.12/site-packages/ydata_profiling/model/pandas/duplicates_pandas.py:40: PerformanceWarning: DataFrame is highly fragmented.  This is usually the result of calling `frame.insert` many times, which has poor performance.  Consider joining all columns at once using pd.concat(axis=1) instead. To get a de-fragmented frame, use `newframe = frame.copy()`\n",
      "  .reset_index(name=duplicates_key)\n",
      "/Users/federicocirett/Documents/GitHub/ingCaracteristicasProyecto_/venv/lib/python3.12/site-packages/ydata_profiling/model/pandas/duplicates_pandas.py:40: PerformanceWarning: DataFrame is highly fragmented.  This is usually the result of calling `frame.insert` many times, which has poor performance.  Consider joining all columns at once using pd.concat(axis=1) instead. To get a de-fragmented frame, use `newframe = frame.copy()`\n",
      "  .reset_index(name=duplicates_key)\n",
      "/Users/federicocirett/Documents/GitHub/ingCaracteristicasProyecto_/venv/lib/python3.12/site-packages/ydata_profiling/model/pandas/duplicates_pandas.py:40: PerformanceWarning: DataFrame is highly fragmented.  This is usually the result of calling `frame.insert` many times, which has poor performance.  Consider joining all columns at once using pd.concat(axis=1) instead. To get a de-fragmented frame, use `newframe = frame.copy()`\n",
      "  .reset_index(name=duplicates_key)\n",
      "/Users/federicocirett/Documents/GitHub/ingCaracteristicasProyecto_/venv/lib/python3.12/site-packages/ydata_profiling/model/pandas/duplicates_pandas.py:40: PerformanceWarning: DataFrame is highly fragmented.  This is usually the result of calling `frame.insert` many times, which has poor performance.  Consider joining all columns at once using pd.concat(axis=1) instead. To get a de-fragmented frame, use `newframe = frame.copy()`\n",
      "  .reset_index(name=duplicates_key)\n",
      "/Users/federicocirett/Documents/GitHub/ingCaracteristicasProyecto_/venv/lib/python3.12/site-packages/ydata_profiling/model/pandas/duplicates_pandas.py:40: PerformanceWarning: DataFrame is highly fragmented.  This is usually the result of calling `frame.insert` many times, which has poor performance.  Consider joining all columns at once using pd.concat(axis=1) instead. To get a de-fragmented frame, use `newframe = frame.copy()`\n",
      "  .reset_index(name=duplicates_key)\n",
      "/Users/federicocirett/Documents/GitHub/ingCaracteristicasProyecto_/venv/lib/python3.12/site-packages/ydata_profiling/model/pandas/duplicates_pandas.py:40: PerformanceWarning: DataFrame is highly fragmented.  This is usually the result of calling `frame.insert` many times, which has poor performance.  Consider joining all columns at once using pd.concat(axis=1) instead. To get a de-fragmented frame, use `newframe = frame.copy()`\n",
      "  .reset_index(name=duplicates_key)\n",
      "/Users/federicocirett/Documents/GitHub/ingCaracteristicasProyecto_/venv/lib/python3.12/site-packages/ydata_profiling/model/pandas/duplicates_pandas.py:40: PerformanceWarning: DataFrame is highly fragmented.  This is usually the result of calling `frame.insert` many times, which has poor performance.  Consider joining all columns at once using pd.concat(axis=1) instead. To get a de-fragmented frame, use `newframe = frame.copy()`\n",
      "  .reset_index(name=duplicates_key)\n",
      "/Users/federicocirett/Documents/GitHub/ingCaracteristicasProyecto_/venv/lib/python3.12/site-packages/ydata_profiling/model/pandas/duplicates_pandas.py:40: PerformanceWarning: DataFrame is highly fragmented.  This is usually the result of calling `frame.insert` many times, which has poor performance.  Consider joining all columns at once using pd.concat(axis=1) instead. To get a de-fragmented frame, use `newframe = frame.copy()`\n",
      "  .reset_index(name=duplicates_key)\n",
      "/Users/federicocirett/Documents/GitHub/ingCaracteristicasProyecto_/venv/lib/python3.12/site-packages/ydata_profiling/model/pandas/duplicates_pandas.py:40: PerformanceWarning: DataFrame is highly fragmented.  This is usually the result of calling `frame.insert` many times, which has poor performance.  Consider joining all columns at once using pd.concat(axis=1) instead. To get a de-fragmented frame, use `newframe = frame.copy()`\n",
      "  .reset_index(name=duplicates_key)\n",
      "/Users/federicocirett/Documents/GitHub/ingCaracteristicasProyecto_/venv/lib/python3.12/site-packages/ydata_profiling/model/pandas/duplicates_pandas.py:40: PerformanceWarning: DataFrame is highly fragmented.  This is usually the result of calling `frame.insert` many times, which has poor performance.  Consider joining all columns at once using pd.concat(axis=1) instead. To get a de-fragmented frame, use `newframe = frame.copy()`\n",
      "  .reset_index(name=duplicates_key)\n",
      "/Users/federicocirett/Documents/GitHub/ingCaracteristicasProyecto_/venv/lib/python3.12/site-packages/ydata_profiling/model/pandas/duplicates_pandas.py:40: PerformanceWarning: DataFrame is highly fragmented.  This is usually the result of calling `frame.insert` many times, which has poor performance.  Consider joining all columns at once using pd.concat(axis=1) instead. To get a de-fragmented frame, use `newframe = frame.copy()`\n",
      "  .reset_index(name=duplicates_key)\n",
      "/Users/federicocirett/Documents/GitHub/ingCaracteristicasProyecto_/venv/lib/python3.12/site-packages/ydata_profiling/model/pandas/duplicates_pandas.py:40: PerformanceWarning: DataFrame is highly fragmented.  This is usually the result of calling `frame.insert` many times, which has poor performance.  Consider joining all columns at once using pd.concat(axis=1) instead. To get a de-fragmented frame, use `newframe = frame.copy()`\n",
      "  .reset_index(name=duplicates_key)\n",
      "/Users/federicocirett/Documents/GitHub/ingCaracteristicasProyecto_/venv/lib/python3.12/site-packages/ydata_profiling/model/pandas/duplicates_pandas.py:40: PerformanceWarning: DataFrame is highly fragmented.  This is usually the result of calling `frame.insert` many times, which has poor performance.  Consider joining all columns at once using pd.concat(axis=1) instead. To get a de-fragmented frame, use `newframe = frame.copy()`\n",
      "  .reset_index(name=duplicates_key)\n",
      "/Users/federicocirett/Documents/GitHub/ingCaracteristicasProyecto_/venv/lib/python3.12/site-packages/ydata_profiling/model/pandas/duplicates_pandas.py:40: PerformanceWarning: DataFrame is highly fragmented.  This is usually the result of calling `frame.insert` many times, which has poor performance.  Consider joining all columns at once using pd.concat(axis=1) instead. To get a de-fragmented frame, use `newframe = frame.copy()`\n",
      "  .reset_index(name=duplicates_key)\n"
     ]
    },
    {
     "data": {
      "application/vnd.jupyter.widget-view+json": {
       "model_id": "2e203339a75249c580749079c41d601a",
       "version_major": 2,
       "version_minor": 0
      },
      "text/plain": [
       "Generate report structure:   0%|          | 0/1 [00:00<?, ?it/s]"
      ]
     },
     "metadata": {},
     "output_type": "display_data"
    },
    {
     "data": {
      "application/vnd.jupyter.widget-view+json": {
       "model_id": "79936fd6474c410486d084d33b33f4b7",
       "version_major": 2,
       "version_minor": 0
      },
      "text/plain": [
       "Render HTML:   0%|          | 0/1 [00:00<?, ?it/s]"
      ]
     },
     "metadata": {},
     "output_type": "display_data"
    },
    {
     "data": {
      "application/vnd.jupyter.widget-view+json": {
       "model_id": "50cfd0cb1aa44364beb8944497cd508e",
       "version_major": 2,
       "version_minor": 0
      },
      "text/plain": [
       "Export report to file:   0%|          | 0/1 [00:00<?, ?it/s]"
      ]
     },
     "metadata": {},
     "output_type": "display_data"
    }
   ],
   "source": [
    "os.makedirs(\"National\",exist_ok=True)\n",
    "profile_2020.to_file(\"National/ccpv_national_2020_report.html\")"
   ]
  },
  {
   "cell_type": "markdown",
   "metadata": {},
   "source": [
    "### Sonora"
   ]
  },
  {
   "cell_type": "code",
   "execution_count": 29,
   "metadata": {},
   "outputs": [],
   "source": [
    "sonora_2000=ccpv_2000[ccpv_2000['Clave de entidad federativa']==26]\n",
    "sonora_2005=ccpv_2005[ccpv_2005['Entidad Federativa']=='Sonora']\n",
    "sonora_2010=ccpv_2010[ccpv_2010['Clave de entidad federativa']==26]\n",
    "sonora_2020=ccpv_2020[ccpv_2020['Clave de entidad federativa']==26]\n"
   ]
  },
  {
   "cell_type": "code",
   "execution_count": 30,
   "metadata": {},
   "outputs": [],
   "source": [
    "profile_2000 = ProfileReport(sonora_2000, title=\"Sonora CCPV 2000 Profile Report\")\n",
    "profile_2005 = ProfileReport(sonora_2005, title=\"Sonora CCPV 2005 Profile Report\")\n",
    "profile_2010 = ProfileReport(sonora_2010, title=\"Sonora CCPV 2010 Profile Report\")\n",
    "profile_2020 = ProfileReport(sonora_2020, title=\"Sonora CCPV 2020 Profile Report\")"
   ]
  },
  {
   "cell_type": "code",
   "execution_count": 32,
   "metadata": {},
   "outputs": [
    {
     "data": {
      "application/vnd.jupyter.widget-view+json": {
       "model_id": "646f583370fd47be81da450cde32cb0d",
       "version_major": 2,
       "version_minor": 0
      },
      "text/plain": [
       "Export report to file:   0%|          | 0/1 [00:00<?, ?it/s]"
      ]
     },
     "metadata": {},
     "output_type": "display_data"
    }
   ],
   "source": [
    "os.makedirs(\"Sonora\",exist_ok=True)\n",
    "profile_2000.to_file(\"Sonora/ccpv_sonora_2000_report.html\")"
   ]
  },
  {
   "cell_type": "code",
   "execution_count": 33,
   "metadata": {},
   "outputs": [
    {
     "name": "stderr",
     "output_type": "stream",
     "text": [
      "/Users/federicocirett/Documents/GitHub/ingCaracteristicasProyecto_/venv/lib/python3.12/site-packages/ydata_profiling/utils/dataframe.py:137: SettingWithCopyWarning: \n",
      "A value is trying to be set on a copy of a slice from a DataFrame\n",
      "\n",
      "See the caveats in the documentation: https://pandas.pydata.org/pandas-docs/stable/user_guide/indexing.html#returning-a-view-versus-a-copy\n",
      "  df.rename(columns={\"index\": \"df_index\"}, inplace=True)\n"
     ]
    },
    {
     "data": {
      "application/vnd.jupyter.widget-view+json": {
       "model_id": "7d4fb8ee559d4c0c9677d134f6af5870",
       "version_major": 2,
       "version_minor": 0
      },
      "text/plain": [
       "Summarize dataset:   0%|          | 0/5 [00:00<?, ?it/s]"
      ]
     },
     "metadata": {},
     "output_type": "display_data"
    },
    {
     "data": {
      "application/vnd.jupyter.widget-view+json": {
       "model_id": "3e964c63994c4034875790ce3b01ff03",
       "version_major": 2,
       "version_minor": 0
      },
      "text/plain": [
       "Generate report structure:   0%|          | 0/1 [00:00<?, ?it/s]"
      ]
     },
     "metadata": {},
     "output_type": "display_data"
    },
    {
     "data": {
      "application/vnd.jupyter.widget-view+json": {
       "model_id": "ef4ea6f259a442329e2434db2beabfbe",
       "version_major": 2,
       "version_minor": 0
      },
      "text/plain": [
       "Render HTML:   0%|          | 0/1 [00:00<?, ?it/s]"
      ]
     },
     "metadata": {},
     "output_type": "display_data"
    },
    {
     "data": {
      "application/vnd.jupyter.widget-view+json": {
       "model_id": "2979b1de128647edbefc5bff1aa9767d",
       "version_major": 2,
       "version_minor": 0
      },
      "text/plain": [
       "Export report to file:   0%|          | 0/1 [00:00<?, ?it/s]"
      ]
     },
     "metadata": {},
     "output_type": "display_data"
    }
   ],
   "source": [
    "os.makedirs(\"Sonora\",exist_ok=True)\n",
    "profile_2005.to_file(\"Sonora/ccpv_sonora_2005_report.html\")"
   ]
  },
  {
   "cell_type": "code",
   "execution_count": 34,
   "metadata": {},
   "outputs": [
    {
     "name": "stderr",
     "output_type": "stream",
     "text": [
      "/Users/federicocirett/Documents/GitHub/ingCaracteristicasProyecto_/venv/lib/python3.12/site-packages/ydata_profiling/utils/dataframe.py:137: SettingWithCopyWarning: \n",
      "A value is trying to be set on a copy of a slice from a DataFrame\n",
      "\n",
      "See the caveats in the documentation: https://pandas.pydata.org/pandas-docs/stable/user_guide/indexing.html#returning-a-view-versus-a-copy\n",
      "  df.rename(columns={\"index\": \"df_index\"}, inplace=True)\n"
     ]
    },
    {
     "data": {
      "application/vnd.jupyter.widget-view+json": {
       "model_id": "dd242d9559194a08ab5dcffc04534d5d",
       "version_major": 2,
       "version_minor": 0
      },
      "text/plain": [
       "Summarize dataset:   0%|          | 0/5 [00:00<?, ?it/s]"
      ]
     },
     "metadata": {},
     "output_type": "display_data"
    },
    {
     "name": "stderr",
     "output_type": "stream",
     "text": [
      "/Users/federicocirett/Documents/GitHub/ingCaracteristicasProyecto_/venv/lib/python3.12/site-packages/ydata_profiling/model/pandas/duplicates_pandas.py:40: PerformanceWarning: DataFrame is highly fragmented.  This is usually the result of calling `frame.insert` many times, which has poor performance.  Consider joining all columns at once using pd.concat(axis=1) instead. To get a de-fragmented frame, use `newframe = frame.copy()`\n",
      "  .reset_index(name=duplicates_key)\n",
      "/Users/federicocirett/Documents/GitHub/ingCaracteristicasProyecto_/venv/lib/python3.12/site-packages/ydata_profiling/model/pandas/duplicates_pandas.py:40: PerformanceWarning: DataFrame is highly fragmented.  This is usually the result of calling `frame.insert` many times, which has poor performance.  Consider joining all columns at once using pd.concat(axis=1) instead. To get a de-fragmented frame, use `newframe = frame.copy()`\n",
      "  .reset_index(name=duplicates_key)\n",
      "/Users/federicocirett/Documents/GitHub/ingCaracteristicasProyecto_/venv/lib/python3.12/site-packages/ydata_profiling/model/pandas/duplicates_pandas.py:40: PerformanceWarning: DataFrame is highly fragmented.  This is usually the result of calling `frame.insert` many times, which has poor performance.  Consider joining all columns at once using pd.concat(axis=1) instead. To get a de-fragmented frame, use `newframe = frame.copy()`\n",
      "  .reset_index(name=duplicates_key)\n",
      "/Users/federicocirett/Documents/GitHub/ingCaracteristicasProyecto_/venv/lib/python3.12/site-packages/ydata_profiling/model/pandas/duplicates_pandas.py:40: PerformanceWarning: DataFrame is highly fragmented.  This is usually the result of calling `frame.insert` many times, which has poor performance.  Consider joining all columns at once using pd.concat(axis=1) instead. To get a de-fragmented frame, use `newframe = frame.copy()`\n",
      "  .reset_index(name=duplicates_key)\n",
      "/Users/federicocirett/Documents/GitHub/ingCaracteristicasProyecto_/venv/lib/python3.12/site-packages/ydata_profiling/model/pandas/duplicates_pandas.py:40: PerformanceWarning: DataFrame is highly fragmented.  This is usually the result of calling `frame.insert` many times, which has poor performance.  Consider joining all columns at once using pd.concat(axis=1) instead. To get a de-fragmented frame, use `newframe = frame.copy()`\n",
      "  .reset_index(name=duplicates_key)\n"
     ]
    },
    {
     "data": {
      "application/vnd.jupyter.widget-view+json": {
       "model_id": "71e33c3f10a546ce84eb56640a6f1c21",
       "version_major": 2,
       "version_minor": 0
      },
      "text/plain": [
       "Generate report structure:   0%|          | 0/1 [00:00<?, ?it/s]"
      ]
     },
     "metadata": {},
     "output_type": "display_data"
    },
    {
     "data": {
      "application/vnd.jupyter.widget-view+json": {
       "model_id": "7f15bae7a8454482a7fd216516dabf55",
       "version_major": 2,
       "version_minor": 0
      },
      "text/plain": [
       "Render HTML:   0%|          | 0/1 [00:00<?, ?it/s]"
      ]
     },
     "metadata": {},
     "output_type": "display_data"
    },
    {
     "data": {
      "application/vnd.jupyter.widget-view+json": {
       "model_id": "ac50c7adc8764bfa8a3e70051e14e5fe",
       "version_major": 2,
       "version_minor": 0
      },
      "text/plain": [
       "Export report to file:   0%|          | 0/1 [00:00<?, ?it/s]"
      ]
     },
     "metadata": {},
     "output_type": "display_data"
    }
   ],
   "source": [
    "os.makedirs(\"Sonora\",exist_ok=True)\n",
    "profile_2010.to_file(\"Sonora/ccpv_sonora_2010_report.html\")"
   ]
  },
  {
   "cell_type": "code",
   "execution_count": 35,
   "metadata": {},
   "outputs": [
    {
     "name": "stderr",
     "output_type": "stream",
     "text": [
      "/Users/federicocirett/Documents/GitHub/ingCaracteristicasProyecto_/venv/lib/python3.12/site-packages/ydata_profiling/utils/dataframe.py:137: SettingWithCopyWarning: \n",
      "A value is trying to be set on a copy of a slice from a DataFrame\n",
      "\n",
      "See the caveats in the documentation: https://pandas.pydata.org/pandas-docs/stable/user_guide/indexing.html#returning-a-view-versus-a-copy\n",
      "  df.rename(columns={\"index\": \"df_index\"}, inplace=True)\n"
     ]
    },
    {
     "data": {
      "application/vnd.jupyter.widget-view+json": {
       "model_id": "7591d5ef919a4bddb59fa0716968a8f0",
       "version_major": 2,
       "version_minor": 0
      },
      "text/plain": [
       "Summarize dataset:   0%|          | 0/5 [00:00<?, ?it/s]"
      ]
     },
     "metadata": {},
     "output_type": "display_data"
    },
    {
     "name": "stderr",
     "output_type": "stream",
     "text": [
      "/Users/federicocirett/Documents/GitHub/ingCaracteristicasProyecto_/venv/lib/python3.12/site-packages/ydata_profiling/model/pandas/duplicates_pandas.py:40: PerformanceWarning: DataFrame is highly fragmented.  This is usually the result of calling `frame.insert` many times, which has poor performance.  Consider joining all columns at once using pd.concat(axis=1) instead. To get a de-fragmented frame, use `newframe = frame.copy()`\n",
      "  .reset_index(name=duplicates_key)\n",
      "/Users/federicocirett/Documents/GitHub/ingCaracteristicasProyecto_/venv/lib/python3.12/site-packages/ydata_profiling/model/pandas/duplicates_pandas.py:40: PerformanceWarning: DataFrame is highly fragmented.  This is usually the result of calling `frame.insert` many times, which has poor performance.  Consider joining all columns at once using pd.concat(axis=1) instead. To get a de-fragmented frame, use `newframe = frame.copy()`\n",
      "  .reset_index(name=duplicates_key)\n",
      "/Users/federicocirett/Documents/GitHub/ingCaracteristicasProyecto_/venv/lib/python3.12/site-packages/ydata_profiling/model/pandas/duplicates_pandas.py:40: PerformanceWarning: DataFrame is highly fragmented.  This is usually the result of calling `frame.insert` many times, which has poor performance.  Consider joining all columns at once using pd.concat(axis=1) instead. To get a de-fragmented frame, use `newframe = frame.copy()`\n",
      "  .reset_index(name=duplicates_key)\n",
      "/Users/federicocirett/Documents/GitHub/ingCaracteristicasProyecto_/venv/lib/python3.12/site-packages/ydata_profiling/model/pandas/duplicates_pandas.py:40: PerformanceWarning: DataFrame is highly fragmented.  This is usually the result of calling `frame.insert` many times, which has poor performance.  Consider joining all columns at once using pd.concat(axis=1) instead. To get a de-fragmented frame, use `newframe = frame.copy()`\n",
      "  .reset_index(name=duplicates_key)\n",
      "/Users/federicocirett/Documents/GitHub/ingCaracteristicasProyecto_/venv/lib/python3.12/site-packages/ydata_profiling/model/pandas/duplicates_pandas.py:40: PerformanceWarning: DataFrame is highly fragmented.  This is usually the result of calling `frame.insert` many times, which has poor performance.  Consider joining all columns at once using pd.concat(axis=1) instead. To get a de-fragmented frame, use `newframe = frame.copy()`\n",
      "  .reset_index(name=duplicates_key)\n",
      "/Users/federicocirett/Documents/GitHub/ingCaracteristicasProyecto_/venv/lib/python3.12/site-packages/ydata_profiling/model/pandas/duplicates_pandas.py:40: PerformanceWarning: DataFrame is highly fragmented.  This is usually the result of calling `frame.insert` many times, which has poor performance.  Consider joining all columns at once using pd.concat(axis=1) instead. To get a de-fragmented frame, use `newframe = frame.copy()`\n",
      "  .reset_index(name=duplicates_key)\n",
      "/Users/federicocirett/Documents/GitHub/ingCaracteristicasProyecto_/venv/lib/python3.12/site-packages/ydata_profiling/model/pandas/duplicates_pandas.py:40: PerformanceWarning: DataFrame is highly fragmented.  This is usually the result of calling `frame.insert` many times, which has poor performance.  Consider joining all columns at once using pd.concat(axis=1) instead. To get a de-fragmented frame, use `newframe = frame.copy()`\n",
      "  .reset_index(name=duplicates_key)\n",
      "/Users/federicocirett/Documents/GitHub/ingCaracteristicasProyecto_/venv/lib/python3.12/site-packages/ydata_profiling/model/pandas/duplicates_pandas.py:40: PerformanceWarning: DataFrame is highly fragmented.  This is usually the result of calling `frame.insert` many times, which has poor performance.  Consider joining all columns at once using pd.concat(axis=1) instead. To get a de-fragmented frame, use `newframe = frame.copy()`\n",
      "  .reset_index(name=duplicates_key)\n",
      "/Users/federicocirett/Documents/GitHub/ingCaracteristicasProyecto_/venv/lib/python3.12/site-packages/ydata_profiling/model/pandas/duplicates_pandas.py:40: PerformanceWarning: DataFrame is highly fragmented.  This is usually the result of calling `frame.insert` many times, which has poor performance.  Consider joining all columns at once using pd.concat(axis=1) instead. To get a de-fragmented frame, use `newframe = frame.copy()`\n",
      "  .reset_index(name=duplicates_key)\n",
      "/Users/federicocirett/Documents/GitHub/ingCaracteristicasProyecto_/venv/lib/python3.12/site-packages/ydata_profiling/model/pandas/duplicates_pandas.py:40: PerformanceWarning: DataFrame is highly fragmented.  This is usually the result of calling `frame.insert` many times, which has poor performance.  Consider joining all columns at once using pd.concat(axis=1) instead. To get a de-fragmented frame, use `newframe = frame.copy()`\n",
      "  .reset_index(name=duplicates_key)\n",
      "/Users/federicocirett/Documents/GitHub/ingCaracteristicasProyecto_/venv/lib/python3.12/site-packages/ydata_profiling/model/pandas/duplicates_pandas.py:40: PerformanceWarning: DataFrame is highly fragmented.  This is usually the result of calling `frame.insert` many times, which has poor performance.  Consider joining all columns at once using pd.concat(axis=1) instead. To get a de-fragmented frame, use `newframe = frame.copy()`\n",
      "  .reset_index(name=duplicates_key)\n",
      "/Users/federicocirett/Documents/GitHub/ingCaracteristicasProyecto_/venv/lib/python3.12/site-packages/ydata_profiling/model/pandas/duplicates_pandas.py:40: PerformanceWarning: DataFrame is highly fragmented.  This is usually the result of calling `frame.insert` many times, which has poor performance.  Consider joining all columns at once using pd.concat(axis=1) instead. To get a de-fragmented frame, use `newframe = frame.copy()`\n",
      "  .reset_index(name=duplicates_key)\n",
      "/Users/federicocirett/Documents/GitHub/ingCaracteristicasProyecto_/venv/lib/python3.12/site-packages/ydata_profiling/model/pandas/duplicates_pandas.py:40: PerformanceWarning: DataFrame is highly fragmented.  This is usually the result of calling `frame.insert` many times, which has poor performance.  Consider joining all columns at once using pd.concat(axis=1) instead. To get a de-fragmented frame, use `newframe = frame.copy()`\n",
      "  .reset_index(name=duplicates_key)\n",
      "/Users/federicocirett/Documents/GitHub/ingCaracteristicasProyecto_/venv/lib/python3.12/site-packages/ydata_profiling/model/pandas/duplicates_pandas.py:40: PerformanceWarning: DataFrame is highly fragmented.  This is usually the result of calling `frame.insert` many times, which has poor performance.  Consider joining all columns at once using pd.concat(axis=1) instead. To get a de-fragmented frame, use `newframe = frame.copy()`\n",
      "  .reset_index(name=duplicates_key)\n",
      "/Users/federicocirett/Documents/GitHub/ingCaracteristicasProyecto_/venv/lib/python3.12/site-packages/ydata_profiling/model/pandas/duplicates_pandas.py:40: PerformanceWarning: DataFrame is highly fragmented.  This is usually the result of calling `frame.insert` many times, which has poor performance.  Consider joining all columns at once using pd.concat(axis=1) instead. To get a de-fragmented frame, use `newframe = frame.copy()`\n",
      "  .reset_index(name=duplicates_key)\n",
      "/Users/federicocirett/Documents/GitHub/ingCaracteristicasProyecto_/venv/lib/python3.12/site-packages/ydata_profiling/model/pandas/duplicates_pandas.py:40: PerformanceWarning: DataFrame is highly fragmented.  This is usually the result of calling `frame.insert` many times, which has poor performance.  Consider joining all columns at once using pd.concat(axis=1) instead. To get a de-fragmented frame, use `newframe = frame.copy()`\n",
      "  .reset_index(name=duplicates_key)\n",
      "/Users/federicocirett/Documents/GitHub/ingCaracteristicasProyecto_/venv/lib/python3.12/site-packages/ydata_profiling/model/pandas/duplicates_pandas.py:40: PerformanceWarning: DataFrame is highly fragmented.  This is usually the result of calling `frame.insert` many times, which has poor performance.  Consider joining all columns at once using pd.concat(axis=1) instead. To get a de-fragmented frame, use `newframe = frame.copy()`\n",
      "  .reset_index(name=duplicates_key)\n",
      "/Users/federicocirett/Documents/GitHub/ingCaracteristicasProyecto_/venv/lib/python3.12/site-packages/ydata_profiling/model/pandas/duplicates_pandas.py:40: PerformanceWarning: DataFrame is highly fragmented.  This is usually the result of calling `frame.insert` many times, which has poor performance.  Consider joining all columns at once using pd.concat(axis=1) instead. To get a de-fragmented frame, use `newframe = frame.copy()`\n",
      "  .reset_index(name=duplicates_key)\n",
      "/Users/federicocirett/Documents/GitHub/ingCaracteristicasProyecto_/venv/lib/python3.12/site-packages/ydata_profiling/model/pandas/duplicates_pandas.py:40: PerformanceWarning: DataFrame is highly fragmented.  This is usually the result of calling `frame.insert` many times, which has poor performance.  Consider joining all columns at once using pd.concat(axis=1) instead. To get a de-fragmented frame, use `newframe = frame.copy()`\n",
      "  .reset_index(name=duplicates_key)\n",
      "/Users/federicocirett/Documents/GitHub/ingCaracteristicasProyecto_/venv/lib/python3.12/site-packages/ydata_profiling/model/pandas/duplicates_pandas.py:40: PerformanceWarning: DataFrame is highly fragmented.  This is usually the result of calling `frame.insert` many times, which has poor performance.  Consider joining all columns at once using pd.concat(axis=1) instead. To get a de-fragmented frame, use `newframe = frame.copy()`\n",
      "  .reset_index(name=duplicates_key)\n",
      "/Users/federicocirett/Documents/GitHub/ingCaracteristicasProyecto_/venv/lib/python3.12/site-packages/ydata_profiling/model/pandas/duplicates_pandas.py:40: PerformanceWarning: DataFrame is highly fragmented.  This is usually the result of calling `frame.insert` many times, which has poor performance.  Consider joining all columns at once using pd.concat(axis=1) instead. To get a de-fragmented frame, use `newframe = frame.copy()`\n",
      "  .reset_index(name=duplicates_key)\n",
      "/Users/federicocirett/Documents/GitHub/ingCaracteristicasProyecto_/venv/lib/python3.12/site-packages/ydata_profiling/model/pandas/duplicates_pandas.py:40: PerformanceWarning: DataFrame is highly fragmented.  This is usually the result of calling `frame.insert` many times, which has poor performance.  Consider joining all columns at once using pd.concat(axis=1) instead. To get a de-fragmented frame, use `newframe = frame.copy()`\n",
      "  .reset_index(name=duplicates_key)\n",
      "/Users/federicocirett/Documents/GitHub/ingCaracteristicasProyecto_/venv/lib/python3.12/site-packages/ydata_profiling/model/pandas/duplicates_pandas.py:40: PerformanceWarning: DataFrame is highly fragmented.  This is usually the result of calling `frame.insert` many times, which has poor performance.  Consider joining all columns at once using pd.concat(axis=1) instead. To get a de-fragmented frame, use `newframe = frame.copy()`\n",
      "  .reset_index(name=duplicates_key)\n",
      "/Users/federicocirett/Documents/GitHub/ingCaracteristicasProyecto_/venv/lib/python3.12/site-packages/ydata_profiling/model/pandas/duplicates_pandas.py:40: PerformanceWarning: DataFrame is highly fragmented.  This is usually the result of calling `frame.insert` many times, which has poor performance.  Consider joining all columns at once using pd.concat(axis=1) instead. To get a de-fragmented frame, use `newframe = frame.copy()`\n",
      "  .reset_index(name=duplicates_key)\n",
      "/Users/federicocirett/Documents/GitHub/ingCaracteristicasProyecto_/venv/lib/python3.12/site-packages/ydata_profiling/model/pandas/duplicates_pandas.py:40: PerformanceWarning: DataFrame is highly fragmented.  This is usually the result of calling `frame.insert` many times, which has poor performance.  Consider joining all columns at once using pd.concat(axis=1) instead. To get a de-fragmented frame, use `newframe = frame.copy()`\n",
      "  .reset_index(name=duplicates_key)\n",
      "/Users/federicocirett/Documents/GitHub/ingCaracteristicasProyecto_/venv/lib/python3.12/site-packages/ydata_profiling/model/pandas/duplicates_pandas.py:40: PerformanceWarning: DataFrame is highly fragmented.  This is usually the result of calling `frame.insert` many times, which has poor performance.  Consider joining all columns at once using pd.concat(axis=1) instead. To get a de-fragmented frame, use `newframe = frame.copy()`\n",
      "  .reset_index(name=duplicates_key)\n",
      "/Users/federicocirett/Documents/GitHub/ingCaracteristicasProyecto_/venv/lib/python3.12/site-packages/ydata_profiling/model/pandas/duplicates_pandas.py:40: PerformanceWarning: DataFrame is highly fragmented.  This is usually the result of calling `frame.insert` many times, which has poor performance.  Consider joining all columns at once using pd.concat(axis=1) instead. To get a de-fragmented frame, use `newframe = frame.copy()`\n",
      "  .reset_index(name=duplicates_key)\n",
      "/Users/federicocirett/Documents/GitHub/ingCaracteristicasProyecto_/venv/lib/python3.12/site-packages/ydata_profiling/model/pandas/duplicates_pandas.py:40: PerformanceWarning: DataFrame is highly fragmented.  This is usually the result of calling `frame.insert` many times, which has poor performance.  Consider joining all columns at once using pd.concat(axis=1) instead. To get a de-fragmented frame, use `newframe = frame.copy()`\n",
      "  .reset_index(name=duplicates_key)\n",
      "/Users/federicocirett/Documents/GitHub/ingCaracteristicasProyecto_/venv/lib/python3.12/site-packages/ydata_profiling/model/pandas/duplicates_pandas.py:40: PerformanceWarning: DataFrame is highly fragmented.  This is usually the result of calling `frame.insert` many times, which has poor performance.  Consider joining all columns at once using pd.concat(axis=1) instead. To get a de-fragmented frame, use `newframe = frame.copy()`\n",
      "  .reset_index(name=duplicates_key)\n",
      "/Users/federicocirett/Documents/GitHub/ingCaracteristicasProyecto_/venv/lib/python3.12/site-packages/ydata_profiling/model/pandas/duplicates_pandas.py:40: PerformanceWarning: DataFrame is highly fragmented.  This is usually the result of calling `frame.insert` many times, which has poor performance.  Consider joining all columns at once using pd.concat(axis=1) instead. To get a de-fragmented frame, use `newframe = frame.copy()`\n",
      "  .reset_index(name=duplicates_key)\n",
      "/Users/federicocirett/Documents/GitHub/ingCaracteristicasProyecto_/venv/lib/python3.12/site-packages/ydata_profiling/model/pandas/duplicates_pandas.py:40: PerformanceWarning: DataFrame is highly fragmented.  This is usually the result of calling `frame.insert` many times, which has poor performance.  Consider joining all columns at once using pd.concat(axis=1) instead. To get a de-fragmented frame, use `newframe = frame.copy()`\n",
      "  .reset_index(name=duplicates_key)\n",
      "/Users/federicocirett/Documents/GitHub/ingCaracteristicasProyecto_/venv/lib/python3.12/site-packages/ydata_profiling/model/pandas/duplicates_pandas.py:40: PerformanceWarning: DataFrame is highly fragmented.  This is usually the result of calling `frame.insert` many times, which has poor performance.  Consider joining all columns at once using pd.concat(axis=1) instead. To get a de-fragmented frame, use `newframe = frame.copy()`\n",
      "  .reset_index(name=duplicates_key)\n",
      "/Users/federicocirett/Documents/GitHub/ingCaracteristicasProyecto_/venv/lib/python3.12/site-packages/ydata_profiling/model/pandas/duplicates_pandas.py:40: PerformanceWarning: DataFrame is highly fragmented.  This is usually the result of calling `frame.insert` many times, which has poor performance.  Consider joining all columns at once using pd.concat(axis=1) instead. To get a de-fragmented frame, use `newframe = frame.copy()`\n",
      "  .reset_index(name=duplicates_key)\n",
      "/Users/federicocirett/Documents/GitHub/ingCaracteristicasProyecto_/venv/lib/python3.12/site-packages/ydata_profiling/model/pandas/duplicates_pandas.py:40: PerformanceWarning: DataFrame is highly fragmented.  This is usually the result of calling `frame.insert` many times, which has poor performance.  Consider joining all columns at once using pd.concat(axis=1) instead. To get a de-fragmented frame, use `newframe = frame.copy()`\n",
      "  .reset_index(name=duplicates_key)\n",
      "/Users/federicocirett/Documents/GitHub/ingCaracteristicasProyecto_/venv/lib/python3.12/site-packages/ydata_profiling/model/pandas/duplicates_pandas.py:40: PerformanceWarning: DataFrame is highly fragmented.  This is usually the result of calling `frame.insert` many times, which has poor performance.  Consider joining all columns at once using pd.concat(axis=1) instead. To get a de-fragmented frame, use `newframe = frame.copy()`\n",
      "  .reset_index(name=duplicates_key)\n",
      "/Users/federicocirett/Documents/GitHub/ingCaracteristicasProyecto_/venv/lib/python3.12/site-packages/ydata_profiling/model/pandas/duplicates_pandas.py:40: PerformanceWarning: DataFrame is highly fragmented.  This is usually the result of calling `frame.insert` many times, which has poor performance.  Consider joining all columns at once using pd.concat(axis=1) instead. To get a de-fragmented frame, use `newframe = frame.copy()`\n",
      "  .reset_index(name=duplicates_key)\n",
      "/Users/federicocirett/Documents/GitHub/ingCaracteristicasProyecto_/venv/lib/python3.12/site-packages/ydata_profiling/model/pandas/duplicates_pandas.py:40: PerformanceWarning: DataFrame is highly fragmented.  This is usually the result of calling `frame.insert` many times, which has poor performance.  Consider joining all columns at once using pd.concat(axis=1) instead. To get a de-fragmented frame, use `newframe = frame.copy()`\n",
      "  .reset_index(name=duplicates_key)\n",
      "/Users/federicocirett/Documents/GitHub/ingCaracteristicasProyecto_/venv/lib/python3.12/site-packages/ydata_profiling/model/pandas/duplicates_pandas.py:40: PerformanceWarning: DataFrame is highly fragmented.  This is usually the result of calling `frame.insert` many times, which has poor performance.  Consider joining all columns at once using pd.concat(axis=1) instead. To get a de-fragmented frame, use `newframe = frame.copy()`\n",
      "  .reset_index(name=duplicates_key)\n",
      "/Users/federicocirett/Documents/GitHub/ingCaracteristicasProyecto_/venv/lib/python3.12/site-packages/ydata_profiling/model/pandas/duplicates_pandas.py:40: PerformanceWarning: DataFrame is highly fragmented.  This is usually the result of calling `frame.insert` many times, which has poor performance.  Consider joining all columns at once using pd.concat(axis=1) instead. To get a de-fragmented frame, use `newframe = frame.copy()`\n",
      "  .reset_index(name=duplicates_key)\n",
      "/Users/federicocirett/Documents/GitHub/ingCaracteristicasProyecto_/venv/lib/python3.12/site-packages/ydata_profiling/model/pandas/duplicates_pandas.py:40: PerformanceWarning: DataFrame is highly fragmented.  This is usually the result of calling `frame.insert` many times, which has poor performance.  Consider joining all columns at once using pd.concat(axis=1) instead. To get a de-fragmented frame, use `newframe = frame.copy()`\n",
      "  .reset_index(name=duplicates_key)\n",
      "/Users/federicocirett/Documents/GitHub/ingCaracteristicasProyecto_/venv/lib/python3.12/site-packages/ydata_profiling/model/pandas/duplicates_pandas.py:40: PerformanceWarning: DataFrame is highly fragmented.  This is usually the result of calling `frame.insert` many times, which has poor performance.  Consider joining all columns at once using pd.concat(axis=1) instead. To get a de-fragmented frame, use `newframe = frame.copy()`\n",
      "  .reset_index(name=duplicates_key)\n",
      "/Users/federicocirett/Documents/GitHub/ingCaracteristicasProyecto_/venv/lib/python3.12/site-packages/ydata_profiling/model/pandas/duplicates_pandas.py:40: PerformanceWarning: DataFrame is highly fragmented.  This is usually the result of calling `frame.insert` many times, which has poor performance.  Consider joining all columns at once using pd.concat(axis=1) instead. To get a de-fragmented frame, use `newframe = frame.copy()`\n",
      "  .reset_index(name=duplicates_key)\n",
      "/Users/federicocirett/Documents/GitHub/ingCaracteristicasProyecto_/venv/lib/python3.12/site-packages/ydata_profiling/model/pandas/duplicates_pandas.py:40: PerformanceWarning: DataFrame is highly fragmented.  This is usually the result of calling `frame.insert` many times, which has poor performance.  Consider joining all columns at once using pd.concat(axis=1) instead. To get a de-fragmented frame, use `newframe = frame.copy()`\n",
      "  .reset_index(name=duplicates_key)\n",
      "/Users/federicocirett/Documents/GitHub/ingCaracteristicasProyecto_/venv/lib/python3.12/site-packages/ydata_profiling/model/pandas/duplicates_pandas.py:40: PerformanceWarning: DataFrame is highly fragmented.  This is usually the result of calling `frame.insert` many times, which has poor performance.  Consider joining all columns at once using pd.concat(axis=1) instead. To get a de-fragmented frame, use `newframe = frame.copy()`\n",
      "  .reset_index(name=duplicates_key)\n",
      "/Users/federicocirett/Documents/GitHub/ingCaracteristicasProyecto_/venv/lib/python3.12/site-packages/ydata_profiling/model/pandas/duplicates_pandas.py:40: PerformanceWarning: DataFrame is highly fragmented.  This is usually the result of calling `frame.insert` many times, which has poor performance.  Consider joining all columns at once using pd.concat(axis=1) instead. To get a de-fragmented frame, use `newframe = frame.copy()`\n",
      "  .reset_index(name=duplicates_key)\n",
      "/Users/federicocirett/Documents/GitHub/ingCaracteristicasProyecto_/venv/lib/python3.12/site-packages/ydata_profiling/model/pandas/duplicates_pandas.py:40: PerformanceWarning: DataFrame is highly fragmented.  This is usually the result of calling `frame.insert` many times, which has poor performance.  Consider joining all columns at once using pd.concat(axis=1) instead. To get a de-fragmented frame, use `newframe = frame.copy()`\n",
      "  .reset_index(name=duplicates_key)\n",
      "/Users/federicocirett/Documents/GitHub/ingCaracteristicasProyecto_/venv/lib/python3.12/site-packages/ydata_profiling/model/pandas/duplicates_pandas.py:40: PerformanceWarning: DataFrame is highly fragmented.  This is usually the result of calling `frame.insert` many times, which has poor performance.  Consider joining all columns at once using pd.concat(axis=1) instead. To get a de-fragmented frame, use `newframe = frame.copy()`\n",
      "  .reset_index(name=duplicates_key)\n",
      "/Users/federicocirett/Documents/GitHub/ingCaracteristicasProyecto_/venv/lib/python3.12/site-packages/ydata_profiling/model/pandas/duplicates_pandas.py:40: PerformanceWarning: DataFrame is highly fragmented.  This is usually the result of calling `frame.insert` many times, which has poor performance.  Consider joining all columns at once using pd.concat(axis=1) instead. To get a de-fragmented frame, use `newframe = frame.copy()`\n",
      "  .reset_index(name=duplicates_key)\n",
      "/Users/federicocirett/Documents/GitHub/ingCaracteristicasProyecto_/venv/lib/python3.12/site-packages/ydata_profiling/model/pandas/duplicates_pandas.py:40: PerformanceWarning: DataFrame is highly fragmented.  This is usually the result of calling `frame.insert` many times, which has poor performance.  Consider joining all columns at once using pd.concat(axis=1) instead. To get a de-fragmented frame, use `newframe = frame.copy()`\n",
      "  .reset_index(name=duplicates_key)\n",
      "/Users/federicocirett/Documents/GitHub/ingCaracteristicasProyecto_/venv/lib/python3.12/site-packages/ydata_profiling/model/pandas/duplicates_pandas.py:40: PerformanceWarning: DataFrame is highly fragmented.  This is usually the result of calling `frame.insert` many times, which has poor performance.  Consider joining all columns at once using pd.concat(axis=1) instead. To get a de-fragmented frame, use `newframe = frame.copy()`\n",
      "  .reset_index(name=duplicates_key)\n",
      "/Users/federicocirett/Documents/GitHub/ingCaracteristicasProyecto_/venv/lib/python3.12/site-packages/ydata_profiling/model/pandas/duplicates_pandas.py:40: PerformanceWarning: DataFrame is highly fragmented.  This is usually the result of calling `frame.insert` many times, which has poor performance.  Consider joining all columns at once using pd.concat(axis=1) instead. To get a de-fragmented frame, use `newframe = frame.copy()`\n",
      "  .reset_index(name=duplicates_key)\n",
      "/Users/federicocirett/Documents/GitHub/ingCaracteristicasProyecto_/venv/lib/python3.12/site-packages/ydata_profiling/model/pandas/duplicates_pandas.py:40: PerformanceWarning: DataFrame is highly fragmented.  This is usually the result of calling `frame.insert` many times, which has poor performance.  Consider joining all columns at once using pd.concat(axis=1) instead. To get a de-fragmented frame, use `newframe = frame.copy()`\n",
      "  .reset_index(name=duplicates_key)\n",
      "/Users/federicocirett/Documents/GitHub/ingCaracteristicasProyecto_/venv/lib/python3.12/site-packages/ydata_profiling/model/pandas/duplicates_pandas.py:40: PerformanceWarning: DataFrame is highly fragmented.  This is usually the result of calling `frame.insert` many times, which has poor performance.  Consider joining all columns at once using pd.concat(axis=1) instead. To get a de-fragmented frame, use `newframe = frame.copy()`\n",
      "  .reset_index(name=duplicates_key)\n",
      "/Users/federicocirett/Documents/GitHub/ingCaracteristicasProyecto_/venv/lib/python3.12/site-packages/ydata_profiling/model/pandas/duplicates_pandas.py:40: PerformanceWarning: DataFrame is highly fragmented.  This is usually the result of calling `frame.insert` many times, which has poor performance.  Consider joining all columns at once using pd.concat(axis=1) instead. To get a de-fragmented frame, use `newframe = frame.copy()`\n",
      "  .reset_index(name=duplicates_key)\n",
      "/Users/federicocirett/Documents/GitHub/ingCaracteristicasProyecto_/venv/lib/python3.12/site-packages/ydata_profiling/model/pandas/duplicates_pandas.py:40: PerformanceWarning: DataFrame is highly fragmented.  This is usually the result of calling `frame.insert` many times, which has poor performance.  Consider joining all columns at once using pd.concat(axis=1) instead. To get a de-fragmented frame, use `newframe = frame.copy()`\n",
      "  .reset_index(name=duplicates_key)\n",
      "/Users/federicocirett/Documents/GitHub/ingCaracteristicasProyecto_/venv/lib/python3.12/site-packages/ydata_profiling/model/pandas/duplicates_pandas.py:40: PerformanceWarning: DataFrame is highly fragmented.  This is usually the result of calling `frame.insert` many times, which has poor performance.  Consider joining all columns at once using pd.concat(axis=1) instead. To get a de-fragmented frame, use `newframe = frame.copy()`\n",
      "  .reset_index(name=duplicates_key)\n",
      "/Users/federicocirett/Documents/GitHub/ingCaracteristicasProyecto_/venv/lib/python3.12/site-packages/ydata_profiling/model/pandas/duplicates_pandas.py:40: PerformanceWarning: DataFrame is highly fragmented.  This is usually the result of calling `frame.insert` many times, which has poor performance.  Consider joining all columns at once using pd.concat(axis=1) instead. To get a de-fragmented frame, use `newframe = frame.copy()`\n",
      "  .reset_index(name=duplicates_key)\n",
      "/Users/federicocirett/Documents/GitHub/ingCaracteristicasProyecto_/venv/lib/python3.12/site-packages/ydata_profiling/model/pandas/duplicates_pandas.py:40: PerformanceWarning: DataFrame is highly fragmented.  This is usually the result of calling `frame.insert` many times, which has poor performance.  Consider joining all columns at once using pd.concat(axis=1) instead. To get a de-fragmented frame, use `newframe = frame.copy()`\n",
      "  .reset_index(name=duplicates_key)\n",
      "/Users/federicocirett/Documents/GitHub/ingCaracteristicasProyecto_/venv/lib/python3.12/site-packages/ydata_profiling/model/pandas/duplicates_pandas.py:40: PerformanceWarning: DataFrame is highly fragmented.  This is usually the result of calling `frame.insert` many times, which has poor performance.  Consider joining all columns at once using pd.concat(axis=1) instead. To get a de-fragmented frame, use `newframe = frame.copy()`\n",
      "  .reset_index(name=duplicates_key)\n",
      "/Users/federicocirett/Documents/GitHub/ingCaracteristicasProyecto_/venv/lib/python3.12/site-packages/ydata_profiling/model/pandas/duplicates_pandas.py:40: PerformanceWarning: DataFrame is highly fragmented.  This is usually the result of calling `frame.insert` many times, which has poor performance.  Consider joining all columns at once using pd.concat(axis=1) instead. To get a de-fragmented frame, use `newframe = frame.copy()`\n",
      "  .reset_index(name=duplicates_key)\n",
      "/Users/federicocirett/Documents/GitHub/ingCaracteristicasProyecto_/venv/lib/python3.12/site-packages/ydata_profiling/model/pandas/duplicates_pandas.py:40: PerformanceWarning: DataFrame is highly fragmented.  This is usually the result of calling `frame.insert` many times, which has poor performance.  Consider joining all columns at once using pd.concat(axis=1) instead. To get a de-fragmented frame, use `newframe = frame.copy()`\n",
      "  .reset_index(name=duplicates_key)\n",
      "/Users/federicocirett/Documents/GitHub/ingCaracteristicasProyecto_/venv/lib/python3.12/site-packages/ydata_profiling/model/pandas/duplicates_pandas.py:40: PerformanceWarning: DataFrame is highly fragmented.  This is usually the result of calling `frame.insert` many times, which has poor performance.  Consider joining all columns at once using pd.concat(axis=1) instead. To get a de-fragmented frame, use `newframe = frame.copy()`\n",
      "  .reset_index(name=duplicates_key)\n",
      "/Users/federicocirett/Documents/GitHub/ingCaracteristicasProyecto_/venv/lib/python3.12/site-packages/ydata_profiling/model/pandas/duplicates_pandas.py:40: PerformanceWarning: DataFrame is highly fragmented.  This is usually the result of calling `frame.insert` many times, which has poor performance.  Consider joining all columns at once using pd.concat(axis=1) instead. To get a de-fragmented frame, use `newframe = frame.copy()`\n",
      "  .reset_index(name=duplicates_key)\n",
      "/Users/federicocirett/Documents/GitHub/ingCaracteristicasProyecto_/venv/lib/python3.12/site-packages/ydata_profiling/model/pandas/duplicates_pandas.py:40: PerformanceWarning: DataFrame is highly fragmented.  This is usually the result of calling `frame.insert` many times, which has poor performance.  Consider joining all columns at once using pd.concat(axis=1) instead. To get a de-fragmented frame, use `newframe = frame.copy()`\n",
      "  .reset_index(name=duplicates_key)\n",
      "/Users/federicocirett/Documents/GitHub/ingCaracteristicasProyecto_/venv/lib/python3.12/site-packages/ydata_profiling/model/pandas/duplicates_pandas.py:40: PerformanceWarning: DataFrame is highly fragmented.  This is usually the result of calling `frame.insert` many times, which has poor performance.  Consider joining all columns at once using pd.concat(axis=1) instead. To get a de-fragmented frame, use `newframe = frame.copy()`\n",
      "  .reset_index(name=duplicates_key)\n",
      "/Users/federicocirett/Documents/GitHub/ingCaracteristicasProyecto_/venv/lib/python3.12/site-packages/ydata_profiling/model/pandas/duplicates_pandas.py:40: PerformanceWarning: DataFrame is highly fragmented.  This is usually the result of calling `frame.insert` many times, which has poor performance.  Consider joining all columns at once using pd.concat(axis=1) instead. To get a de-fragmented frame, use `newframe = frame.copy()`\n",
      "  .reset_index(name=duplicates_key)\n",
      "/Users/federicocirett/Documents/GitHub/ingCaracteristicasProyecto_/venv/lib/python3.12/site-packages/ydata_profiling/model/pandas/duplicates_pandas.py:40: PerformanceWarning: DataFrame is highly fragmented.  This is usually the result of calling `frame.insert` many times, which has poor performance.  Consider joining all columns at once using pd.concat(axis=1) instead. To get a de-fragmented frame, use `newframe = frame.copy()`\n",
      "  .reset_index(name=duplicates_key)\n",
      "/Users/federicocirett/Documents/GitHub/ingCaracteristicasProyecto_/venv/lib/python3.12/site-packages/ydata_profiling/model/pandas/duplicates_pandas.py:40: PerformanceWarning: DataFrame is highly fragmented.  This is usually the result of calling `frame.insert` many times, which has poor performance.  Consider joining all columns at once using pd.concat(axis=1) instead. To get a de-fragmented frame, use `newframe = frame.copy()`\n",
      "  .reset_index(name=duplicates_key)\n",
      "/Users/federicocirett/Documents/GitHub/ingCaracteristicasProyecto_/venv/lib/python3.12/site-packages/ydata_profiling/model/pandas/duplicates_pandas.py:40: PerformanceWarning: DataFrame is highly fragmented.  This is usually the result of calling `frame.insert` many times, which has poor performance.  Consider joining all columns at once using pd.concat(axis=1) instead. To get a de-fragmented frame, use `newframe = frame.copy()`\n",
      "  .reset_index(name=duplicates_key)\n"
     ]
    },
    {
     "data": {
      "application/vnd.jupyter.widget-view+json": {
       "model_id": "17807644e4e245139800e1427ba2cd6d",
       "version_major": 2,
       "version_minor": 0
      },
      "text/plain": [
       "Generate report structure:   0%|          | 0/1 [00:00<?, ?it/s]"
      ]
     },
     "metadata": {},
     "output_type": "display_data"
    },
    {
     "data": {
      "application/vnd.jupyter.widget-view+json": {
       "model_id": "d401be39dae5407ab6212e091764e036",
       "version_major": 2,
       "version_minor": 0
      },
      "text/plain": [
       "Render HTML:   0%|          | 0/1 [00:00<?, ?it/s]"
      ]
     },
     "metadata": {},
     "output_type": "display_data"
    },
    {
     "data": {
      "application/vnd.jupyter.widget-view+json": {
       "model_id": "8da419efbbd54a0e86796b335237e09e",
       "version_major": 2,
       "version_minor": 0
      },
      "text/plain": [
       "Export report to file:   0%|          | 0/1 [00:00<?, ?it/s]"
      ]
     },
     "metadata": {},
     "output_type": "display_data"
    }
   ],
   "source": [
    "os.makedirs(\"Sonora\",exist_ok=True)\n",
    "profile_2020.to_file(\"Sonora/ccpv_sonora_2020_report.html\")"
   ]
  },
  {
   "cell_type": "markdown",
   "metadata": {},
   "source": [
    "## 1950-1995"
   ]
  },
  {
   "cell_type": "code",
   "execution_count": 25,
   "metadata": {},
   "outputs": [
    {
     "data": {
      "text/plain": [
       "['1950.csv', '1960.csv', '1970.csv', '1980.csv', '1990.csv', '1995.csv']"
      ]
     },
     "execution_count": 25,
     "metadata": {},
     "output_type": "execute_result"
    }
   ],
   "source": [
    "XX=os.listdir(\"./\")[:4]+os.listdir(\"./\")[8:]\n",
    "sorted_list = sorted(XX, key=lambda x: int(x.split('.')[0]))\n",
    "XX=sorted_list\n",
    "XX"
   ]
  },
  {
   "cell_type": "code",
   "execution_count": null,
   "metadata": {},
   "outputs": [],
   "source": []
  }
 ],
 "metadata": {
  "kernelspec": {
   "display_name": "venv",
   "language": "python",
   "name": "python3"
  },
  "language_info": {
   "codemirror_mode": {
    "name": "ipython",
    "version": 3
   },
   "file_extension": ".py",
   "mimetype": "text/x-python",
   "name": "python",
   "nbconvert_exporter": "python",
   "pygments_lexer": "ipython3",
   "version": "3.12.4"
  }
 },
 "nbformat": 4,
 "nbformat_minor": 2
}
