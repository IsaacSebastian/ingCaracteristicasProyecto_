{
 "cells": [
  {
   "cell_type": "code",
   "execution_count": 1,
   "metadata": {},
   "outputs": [],
   "source": [
    "import requests\n",
    "import os\n",
    "import re\n",
    "DOWNLOAD_PATH=\"data/raw/DATOS EDUCACION/ENCUESTA NACIONAL DE INGRESOS Y GASTOS EN LOS HOGARES\""
   ]
  },
  {
   "cell_type": "code",
   "execution_count": 2,
   "metadata": {},
   "outputs": [],
   "source": [
    "os.chdir(\"..\")"
   ]
  },
  {
   "cell_type": "code",
   "execution_count": 3,
   "metadata": {},
   "outputs": [
    {
     "data": {
      "text/plain": [
       "'/Users/federicocirett/Documents/GitHub/ingCaracteristicasProyecto_'"
      ]
     },
     "execution_count": 3,
     "metadata": {},
     "output_type": "execute_result"
    }
   ],
   "source": [
    "pwd"
   ]
  },
  {
   "cell_type": "code",
   "execution_count": 4,
   "metadata": {},
   "outputs": [],
   "source": [
    "url_list=[\n",
    "    #Encuesta Nacional de Ingresos y Gastos de los Hogares (ENIGH). 2016\n",
    "    'https://www.inegi.org.mx/contenidos/programas/enigh/nc/2016/datosabiertos/conjunto_de_datos_enigh2016_nueva_serie_csv.zip',\n",
    "    #Encuesta Nacional de Ingresos y Gastos de los Hogares (ENIGH). 2018\n",
    "    'https://www.inegi.org.mx/contenidos/programas/enigh/nc/2018/datosabiertos/conjunto_de_datos_enigh_2018_ns_csv.zip',\n",
    "    #Encuesta Nacional de Ingresos y Gastos de los Hogares (ENIGH) 2020\n",
    "    'https://www.inegi.org.mx/contenidos/programas/enigh/nc/2020/datosabiertos/conjunto_de_datos_enigh_ns_2020_csv.zip',\n",
    "    #Encuesta Nacional de Ingresos y Gastos de los Hogares (ENIGH) 2022\n",
    "    'https://www.inegi.org.mx/contenidos/programas/enigh/nc/2022/datosabiertos/conjunto_de_datos_enigh_ns_2022_csv.zip'\n",
    "     \n",
    "    \n",
    "]"
   ]
  },
  {
   "cell_type": "code",
   "execution_count": 5,
   "metadata": {},
   "outputs": [],
   "source": [
    "def nombre_archivo(url):\n",
    "    \"\"\"\n",
    "    url:URL de descarga del archivo que se quiere extraer el nombre\n",
    "\n",
    "    Esta función recibe el  url de un archivo, y arroja el nombre del archivo con y sin el tipo de formato en el que esta guardado.\n",
    "    \"\"\"\n",
    "    # Nombre con el tipo de formato incluido\n",
    "    indices=[index for index in range(len(url)) if url[index]==\"/\"]\n",
    "    last_slash=indices[-1]\n",
    "    file_name=url[last_slash+1:]\n",
    "    return file_name\n",
    "\n",
    "def download_file(url,download_path):\n",
    "    file_name=nombre_archivo(url)\n",
    "\n",
    "\n",
    "    os.makedirs(download_path, exist_ok=True)\n",
    "    response=requests.get(url)\n",
    "\n",
    "    if response.status_code == 200:\n",
    "        \n",
    "            file_path=f\"{download_path}/{file_name}\"\n",
    "            # Se guarda el contenido\n",
    "            with open(file_path, 'wb') as f:\n",
    "                f.write(response.content)\n",
    "            #print(f'Descarga completa:{url}')\n",
    "            print(f'Archivo guardado:{file_name}')\n",
    "    else:\n",
    "            print('Error al intentar descargar el archivo, status code:', response.status_code)\n"
   ]
  },
  {
   "cell_type": "code",
   "execution_count": 6,
   "metadata": {},
   "outputs": [
    {
     "name": "stdout",
     "output_type": "stream",
     "text": [
      "Archivo guardado:conjunto_de_datos_enigh2016_nueva_serie_csv.zip\n",
      "Archivo guardado:conjunto_de_datos_enigh_2018_ns_csv.zip\n",
      "Archivo guardado:conjunto_de_datos_enigh_ns_2020_csv.zip\n",
      "Archivo guardado:conjunto_de_datos_enigh_ns_2022_csv.zip\n"
     ]
    }
   ],
   "source": [
    "for url in url_list:\n",
    "    download_file(url=url,download_path=DOWNLOAD_PATH)"
   ]
  },
  {
   "cell_type": "code",
   "execution_count": 7,
   "metadata": {},
   "outputs": [],
   "source": [
    "import zipfile\n",
    "import os\n",
    "\n",
    "def extract_zip(zip_file_path, extract_to=None):\n",
    "    \"\"\"\n",
    "    Extracts a ZIP file to a specified directory.\n",
    "    \n",
    "    Parameters:\n",
    "    zip_file_path (str): The path to the ZIP file to be extracted.\n",
    "    extract_to (str): The directory where the contents will be extracted.\n",
    "                      If None, it extracts to the current directory.\n",
    "    \n",
    "    Returns:\n",
    "    None\n",
    "    \"\"\"\n",
    "    if extract_to is None:\n",
    "        extract_to = os.getcwd()  # Default to current working directory\n",
    "\n",
    "    # Ensure the extraction directory exists\n",
    "    os.makedirs(extract_to, exist_ok=True)\n",
    "\n",
    "    with zipfile.ZipFile(zip_file_path, 'r') as zip_ref:\n",
    "        zip_ref.extractall(extract_to)"
   ]
  },
  {
   "cell_type": "code",
   "execution_count": 8,
   "metadata": {},
   "outputs": [],
   "source": [
    "for file in os.listdir(DOWNLOAD_PATH):\n",
    "    match=re.search(r'\\d{4}',file)\n",
    "    year=match.group()\n",
    "    file_path=os.path.join(DOWNLOAD_PATH,file)\n",
    "    extract_zip(file_path,f\"{DOWNLOAD_PATH}/Extracted/{year}\")"
   ]
  },
  {
   "cell_type": "code",
   "execution_count": null,
   "metadata": {},
   "outputs": [],
   "source": []
  }
 ],
 "metadata": {
  "kernelspec": {
   "display_name": ".venv",
   "language": "python",
   "name": "python3"
  },
  "language_info": {
   "codemirror_mode": {
    "name": "ipython",
    "version": 3
   },
   "file_extension": ".py",
   "mimetype": "text/x-python",
   "name": "python",
   "nbconvert_exporter": "python",
   "pygments_lexer": "ipython3",
   "version": "3.12.5"
  }
 },
 "nbformat": 4,
 "nbformat_minor": 2
}
